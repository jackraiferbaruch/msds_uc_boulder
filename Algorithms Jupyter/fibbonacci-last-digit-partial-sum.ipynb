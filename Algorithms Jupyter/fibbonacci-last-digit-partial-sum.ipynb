{
 "cells": [
  {
   "cell_type": "markdown",
   "id": "c4aa0ab5-a75b-4e15-a848-b97492f88270",
   "metadata": {},
   "source": [
    "#### Fibonacci Algorithm Huge Number ####\n",
    "\n",
    "Compute the n-th Fibonacci number modulo m."
   ]
  },
  {
   "cell_type": "code",
   "execution_count": 1,
   "id": "69e6577f-2cfd-4697-970c-94ca2535beca",
   "metadata": {},
   "outputs": [],
   "source": [
    "def fibonacci_partial_sum_naive(from_, n):\n",
    "    if n <= 1:\n",
    "        return n\n",
    "    if n <= 1:\n",
    "        return n\n",
    "    else:\n",
    "        add = 0\n",
    "        previous = 0\n",
    "        last = 1\n",
    "        for i in range(2, n+1):\n",
    "            x = (previous + last) % 10\n",
    "            previous = last\n",
    "            last = x\n",
    "            if i >= from_:\n",
    "                add += last\n",
    "    return add % 10"
   ]
  },
  {
   "cell_type": "markdown",
   "id": "9529a780-b85e-4813-aa41-795dd8a38f27",
   "metadata": {},
   "source": [
    "##### Tests #####"
   ]
  },
  {
   "cell_type": "code",
   "execution_count": 2,
   "id": "b2b90bc9-dc04-42f9-a072-b594d4bfcaa8",
   "metadata": {},
   "outputs": [
    {
     "data": {
      "text/plain": [
       "1"
      ]
     },
     "execution_count": 2,
     "metadata": {},
     "output_type": "execute_result"
    }
   ],
   "source": [
    "fibonacci_partial_sum_naive(3, 7) # Should return 1"
   ]
  },
  {
   "cell_type": "code",
   "execution_count": 3,
   "id": "8a35e22f-173c-47a5-ac70-af9bdd8e6ac1",
   "metadata": {},
   "outputs": [
    {
     "data": {
      "text/plain": [
       "5"
      ]
     },
     "execution_count": 3,
     "metadata": {},
     "output_type": "execute_result"
    }
   ],
   "source": [
    "fibonacci_partial_sum_naive(10, 10) # Should return 5"
   ]
  },
  {
   "cell_type": "code",
   "execution_count": 8,
   "id": "67035c88-52a9-41ef-bc7b-7d33d8af1c44",
   "metadata": {},
   "outputs": [
    {
     "data": {
      "text/plain": [
       "6"
      ]
     },
     "execution_count": 8,
     "metadata": {},
     "output_type": "execute_result"
    }
   ],
   "source": []
  },
  {
   "cell_type": "code",
   "execution_count": null,
   "id": "6adccaaf-ad9b-456f-b908-00f5227cea2a",
   "metadata": {},
   "outputs": [],
   "source": []
  }
 ],
 "metadata": {
  "kernelspec": {
   "display_name": "Programming",
   "language": "python",
   "name": "programming"
  },
  "language_info": {
   "codemirror_mode": {
    "name": "ipython",
    "version": 3
   },
   "file_extension": ".py",
   "mimetype": "text/x-python",
   "name": "python",
   "nbconvert_exporter": "python",
   "pygments_lexer": "ipython3",
   "version": "3.9.5"
  }
 },
 "nbformat": 4,
 "nbformat_minor": 5
}
