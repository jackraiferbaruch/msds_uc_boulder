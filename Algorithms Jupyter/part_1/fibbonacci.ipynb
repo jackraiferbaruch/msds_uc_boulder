{
 "cells": [
  {
   "cell_type": "markdown",
   "id": "c4aa0ab5-a75b-4e15-a848-b97492f88270",
   "metadata": {},
   "source": [
    "#### Fibonacci Algorithm nth Number####\n",
    "\n",
    "Function that creates a fibonacci sequence of length $n$, returns the sequence and the $n_{th}$ number."
   ]
  },
  {
   "cell_type": "code",
   "execution_count": 10,
   "id": "69e6577f-2cfd-4697-970c-94ca2535beca",
   "metadata": {},
   "outputs": [],
   "source": [
    "def fibonacci(n):\n",
    "    if n <= 1:\n",
    "        return n\n",
    "    else:\n",
    "        previous = 0\n",
    "        last = 1\n",
    "        for i in range(2, n+1):\n",
    "            x = previous + last\n",
    "            previous = last\n",
    "            last = x\n",
    "    return last"
   ]
  },
  {
   "cell_type": "code",
   "execution_count": 37,
   "id": "b63662e0-bee7-4851-abcc-4239afcbb3a1",
   "metadata": {},
   "outputs": [],
   "source": [
    "def fibonacci(n):\n",
    "    if n <= 0:\n",
    "        return 0\n",
    "    elif n == 1:\n",
    "        return 1\n",
    "    else:\n",
    "        fib = [0] * (n + 1)\n",
    "        fib[1] = 1\n",
    "        for i in range(2, n + 1):\n",
    "            fib[i] = fib[i - 1] + fib[i - 2]\n",
    "        return fib[n]"
   ]
  },
  {
   "cell_type": "code",
   "execution_count": 9,
   "id": "166a412b-2697-404f-8c97-2645e1a623a3",
   "metadata": {},
   "outputs": [],
   "source": [
    "def fib(n):\n",
    "    if n <= 1:\n",
    "        return n\n",
    "    v1, v2, v3 = 1, 1, 0    # initialise a matrix [[1,1],[1,0]]\n",
    "    for rec in bin(n)[3:]:  # perform fast exponentiation of the matrix (quickly raise it to the nth power)\n",
    "        calc = v2*v2\n",
    "        v1, v2, v3 = v1*v1+calc, (v1+v3)*v2, calc+v3*v3\n",
    "        if rec=='1':    v1, v2, v3 = v1+v2, v1, v2\n",
    "    return v2"
   ]
  },
  {
   "cell_type": "markdown",
   "id": "9529a780-b85e-4813-aa41-795dd8a38f27",
   "metadata": {},
   "source": [
    "##### Tests #####"
   ]
  },
  {
   "cell_type": "code",
   "execution_count": 10,
   "id": "b2b90bc9-dc04-42f9-a072-b594d4bfcaa8",
   "metadata": {},
   "outputs": [
    {
     "data": {
      "text/plain": [
       "0"
      ]
     },
     "execution_count": 10,
     "metadata": {},
     "output_type": "execute_result"
    }
   ],
   "source": [
    "fib(0) # Should return [0]"
   ]
  },
  {
   "cell_type": "code",
   "execution_count": 11,
   "id": "8a35e22f-173c-47a5-ac70-af9bdd8e6ac1",
   "metadata": {},
   "outputs": [
    {
     "data": {
      "text/plain": [
       "1"
      ]
     },
     "execution_count": 11,
     "metadata": {},
     "output_type": "execute_result"
    }
   ],
   "source": [
    "fib(1) # Should return 1"
   ]
  },
  {
   "cell_type": "code",
   "execution_count": 12,
   "id": "5409a71a-6ecb-40dc-9947-19dd012d2af1",
   "metadata": {},
   "outputs": [
    {
     "data": {
      "text/plain": [
       "55"
      ]
     },
     "execution_count": 12,
     "metadata": {},
     "output_type": "execute_result"
    }
   ],
   "source": [
    "fib(10) # Should return [0, 1, 1, 2, 3]"
   ]
  },
  {
   "cell_type": "code",
   "execution_count": 15,
   "id": "67035c88-52a9-41ef-bc7b-7d33d8af1c44",
   "metadata": {},
   "outputs": [
    {
     "ename": "KeyboardInterrupt",
     "evalue": "",
     "output_type": "error",
     "traceback": [
      "\u001b[1;31m---------------------------------------------------------------------------\u001b[0m",
      "\u001b[1;31mKeyboardInterrupt\u001b[0m                         Traceback (most recent call last)",
      "\u001b[1;32m<ipython-input-15-4c39463a432d>\u001b[0m in \u001b[0;36m<module>\u001b[1;34m\u001b[0m\n\u001b[1;32m----> 1\u001b[1;33m \u001b[0mfib\u001b[0m\u001b[1;33m(\u001b[0m\u001b[1;36m832564823476\u001b[0m\u001b[1;33m)\u001b[0m \u001b[1;33m%\u001b[0m \u001b[1;36m10\u001b[0m\u001b[1;33m\u001b[0m\u001b[1;33m\u001b[0m\u001b[0m\n\u001b[0m",
      "\u001b[1;32m<ipython-input-9-0b506910eabc>\u001b[0m in \u001b[0;36mfib\u001b[1;34m(n)\u001b[0m\n\u001b[0;32m      5\u001b[0m     \u001b[1;32mfor\u001b[0m \u001b[0mrec\u001b[0m \u001b[1;32min\u001b[0m \u001b[0mbin\u001b[0m\u001b[1;33m(\u001b[0m\u001b[0mn\u001b[0m\u001b[1;33m)\u001b[0m\u001b[1;33m[\u001b[0m\u001b[1;36m3\u001b[0m\u001b[1;33m:\u001b[0m\u001b[1;33m]\u001b[0m\u001b[1;33m:\u001b[0m  \u001b[1;31m# perform fast exponentiation of the matrix (quickly raise it to the nth power)\u001b[0m\u001b[1;33m\u001b[0m\u001b[1;33m\u001b[0m\u001b[0m\n\u001b[0;32m      6\u001b[0m         \u001b[0mcalc\u001b[0m \u001b[1;33m=\u001b[0m \u001b[0mv2\u001b[0m\u001b[1;33m*\u001b[0m\u001b[0mv2\u001b[0m\u001b[1;33m\u001b[0m\u001b[1;33m\u001b[0m\u001b[0m\n\u001b[1;32m----> 7\u001b[1;33m         \u001b[0mv1\u001b[0m\u001b[1;33m,\u001b[0m \u001b[0mv2\u001b[0m\u001b[1;33m,\u001b[0m \u001b[0mv3\u001b[0m \u001b[1;33m=\u001b[0m \u001b[0mv1\u001b[0m\u001b[1;33m*\u001b[0m\u001b[0mv1\u001b[0m\u001b[1;33m+\u001b[0m\u001b[0mcalc\u001b[0m\u001b[1;33m,\u001b[0m \u001b[1;33m(\u001b[0m\u001b[0mv1\u001b[0m\u001b[1;33m+\u001b[0m\u001b[0mv3\u001b[0m\u001b[1;33m)\u001b[0m\u001b[1;33m*\u001b[0m\u001b[0mv2\u001b[0m\u001b[1;33m,\u001b[0m \u001b[0mcalc\u001b[0m\u001b[1;33m+\u001b[0m\u001b[0mv3\u001b[0m\u001b[1;33m*\u001b[0m\u001b[0mv3\u001b[0m\u001b[1;33m\u001b[0m\u001b[1;33m\u001b[0m\u001b[0m\n\u001b[0m\u001b[0;32m      8\u001b[0m         \u001b[1;32mif\u001b[0m \u001b[0mrec\u001b[0m\u001b[1;33m==\u001b[0m\u001b[1;34m'1'\u001b[0m\u001b[1;33m:\u001b[0m    \u001b[0mv1\u001b[0m\u001b[1;33m,\u001b[0m \u001b[0mv2\u001b[0m\u001b[1;33m,\u001b[0m \u001b[0mv3\u001b[0m \u001b[1;33m=\u001b[0m \u001b[0mv1\u001b[0m\u001b[1;33m+\u001b[0m\u001b[0mv2\u001b[0m\u001b[1;33m,\u001b[0m \u001b[0mv1\u001b[0m\u001b[1;33m,\u001b[0m \u001b[0mv2\u001b[0m\u001b[1;33m\u001b[0m\u001b[1;33m\u001b[0m\u001b[0m\n\u001b[0;32m      9\u001b[0m     \u001b[1;32mreturn\u001b[0m \u001b[0mv2\u001b[0m\u001b[1;33m\u001b[0m\u001b[1;33m\u001b[0m\u001b[0m\n",
      "\u001b[1;31mKeyboardInterrupt\u001b[0m: "
     ]
    }
   ],
   "source": [
    "fib(832564823476) % 10"
   ]
  },
  {
   "cell_type": "code",
   "execution_count": 53,
   "id": "a8aa446b-91b9-492e-93a1-94842481f8b9",
   "metadata": {},
   "outputs": [],
   "source": []
  },
  {
   "cell_type": "code",
   "execution_count": 57,
   "id": "fc09fa28-5fd6-4fb3-b47c-503d3908fca2",
   "metadata": {},
   "outputs": [
    {
     "data": {
      "text/plain": [
       "832040"
      ]
     },
     "execution_count": 57,
     "metadata": {},
     "output_type": "execute_result"
    }
   ],
   "source": []
  },
  {
   "cell_type": "code",
   "execution_count": null,
   "id": "d54dca08-2864-488c-8b62-54d332d538f8",
   "metadata": {},
   "outputs": [],
   "source": []
  }
 ],
 "metadata": {
  "kernelspec": {
   "display_name": "Programming",
   "language": "python",
   "name": "programming"
  },
  "language_info": {
   "codemirror_mode": {
    "name": "ipython",
    "version": 3
   },
   "file_extension": ".py",
   "mimetype": "text/x-python",
   "name": "python",
   "nbconvert_exporter": "python",
   "pygments_lexer": "ipython3",
   "version": "3.9.5"
  }
 },
 "nbformat": 4,
 "nbformat_minor": 5
}
