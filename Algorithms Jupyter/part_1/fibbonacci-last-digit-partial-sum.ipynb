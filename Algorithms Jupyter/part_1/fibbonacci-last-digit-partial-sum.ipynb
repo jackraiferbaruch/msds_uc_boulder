{
 "cells": [
  {
   "cell_type": "markdown",
   "id": "c4aa0ab5-a75b-4e15-a848-b97492f88270",
   "metadata": {},
   "source": [
    "#### Fibonacci Algorithm Huge Number ####\n",
    "\n",
    "Compute the n-th Fibonacci number modulo m."
   ]
  },
  {
   "cell_type": "code",
   "execution_count": 10,
   "id": "69e6577f-2cfd-4697-970c-94ca2535beca",
   "metadata": {},
   "outputs": [],
   "source": [
    "import sys\n",
    "\n",
    "def fibonacci_partial_sum_naive(from_, to):\n",
    "    a=get_fibonacci_huge_naive(from_+1, 10) \n",
    "    b=get_fibonacci_huge_naive(to+2, 10) \n",
    "    c = b-a\n",
    "    if(c<0):\n",
    "    \treturn c + 10\n",
    "    else:\n",
    "    \treturn c\t\n",
    "\n",
    "def pisanoperiod(a):\n",
    "    period = 0\n",
    "    index=0\n",
    "    c = 0 \n",
    "    b = 1\n",
    "    for i in range(1,len(a)):\n",
    "        if((a[i]==0) & (a[i+1]==1)):\n",
    "            break\n",
    "    index = i\n",
    "    return index\n",
    "\n",
    "def get_fibonacci(m): \n",
    "    x = m*m+1\n",
    "    a = list()\n",
    "    a0=0\n",
    "    a1=1\n",
    "    a.append(a0)\n",
    "    a.append(a1)\n",
    "    for i in range(x):\n",
    "        a0,a1 = a1,(a0+a1)%m\n",
    "        a.append(a1)\n",
    "    return(a)    \n",
    "def get_fibonacci_huge_naive(n, m):\n",
    "    if n <= 1:\n",
    "        return n\n",
    "    a = pisanoperiod(get_fibonacci(m))\n",
    "    previous = 0\n",
    "    current  = 1\n",
    "    g = n%a\n",
    "    if g <= 1:\n",
    "        return g\n",
    "\n",
    "    for i in range(g-1):\n",
    "        previous, current = current, previous + current\n",
    "        if i % 10 == 0:\n",
    "            previous, current =  previous , current\n",
    "    return (current) %m  \n"
   ]
  },
  {
   "cell_type": "markdown",
   "id": "9529a780-b85e-4813-aa41-795dd8a38f27",
   "metadata": {},
   "source": [
    "##### Tests #####"
   ]
  },
  {
   "cell_type": "code",
   "execution_count": 11,
   "id": "b2b90bc9-dc04-42f9-a072-b594d4bfcaa8",
   "metadata": {},
   "outputs": [
    {
     "data": {
      "text/plain": [
       "1"
      ]
     },
     "execution_count": 11,
     "metadata": {},
     "output_type": "execute_result"
    }
   ],
   "source": [
    "fibonacci_partial_sum_naive(3, 7) # Should return 1"
   ]
  },
  {
   "cell_type": "code",
   "execution_count": 12,
   "id": "8a35e22f-173c-47a5-ac70-af9bdd8e6ac1",
   "metadata": {},
   "outputs": [
    {
     "data": {
      "text/plain": [
       "5"
      ]
     },
     "execution_count": 12,
     "metadata": {},
     "output_type": "execute_result"
    }
   ],
   "source": [
    "fibonacci_partial_sum_naive(10, 10) # Should return 5"
   ]
  },
  {
   "cell_type": "code",
   "execution_count": 8,
   "id": "67035c88-52a9-41ef-bc7b-7d33d8af1c44",
   "metadata": {},
   "outputs": [
    {
     "data": {
      "text/plain": [
       "6"
      ]
     },
     "execution_count": 8,
     "metadata": {},
     "output_type": "execute_result"
    }
   ],
   "source": []
  },
  {
   "cell_type": "code",
   "execution_count": null,
   "id": "6adccaaf-ad9b-456f-b908-00f5227cea2a",
   "metadata": {},
   "outputs": [],
   "source": []
  }
 ],
 "metadata": {
  "kernelspec": {
   "display_name": "Programming",
   "language": "python",
   "name": "programming"
  },
  "language_info": {
   "codemirror_mode": {
    "name": "ipython",
    "version": 3
   },
   "file_extension": ".py",
   "mimetype": "text/x-python",
   "name": "python",
   "nbconvert_exporter": "python",
   "pygments_lexer": "ipython3",
   "version": "3.9.5"
  }
 },
 "nbformat": 4,
 "nbformat_minor": 5
}
