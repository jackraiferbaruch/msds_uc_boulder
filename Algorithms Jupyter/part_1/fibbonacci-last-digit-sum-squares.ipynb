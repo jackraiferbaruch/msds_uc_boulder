{
 "cells": [
  {
   "cell_type": "markdown",
   "id": "c4aa0ab5-a75b-4e15-a848-b97492f88270",
   "metadata": {},
   "source": [
    "#### Fibonacci Algorithm Huge Number ####\n",
    "\n",
    "Compute the n-th Fibonacci number modulo m."
   ]
  },
  {
   "cell_type": "code",
   "execution_count": 62,
   "id": "69e6577f-2cfd-4697-970c-94ca2535beca",
   "metadata": {},
   "outputs": [],
   "source": [
    "from sys import stdin\n",
    "\n",
    "def fibonacci_sum_squares_naive(n):\n",
    "    if n <= 1:\n",
    "        return n\n",
    "    a = get_fibonacci_huge_naive(n)\n",
    "    b = get_fibonacci_huge_naive(n+1)\n",
    "    return (a*b)%10    \n",
    "\n",
    "\n",
    "import sys\n",
    "def pisanoperiod(a):\n",
    "    period = 0\n",
    "    index=0\n",
    "    c = 0 \n",
    "    b = 1\n",
    "    for i in range(1,len(a)):\n",
    "        if((a[i]==0) & (a[i+1]==1)):\n",
    "            break\n",
    "    index = i\n",
    "    return index\n",
    "\n",
    "def get_fibonacci(m): \n",
    "    x = m*m+1\n",
    "    a = list()\n",
    "    a0=0\n",
    "    a1=1\n",
    "    a.append(a0)\n",
    "    a.append(a1)\n",
    "    for i in range(x):\n",
    "        a0,a1 = a1,(a0+a1)%m\n",
    "        a.append(a1)\n",
    "    return(a)    \n",
    "def get_fibonacci_huge_naive(n, m=10):\n",
    "    if n <= 1:\n",
    "        return n\n",
    "    a = pisanoperiod(get_fibonacci(m))\n",
    "    previous = 0\n",
    "    current  = 1\n",
    "    g = n%a\n",
    "    if g <= 1:\n",
    "        return g\n",
    "\n",
    "    for i in range(g-1):\n",
    "        previous, current = current, previous + current\n",
    "        if i % 10 == 0:\n",
    "            previous, current =  previous , current\n",
    "    return (current) %m"
   ]
  },
  {
   "cell_type": "code",
   "execution_count": 57,
   "id": "5fd82465-ea17-41af-a89a-6c03d939159b",
   "metadata": {},
   "outputs": [],
   "source": [
    "def fibonacci_sum_squares_naive(n):\n",
    "    previous, current = 0, 1\n",
    "    n=n%60 #num mod 10 gives 60 repeatations in Pisano Series.. Check Wikipedia by searching for Pisano Series to get more Info\n",
    "    if (n == 0): \n",
    "        return 0\n",
    "    elif (n == 1): \n",
    "        return 1\n",
    "    else:\n",
    "        for _ in range(2,n+1):\n",
    "            previous, current= current, (previous + current)%60\n",
    "        return current"
   ]
  },
  {
   "cell_type": "code",
   "execution_count": null,
   "id": "93e5782a-d601-4e23-bacd-9935f665011c",
   "metadata": {},
   "outputs": [],
   "source": []
  },
  {
   "cell_type": "markdown",
   "id": "9529a780-b85e-4813-aa41-795dd8a38f27",
   "metadata": {},
   "source": [
    "##### Tests #####"
   ]
  },
  {
   "cell_type": "code",
   "execution_count": 63,
   "id": "b2b90bc9-dc04-42f9-a072-b594d4bfcaa8",
   "metadata": {},
   "outputs": [
    {
     "data": {
      "text/plain": [
       "3"
      ]
     },
     "execution_count": 63,
     "metadata": {},
     "output_type": "execute_result"
    }
   ],
   "source": [
    "fibonacci_sum_squares_naive(7) # Should return 3"
   ]
  },
  {
   "cell_type": "code",
   "execution_count": 64,
   "id": "8a35e22f-173c-47a5-ac70-af9bdd8e6ac1",
   "metadata": {},
   "outputs": [
    {
     "data": {
      "text/plain": [
       "1"
      ]
     },
     "execution_count": 64,
     "metadata": {},
     "output_type": "execute_result"
    }
   ],
   "source": [
    "fibonacci_sum_squares_naive(73) # Should return 1"
   ]
  },
  {
   "cell_type": "code",
   "execution_count": 65,
   "id": "67035c88-52a9-41ef-bc7b-7d33d8af1c44",
   "metadata": {},
   "outputs": [
    {
     "data": {
      "text/plain": [
       "0"
      ]
     },
     "execution_count": 65,
     "metadata": {},
     "output_type": "execute_result"
    }
   ],
   "source": [
    "fibonacci_sum_squares_naive(1234567890) # Should return 0"
   ]
  },
  {
   "cell_type": "code",
   "execution_count": null,
   "id": "6adccaaf-ad9b-456f-b908-00f5227cea2a",
   "metadata": {},
   "outputs": [],
   "source": []
  }
 ],
 "metadata": {
  "kernelspec": {
   "display_name": "Programming",
   "language": "python",
   "name": "programming"
  },
  "language_info": {
   "codemirror_mode": {
    "name": "ipython",
    "version": 3
   },
   "file_extension": ".py",
   "mimetype": "text/x-python",
   "name": "python",
   "nbconvert_exporter": "python",
   "pygments_lexer": "ipython3",
   "version": "3.9.5"
  }
 },
 "nbformat": 4,
 "nbformat_minor": 5
}
