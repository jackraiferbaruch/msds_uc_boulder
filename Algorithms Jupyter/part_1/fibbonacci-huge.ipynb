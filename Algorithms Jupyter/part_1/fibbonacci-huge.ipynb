{
 "cells": [
  {
   "cell_type": "markdown",
   "id": "c4aa0ab5-a75b-4e15-a848-b97492f88270",
   "metadata": {},
   "source": [
    "#### Fibonacci Algorithm Huge Number ####\n",
    "\n",
    "Compute the n-th Fibonacci number modulo m."
   ]
  },
  {
   "cell_type": "code",
   "execution_count": 17,
   "id": "77d0ac23-79a3-4263-b76a-1f60aeec6b41",
   "metadata": {},
   "outputs": [],
   "source": [
    "def fibonacci_huge_naive(n, m):\n",
    "    if n <= 1:\n",
    "        return n\n",
    "\n",
    "    arr = [0, 1]\n",
    "    previousMod = 0\n",
    "    currentMod = 1\n",
    "\n",
    "    for i in range(n - 1):\n",
    "        tempMod = previousMod\n",
    "        previousMod = currentMod % m\n",
    "        currentMod = (tempMod + currentMod) % m\n",
    "        arr.append(currentMod)\n",
    "        if currentMod == 1 and previousMod == 0:\n",
    "            index = (n % (i + 1))\n",
    "            return arr[index]\n",
    "\n",
    "    return currentMod"
   ]
  },
  {
   "cell_type": "markdown",
   "id": "9529a780-b85e-4813-aa41-795dd8a38f27",
   "metadata": {},
   "source": [
    "##### Tests #####"
   ]
  },
  {
   "cell_type": "code",
   "execution_count": 18,
   "id": "b2b90bc9-dc04-42f9-a072-b594d4bfcaa8",
   "metadata": {},
   "outputs": [
    {
     "data": {
      "text/plain": [
       "1"
      ]
     },
     "execution_count": 18,
     "metadata": {},
     "output_type": "execute_result"
    }
   ],
   "source": [
    "fibonacci_huge_naive(1, 239) # Should return 1"
   ]
  },
  {
   "cell_type": "code",
   "execution_count": 19,
   "id": "8a35e22f-173c-47a5-ac70-af9bdd8e6ac1",
   "metadata": {},
   "outputs": [
    {
     "data": {
      "text/plain": [
       "885"
      ]
     },
     "execution_count": 19,
     "metadata": {},
     "output_type": "execute_result"
    }
   ],
   "source": [
    "fibonacci_huge_naive(115, 1000) # Should return 885"
   ]
  },
  {
   "cell_type": "code",
   "execution_count": 20,
   "id": "5409a71a-6ecb-40dc-9947-19dd012d2af1",
   "metadata": {},
   "outputs": [
    {
     "data": {
      "text/plain": [
       "151"
      ]
     },
     "execution_count": 20,
     "metadata": {},
     "output_type": "execute_result"
    }
   ],
   "source": [
    "fibonacci_huge_naive(2816213588, 239)"
   ]
  }
 ],
 "metadata": {
  "kernelspec": {
   "display_name": "Programming",
   "language": "python",
   "name": "programming"
  },
  "language_info": {
   "codemirror_mode": {
    "name": "ipython",
    "version": 3
   },
   "file_extension": ".py",
   "mimetype": "text/x-python",
   "name": "python",
   "nbconvert_exporter": "python",
   "pygments_lexer": "ipython3",
   "version": "3.9.5"
  }
 },
 "nbformat": 4,
 "nbformat_minor": 5
}
