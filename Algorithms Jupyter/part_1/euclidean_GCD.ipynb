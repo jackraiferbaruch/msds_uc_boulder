{
 "cells": [
  {
   "cell_type": "markdown",
   "id": "c4aa0ab5-a75b-4e15-a848-b97492f88270",
   "metadata": {},
   "source": [
    "#### Euclidean GCD ####\n",
    "\n",
    "Recursive function to find the biggest common divisor between $a$ and $b$ using euclidean logic."
   ]
  },
  {
   "cell_type": "code",
   "execution_count": 2,
   "id": "69e6577f-2cfd-4697-970c-94ca2535beca",
   "metadata": {},
   "outputs": [],
   "source": [
    "def euclidean_gcd(a, b):\n",
    "    if b == 0:\n",
    "        return a\n",
    "    else:\n",
    "        a_p = a % b\n",
    "        return(euclidean_gcd(b, a_p))"
   ]
  },
  {
   "cell_type": "markdown",
   "id": "9529a780-b85e-4813-aa41-795dd8a38f27",
   "metadata": {},
   "source": [
    "##### Tests #####"
   ]
  },
  {
   "cell_type": "code",
   "execution_count": 3,
   "id": "b2b90bc9-dc04-42f9-a072-b594d4bfcaa8",
   "metadata": {},
   "outputs": [
    {
     "data": {
      "text/plain": [
       "17657"
      ]
     },
     "execution_count": 3,
     "metadata": {},
     "output_type": "execute_result"
    }
   ],
   "source": [
    "euclidean_gcd(28851538, 1183019) #Should return 17657"
   ]
  },
  {
   "cell_type": "code",
   "execution_count": 4,
   "id": "8a35e22f-173c-47a5-ac70-af9bdd8e6ac1",
   "metadata": {},
   "outputs": [
    {
     "data": {
      "text/plain": [
       "10"
      ]
     },
     "execution_count": 4,
     "metadata": {},
     "output_type": "execute_result"
    }
   ],
   "source": [
    "euclidean_gcd(20, 10) #Should return 10"
   ]
  },
  {
   "cell_type": "code",
   "execution_count": 5,
   "id": "5409a71a-6ecb-40dc-9947-19dd012d2af1",
   "metadata": {},
   "outputs": [
    {
     "data": {
      "text/plain": [
       "3"
      ]
     },
     "execution_count": 5,
     "metadata": {},
     "output_type": "execute_result"
    }
   ],
   "source": [
    "euclidean_gcd(357, 234)"
   ]
  }
 ],
 "metadata": {
  "kernelspec": {
   "display_name": "Programming",
   "language": "python",
   "name": "programming"
  },
  "language_info": {
   "codemirror_mode": {
    "name": "ipython",
    "version": 3
   },
   "file_extension": ".py",
   "mimetype": "text/x-python",
   "name": "python",
   "nbconvert_exporter": "python",
   "pygments_lexer": "ipython3",
   "version": "3.9.5"
  }
 },
 "nbformat": 4,
 "nbformat_minor": 5
}
