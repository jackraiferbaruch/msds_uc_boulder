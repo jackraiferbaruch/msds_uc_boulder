{
 "cells": [
  {
   "cell_type": "code",
   "execution_count": 22,
   "id": "43572943-5242-4dc4-afb3-039b8ff3eb96",
   "metadata": {},
   "outputs": [
    {
     "name": "stdin",
     "output_type": "stream",
     "text": [
      " 5\n",
      " 56 31 27 89 1\n"
     ]
    },
    {
     "name": "stdout",
     "output_type": "stream",
     "text": [
      "4984\n"
     ]
    }
   ],
   "source": [
    "def max_pairwise_product(numbers):\n",
    "\n",
    "    return sorted(numbers)[-1] * sorted(numbers)[-2]\n",
    "\n",
    "if __name__ == '__main__':\n",
    "    _ = int(input())\n",
    "    input_numbers = list(map(int, input().split()))\n",
    "    print(max_pairwise_product(input_numbers))"
   ]
  }
 ],
 "metadata": {
  "kernelspec": {
   "display_name": "Programming",
   "language": "python",
   "name": "programming"
  },
  "language_info": {
   "codemirror_mode": {
    "name": "ipython",
    "version": 3
   },
   "file_extension": ".py",
   "mimetype": "text/x-python",
   "name": "python",
   "nbconvert_exporter": "python",
   "pygments_lexer": "ipython3",
   "version": "3.9.5"
  }
 },
 "nbformat": 4,
 "nbformat_minor": 5
}
