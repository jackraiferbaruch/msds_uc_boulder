{
 "cells": [
  {
   "cell_type": "markdown",
   "id": "c4aa0ab5-a75b-4e15-a848-b97492f88270",
   "metadata": {},
   "source": [
    "#### Fibonacci Algorithm Huge Number ####\n",
    "\n",
    "Compute the n-th Fibonacci number modulo m."
   ]
  },
  {
   "cell_type": "code",
   "execution_count": 13,
   "id": "69e6577f-2cfd-4697-970c-94ca2535beca",
   "metadata": {},
   "outputs": [],
   "source": [
    "def fibonacci_sum(n):\n",
    "    if n <= 1:\n",
    "        return n\n",
    "    else:\n",
    "        add = 1\n",
    "        previous = 0\n",
    "        last = 1\n",
    "        for i in range(2, n+1):\n",
    "            #x = (previous + last) % 10\n",
    "            #previous = last\n",
    "            #last = x\n",
    "            #add += x\n",
    "            #add = add % 10\n",
    "            previous, last = last, (previous + last) % 10\n",
    "            add = (add + last) % 10\n",
    "    return add % 10"
   ]
  },
  {
   "cell_type": "code",
   "execution_count": 7,
   "id": "f1fee5fa-d7a6-41e6-8cbb-b78fda2e629b",
   "metadata": {},
   "outputs": [],
   "source": [
    "def fib(n):\n",
    "    if n <= 1:\n",
    "        return n\n",
    "    v1, v2, v3 = 1, 1, 0    # initialise a matrix [[1,1],[1,0]]\n",
    "    for rec in bin(n)[3:]:  # perform fast exponentiation of the matrix (quickly raise it to the nth power)\n",
    "        calc = v2*v2\n",
    "        v1, v2, v3 = v1*v1+calc, (v1+v3)*v2, calc+v3*v3\n",
    "        if rec=='1':    v1, v2, v3 = v1+v2, v1, v2\n",
    "    return v2"
   ]
  },
  {
   "cell_type": "code",
   "execution_count": 8,
   "id": "683d4909-280e-4e48-9fb5-fdbf1459d5d5",
   "metadata": {},
   "outputs": [],
   "source": [
    "def fibonacci_sum(n):\n",
    "    add = 1\n",
    "    for i in range(2, n+1):\n",
    "        add = (add + fib(i)) % 10\n",
    "        \n",
    "    return add % 10"
   ]
  },
  {
   "cell_type": "markdown",
   "id": "9529a780-b85e-4813-aa41-795dd8a38f27",
   "metadata": {},
   "source": [
    "##### Tests #####"
   ]
  },
  {
   "cell_type": "code",
   "execution_count": 14,
   "id": "b2b90bc9-dc04-42f9-a072-b594d4bfcaa8",
   "metadata": {},
   "outputs": [
    {
     "name": "stdout",
     "output_type": "stream",
     "text": [
      "502 ns ± 11.7 ns per loop (mean ± std. dev. of 7 runs, 1000000 loops each)\n"
     ]
    }
   ],
   "source": [
    "%timeit fibonacci_sum(3) # Should return 4"
   ]
  },
  {
   "cell_type": "code",
   "execution_count": 16,
   "id": "8a35e22f-173c-47a5-ac70-af9bdd8e6ac1",
   "metadata": {},
   "outputs": [
    {
     "name": "stdout",
     "output_type": "stream",
     "text": [
      "9.41 µs ± 222 ns per loop (mean ± std. dev. of 7 runs, 100000 loops each)\n"
     ]
    }
   ],
   "source": [
    "%timeit fibonacci_sum(100) # Should return 5"
   ]
  },
  {
   "cell_type": "code",
   "execution_count": 11,
   "id": "67035c88-52a9-41ef-bc7b-7d33d8af1c44",
   "metadata": {},
   "outputs": [
    {
     "name": "stdout",
     "output_type": "stream",
     "text": [
      "1.22 µs ± 21.7 ns per loop (mean ± std. dev. of 7 runs, 1000000 loops each)\n"
     ]
    }
   ],
   "source": [
    "%timeit fibonacci_sum(3) # Should return 4"
   ]
  },
  {
   "cell_type": "code",
   "execution_count": 12,
   "id": "67315202-35a5-4c52-a11b-a5d91fa93490",
   "metadata": {},
   "outputs": [
    {
     "name": "stdout",
     "output_type": "stream",
     "text": [
      "129 µs ± 1.4 µs per loop (mean ± std. dev. of 7 runs, 10000 loops each)\n"
     ]
    }
   ],
   "source": [
    "%timeit fibonacci_sum(100) # Should return 5"
   ]
  },
  {
   "cell_type": "code",
   "execution_count": 52,
   "id": "6adccaaf-ad9b-456f-b908-00f5227cea2a",
   "metadata": {},
   "outputs": [
    {
     "ename": "KeyboardInterrupt",
     "evalue": "",
     "output_type": "error",
     "traceback": [
      "\u001b[1;31m---------------------------------------------------------------------------\u001b[0m",
      "\u001b[1;31mKeyboardInterrupt\u001b[0m                         Traceback (most recent call last)",
      "\u001b[1;32m<ipython-input-52-8bd82c70afbd>\u001b[0m in \u001b[0;36m<module>\u001b[1;34m\u001b[0m\n\u001b[1;32m----> 1\u001b[1;33m \u001b[0mfibonacci_sum\u001b[0m\u001b[1;33m(\u001b[0m\u001b[1;36m832564823476\u001b[0m\u001b[1;33m)\u001b[0m\u001b[1;33m\u001b[0m\u001b[1;33m\u001b[0m\u001b[0m\n\u001b[0m",
      "\u001b[1;32m<ipython-input-47-c95550283b66>\u001b[0m in \u001b[0;36mfibonacci_sum\u001b[1;34m(n)\u001b[0m\n\u001b[0;32m     13\u001b[0m             \u001b[1;31m#add = add % 10\u001b[0m\u001b[1;33m\u001b[0m\u001b[1;33m\u001b[0m\u001b[1;33m\u001b[0m\u001b[0m\n\u001b[0;32m     14\u001b[0m             \u001b[0mprevious\u001b[0m\u001b[1;33m,\u001b[0m \u001b[0mlast\u001b[0m \u001b[1;33m=\u001b[0m \u001b[0mlast\u001b[0m\u001b[1;33m,\u001b[0m \u001b[1;33m(\u001b[0m\u001b[0mprevious\u001b[0m \u001b[1;33m+\u001b[0m \u001b[0mlast\u001b[0m\u001b[1;33m)\u001b[0m \u001b[1;33m%\u001b[0m \u001b[1;36m10\u001b[0m\u001b[1;33m\u001b[0m\u001b[1;33m\u001b[0m\u001b[0m\n\u001b[1;32m---> 15\u001b[1;33m             \u001b[0madd\u001b[0m \u001b[1;33m=\u001b[0m \u001b[1;33m(\u001b[0m\u001b[0madd\u001b[0m \u001b[1;33m+\u001b[0m \u001b[0mlast\u001b[0m\u001b[1;33m)\u001b[0m \u001b[1;33m%\u001b[0m \u001b[1;36m10\u001b[0m\u001b[1;33m\u001b[0m\u001b[1;33m\u001b[0m\u001b[0m\n\u001b[0m\u001b[0;32m     16\u001b[0m     \u001b[1;32mreturn\u001b[0m \u001b[0madd\u001b[0m \u001b[1;33m%\u001b[0m \u001b[1;36m10\u001b[0m\u001b[1;33m\u001b[0m\u001b[1;33m\u001b[0m\u001b[0m\n",
      "\u001b[1;31mKeyboardInterrupt\u001b[0m: "
     ]
    }
   ],
   "source": [
    "fibonacci_sum(832564823476)"
   ]
  },
  {
   "cell_type": "code",
   "execution_count": null,
   "id": "713d7c05-2df1-4000-871c-5f4d0373d46d",
   "metadata": {},
   "outputs": [],
   "source": []
  }
 ],
 "metadata": {
  "kernelspec": {
   "display_name": "Programming",
   "language": "python",
   "name": "programming"
  },
  "language_info": {
   "codemirror_mode": {
    "name": "ipython",
    "version": 3
   },
   "file_extension": ".py",
   "mimetype": "text/x-python",
   "name": "python",
   "nbconvert_exporter": "python",
   "pygments_lexer": "ipython3",
   "version": "3.9.5"
  }
 },
 "nbformat": 4,
 "nbformat_minor": 5
}
