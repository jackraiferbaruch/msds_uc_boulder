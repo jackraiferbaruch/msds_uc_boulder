{
 "cells": [
  {
   "cell_type": "markdown",
   "id": "660b09b1-eb1e-46ab-93dd-d7a3c4dc19d9",
   "metadata": {},
   "source": [
    "### Maximizing the Value of the Loot Problem ###\n",
    "\n",
    "A thief breaks into a spice shop and finds four pounds of saffron, three pounds of vanilla, and five pounds of cinnamon. His backpack fits at most nine pounds, therefore he cannot take everything. Assuming that the prices of saffron, vanilla, and cinnamon are `5000`, `200`, and `10` per pound, respectively, what is the most valuable loot in this case? If the thief takes $u_1$ pounds of saffron, $u_2$ pounds of vanilla, and $u_3$ pounds of cinnamon, the total value of the loot is:\n",
    "\n",
    "$$(5000 \\times u_1) + (200 \\times u_2) + (10 \\times u_3)$$\n",
    "\n",
    "The thief would like to maximize the value of this expression subject to the following constraints: $u_1 \\leq 4$, $u_2 \\leq 3$, $u_3 \\leq 5$, $u_1 + u_2 + u_3 \\leq 9$."
   ]
  },
  {
   "cell_type": "code",
   "execution_count": 19,
   "id": "48f35654-cf25-4cba-91fa-5b549c588416",
   "metadata": {},
   "outputs": [],
   "source": [
    "# Recursive version\n",
    "\n",
    "def MaximumLoot(W, Weight, Cost):\n",
    "    if W == 0 or Weight == []:\n",
    "        return 0\n",
    "    m = Cost.index(max(Cost))\n",
    "    amount = min(Weight[m], W)\n",
    "    value = Cost[m] * amount\n",
    "    print(value)\n",
    "    Weight.remove(max(Weight))\n",
    "    Cost.remove(max(Cost))\n",
    "    W = W - amount\n",
    "    return value + MaximumLoot(W, Weight, Cost)"
   ]
  },
  {
   "cell_type": "code",
   "execution_count": 21,
   "id": "dcc36ed1-1774-4a00-821b-f29a7575c815",
   "metadata": {},
   "outputs": [
    {
     "name": "stdout",
     "output_type": "stream",
     "text": [
      "20000\n",
      "600\n",
      "20\n"
     ]
    },
    {
     "data": {
      "text/plain": [
       "20620"
      ]
     },
     "execution_count": 21,
     "metadata": {},
     "output_type": "execute_result"
    }
   ],
   "source": [
    "MaximumLoot(9, [3, 4, 5], [200, 5000, 10])"
   ]
  },
  {
   "cell_type": "code",
   "execution_count": 1,
   "id": "bf9fc31d-005c-4258-a002-51c1af682375",
   "metadata": {},
   "outputs": [],
   "source": [
    "def optimal_value(capacity, weights, values):\n",
    "    if capacity == 0 or weights == []:\n",
    "        return 0\n",
    "    m = values.index(max(values))\n",
    "    amount = min(weights[m], capacity)\n",
    "    value = values[m] * amount\n",
    "    weights.remove(max(weights))\n",
    "    values.remove(max(values))\n",
    "    capacity = capacity - amount\n",
    "    return value + optimal_value(capacity, weights, values)"
   ]
  },
  {
   "cell_type": "code",
   "execution_count": 2,
   "id": "fe101972-5c9d-46ae-a46a-63d58caadbd1",
   "metadata": {},
   "outputs": [
    {
     "data": {
      "text/plain": [
       "20620"
      ]
     },
     "execution_count": 2,
     "metadata": {},
     "output_type": "execute_result"
    }
   ],
   "source": [
    "optimal_value(9, [3, 4, 5], [200, 5000, 10])"
   ]
  },
  {
   "cell_type": "code",
   "execution_count": 7,
   "id": "6420a696-01db-47d0-b421-ecbe294354e7",
   "metadata": {},
   "outputs": [],
   "source": [
    "import sys\n",
    "\n",
    "\n",
    "def optimal_value(capacity, weights, values):\n",
    "    value = 0.\n",
    "    proportion = [float(v) / float(w) for v, w in zip(values, weights)]\n",
    "    for _ in range(len(weights) + 1):\n",
    "        if capacity == 0:\n",
    "            return value\n",
    "            break\n",
    "        max_weight = max(proportion)\n",
    "        index = proportion.index(max_weight)\n",
    "        proportion[index] = -1\n",
    "        add_capacity = min(capacity, weights[index])\n",
    "        value += add_capacity * max_weight\n",
    "        weights[index] -= add_capacity\n",
    "        capacity -= add_capacity\n",
    "    return value"
   ]
  },
  {
   "cell_type": "code",
   "execution_count": 8,
   "id": "9f9d1537-a911-41d6-a79a-91067b9f2dc3",
   "metadata": {},
   "outputs": [
    {
     "data": {
      "text/plain": [
       "5204.0"
      ]
     },
     "execution_count": 8,
     "metadata": {},
     "output_type": "execute_result"
    }
   ],
   "source": [
    "optimal_value(9, [3, 4, 5], [200, 5000, 10])"
   ]
  },
  {
   "cell_type": "code",
   "execution_count": 9,
   "id": "722d5423-73a5-43bc-8a9e-1d5dc09dad66",
   "metadata": {},
   "outputs": [],
   "source": [
    "def get_optimal_value(capacity, weights, values):\n",
    "    value = 0\n",
    "    maxim = 0\n",
    "    pindex = list()\n",
    "    index = 0\n",
    "    while capacity>0:\n",
    "        maxim = 0\n",
    "        for i in range(len(weights)):\n",
    "            if values[i]/weights[i]>=maxim and not(i in pindex):\n",
    "                maxim = values[i]/weights[i]\n",
    "                index = i\n",
    "\n",
    "        ic = min(weights[index],capacity)\n",
    "        capacity -= ic\n",
    "        \n",
    "        value += ic*maxim\n",
    "        pindex.append(index)\n",
    "\n",
    "\n",
    "    return value"
   ]
  },
  {
   "cell_type": "code",
   "execution_count": 10,
   "id": "5c418e95-6f76-402d-94d4-e129c9917d85",
   "metadata": {},
   "outputs": [
    {
     "data": {
      "text/plain": [
       "5204.0"
      ]
     },
     "execution_count": 10,
     "metadata": {},
     "output_type": "execute_result"
    }
   ],
   "source": [
    "get_optimal_value(9, [3, 4, 5], [200, 5000, 10])"
   ]
  },
  {
   "cell_type": "code",
   "execution_count": null,
   "id": "ebaa814f-c04a-44d8-bab4-4b8e0c57d8f7",
   "metadata": {},
   "outputs": [],
   "source": []
  }
 ],
 "metadata": {
  "kernelspec": {
   "display_name": "Programming",
   "language": "python",
   "name": "programming"
  },
  "language_info": {
   "codemirror_mode": {
    "name": "ipython",
    "version": 3
   },
   "file_extension": ".py",
   "mimetype": "text/x-python",
   "name": "python",
   "nbconvert_exporter": "python",
   "pygments_lexer": "ipython3",
   "version": "3.9.5"
  }
 },
 "nbformat": 4,
 "nbformat_minor": 5
}
