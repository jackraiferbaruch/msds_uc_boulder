{
 "cells": [
  {
   "cell_type": "markdown",
   "id": "ca1b1066-5802-4d1f-ace7-da17457fa3ae",
   "metadata": {},
   "source": [
    "### Change ###\n",
    "\n",
    "Naive algorithm to define ammount of change units from a particular monetary ammount."
   ]
  },
  {
   "cell_type": "code",
   "execution_count": 1,
   "id": "7841cbe0-819c-42f1-8430-70641727ea4a",
   "metadata": {},
   "outputs": [],
   "source": [
    "# Iterative Version\n",
    "\n",
    "def Change(money, denominations):\n",
    "    numCoins = 0\n",
    "    while money > 0:\n",
    "        maxCoin = max(denominations)\n",
    "        if maxCoin > money:\n",
    "            denominations.remove(maxCoin)\n",
    "            maxCoin = max(denominations)\n",
    "        else:\n",
    "            money = money - maxCoin\n",
    "            numCoins += 1\n",
    "    return numCoins"
   ]
  },
  {
   "cell_type": "code",
   "execution_count": 2,
   "id": "bb0cd77d-a8d4-41bb-acea-268d8c1b7c09",
   "metadata": {},
   "outputs": [
    {
     "data": {
      "text/plain": [
       "6"
      ]
     },
     "execution_count": 2,
     "metadata": {},
     "output_type": "execute_result"
    }
   ],
   "source": [
    "Change(28, [10, 5, 1])"
   ]
  },
  {
   "cell_type": "code",
   "execution_count": 3,
   "id": "3cf7f963-c9a4-434f-a432-2b152c307dd0",
   "metadata": {},
   "outputs": [],
   "source": [
    "# Recursive Version\n",
    "\n",
    "def Change(money, denominations):\n",
    "    if money == 0:\n",
    "        return 0\n",
    "    maxCoin = max(denominations)\n",
    "    if maxCoin > money:\n",
    "        denominations.remove(maxCoin)\n",
    "        maxCoin = max(denominations)\n",
    "    return 1 + Change(money - maxCoin, denominations)"
   ]
  },
  {
   "cell_type": "code",
   "execution_count": 6,
   "id": "6c523d0d-b954-438f-adb4-a88a0417176a",
   "metadata": {},
   "outputs": [
    {
     "data": {
      "text/plain": [
       "6"
      ]
     },
     "execution_count": 6,
     "metadata": {},
     "output_type": "execute_result"
    }
   ],
   "source": [
    "Change(28, [10, 5, 1])"
   ]
  },
  {
   "cell_type": "code",
   "execution_count": 7,
   "id": "fc99b7e2-6090-4072-9499-e6352904d083",
   "metadata": {},
   "outputs": [],
   "source": [
    "# One Line Version for known denominations like 10, 5 and 1\n",
    "\n",
    "def Change(money):\n",
    "    return (money // 10) + ((money % 10) // 5) + money % 5"
   ]
  },
  {
   "cell_type": "code",
   "execution_count": 8,
   "id": "9dab4dd9-140b-465c-8fcc-18cc0a1a407b",
   "metadata": {},
   "outputs": [
    {
     "data": {
      "text/plain": [
       "6"
      ]
     },
     "execution_count": 8,
     "metadata": {},
     "output_type": "execute_result"
    }
   ],
   "source": [
    "Change(28, [10, 5, 1])"
   ]
  },
  {
   "cell_type": "code",
   "execution_count": null,
   "id": "694124d3-cbf7-4c9f-96eb-590253fa15e2",
   "metadata": {},
   "outputs": [],
   "source": []
  }
 ],
 "metadata": {
  "kernelspec": {
   "display_name": "Programming",
   "language": "python",
   "name": "programming"
  },
  "language_info": {
   "codemirror_mode": {
    "name": "ipython",
    "version": 3
   },
   "file_extension": ".py",
   "mimetype": "text/x-python",
   "name": "python",
   "nbconvert_exporter": "python",
   "pygments_lexer": "ipython3",
   "version": "3.9.5"
  }
 },
 "nbformat": 4,
 "nbformat_minor": 5
}
