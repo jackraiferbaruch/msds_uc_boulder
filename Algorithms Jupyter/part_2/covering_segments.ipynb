{
 "cells": [
  {
   "cell_type": "markdown",
   "id": "fd1c8c75-60ab-4c7d-9462-88bb80fe7da0",
   "metadata": {},
   "source": [
    "### Covering Segments ###"
   ]
  },
  {
   "cell_type": "code",
   "execution_count": null,
   "id": "17219147-a35e-4738-9e07-e7c77a67a863",
   "metadata": {},
   "outputs": [],
   "source": [
    "from collections import namedtuple\n",
    "\n",
    "Segment = namedtuple('Segment', 'start end')\n",
    "\n",
    "def optimal_points(segments):\n",
    "    points = []\n",
    "    index=0\n",
    "    segments.sort(key=lambda x:x[1])\n",
    "    covered= [0]*len(segments)\n",
    "    for i in range(len(segments)):\n",
    "    \tif covered[i]==0:\n",
    "    \t\tpoints.append(segments[i][1])\n",
    "    \t\tindex=0\n",
    "    \t\tfor j in segments:\n",
    "    \t\t\tcovered[index] = point_in(j[0],j[1],segments[i][1])\n",
    "    \t\t\tindex+=1\n",
    "    \t#print(covered)\n",
    "    return points\t\t\t\n",
    "\n",
    "\n",
    "\n",
    "def point_in(x1,x2,pnt):\n",
    "\tif pnt>=x1 and pnt <=x2:\n",
    "\t\treturn 1\n",
    "\treturn 0"
   ]
  }
 ],
 "metadata": {
  "kernelspec": {
   "display_name": "Programming",
   "language": "python",
   "name": "programming"
  },
  "language_info": {
   "codemirror_mode": {
    "name": "ipython",
    "version": 3
   },
   "file_extension": ".py",
   "mimetype": "text/x-python",
   "name": "python",
   "nbconvert_exporter": "python",
   "pygments_lexer": "ipython3",
   "version": "3.9.5"
  }
 },
 "nbformat": 4,
 "nbformat_minor": 5
}
