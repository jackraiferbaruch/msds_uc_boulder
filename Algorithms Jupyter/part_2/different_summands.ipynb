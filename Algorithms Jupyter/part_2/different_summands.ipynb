{
 "cells": [
  {
   "cell_type": "markdown",
   "id": "bdb6cefa-9018-45a1-9fb5-a86f6e47d4df",
   "metadata": {},
   "source": [
    "### Different Summands ###"
   ]
  },
  {
   "cell_type": "code",
   "execution_count": null,
   "id": "fc5c2372-e68e-4836-9d7c-a870bde96594",
   "metadata": {},
   "outputs": [],
   "source": [
    "def optimal_summands(n):\n",
    "    summands = []\n",
    "    csum=0\n",
    "    pr=0\n",
    "    for i in range(n):\n",
    "    \tpr+=1\n",
    "    \tif(csum>=n):\n",
    "    \t\tbreak\n",
    "    \tr = opsummands(n,pr,csum)\n",
    "    \tsummands.append(r)\n",
    "    \tcsum+=r\t\n",
    "    \n",
    "    return summands\n",
    "def opsummands(n,lb,csum):\n",
    "\tif (csum+lb+lb+1)>n:\n",
    "\t\treturn n-csum\n",
    "\treturn lb"
   ]
  }
 ],
 "metadata": {
  "kernelspec": {
   "display_name": "Programming",
   "language": "python",
   "name": "programming"
  },
  "language_info": {
   "codemirror_mode": {
    "name": "ipython",
    "version": 3
   },
   "file_extension": ".py",
   "mimetype": "text/x-python",
   "name": "python",
   "nbconvert_exporter": "python",
   "pygments_lexer": "ipython3",
   "version": "3.9.5"
  }
 },
 "nbformat": 4,
 "nbformat_minor": 5
}
