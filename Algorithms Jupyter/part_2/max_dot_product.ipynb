{
 "cells": [
  {
   "cell_type": "markdown",
   "id": "27d93388-2d2d-40b6-b856-d57bffbba2d3",
   "metadata": {},
   "source": [
    "### Max Dot Product ###"
   ]
  },
  {
   "cell_type": "code",
   "execution_count": null,
   "id": "4423c80e-2db5-4f6a-afc4-0db52ac1e002",
   "metadata": {},
   "outputs": [],
   "source": [
    "def max_dot_product(a, b):\n",
    "    #write your code here\n",
    "    a.sort(reverse=True)\n",
    "    b.sort(reverse=True)\n",
    "    res = 0\n",
    "    for i in range(len(a)):\n",
    "        res += a[i] * b[i]\n",
    "    return res"
   ]
  }
 ],
 "metadata": {
  "kernelspec": {
   "display_name": "Programming",
   "language": "python",
   "name": "programming"
  },
  "language_info": {
   "codemirror_mode": {
    "name": "ipython",
    "version": 3
   },
   "file_extension": ".py",
   "mimetype": "text/x-python",
   "name": "python",
   "nbconvert_exporter": "python",
   "pygments_lexer": "ipython3",
   "version": "3.9.5"
  }
 },
 "nbformat": 4,
 "nbformat_minor": 5
}
