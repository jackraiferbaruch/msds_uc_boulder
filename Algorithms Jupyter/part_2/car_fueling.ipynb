{
 "cells": [
  {
   "cell_type": "markdown",
   "id": "9648a200-0399-4e55-81f1-90756e9a422a",
   "metadata": {},
   "source": [
    "### Car Fueling Algorithm ###"
   ]
  },
  {
   "cell_type": "code",
   "execution_count": null,
   "id": "6ec78c3c-9152-4dd1-af2f-7a9be98779dc",
   "metadata": {},
   "outputs": [],
   "source": [
    "def compute_min_refills(distance, tank, stops):\n",
    "    stops.append(distance)\n",
    "    no_stops = 0\n",
    "    left_dist = distance\n",
    "    covered_dist = 0\n",
    "    for i in range(len(stops) - 1):\n",
    "        if (left_dist == 0):\n",
    "            break\n",
    "        elif ((stops[i + 1] - stops[i]) > tank):\n",
    "            no_stops = -1\n",
    "            break\n",
    "        elif ((covered_dist + tank) >= stops[i] and (covered_dist + tank) < stops[i + 1]):\n",
    "            covered_dist = stops[i]\n",
    "            left_dist = distance - stops[i]\n",
    "            no_stops +=  1\n",
    "    return no_stops"
   ]
  }
 ],
 "metadata": {
  "kernelspec": {
   "display_name": "Programming",
   "language": "python",
   "name": "programming"
  },
  "language_info": {
   "codemirror_mode": {
    "name": "ipython",
    "version": 3
   },
   "file_extension": ".py",
   "mimetype": "text/x-python",
   "name": "python",
   "nbconvert_exporter": "python",
   "pygments_lexer": "ipython3",
   "version": "3.9.5"
  }
 },
 "nbformat": 4,
 "nbformat_minor": 5
}
