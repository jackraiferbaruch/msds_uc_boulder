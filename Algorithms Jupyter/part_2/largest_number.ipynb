{
 "cells": [
  {
   "cell_type": "markdown",
   "id": "38d636bd-effc-4e08-b001-2774f28cbf8b",
   "metadata": {},
   "source": [
    "### Largest Number ###"
   ]
  },
  {
   "cell_type": "code",
   "execution_count": null,
   "id": "82276832-3712-4649-9fe5-4fb9fe5b49ef",
   "metadata": {},
   "outputs": [],
   "source": [
    "def largest_number(a):\n",
    "\tused = [0]*len(a)\n",
    "\tres = \"\"\n",
    "\tmaxd = -1\n",
    "\twhile 0 in used: \n",
    "\t\tmaxd = 0\n",
    "\t\tfor i in range(len(a)):\n",
    "\t\t\tif better_value(a[i],maxd) and used[i]==0:\n",
    "\t\t\t\tmaxd = a[i]\n",
    "\t\t\t\tindex = i\n",
    "\t\tused[index]\t=1\t\n",
    "\t\tres+=str(maxd)\n",
    "\treturn res\t\n",
    "\n",
    "\n",
    "def better_value(x,y):\n",
    "\ta = str(x)\n",
    "\tb = str(y)\n",
    "\ttemp=b\n",
    "\tb+=a\n",
    "\ta+=temp\n",
    "\t\n",
    "\tif int(a)>int(b):\n",
    "\t\treturn True\n",
    "\treturn False"
   ]
  }
 ],
 "metadata": {
  "kernelspec": {
   "display_name": "Programming",
   "language": "python",
   "name": "programming"
  },
  "language_info": {
   "codemirror_mode": {
    "name": "ipython",
    "version": 3
   },
   "file_extension": ".py",
   "mimetype": "text/x-python",
   "name": "python",
   "nbconvert_exporter": "python",
   "pygments_lexer": "ipython3",
   "version": "3.9.5"
  }
 },
 "nbformat": 4,
 "nbformat_minor": 5
}
