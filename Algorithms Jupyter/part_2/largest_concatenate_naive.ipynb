{
 "cells": [
  {
   "cell_type": "markdown",
   "id": "f1117cf1-4a4e-4806-a84e-1b7d0113bd2e",
   "metadata": {},
   "source": [
    "### Largest Conatenate ###\n",
    "\n",
    "Base naive algorithm for Largest Concatenation of a list of numbers."
   ]
  },
  {
   "cell_type": "code",
   "execution_count": 7,
   "id": "ff71adec-234b-4f27-ad09-1f35bfb57dfd",
   "metadata": {},
   "outputs": [],
   "source": [
    "# Iterative version\n",
    "def LargestConcatenate(nums):\n",
    "    result = []\n",
    "    while len(nums) > 0:\n",
    "        result.append(max(nums))\n",
    "        nums.remove(max(nums))\n",
    "    return ''.join([str(x) for x in result])"
   ]
  },
  {
   "cell_type": "code",
   "execution_count": 8,
   "id": "6419969c-01c4-4f37-a509-954452a3403b",
   "metadata": {},
   "outputs": [
    {
     "data": {
      "text/plain": [
       "'2516109731'"
      ]
     },
     "execution_count": 8,
     "metadata": {},
     "output_type": "execute_result"
    }
   ],
   "source": [
    "LargestConcatenate([3, 7, 9, 10, 1, 25, 16])"
   ]
  },
  {
   "cell_type": "code",
   "execution_count": 11,
   "id": "7d084437-c132-4117-a43c-80ab6212bdca",
   "metadata": {},
   "outputs": [],
   "source": [
    "# Recursive Version\n",
    "def LargestConcatenate(nums):\n",
    "    if nums == []:\n",
    "        return ''\n",
    "    maxNumber = max(nums)\n",
    "    nums.remove(maxNumber)\n",
    "    return str(maxNumber) + LargestConcatenate(nums)\n",
    "    "
   ]
  },
  {
   "cell_type": "code",
   "execution_count": 12,
   "id": "c55bd53b-b4d8-4eac-b4e9-764533f507d4",
   "metadata": {},
   "outputs": [
    {
     "data": {
      "text/plain": [
       "'2516109731'"
      ]
     },
     "execution_count": 12,
     "metadata": {},
     "output_type": "execute_result"
    }
   ],
   "source": [
    "LargestConcatenate([3, 7, 9, 10, 1, 25, 16])"
   ]
  },
  {
   "cell_type": "code",
   "execution_count": null,
   "id": "759f1e7f-03e2-4b90-8de0-97de710fdb9d",
   "metadata": {},
   "outputs": [],
   "source": []
  }
 ],
 "metadata": {
  "kernelspec": {
   "display_name": "Programming",
   "language": "python",
   "name": "programming"
  },
  "language_info": {
   "codemirror_mode": {
    "name": "ipython",
    "version": 3
   },
   "file_extension": ".py",
   "mimetype": "text/x-python",
   "name": "python",
   "nbconvert_exporter": "python",
   "pygments_lexer": "ipython3",
   "version": "3.9.5"
  }
 },
 "nbformat": 4,
 "nbformat_minor": 5
}
