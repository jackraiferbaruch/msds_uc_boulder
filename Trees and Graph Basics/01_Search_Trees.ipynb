{
 "cells": [
  {
   "cell_type": "markdown",
   "id": "79999ced-e9f1-4a4e-b07b-a5d8419b2b3b",
   "metadata": {},
   "source": [
    "### Search Trees ###"
   ]
  },
  {
   "cell_type": "markdown",
   "id": "0bbc6a34-a068-4481-9a21-ea92d921831b",
   "metadata": {},
   "source": [
    "#### Binary Search Trees ####"
   ]
  },
  {
   "cell_type": "markdown",
   "id": "7522c4d3-808e-4964-9a85-aee05de41e1f",
   "metadata": {},
   "source": [
    "Binary search trees are an abstract data type for collection that supports the following operations:\n",
    "* Insert an element\n",
    "* Delete an element\n",
    "* Find if an element exists\n",
    "* Traversals that can support operations like `map()`, `iter()`, and similar.\n",
    "\n",
    "This means that search trees are going to store a collection or a set of objetcs `{1,2,3,4,5}`, where objects cannot repeat (there are some search trees that can have multiple copies of the same element). Each element has a key of the element, which is always going to be a number, even if the element itself is NOT a number. This means it has a way of comparing elements. \n",
    "\n",
    "Using Binary Search Trees we can build other data structures such as:\n",
    "* Sets\n",
    "* Dictionaries or Maps"
   ]
  },
  {
   "cell_type": "markdown",
   "id": "174c616e-a790-4dc2-9bf8-1d8548f6cb8d",
   "metadata": {},
   "source": [
    "A Binary Search Tree is composed of Nodes and Leaves.\n",
    "\n",
    "Every Node in a Tree has 2 Children and every leave has no children. \n",
    "\n",
    "Every node has an element, and leaves have no elements.\n",
    "\n",
    "The important element in Binary Search Trees is that the key of a child has to be less than the key of the parent.\n",
    "\n",
    "So the key of $N_1$ (Node 1, of the top node in the tree) has to be larger than or equal to the key of $N_2$ (the left child of $N_1$:\n",
    "\n",
    "$$N_1 >= N_2$$"
   ]
  },
  {
   "cell_type": "markdown",
   "id": "37593376-53d4-4a36-aa39-73568e3910f4",
   "metadata": {},
   "source": [
    "On the other hand, the key of the right child $N_3$ must be greater than or equal to the key of it's parent $N_1$:\n",
    "\n",
    "$$N_1 <=N_3$$\n",
    "\n",
    "So since this rule must hold for parent and children nodes:\n",
    "\n",
    "$$N_{LC} <= N_P <= N_{RC}$$\n"
   ]
  },
  {
   "cell_type": "markdown",
   "id": "fcef218c-de81-4c94-85d9-d416ca0a54bf",
   "metadata": {},
   "source": [
    "This means that every time we move to the left of a tree, the key stays the same or becomes smaller, while every time we move right, the key stays the same or increases.\n",
    "\n",
    "The following is a valid Binary Search Tree:"
   ]
  },
  {
   "cell_type": "markdown",
   "id": "f38257e5-062c-42d2-ba6a-f2485529adfc",
   "metadata": {},
   "source": [
    "$$ 25 $$\n",
    "$$20 ---------- 29$$\n",
    "$$18 ---- 23 ---- Nil ---- 21$$\n",
    "$$16 - 19 - 4 - 24 - ** - Nil - Nil - 31$$\n"
   ]
  },
  {
   "cell_type": "markdown",
   "id": "0b5f05d8-a623-410c-aee8-d84cc9b5e299",
   "metadata": {},
   "source": [
    "In short, every key of a node in a subtree on the left side of a node, has to be less than or equal to the key of the top node, and every key of a node in a subtree on the right of a node, has to be bigger than or equal to the key of the top node."
   ]
  },
  {
   "cell_type": "markdown",
   "id": "badc14d5-e0d8-48e0-8b64-783504ed7c9f",
   "metadata": {},
   "source": [
    "In general we define the nodes as follows:\n",
    "\n",
    "If $N\\neq Nil$\n",
    "* n.right is the right child\n",
    "* n.left is the left child\n",
    "* n.parent is the parent\n",
    "* n.key is the key\n",
    "\n",
    "We also refer to the parent of the root node as Nil, meaning it has no parent and hence it is the roor node."
   ]
  },
  {
   "cell_type": "markdown",
   "id": "73b01a35-cf6c-4b84-8a43-e2dffe7a7e48",
   "metadata": {},
   "source": [
    "##### Height of a Binary Search Tree #####\n",
    "\n",
    "The height of a BST is defined as the length of the longest path from the root all the way to a leaf. \n",
    "\n",
    "There is a small discrepancy regarding if you count the leaf node or not, the more or less official possition is that you do not count the leaf when measuring length.\n",
    "\n",
    "This means that leafts have a height of 0, nodes that have two leaves as children have a height of 1, nodes whose greandchildren are all leaves would have a height or 2 and so on.\n",
    "\n",
    "We would define these the following way:\n",
    "\n",
    "```\n",
    "Hight(Nil) = 0\n",
    "\n",
    "Height(n) = max[height(n.left), height(n.right)] + 1\n",
    "\n",
    "```"
   ]
  },
  {
   "cell_type": "markdown",
   "id": "dcdc7b6c-554b-4e3b-8fe2-7ee4a02f333d",
   "metadata": {},
   "source": [
    "So, if a tree has $n$ nodes, how high can the root be? (the hight of the root node is the hight of the tree).\n",
    "\n",
    "Well, this depends. In the worst case we could have a completely unbalanced tree, where each node only has one child (for example, only left children) which is not Nil. So the tree would be more like a linked list. \n",
    "\n",
    "In this case:\n",
    "\n",
    "```\n",
    "Height(Tree) = n\n",
    "```"
   ]
  },
  {
   "cell_type": "markdown",
   "id": "b4f17c6b-bd3a-40b9-909f-08272f013a1d",
   "metadata": {},
   "source": [
    "On the other hand, in the best case, we have a completely balanced tree, where each of the nodes has two internal nodes (children) which are not Nil, except for the ones at the very end which have two Nil children.\n",
    "\n",
    "In this case, the geometric sumation of defining the height is:\n",
    "\n",
    "$$2^0 + 2^1 + 2^2 ... + 2^n = n$$\n",
    "$$2^h - 1 = n$$\n",
    "$$h = \\log_2(n+1)$$"
   ]
  },
  {
   "cell_type": "markdown",
   "id": "d96a772f-693f-4989-a749-2312ab8a30d3",
   "metadata": {},
   "source": [
    "In other words the best case scenario the height of a tree with $n$ nodes is:\n",
    "\n",
    "$$n(\\log_2n)$$"
   ]
  },
  {
   "cell_type": "markdown",
   "id": "0aa5f186-b52f-41c1-8881-34395c086905",
   "metadata": {},
   "source": [
    "This is called a perfectly balanced tree.\n",
    "\n",
    "Most trees are going to have some kind of imbalance between highly imbalanced and perfectly balanced, so we can define the height of a tree with $n$ nodes as being in the range between $\\log_2n$ and $n$.\n",
    "\n",
    "This is a very big range."
   ]
  },
  {
   "cell_type": "markdown",
   "id": "ee500662-b323-45f0-b2f3-dc4c3ca342de",
   "metadata": {},
   "source": [
    "So for example, if we have a tree where $n = 2^18$, which is about a million nodes, the height would be between 18 and one million, which does not give us a lot of useful information."
   ]
  },
  {
   "cell_type": "markdown",
   "id": "48ffb275-4b9f-4042-99b0-f3322774cc1b",
   "metadata": {},
   "source": [
    "#### Find ####"
   ]
  },
  {
   "cell_type": "markdown",
   "id": "cfe43c5f-0aaa-4003-845d-6ed38f30edd8",
   "metadata": {},
   "source": [
    "The simplest operation in a BST is to find an element. In this case, we would enter a key and search the tree for that key or to return `-1` in case the key is not found. How do we do that?"
   ]
  },
  {
   "cell_type": "markdown",
   "id": "212b961a-fb3c-468d-8425-94fbeae0319a",
   "metadata": {},
   "source": [
    "# TBC #"
   ]
  },
  {
   "cell_type": "code",
   "execution_count": null,
   "id": "531ab305-1c44-40eb-a459-4cd5c5e110f7",
   "metadata": {},
   "outputs": [],
   "source": []
  },
  {
   "cell_type": "code",
   "execution_count": null,
   "id": "26714590-e188-4408-9cda-1a7bcebcd5e8",
   "metadata": {},
   "outputs": [],
   "source": []
  }
 ],
 "metadata": {
  "kernelspec": {
   "display_name": "Programming",
   "language": "python",
   "name": "programming"
  },
  "language_info": {
   "codemirror_mode": {
    "name": "ipython",
    "version": 3
   },
   "file_extension": ".py",
   "mimetype": "text/x-python",
   "name": "python",
   "nbconvert_exporter": "python",
   "pygments_lexer": "ipython3",
   "version": "3.9.5"
  }
 },
 "nbformat": 4,
 "nbformat_minor": 5
}
