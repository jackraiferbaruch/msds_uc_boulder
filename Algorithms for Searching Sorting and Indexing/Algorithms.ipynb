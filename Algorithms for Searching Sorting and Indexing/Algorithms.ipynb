{
 "cells": [
  {
   "cell_type": "markdown",
   "id": "9d0cbc12-2872-48b6-9670-a3e42f206f3b",
   "metadata": {},
   "source": [
    "### What is an Algorithm ###"
   ]
  },
  {
   "cell_type": "markdown",
   "id": "b500ff6c-fd4c-40b4-84b9-4246396ae533",
   "metadata": {},
   "source": [
    "An algorithm is a computational procedure. \n",
    "\n",
    "Imagine it like a box where you input something and it gives you an output. So for example, if we create an algorithm that recieves two numbers and it outputs the product (multiplication) of said two numbers:\n",
    "\n",
    "```\n",
    "Input: a and b\n",
    "Algorithm: return the product of a times b.\n",
    "Output: the product of a times b\n",
    "```\n",
    "\n",
    "This would allow us to input two numbers anytime and get the product without having to code multiplications every time we need them. "
   ]
  },
  {
   "cell_type": "markdown",
   "id": "d7ea9fd6-ba43-4e9b-9548-1aca859c2d65",
   "metadata": {},
   "source": [
    "Of course, we can build algorithms that are more complex to do more interesting things, like for example, calculating the area of a triangle or a square. And yes, in a way, mathematical formulas for geometry are great examples of algorithms, although we need to follow the steps of a formula, they are still specific steps where you input the right numbers and can output the right solution.\n",
    "\n",
    "With computers, we now have a much bigger need for algorithms, more and more complex ones as computational power increases and it is much more easily available in the hands of billions of people. Now we can do amazing things with algorithms, from finding an address to automating complex processes."
   ]
  },
  {
   "cell_type": "markdown",
   "id": "73a9d404-6944-4734-a247-a9d360667541",
   "metadata": {},
   "source": [
    "#### Algorithms as a Technology ####"
   ]
  },
  {
   "cell_type": "markdown",
   "id": "1257e473-1713-4471-95e9-b87aa316a38e",
   "metadata": {},
   "source": [
    "Today we depend on complex algorithms for many things that we do. For example, finding a good italian restaurant close to us, using google, which builds indexes (hash tables) that use geographical locations and the GPS in your phone to find Italian Restaurants close to you with some information on each of them. And all this happens behind the scenes.\n",
    "\n",
    "The same thing happens with Waze, it uses algorithms to find the best possible route from your location wo where you want to go. In airports, there are algorithms that manage gate assignments for planes after they land. Also assigning interns to hospitals depending on the need and wants of both parts. \n",
    "\n",
    "As time pases and more and more technology is available and used, more algorithms will be built to solve complex problem, and improved over and over again, to improve small and big parts of our lives."
   ]
  },
  {
   "cell_type": "markdown",
   "id": "449fc367-ec8f-4949-9700-82bfa50dbf54",
   "metadata": {},
   "source": [
    "#### Sorting Algorithms ####"
   ]
  },
  {
   "cell_type": "markdown",
   "id": "42348e33-1a8f-4d14-a66b-34e81f20fd39",
   "metadata": {},
   "source": [
    "One of the most common needs in the world of information is sorting. After all, it is a los easier and faster to find information that is ordered instead of unorderly. \n",
    "\n",
    "Hence, having algorithms that are ordered, weather alphabetically, by index or specific measure (a number).\n",
    "\n",
    "Sorting algorithms are specifically made to do this, they look to sort collections of objects or information in a particular way to as to be able to work with them better."
   ]
  },
  {
   "cell_type": "markdown",
   "id": "7bea59c3-6a3d-4214-86c9-61635ed4eb18",
   "metadata": {},
   "source": [
    "So, the sorting problem looks to take an unsorted collection of things, such as:\n",
    "\n",
    "$$[a_1, a_2, a_3, ..., a_n]$$\n",
    "\n",
    "And return a collection that is ordered in a particular way:\n",
    "\n",
    "$$[\\hat{a}_{[1]}, \\hat{a}_{[2]}, \\hat{a}_{[3]}, ..., \\hat{a}_{[n]}]$$"
   ]
  },
  {
   "cell_type": "markdown",
   "id": "157c5a95-0c3e-4808-a654-a1a6389ce1d3",
   "metadata": {},
   "source": [
    "And where it allways meets the aprticular rule that all the elements in the unordered collection must be the same as the elements in the ordered collection (in other words, all that changes is the order). In other words:\n",
    "\n",
    "$$\\{a_1, a_2, a_3, ..., a_n\\} = \\{\\hat{a}_{[1]}, \\hat{a}_{[2]}, \\hat{a}_{[3]}, ..., \\hat{a}_{[n]}\\}$$"
   ]
  },
  {
   "cell_type": "markdown",
   "id": "2379ad05-2bc8-4b62-8b0e-34cbbf394f32",
   "metadata": {},
   "source": [
    "The way you sort them, depends on the collection. For example, if they are numbers, we can sort them by acending or decending order. If they are strings, we can sort them in lexical order. We can also define the specific way something gets ordered depending on what we need.\n",
    "\n",
    "The challenge, is that today we have big data, meaning we have a lot of information that needs to be sorted, and to do this we need efficient algorithms that can achieve not just sorting a collection, but doing so in the most efficient and less resource intensive manner. This is what we call efficient algorithms."
   ]
  },
  {
   "cell_type": "markdown",
   "id": "39425d01-ff22-495e-98d3-ef295f116641",
   "metadata": {},
   "source": [
    "The most common sorting algorithms are:\n",
    "* Insertion Sort\n",
    "* Bubble Sort\n",
    "* Merge Sort\n",
    "* Heap Sorth\n",
    "* Quicksort\n",
    "\n",
    "Also, there are other combination sorts like Timsort (that combines insertion sort and quicksort), which is considered state of the art, that mix the above sorting algorithms in interesting ways."
   ]
  },
  {
   "cell_type": "markdown",
   "id": "48fec987-3151-4db5-8c01-48cf1f0d8a93",
   "metadata": {},
   "source": [
    "#### Insertion Sort ####\n",
    "\n",
    "This is the most basic sorting algorithm.\n",
    "\n",
    "The idea of insertion sort is to move one element at a time and place it in the correct order in the collection.\n",
    "\n",
    "So for example, if we had the following array already partially sorted:\n",
    "\n",
    "$$[1, 2, 4, 7, 3, 6, 5, 0]$$"
   ]
  },
  {
   "cell_type": "markdown",
   "id": "9a9b19b5-e51e-4b22-ae1e-b277e7dbf6d4",
   "metadata": {},
   "source": [
    "As we can see, the fist 4 elements `[1, 2, 4, 7]]` are sorted, so the next step would be to insert the fifth element, `[3]` into the right order. This means that we have to move the number `3` one step at a time, like this:\n",
    "\n",
    "$$[1, 2, 4, 3, 7, 6, 5, 0]$$\n",
    "$$[1, 2, 3, 4, 7, 6, 5, 0]$$"
   ]
  },
  {
   "cell_type": "markdown",
   "id": "e28f4380-6e32-4aa0-b7d3-285929b06467",
   "metadata": {},
   "source": [
    "In other words, firs we swaped `3` with `7`, then `3` with `4` and since the next numbers was `2`, which is smaller than `3` we now know it is in the right place."
   ]
  },
  {
   "cell_type": "markdown",
   "id": "26f70721-9fa7-4ff0-b7b6-d5774db26f39",
   "metadata": {},
   "source": [
    "The way to manage this is to start from the left, and using indexes to define where the sorted area is located and what is the next number to work on.\n",
    "\n",
    "In pseudocode, for a collection `A`, we would write something like this:\n",
    "\n",
    "```\n",
    "for j = 2 to A.length\n",
    "    key = A[j]\n",
    "    // insert A[j] into the sorted sequence A[1...j-1]\n",
    "    i = j-1\n",
    "    while i > 0 and A[i] > key\n",
    "        A[i+1] = A[i]\n",
    "        i = i-1\n",
    "    A[i+1] = key\n",
    "```\n",
    "\n"
   ]
  },
  {
   "cell_type": "code",
   "execution_count": null,
   "id": "be507016-37d9-4493-952a-55afeb223bd1",
   "metadata": {},
   "outputs": [],
   "source": []
  }
 ],
 "metadata": {
  "kernelspec": {
   "display_name": "Programming",
   "language": "python",
   "name": "programming"
  },
  "language_info": {
   "codemirror_mode": {
    "name": "ipython",
    "version": 3
   },
   "file_extension": ".py",
   "mimetype": "text/x-python",
   "name": "python",
   "nbconvert_exporter": "python",
   "pygments_lexer": "ipython3",
   "version": "3.9.5"
  }
 },
 "nbformat": 4,
 "nbformat_minor": 5
}
