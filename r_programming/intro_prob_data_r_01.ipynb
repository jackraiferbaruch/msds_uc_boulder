{
 "cells": [
  {
   "cell_type": "markdown",
   "id": "a34b20db-3339-428c-9907-5256086e012e",
   "metadata": {},
   "source": [
    "## Introduction to Data / Data Basics ##\n",
    "\n",
    "#### Observations ####\n",
    "\n",
    "When analizyng data, for example on a data table or a data frame, each row is what is called an observation, each observation contains a certain ammount of variables, for example, age, gender, and others. Each set of variables in this case (or a row), represents one observation.\n",
    "\n",
    "#### Variables ####\n",
    "\n",
    "There are two types of variables:\n",
    "\n",
    "**Numerical**: Variables that take the shape of a number, which are sensible to arithmetic operations. Such as speed, temperature, age, and similar.\n",
    "\n",
    "- Continuous: Numerical variables that can take any value within a given range, for esample height or temperature.\n",
    "\n",
    "- Discreet: Numerical variables within a specific set of values, for example, number of cars in a houshold or number of bedrooms in a house. Values that can only be whole numbers are considered discreet values.\n",
    "\n",
    "**Categorical**: Qualitative variables that tell us someting about one particular observation. For example gender, race, country of birth and the like. These are not sensible to arithmetic operations. They can be represented by numbers, but these numbers representa a particular category and not an actual number.\n",
    "\n",
    "- Ordinal: Categorical variables that have a level, for example, how satisfied a client.\n",
    "\n",
    "- Regular Categorical: Simple categorical values that have no inherent level between them. For example, male or female, drinks coffee or does not drink coffee."
   ]
  },
  {
   "cell_type": "markdown",
   "id": "ff148810-f6ea-42eb-b4cd-233f68c19bbc",
   "metadata": {},
   "source": [
    "#### Observational Studies & Experiments ####\n",
    "\n",
    "**Observational Studies**: Studies in which data is collected in such a way that it does not with how the data arises, in other words, we observe. We can only establish associations (correlations) between the variables we observe.\n",
    "\n",
    "- Retrospective: Studies that use data from the past (previously recorded data).\n",
    "\n",
    "- Prospective: Studies where data is collected during the study.\n",
    "\n",
    "**Experiments**: Subjects are randomly assigned to treatments to try and establish causal connections.\n",
    "\n",
    "**Confounding Variable**: A third, unknown variable that acts as the causing agent of two otherwise unrelated variables and lead us to incorrectly assume there is causation between those two unrelated variables.\n",
    "\n",
    "Correlation does not imply causation.\n",
    "\n",
    "Observational studies allow us to only generate observations of correlation, while experiments allow us to find the causation."
   ]
  },
  {
   "cell_type": "markdown",
   "id": "bb6318d6-2b32-4689-b6f1-e65d2bbc8af6",
   "metadata": {},
   "source": [
    "### Sampling and Sources of Bias ###\n",
    "\n",
    "#### Census vs. Sample ####\n",
    "\n",
    "**Census**: Geting information from all of the population we want to study.\n",
    "\n",
    "**Sample**: Taking information from a representative sample of the population to study.\n",
    "\n",
    "Although data from a census would be ideal most of the time, it is cost and time prohibitive most of the time as well, and might sometimes be a bad idea (like parts of the population not being easy to track or get information from, such as illigal immigrants, and because populations tend to be dynamic and not static).\n",
    "\n",
    "As an example, imagine we are cooking soup. Eating the whole soup to check for saltiness is not an option, hence we do some **exploratory** analysis by tasting a small sample of the soup, we then decide it needs more salt, hence we are making an **inference** about the whole soup from the sample. For this to actually be a good inference, the sample we took has to a **representative sample** of the whole soup. If we have been cooking the soup correctly, it will be, but if we have not been stirring, or have not given it enough heat or cooking time, ingredients may be unmixed and then our sample will not be representative of the whole soup.\n",
    "\n",
    "#### Sources of Bias ####\n",
    "\n",
    "**Convenience Sampling**: When individuals who are more easily accessible are more likely to be included in the sample. Like only sampling people from a particular neighborhood instead of the whole city, or only people who visit a particular coffee shop.\n",
    "\n",
    "**Non-Response**: When only a non-rendom fraction of the randomly sampled people respond to the survey such that the sample is no longer representative of the population. For example, in official surveys, people from lower socioeconomic standing are less likely to respond.\n",
    "\n",
    "**Voluntary Response**: When sample consists of people who volunteer to respond because they have strong opinions about the issue at hand. This applies to most opinion polls, since there is no random sample.\n",
    "\n",
    "#### Sampling Methods #### \n",
    "\n",
    "**Simple Random Sample (SRS)**: Each case (subject) is equally likely to be selected.\n",
    "\n",
    "**Startified Sample**: We first divide the propulation into homogenous strata, then randommly sample from each startum. For example, we devide a group of people into males and females and then randomly sample from each group.\n",
    "\n",
    "**Cluster Sample**: We divide the population into cluster, and randomly sample a few clusters, then we sample all observations within the selected clusters.\n",
    "\n",
    "**Multistage Sample**: Just like a cluster sample, but instead of sampling all observations within a cluster, we randomly sample only a few of them. \n",
    "\n",
    "Main reasons to choose from the sampling methods is economical (cost and time)."
   ]
  },
  {
   "cell_type": "markdown",
   "id": "d9132583-4c5f-4342-a218-8ce471f9ff80",
   "metadata": {},
   "source": [
    "### Experimental Design ###\n",
    "\n",
    "#### Principles of Experimental Design ####\n",
    "\n",
    "**1. Control**: Compare treatment of interest group to control group.\n",
    "\n",
    "**2. Randomize**: Randomly assign subjects to treatments.\n",
    "\n",
    "**3. Replicate**: Collect a sufficiently large sample or replicate the entire study.\n",
    "\n",
    "**4. Block**: Block for variables known or suspected to affect the outcome.\n",
    "\n",
    "#### Experimental Design Terminology ####\n",
    "\n",
    "**Explanatory Variable**: Also called factors, are conditions we can impose on experimental units.\n",
    "\n",
    "**Blocking Variable**: Are characteristics that the experimental units come with that we woul like to control for. It is similar to stratifying but used when assigning instead of when sampling.\n",
    "\n",
    "**Placebo**: Fake treatment often used as the control group for medical studies.\n",
    "\n",
    "**Placebo Effect**: When subjects experiment change despite being on the placebo.\n",
    "\n",
    "**Blinding**: When experimental units do not know if they are in the treatment or control group.\n",
    "\n",
    "**Double-Blind**: When neither the experimental units nor the researchers know the group assignment."
   ]
  },
  {
   "cell_type": "markdown",
   "id": "4de689ec-3ddd-48ef-aad1-57e13c32c871",
   "metadata": {},
   "source": [
    "### Random Sampling and Random Assignment ###\n",
    "\n",
    "**Random Sampling**: When each unit within a population has the same probability of being selected for the sample. In these cases the results are generalizable to the whole population.\n",
    "\n",
    "**Random Assignment**: Only occurs in experimental settings, when units in the sample are randomly assigned to the different treatments (including the control group). When doing random assignments we make sure we control for blocking variables. These allows us to make causal conclusions.\n",
    "\n",
    "In the following table we can see how random sampling and random assignment work together."
   ]
  },
  {
   "cell_type": "markdown",
   "id": "ff8dcf87-fa14-4818-a80e-f66420532335",
   "metadata": {},
   "source": [
    "|   | **Random Assignment**  | **No Random Assignment**  |   |\n",
    "|---|---|---|---|\n",
    "| **Random Sampling**  | Causal and Generalizable  | Not Causal but Generalizable  | **Generalizability**  |\n",
    "| **No Random Sampling**  | Causal but not Generalizable  | Neither Causal nor Generalizable  | **No Generalizability**  |\n",
    "|   | **Causation**  | **Association**  |   |"
   ]
  },
  {
   "cell_type": "markdown",
   "id": "ade524dd-9a09-4254-a07d-f23efc561440",
   "metadata": {},
   "source": []
  }
 ],
 "metadata": {
  "kernelspec": {
   "display_name": "R",
   "language": "R",
   "name": "ir"
  },
  "language_info": {
   "codemirror_mode": "r",
   "file_extension": ".r",
   "mimetype": "text/x-r-source",
   "name": "R",
   "pygments_lexer": "r",
   "version": "3.6.1"
  }
 },
 "nbformat": 4,
 "nbformat_minor": 5
}
