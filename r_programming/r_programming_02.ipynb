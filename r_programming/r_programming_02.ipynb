{
 "cells": [
  {
   "cell_type": "markdown",
   "id": "2436710c-a509-4451-9f7f-c31f9fc0cd7b",
   "metadata": {},
   "source": [
    "### R Programming 2 ###\n",
    "\n",
    "#### Control Structures in R ###\n",
    "\n",
    "Control structures allow us to control the flow of execution of the program, depending on runtime conditions. Common structures are:\n",
    "\n",
    "- `if`, `else`: Testing for a condition.\n",
    "- `for`: execute a loop a fixed number of times.\n",
    "- `while`: execute a loop while a condition is true.\n",
    "- `repeat`: execute an infinite loop.\n",
    "- `break`: break out of the execution of a loop.\n",
    "- `next`: skip an iteration of a loop.\n",
    "- `return`: exit a function.\n",
    "\n",
    "#### If-Else ####\n",
    "\n",
    "These conditional structures look like this in R:\n",
    "\n",
    "```\n",
    "if(<condition>) {\n",
    "        ## do something\n",
    "} else {\n",
    "        ## do something else\n",
    "}\n",
    "```\n",
    "\n",
    "If we have more than two conditions, we use the `else if` conditional like this:\n",
    "\n",
    "```\n",
    "if(<condition>) {\n",
    "        ## do something\n",
    "} else if {\n",
    "        ## do some other thing\n",
    "} else {\n",
    "        ## do something else\n",
    "}\n",
    "```\n",
    "\n",
    "Here are a couple of actual and valid if/else structures:"
   ]
  },
  {
   "cell_type": "code",
   "execution_count": 12,
   "id": "9c13fa3b-0b58-4691-b1f5-ee54e220af71",
   "metadata": {},
   "outputs": [
    {
     "data": {
      "text/html": [
       "10"
      ],
      "text/latex": [
       "10"
      ],
      "text/markdown": [
       "10"
      ],
      "text/plain": [
       "[1] 10"
      ]
     },
     "metadata": {},
     "output_type": "display_data"
    }
   ],
   "source": [
    "#x <- 2\n",
    "x <- 5\n",
    "if(x>3) {\n",
    "        y <- 10\n",
    "} else {\n",
    "        y <- 0\n",
    "}\n",
    "y"
   ]
  },
  {
   "cell_type": "code",
   "execution_count": 13,
   "id": "4a90b9fe-acf6-43fb-8917-75d13b39eb0e",
   "metadata": {},
   "outputs": [
    {
     "data": {
      "text/html": [
       "10"
      ],
      "text/latex": [
       "10"
      ],
      "text/markdown": [
       "10"
      ],
      "text/plain": [
       "[1] 10"
      ]
     },
     "metadata": {},
     "output_type": "display_data"
    }
   ],
   "source": [
    "y <- if(x > 3){\n",
    "        10\n",
    "} else {\n",
    "        0\n",
    "}\n",
    "y"
   ]
  },
  {
   "cell_type": "markdown",
   "id": "c599ecb7-953e-4330-8095-5d24444836b9",
   "metadata": {},
   "source": [
    "The second examples shows that we can assign if/else structures into a variable.\n",
    "\n",
    "#### For Loops ####\n",
    "\n",
    "For loops take an iterator variable and assign it successive values from a sequence or vector. For loops are most commonly used to iterating over the elements of an object (list, vector, etc.)"
   ]
  },
  {
   "cell_type": "code",
   "execution_count": 14,
   "id": "5ceff247-7df0-419a-8adc-46caf5dea2ac",
   "metadata": {},
   "outputs": [
    {
     "name": "stdout",
     "output_type": "stream",
     "text": [
      "[1] 1\n",
      "[1] 2\n",
      "[1] 3\n",
      "[1] 4\n",
      "[1] 5\n",
      "[1] 6\n",
      "[1] 7\n",
      "[1] 8\n",
      "[1] 9\n",
      "[1] 10\n"
     ]
    }
   ],
   "source": [
    "for(i in 1:10) {\n",
    "        print(i)\n",
    "}"
   ]
  },
  {
   "cell_type": "markdown",
   "id": "8fdc7666-a8a5-4fd6-8199-a61e3a84b1f0",
   "metadata": {},
   "source": [
    "This loop takes the `i` variable and gives it a new value on each iteratio, from 1 all the way to 10 and prints each iteration. Once it reaches 10, the loop is over and it exists to the next block of code.\n",
    "\n",
    "R is very flexible in the way we can write our loops, so for example, the following 4 loops have the same behavior over the vector `x`."
   ]
  },
  {
   "cell_type": "code",
   "execution_count": 15,
   "id": "eb613edd-812a-4dd0-ae52-2a44eb5f516e",
   "metadata": {},
   "outputs": [],
   "source": [
    "x <- c('a', 'b', 'c', 'd')"
   ]
  },
  {
   "cell_type": "code",
   "execution_count": 17,
   "id": "a98f1b99-06ed-4430-8fb6-77c62a53be7c",
   "metadata": {},
   "outputs": [
    {
     "name": "stdout",
     "output_type": "stream",
     "text": [
      "[1] \"a\"\n",
      "[1] \"b\"\n",
      "[1] \"c\"\n",
      "[1] \"d\"\n"
     ]
    }
   ],
   "source": [
    "for(i in 1:4) {\n",
    "        print(x[i])\n",
    "}"
   ]
  },
  {
   "cell_type": "code",
   "execution_count": 18,
   "id": "b82df417-e9cb-4723-932a-f57010c19ce8",
   "metadata": {},
   "outputs": [
    {
     "name": "stdout",
     "output_type": "stream",
     "text": [
      "[1] \"a\"\n",
      "[1] \"b\"\n",
      "[1] \"c\"\n",
      "[1] \"d\"\n"
     ]
    }
   ],
   "source": [
    "for(i in seq_along(x)) {\n",
    "        print(x[i])\n",
    "}"
   ]
  },
  {
   "cell_type": "code",
   "execution_count": 19,
   "id": "1ab3f3aa-ca3b-49b1-97a2-39a6c19fb80e",
   "metadata": {},
   "outputs": [
    {
     "name": "stdout",
     "output_type": "stream",
     "text": [
      "[1] \"a\"\n",
      "[1] \"b\"\n",
      "[1] \"c\"\n",
      "[1] \"d\"\n"
     ]
    }
   ],
   "source": [
    "for(letter in x) {\n",
    "        print(letter)\n",
    "}"
   ]
  },
  {
   "cell_type": "code",
   "execution_count": 20,
   "id": "8c2c2923-2446-4f28-aded-40e539ceae86",
   "metadata": {},
   "outputs": [
    {
     "name": "stdout",
     "output_type": "stream",
     "text": [
      "[1] \"a\"\n",
      "[1] \"b\"\n",
      "[1] \"c\"\n",
      "[1] \"d\"\n"
     ]
    }
   ],
   "source": [
    "for(i in 1:4) print(x[i])"
   ]
  },
  {
   "cell_type": "markdown",
   "id": "a18e899c-abb5-44a0-b3e8-956b997df313",
   "metadata": {},
   "source": [
    "The last loop is a shorthand version of the first one, without the curly braces, that can be used when we only have one expression in our loop.\n",
    "\n",
    "For loops can also be nested, meaning there can be a for loop inside another for loop."
   ]
  },
  {
   "cell_type": "code",
   "execution_count": 21,
   "id": "93d54509-c1b2-40ca-9116-6d56f0f9f6c7",
   "metadata": {},
   "outputs": [],
   "source": [
    "x <- matrix(1:6, 2, 3)"
   ]
  },
  {
   "cell_type": "code",
   "execution_count": 22,
   "id": "751d8bd0-545c-41f0-8d58-fcd1b203fa11",
   "metadata": {},
   "outputs": [
    {
     "name": "stdout",
     "output_type": "stream",
     "text": [
      "[1] 1\n",
      "[1] 3\n",
      "[1] 5\n",
      "[1] 2\n",
      "[1] 4\n",
      "[1] 6\n"
     ]
    }
   ],
   "source": [
    "for(i in seq_len(nrow(x))) {\n",
    "        for(j in seq_len(ncol(x))) {\n",
    "                print(x[i,j])\n",
    "        }\n",
    "}"
   ]
  },
  {
   "cell_type": "markdown",
   "id": "21214a22-79a4-45cd-beab-2d287adf2d1f",
   "metadata": {},
   "source": [
    "In the above we are creating a for loop that iterates over the rows of the matrix `x`, and within it a second one that iterates over the columns of the matrix `x`, and then prints the value at the specific row/column combination.\n",
    "\n",
    "We have to be very careful when nesting, as each nested loop becomes more complex, and going beyond 2 or 3 levels can make the code difficult to read or understand (and very unwieldly to debug if someting goes wrong).\n",
    "\n",
    "#### While Loops ####\n",
    "\n",
    "A while loop on then other hand, will keep running as long as the value of a specific logical expression is TRUE. In other words they begin by testing a condition, if true, they run the loop, then it checks again, if still true, they run again. When the check for the logical condition becomes false, it breaks out of the loop and into the next block of code."
   ]
  },
  {
   "cell_type": "code",
   "execution_count": 24,
   "id": "516f5652-4726-48e1-859f-2a75c107d0a0",
   "metadata": {},
   "outputs": [
    {
     "name": "stdout",
     "output_type": "stream",
     "text": [
      "[1] 0\n",
      "[1] 1\n",
      "[1] 2\n",
      "[1] 3\n",
      "[1] 4\n",
      "[1] 5\n"
     ]
    }
   ],
   "source": [
    "count <- 0\n",
    "\n",
    "while(count <= 5) {\n",
    "        print(count)\n",
    "        count <- count +1\n",
    "}"
   ]
  },
  {
   "cell_type": "markdown",
   "id": "316160f9-24a8-49c7-8db1-73b811e15d79",
   "metadata": {},
   "source": [
    "The above loop checks to see if the value of `count` is smaller or equal to 5, if true, it runs the loop which prints the value of `count` and then adds one to it. Once the value of `count` becomes 6, the condition `count` smaller or equal to 5 is false, hence the loop breaks.\n",
    "\n",
    "Handle with care because a badly written while loop can become an infinite loop and make the progam get stuck. For example if we forget to write the change to the `count` variable in the above example, we would get a loop that keeps printing the value 0 infinitely (until we manually break the runtime).\n",
    "\n",
    "While loops can also check for multiple conditions:"
   ]
  },
  {
   "cell_type": "code",
   "execution_count": 36,
   "id": "ea46ec25-21a6-4b0a-8215-928a7124c452",
   "metadata": {},
   "outputs": [
    {
     "name": "stdout",
     "output_type": "stream",
     "text": [
      "[1] 5\n",
      "[1] 4\n",
      "[1] 5\n",
      "[1] 6\n",
      "[1] 5\n",
      "[1] 4\n",
      "[1] 5\n",
      "[1] 6\n",
      "[1] 7\n",
      "[1] 8\n",
      "[1] 9\n",
      "[1] 10\n"
     ]
    }
   ],
   "source": [
    "z <- 5\n",
    "\n",
    "while(z >= 3 && z <= 10) {\n",
    "        print(z)\n",
    "    coin <- rbinom(1, 1, 0.5)\n",
    "    \n",
    "    if (coin == 1) { ## Random Walk\n",
    "            z <- z + 1\n",
    "    } else {\n",
    "            z <- z - 1\n",
    "    }\n",
    "}"
   ]
  },
  {
   "cell_type": "markdown",
   "id": "42dcc6dc-bf2a-493e-852a-2a2b7e033c8f",
   "metadata": {},
   "source": [
    "The above code is a basic implementation of the `Random Walk` algorithm. It checks for 2 conditions, that variable `z` is bigger than 2 and smaller than 11. And then randomly adds or subtracts one from `z`. If you run the loop multiple times you will get different results and the loop will run for a different numver of iterations.\n",
    "\n",
    "#### Repeat ####\n",
    "\n",
    "Repeat initiates an infinite loop on purspose, hence it is not commonly used, although it can have some uses. The only way to exit a repeat loop is using break, so make sure it is always implemented if you do use it, like solutions to certain types of complex equations. A valid repeat loop would look something like this (**warning:** the `computeEstimate()` function does not exist).\n",
    "\n",
    "```\n",
    "x0 <- 1\n",
    "tol <- 1e-8\n",
    "\n",
    "repeat {\n",
    "        x1 <- computeEstimate()\n",
    "        \n",
    "        if(abs(x1 - x0) < tol) {\n",
    "           break\n",
    "       } else {\n",
    "           x0 <- x1\n",
    "       }\n",
    "}\n",
    "```\n",
    "\n",
    "The use of repeat requires a function that will at some point meet the conditions to break, hence it is a bit dangerous since we have no garantee it will ever stop. It is always better to set hard limits to iterations and report weather the formulation converged (met the conditions) or not, and then re run with a different limit.\n",
    "\n",
    "#### Next and Return ####\n",
    "\n",
    "Next is used any time we want to skip an iteration (according to a certain condition), so that we do not waste computing power on something that is not useful for our purposes."
   ]
  },
  {
   "cell_type": "code",
   "execution_count": 38,
   "id": "37266cb1-5a63-4632-8dfa-43157bf01ad7",
   "metadata": {},
   "outputs": [
    {
     "name": "stdout",
     "output_type": "stream",
     "text": [
      "[1] 6\n",
      "[1] 7\n",
      "[1] 8\n",
      "[1] 9\n",
      "[1] 10\n"
     ]
    }
   ],
   "source": [
    "for(i in 1:10) {\n",
    "        if (i<=5) {\n",
    "            ## Skip the first 5 iterations\n",
    "            next\n",
    "        }\n",
    "        print(i)\n",
    "}"
   ]
  },
  {
   "cell_type": "markdown",
   "id": "037c3d18-4909-4560-8617-4c024f0dad44",
   "metadata": {},
   "source": [
    "In the above, we set a conditional to check if the current number in the iteration was smaller than 6, if it was, we skiped the next part of the code, once the iteration reached the number 6, we proceed to the next part of the code and print the numbers.\n",
    "\n",
    "Another example, let's say we had a vector of unknown random numbers from 1 to 10 but only wanted to print the numbers from 1 to 5."
   ]
  },
  {
   "cell_type": "code",
   "execution_count": 40,
   "id": "ea92c723-993d-4dab-abb2-1a02307eb4ab",
   "metadata": {},
   "outputs": [
    {
     "name": "stdout",
     "output_type": "stream",
     "text": [
      "[1] 5\n",
      "[1] 2\n",
      "[1] 4\n",
      "[1] 4\n",
      "[1] 2\n",
      "[1] 1\n",
      "[1] 3\n"
     ]
    }
   ],
   "source": [
    "x <- c(5,2,7,9,10,4,10,7,8,4,2,8,1,10,3)\n",
    "\n",
    "for(num in x) {\n",
    "        if (num>5) {\n",
    "            ## Skip the first 5 iterations\n",
    "            next\n",
    "        }\n",
    "        print(num)\n",
    "}"
   ]
  },
  {
   "cell_type": "markdown",
   "id": "d16c556e-02d6-403a-8020-a149cfceb69c",
   "metadata": {},
   "source": [
    "The loop ignores all numbers bigger than 5 and just prints the ones thta are less than or equal to 5.\n",
    "\n",
    "Return on the other hand is a common way to exit a loop, but appart from breaking the execution of a loop it returns a given value. This is very common when we start building functions.\n",
    "\n",
    "#### Control Structures Summary ####\n",
    "\n",
    "- Control structures like `if` and `else` allow us to control the flow of an R program.\n",
    "- Infinite loops should generally be avoided, even when theoretically correct.\n",
    "- These structures are useful for writing programs, not so much for interactive command line work."
   ]
  },
  {
   "cell_type": "code",
   "execution_count": null,
   "id": "5b75e44c-80cd-48e0-b7e7-363565976c03",
   "metadata": {},
   "outputs": [],
   "source": []
  }
 ],
 "metadata": {
  "kernelspec": {
   "display_name": "R",
   "language": "R",
   "name": "ir"
  },
  "language_info": {
   "codemirror_mode": "r",
   "file_extension": ".r",
   "mimetype": "text/x-r-source",
   "name": "R",
   "pygments_lexer": "r",
   "version": "3.6.1"
  }
 },
 "nbformat": 4,
 "nbformat_minor": 5
}
