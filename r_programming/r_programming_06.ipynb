{
 "cells": [
  {
   "cell_type": "markdown",
   "id": "23695bb6-a62e-4953-8ae8-da6fd94a7ebb",
   "metadata": {},
   "source": [
    "## Simulation and Profiling ##\n",
    "\n",
    "#### str Function ####\n",
    "\n",
    "The `str()` function allows us to compactly display the internal structure of an R Object.\n",
    "\n",
    "- The abreviation str stands for structure (not tobe confused with string as used in other languages).\n",
    "- It is a diagnostic function and an alternative to `summary()`.\n",
    "- It is especially useful for compactly displaying the abreviated contents of lists (and nested lists).\n",
    "- Gives us roughly one line per basic object.\n",
    "- The function of `str()` is to answer the question: What's in this object?\n",
    "\n",
    "For esaample, we can use it on itself, to tell us it is a function that takes in other arguments if needed by the object."
   ]
  },
  {
   "cell_type": "code",
   "execution_count": 6,
   "id": "58c3bfbf-ccf9-4653-a0ea-b7a6ac51c820",
   "metadata": {},
   "outputs": [
    {
     "name": "stdout",
     "output_type": "stream",
     "text": [
      "function (object, ...)  \n"
     ]
    }
   ],
   "source": [
    "str(str)"
   ]
  },
  {
   "cell_type": "markdown",
   "id": "ba477443-21eb-4ac9-afa0-f25d2623489c",
   "metadata": {},
   "source": [
    "We can use it on functions like the `lm`, Linear Model, object. It tells us it is a function, and all of the variables."
   ]
  },
  {
   "cell_type": "code",
   "execution_count": 7,
   "id": "e67113df-1f58-449a-a462-b7c47e1abaec",
   "metadata": {},
   "outputs": [
    {
     "name": "stdout",
     "output_type": "stream",
     "text": [
      "function (formula, data, subset, weights, na.action, method = \"qr\", model = TRUE, \n",
      "    x = FALSE, y = FALSE, qr = TRUE, singular.ok = TRUE, contrasts = NULL, \n",
      "    offset, ...)  \n"
     ]
    }
   ],
   "source": [
    "str(lm)"
   ]
  },
  {
   "cell_type": "code",
   "execution_count": 8,
   "id": "c9b8c76a-e8dc-4d35-9848-0d93f6ae54a6",
   "metadata": {},
   "outputs": [
    {
     "name": "stdout",
     "output_type": "stream",
     "text": [
      "function (name, pos = -1L, envir = as.environment(pos), all.names = FALSE, \n",
      "    pattern, sorted = TRUE)  \n"
     ]
    }
   ],
   "source": [
    "str(ls)"
   ]
  },
  {
   "cell_type": "markdown",
   "id": "52fa5fef-ffce-411f-908c-690dd4418472",
   "metadata": {},
   "source": [
    "It will also tell us all about objects we have created:"
   ]
  },
  {
   "cell_type": "code",
   "execution_count": 9,
   "id": "0275e6aa-bbe6-46bf-b68e-22579ec780bf",
   "metadata": {},
   "outputs": [],
   "source": [
    "x <- rnorm(100, 2, 4)"
   ]
  },
  {
   "cell_type": "code",
   "execution_count": 10,
   "id": "b4ed967c-fa80-4386-8f10-1a5a01bbcb0a",
   "metadata": {},
   "outputs": [
    {
     "name": "stdout",
     "output_type": "stream",
     "text": [
      " num [1:100] -4.04 -5.15 0.46 4.27 -1.31 ...\n"
     ]
    }
   ],
   "source": [
    "str(x)"
   ]
  },
  {
   "cell_type": "markdown",
   "id": "b195b1d9-94e0-402f-925a-a31af3cbae85",
   "metadata": {},
   "source": [
    "`str()` tells us that `x` is a number vector with 100 numbers and the first five.\n",
    "\n",
    "`summary()` on the other hand, gives us great information on number objects:"
   ]
  },
  {
   "cell_type": "code",
   "execution_count": 11,
   "id": "3da7cd7f-ec93-43da-9415-d0ed902c0019",
   "metadata": {},
   "outputs": [
    {
     "data": {
      "text/plain": [
       "   Min. 1st Qu.  Median    Mean 3rd Qu.    Max. \n",
       " -7.379  -0.863   1.729   1.669   4.268  10.181 "
      ]
     },
     "metadata": {},
     "output_type": "display_data"
    }
   ],
   "source": [
    "summary(x)"
   ]
  },
  {
   "cell_type": "code",
   "execution_count": 12,
   "id": "64c69c78-18d4-41c6-8fe4-4e9161ebfd50",
   "metadata": {},
   "outputs": [],
   "source": [
    "f <- gl(40, 10)"
   ]
  },
  {
   "cell_type": "code",
   "execution_count": 13,
   "id": "a73ef917-b090-4f92-a73c-6ab015c95623",
   "metadata": {},
   "outputs": [
    {
     "name": "stdout",
     "output_type": "stream",
     "text": [
      " Factor w/ 40 levels \"1\",\"2\",\"3\",\"4\",..: 1 1 1 1 1 1 1 1 1 1 ...\n"
     ]
    }
   ],
   "source": [
    "str(f)"
   ]
  },
  {
   "cell_type": "markdown",
   "id": "10d24f41-9e19-4e49-bb70-a78fe481511c",
   "metadata": {},
   "source": [
    "If we create a factor, `str()` tells us it is actually a factor, the number of levels, the first few labels and the first few objects in the factor."
   ]
  },
  {
   "cell_type": "code",
   "execution_count": 16,
   "id": "90c241b8-61ba-4485-bbc4-6ddcea5fddd1",
   "metadata": {},
   "outputs": [],
   "source": [
    "library(datasets)"
   ]
  },
  {
   "cell_type": "code",
   "execution_count": 18,
   "id": "e745b692-1caa-4c25-b624-8a08835e3145",
   "metadata": {},
   "outputs": [
    {
     "data": {
      "text/html": [
       "<table>\n",
       "<thead><tr><th scope=col>Ozone</th><th scope=col>Solar.R</th><th scope=col>Wind</th><th scope=col>Temp</th><th scope=col>Month</th><th scope=col>Day</th></tr></thead>\n",
       "<tbody>\n",
       "\t<tr><td>41  </td><td>190 </td><td> 7.4</td><td>67  </td><td>5   </td><td>1   </td></tr>\n",
       "\t<tr><td>36  </td><td>118 </td><td> 8.0</td><td>72  </td><td>5   </td><td>2   </td></tr>\n",
       "\t<tr><td>12  </td><td>149 </td><td>12.6</td><td>74  </td><td>5   </td><td>3   </td></tr>\n",
       "\t<tr><td>18  </td><td>313 </td><td>11.5</td><td>62  </td><td>5   </td><td>4   </td></tr>\n",
       "\t<tr><td>NA  </td><td> NA </td><td>14.3</td><td>56  </td><td>5   </td><td>5   </td></tr>\n",
       "\t<tr><td>28  </td><td> NA </td><td>14.9</td><td>66  </td><td>5   </td><td>6   </td></tr>\n",
       "</tbody>\n",
       "</table>\n"
      ],
      "text/latex": [
       "\\begin{tabular}{r|llllll}\n",
       " Ozone & Solar.R & Wind & Temp & Month & Day\\\\\n",
       "\\hline\n",
       "\t 41   & 190  &  7.4 & 67   & 5    & 1   \\\\\n",
       "\t 36   & 118  &  8.0 & 72   & 5    & 2   \\\\\n",
       "\t 12   & 149  & 12.6 & 74   & 5    & 3   \\\\\n",
       "\t 18   & 313  & 11.5 & 62   & 5    & 4   \\\\\n",
       "\t NA   &  NA  & 14.3 & 56   & 5    & 5   \\\\\n",
       "\t 28   &  NA  & 14.9 & 66   & 5    & 6   \\\\\n",
       "\\end{tabular}\n"
      ],
      "text/markdown": [
       "\n",
       "| Ozone | Solar.R | Wind | Temp | Month | Day |\n",
       "|---|---|---|---|---|---|\n",
       "| 41   | 190  |  7.4 | 67   | 5    | 1    |\n",
       "| 36   | 118  |  8.0 | 72   | 5    | 2    |\n",
       "| 12   | 149  | 12.6 | 74   | 5    | 3    |\n",
       "| 18   | 313  | 11.5 | 62   | 5    | 4    |\n",
       "| NA   |  NA  | 14.3 | 56   | 5    | 5    |\n",
       "| 28   |  NA  | 14.9 | 66   | 5    | 6    |\n",
       "\n"
      ],
      "text/plain": [
       "  Ozone Solar.R Wind Temp Month Day\n",
       "1 41    190      7.4 67   5     1  \n",
       "2 36    118      8.0 72   5     2  \n",
       "3 12    149     12.6 74   5     3  \n",
       "4 18    313     11.5 62   5     4  \n",
       "5 NA     NA     14.3 56   5     5  \n",
       "6 28     NA     14.9 66   5     6  "
      ]
     },
     "metadata": {},
     "output_type": "display_data"
    }
   ],
   "source": [
    "head(airquality)"
   ]
  },
  {
   "cell_type": "code",
   "execution_count": 19,
   "id": "737a35a9-ce02-47e0-a133-1e4bb6632d0a",
   "metadata": {},
   "outputs": [
    {
     "name": "stdout",
     "output_type": "stream",
     "text": [
      "'data.frame':\t153 obs. of  6 variables:\n",
      " $ Ozone  : int  41 36 12 18 NA 28 23 19 8 NA ...\n",
      " $ Solar.R: int  190 118 149 313 NA NA 299 99 19 194 ...\n",
      " $ Wind   : num  7.4 8 12.6 11.5 14.3 14.9 8.6 13.8 20.1 8.6 ...\n",
      " $ Temp   : int  67 72 74 62 56 66 65 59 61 69 ...\n",
      " $ Month  : int  5 5 5 5 5 5 5 5 5 5 ...\n",
      " $ Day    : int  1 2 3 4 5 6 7 8 9 10 ...\n"
     ]
    }
   ],
   "source": [
    "str(airquality)"
   ]
  },
  {
   "cell_type": "markdown",
   "id": "e148f6f5-01e1-4638-ad88-643044fbd248",
   "metadata": {},
   "source": [
    "Here it gives us a great summary on the structure of a data frame. The fact it is a data frame, the number of observations, the number of variables, the names and types of the variables and examples of the first few elements of each variable."
   ]
  },
  {
   "cell_type": "code",
   "execution_count": 20,
   "id": "26b0effe-063d-4ee1-b4f4-4cefd227b833",
   "metadata": {},
   "outputs": [],
   "source": [
    "m <- matrix(rnorm(100), 10, 10)"
   ]
  },
  {
   "cell_type": "code",
   "execution_count": 21,
   "id": "362d337b-4d69-4b9a-9318-bfd3c4163d88",
   "metadata": {},
   "outputs": [
    {
     "name": "stdout",
     "output_type": "stream",
     "text": [
      " num [1:10, 1:10] -0.862 -0.11 -0.689 0.718 1.434 ...\n"
     ]
    }
   ],
   "source": [
    "str(m)"
   ]
  },
  {
   "cell_type": "markdown",
   "id": "8a157fb1-f82f-44d9-b768-9222ce8c4d7f",
   "metadata": {},
   "source": [
    "With a matrix, it tells us the dimensions, 10 by 10, and the first few elements."
   ]
  },
  {
   "cell_type": "code",
   "execution_count": 22,
   "id": "a664906b-d416-4ae4-aceb-a19ed8bac6be",
   "metadata": {},
   "outputs": [],
   "source": [
    "s <- split(airquality, airquality$Month)"
   ]
  },
  {
   "cell_type": "code",
   "execution_count": 23,
   "id": "9f9e4285-f5ef-4493-b0b6-92b66a5b4351",
   "metadata": {},
   "outputs": [
    {
     "name": "stdout",
     "output_type": "stream",
     "text": [
      "List of 5\n",
      " $ 5:'data.frame':\t31 obs. of  6 variables:\n",
      "  ..$ Ozone  : int [1:31] 41 36 12 18 NA 28 23 19 8 NA ...\n",
      "  ..$ Solar.R: int [1:31] 190 118 149 313 NA NA 299 99 19 194 ...\n",
      "  ..$ Wind   : num [1:31] 7.4 8 12.6 11.5 14.3 14.9 8.6 13.8 20.1 8.6 ...\n",
      "  ..$ Temp   : int [1:31] 67 72 74 62 56 66 65 59 61 69 ...\n",
      "  ..$ Month  : int [1:31] 5 5 5 5 5 5 5 5 5 5 ...\n",
      "  ..$ Day    : int [1:31] 1 2 3 4 5 6 7 8 9 10 ...\n",
      " $ 6:'data.frame':\t30 obs. of  6 variables:\n",
      "  ..$ Ozone  : int [1:30] NA NA NA NA NA NA 29 NA 71 39 ...\n",
      "  ..$ Solar.R: int [1:30] 286 287 242 186 220 264 127 273 291 323 ...\n",
      "  ..$ Wind   : num [1:30] 8.6 9.7 16.1 9.2 8.6 14.3 9.7 6.9 13.8 11.5 ...\n",
      "  ..$ Temp   : int [1:30] 78 74 67 84 85 79 82 87 90 87 ...\n",
      "  ..$ Month  : int [1:30] 6 6 6 6 6 6 6 6 6 6 ...\n",
      "  ..$ Day    : int [1:30] 1 2 3 4 5 6 7 8 9 10 ...\n",
      " $ 7:'data.frame':\t31 obs. of  6 variables:\n",
      "  ..$ Ozone  : int [1:31] 135 49 32 NA 64 40 77 97 97 85 ...\n",
      "  ..$ Solar.R: int [1:31] 269 248 236 101 175 314 276 267 272 175 ...\n",
      "  ..$ Wind   : num [1:31] 4.1 9.2 9.2 10.9 4.6 10.9 5.1 6.3 5.7 7.4 ...\n",
      "  ..$ Temp   : int [1:31] 84 85 81 84 83 83 88 92 92 89 ...\n",
      "  ..$ Month  : int [1:31] 7 7 7 7 7 7 7 7 7 7 ...\n",
      "  ..$ Day    : int [1:31] 1 2 3 4 5 6 7 8 9 10 ...\n",
      " $ 8:'data.frame':\t31 obs. of  6 variables:\n",
      "  ..$ Ozone  : int [1:31] 39 9 16 78 35 66 122 89 110 NA ...\n",
      "  ..$ Solar.R: int [1:31] 83 24 77 NA NA NA 255 229 207 222 ...\n",
      "  ..$ Wind   : num [1:31] 6.9 13.8 7.4 6.9 7.4 4.6 4 10.3 8 8.6 ...\n",
      "  ..$ Temp   : int [1:31] 81 81 82 86 85 87 89 90 90 92 ...\n",
      "  ..$ Month  : int [1:31] 8 8 8 8 8 8 8 8 8 8 ...\n",
      "  ..$ Day    : int [1:31] 1 2 3 4 5 6 7 8 9 10 ...\n",
      " $ 9:'data.frame':\t30 obs. of  6 variables:\n",
      "  ..$ Ozone  : int [1:30] 96 78 73 91 47 32 20 23 21 24 ...\n",
      "  ..$ Solar.R: int [1:30] 167 197 183 189 95 92 252 220 230 259 ...\n",
      "  ..$ Wind   : num [1:30] 6.9 5.1 2.8 4.6 7.4 15.5 10.9 10.3 10.9 9.7 ...\n",
      "  ..$ Temp   : int [1:30] 91 92 93 93 87 84 80 78 75 73 ...\n",
      "  ..$ Month  : int [1:30] 9 9 9 9 9 9 9 9 9 9 ...\n",
      "  ..$ Day    : int [1:30] 1 2 3 4 5 6 7 8 9 10 ...\n"
     ]
    }
   ],
   "source": [
    "str(s)"
   ]
  },
  {
   "cell_type": "markdown",
   "id": "a8ca6027-5739-4e35-8ed3-a837c341a52a",
   "metadata": {},
   "source": [
    "Since this split of the data frame is a list of data frames, it gives you the basic data frame info on each of the dataframes in the list."
   ]
  },
  {
   "cell_type": "markdown",
   "id": "8b8a1bf3-dc7d-4d2b-9f5a-323ae17807df",
   "metadata": {},
   "source": [
    "#### Simulation - Generating Random Numbers ####\n",
    "\n",
    "Here are a few functions which are useful for generating random numbers to use in simulations:\n",
    "\n",
    "- `rnorm()`: Generates random Normal variates with a given mean and standar deviation. \n",
    "- `dnorm()`: Evaluate the Normal probability density (with a given mean and SD) at a point (or vector of points).\n",
    "- `pnorm()`: Evaluate the cumulative distribution function for a Normal distribution.\n",
    "- `rpois()`: Generate random Poisson variates with a given rate."
   ]
  },
  {
   "cell_type": "code",
   "execution_count": 37,
   "id": "8f18f45b-52ab-4851-9c58-6f294274c8cb",
   "metadata": {},
   "outputs": [
    {
     "name": "stdout",
     "output_type": "stream",
     "text": [
      " [1]  9.373345 10.436312  9.455984  9.516807 10.797314 10.054565  9.091928\n",
      " [8] 11.091436  9.727913  7.815249\n"
     ]
    },
    {
     "data": {
      "text/plain": [
       "   Min. 1st Qu.  Median    Mean 3rd Qu.    Max. \n",
       "  7.815   9.394   9.622   9.736  10.341  11.091 "
      ]
     },
     "metadata": {},
     "output_type": "display_data"
    }
   ],
   "source": [
    "rn <- (rnorm(10, 10, 1))\n",
    "print(rn)\n",
    "summary(rn)"
   ]
  },
  {
   "cell_type": "code",
   "execution_count": 29,
   "id": "0eaaed88-dc76-477f-afe2-97a26bc22272",
   "metadata": {},
   "outputs": [
    {
     "name": "stdout",
     "output_type": "stream",
     "text": [
      "[1] 0.3989423\n"
     ]
    }
   ],
   "source": [
    "dn <- dnorm(10, 10, 1)\n",
    "print(dn)"
   ]
  },
  {
   "cell_type": "code",
   "execution_count": 31,
   "id": "645875f1-852b-468a-82bd-99619629d861",
   "metadata": {},
   "outputs": [
    {
     "name": "stdout",
     "output_type": "stream",
     "text": [
      "[1] 0.5\n"
     ]
    }
   ],
   "source": [
    "pn <- pnorm(10, 10, 1)\n",
    "print(pn)"
   ]
  },
  {
   "cell_type": "code",
   "execution_count": 36,
   "id": "931650f9-3cd5-456c-8ef1-2b2847e31c55",
   "metadata": {},
   "outputs": [
    {
     "name": "stdout",
     "output_type": "stream",
     "text": [
      " [1] 16 16 20 31 15 30 20 14 13 31\n"
     ]
    }
   ],
   "source": [
    "rp <- rpois(10, x+20)\n",
    "print(rp)"
   ]
  },
  {
   "cell_type": "markdown",
   "id": "b0919341-db5e-4785-b207-bae208a6125c",
   "metadata": {},
   "source": [
    "#### Generating Random Numbers ####\n",
    "\n",
    "Probability distribution functionsusually have four functions associated with them, prefiexed with an $a$:\n",
    "\n",
    "- $d$ for density.\n",
    "- $r$ for random number generation.\n",
    "- $p$ for cummulative distribution.\n",
    "- $q$ for quantile function.\n",
    "\n",
    "Important, if we want to be able to replicate a random set of numbers we can use the `set.seed()` before we use the number generators, this ensures we will get the same set every time we generate numbers with the same seed:"
   ]
  },
  {
   "cell_type": "code",
   "execution_count": 39,
   "id": "1ebcd6af-d688-425c-b7b6-1e4736395493",
   "metadata": {},
   "outputs": [
    {
     "name": "stdout",
     "output_type": "stream",
     "text": [
      "[1] -0.9861909 -0.3948552  1.3085153  0.9547600 -2.1330788\n"
     ]
    }
   ],
   "source": [
    "set.seed(52)\n",
    "x <- rnorm(5)\n",
    "print(x)"
   ]
  },
  {
   "cell_type": "code",
   "execution_count": 40,
   "id": "48107ad5-25d8-43b4-b968-f2538d023e7f",
   "metadata": {},
   "outputs": [
    {
     "name": "stdout",
     "output_type": "stream",
     "text": [
      "[1] -0.9861909 -0.3948552  1.3085153  0.9547600 -2.1330788\n"
     ]
    }
   ],
   "source": [
    "set.seed(52)\n",
    "y <- rnorm(5)\n",
    "print(y)"
   ]
  },
  {
   "cell_type": "markdown",
   "id": "e42245dd-27c0-48cf-ba22-05d39dfabb14",
   "metadata": {},
   "source": [
    "When running simulations it is VERY IMPORTANT to use the seed when we run simulations so it can be replicated."
   ]
  },
  {
   "cell_type": "markdown",
   "id": "1df9a199-8a22-42c1-a071-f6f81525c4c5",
   "metadata": {},
   "source": [
    "#### Simulating a Linear Model ####\n",
    "\n",
    "Suppose we want to simulate the following linear model:\n",
    "\n",
    "$$ y \\beta_{0} + \\beta_{1}x + \\epsilon$$\n",
    "\n",
    "Where $\\epsilon ~ N(0,2^2)$.\n",
    "\n",
    "Assume $x ~ N(0,1^2)$, $\\beta_{0} = 0,5$ and $\\beta_{1} = 2$\n",
    "\n",
    "This is how we can do it:"
   ]
  },
  {
   "cell_type": "code",
   "execution_count": 43,
   "id": "a8932a6d-4915-4e14-b131-effc5613b8e5",
   "metadata": {},
   "outputs": [],
   "source": [
    "set.seed(20) # for replicability\n",
    "x <- rnorm(100)\n",
    "e <- rnorm(100, 0, 2)\n",
    "y <- 0.5 + 2 * x + e"
   ]
  },
  {
   "cell_type": "code",
   "execution_count": 44,
   "id": "36341b70-06c2-4b8b-b5f1-e37f4a56d487",
   "metadata": {},
   "outputs": [
    {
     "data": {
      "text/plain": [
       "   Min. 1st Qu.  Median    Mean 3rd Qu.    Max. \n",
       "-6.4084 -1.5402  0.6789  0.6893  2.9303  6.5052 "
      ]
     },
     "metadata": {},
     "output_type": "display_data"
    }
   ],
   "source": [
    "summary(y)"
   ]
  },
  {
   "cell_type": "code",
   "execution_count": 45,
   "id": "f67385d5-0adf-4a46-9572-ffe8767f7bd6",
   "metadata": {},
   "outputs": [
    {
     "data": {
      "image/png": "[encoded data removed]",
      "text/plain": [
       "plot without title"
      ]
     },
     "metadata": {},
     "output_type": "display_data"
    }
   ],
   "source": [
    "plot(x,y)"
   ]
  },
  {
   "cell_type": "markdown",
   "id": "ce4f0365-5138-43c4-946b-6c7b9a6d72f9",
   "metadata": {},
   "source": [
    "#### Generating Random Numbers from a Linear Model ####\n",
    "\n",
    "What is, in our above example, x is binary?"
   ]
  },
  {
   "cell_type": "code",
   "execution_count": 46,
   "id": "095d7b72-9e9a-4e7d-9bc5-1a048ac8d44e",
   "metadata": {},
   "outputs": [],
   "source": [
    "set.seed(10)\n",
    "x <- rbinom(100, 1, 0.5)\n",
    "e <- rnorm(100, 0, 2)\n",
    "y <- 0.5 + 2 * x + e"
   ]
  },
  {
   "cell_type": "code",
   "execution_count": 47,
   "id": "faefca2b-bd54-4f18-8a9f-edadfebf9957",
   "metadata": {},
   "outputs": [
    {
     "data": {
      "text/plain": [
       "   Min. 1st Qu.  Median    Mean 3rd Qu.    Max. \n",
       "-3.4936 -0.1409  1.5767  1.4322  2.8397  6.9410 "
      ]
     },
     "metadata": {},
     "output_type": "display_data"
    }
   ],
   "source": [
    "summary(y)"
   ]
  },
  {
   "cell_type": "code",
   "execution_count": 48,
   "id": "6a07f30b-5874-4218-9eff-f96df14fe004",
   "metadata": {},
   "outputs": [
    {
     "data": {
      "image/png": "[encoded data removed]",
      "text/plain": [
       "plot without title"
      ]
     },
     "metadata": {},
     "output_type": "display_data"
    }
   ],
   "source": [
    "plot(x,y)"
   ]
  },
  {
   "cell_type": "markdown",
   "id": "94a1a60d-15b8-4668-bdb2-e1c39ffbb20d",
   "metadata": {},
   "source": [
    "#### Generating Random Numbers from a Generalized Linear Model ####\n",
    "\n",
    "Now suppose we want to simulate a Poisson model where:\n",
    "\n",
    "$$ Y ~ Poisson(\\mu) $$\n",
    "\n",
    "$$ log \\mu = \\beta_{0} + \\beta_{1}x$$\n",
    "\n",
    "Where $ \\beta_(0) = 0.5  $ and $ \\beta_{1} = 0.3 $\n",
    "\n",
    "We need to use `rpois()` function for this:"
   ]
  },
  {
   "cell_type": "code",
   "execution_count": 49,
   "id": "1b4445ba-a602-498e-a940-7ea91bb39674",
   "metadata": {},
   "outputs": [],
   "source": [
    "set.seed(1)\n",
    "x <- rnorm(100)\n",
    "log.mu <- 0.5 + 0.3 * x\n",
    "y <- rpois(100, exp(log.mu))"
   ]
  },
  {
   "cell_type": "code",
   "execution_count": 50,
   "id": "eccc139b-8276-4b25-ba38-79c67fe7383a",
   "metadata": {},
   "outputs": [
    {
     "data": {
      "text/plain": [
       "   Min. 1st Qu.  Median    Mean 3rd Qu.    Max. \n",
       "   0.00    1.00    1.00    1.55    2.00    6.00 "
      ]
     },
     "metadata": {},
     "output_type": "display_data"
    }
   ],
   "source": [
    "summary(y)"
   ]
  },
  {
   "cell_type": "code",
   "execution_count": 51,
   "id": "94cbde08-41b3-46af-b210-9bdfad58360b",
   "metadata": {},
   "outputs": [
    {
     "data": {
      "image/png": "[encoded data removed]",
      "text/plain": [
       "plot without title"
      ]
     },
     "metadata": {},
     "output_type": "display_data"
    }
   ],
   "source": [
    "plot(x,y)"
   ]
  },
  {
   "cell_type": "markdown",
   "id": "e6348f3a-dd36-46c9-8fd4-fc69d65ba75a",
   "metadata": {},
   "source": [
    "#### Random Sampling ####\n",
    "\n",
    "The `sample()` function, allows us to get a random sampling from any specified set of objects, allowing us to sample from arbitrary distributions."
   ]
  },
  {
   "cell_type": "code",
   "execution_count": 53,
   "id": "25ab9c06-faf7-4f8e-a44b-b1e6311c4c2f",
   "metadata": {},
   "outputs": [
    {
     "name": "stdout",
     "output_type": "stream",
     "text": [
      "[1] 9 4 7 1\n"
     ]
    }
   ],
   "source": [
    "set.seed(1)\n",
    "print(sample(1:10, 4))"
   ]
  },
  {
   "cell_type": "code",
   "execution_count": 54,
   "id": "2833ad73-53c1-49ff-b86c-09df86ecd88b",
   "metadata": {},
   "outputs": [
    {
     "name": "stdout",
     "output_type": "stream",
     "text": [
      "[1] 2 7 3 6\n"
     ]
    }
   ],
   "source": [
    "print(sample(1:10, 4))"
   ]
  },
  {
   "cell_type": "code",
   "execution_count": 55,
   "id": "533abbde-5f6d-459e-8838-5e6f5fa5ea1d",
   "metadata": {},
   "outputs": [
    {
     "name": "stdout",
     "output_type": "stream",
     "text": [
      "[1] \"r\" \"s\" \"a\" \"u\" \"w\"\n"
     ]
    }
   ],
   "source": [
    "print(sample(letters, 5))"
   ]
  },
  {
   "cell_type": "code",
   "execution_count": 57,
   "id": "90d6222d-9b51-4971-b9fc-6f6e03ab3116",
   "metadata": {},
   "outputs": [
    {
     "name": "stdout",
     "output_type": "stream",
     "text": [
      " [1]  5 10  2  8  6  1  4  3  9  7\n"
     ]
    }
   ],
   "source": [
    "print(sample(1:10)) # Permutation"
   ]
  },
  {
   "cell_type": "code",
   "execution_count": 59,
   "id": "62c1e838-60e0-4129-ba67-79c11efed18b",
   "metadata": {},
   "outputs": [
    {
     "name": "stdout",
     "output_type": "stream",
     "text": [
      " [1]  6  9  8  9  7  8  6 10  7  3\n"
     ]
    }
   ],
   "source": [
    "print(sample(1:10, replace=TRUE)) # Sample with replacement"
   ]
  }
 ],
 "metadata": {
  "kernelspec": {
   "display_name": "R",
   "language": "R",
   "name": "ir"
  },
  "language_info": {
   "codemirror_mode": "r",
   "file_extension": ".r",
   "mimetype": "text/x-r-source",
   "name": "R",
   "pygments_lexer": "r",
   "version": "3.6.1"
  }
 },
 "nbformat": 4,
 "nbformat_minor": 5
}
