{
 "cells": [
  {
   "cell_type": "code",
   "execution_count": 130,
   "id": "b5da1754-1dc8-4a57-97eb-0f742eae0517",
   "metadata": {},
   "outputs": [],
   "source": [
    "# Function to calculate the means of pollutants from specdata depending on the id of the observations. Ignore NA\n",
    "# NaN values\n",
    "\n",
    "pollutantmean <- function(directory, pollutant, id = 1:332) {\n",
    "        d <- paste(directory, '/', sep = '')\n",
    "        means <- c()\n",
    "        for(n in id) {\n",
    "            if(n < 10) {\n",
    "                file <- paste(d, '00', as.character(n), '.csv', sep = '')\n",
    "            }\n",
    "            else if(n < 100) {\n",
    "                file <- paste(d, '0', as.character(n), '.csv', sep = '')\n",
    "            }\n",
    "            else {\n",
    "                file <- paste(d, as.character(n), '.csv', sep = '')\n",
    "            }\n",
    "            \n",
    "            data <- read.csv(file)\n",
    "            #print(mean(data[pollutant][!is.na(data[pollutant])]))\n",
    "            means <- append(means, mean(data[pollutant][!is.na(data[pollutant])]))\n",
    "            \n",
    "        }\n",
    "        \n",
    "        means <- means[!is.nan(means)]\n",
    "        sum(means) / length(means)\n",
    "}"
   ]
  },
  {
   "cell_type": "code",
   "execution_count": 156,
   "id": "62b8104b-e1c5-4742-8b02-05601a945c4c",
   "metadata": {},
   "outputs": [
    {
     "data": {
      "text/html": [
       "3.80677068014076"
      ],
      "text/latex": [
       "3.80677068014076"
      ],
      "text/markdown": [
       "3.80677068014076"
      ],
      "text/plain": [
       "[1] 3.806771"
      ]
     },
     "metadata": {},
     "output_type": "display_data"
    }
   ],
   "source": [
    "pollutantmean('specdata', 'sulfate', id = 1:10)"
   ]
  },
  {
   "cell_type": "code",
   "execution_count": 151,
   "id": "fe593e53-922f-47bb-b78f-e98f648e1fb4",
   "metadata": {},
   "outputs": [],
   "source": [
    "complete <- function(directory, id = 1:322){\n",
    "    d <- paste(directory, '/', sep = '')\n",
    "    idn <- c(id)\n",
    "    nobs <- c()\n",
    "    for(n in id) {\n",
    "            if(n < 10) {\n",
    "                file <- paste(d, '00', as.character(n), '.csv', sep = '')\n",
    "            }\n",
    "            else if(n < 100) {\n",
    "                file <- paste(d, '0', as.character(n), '.csv', sep = '')\n",
    "            }\n",
    "            else {\n",
    "                file <- paste(d, as.character(n), '.csv', sep = '')\n",
    "            }\n",
    "            \n",
    "            data <- read.csv(file)\n",
    "            nobs <- append(nobs, length(data[!is.na(data)]))\n",
    "        }\n",
    "    \n",
    "    data.frame(idn, nobs)\n",
    "}"
   ]
  },
  {
   "cell_type": "code",
   "execution_count": 154,
   "id": "9dea381e-0935-4561-934c-4b7c5d5abe13",
   "metadata": {},
   "outputs": [
    {
     "data": {
      "text/html": [
       "<table>\n",
       "<thead><tr><th scope=col>idn</th><th scope=col>nobs</th></tr></thead>\n",
       "<tbody>\n",
       "\t<tr><td> 99 </td><td>8265</td></tr>\n",
       "\t<tr><td>100 </td><td>2403</td></tr>\n",
       "\t<tr><td>101 </td><td>1588</td></tr>\n",
       "</tbody>\n",
       "</table>\n"
      ],
      "text/latex": [
       "\\begin{tabular}{r|ll}\n",
       " idn & nobs\\\\\n",
       "\\hline\n",
       "\t  99  & 8265\\\\\n",
       "\t 100  & 2403\\\\\n",
       "\t 101  & 1588\\\\\n",
       "\\end{tabular}\n"
      ],
      "text/markdown": [
       "\n",
       "| idn | nobs |\n",
       "|---|---|\n",
       "|  99  | 8265 |\n",
       "| 100  | 2403 |\n",
       "| 101  | 1588 |\n",
       "\n"
      ],
      "text/plain": [
       "  idn nobs\n",
       "1  99 8265\n",
       "2 100 2403\n",
       "3 101 1588"
      ]
     },
     "metadata": {},
     "output_type": "display_data"
    }
   ],
   "source": [
    "complete('specdata', id = 99:101)"
   ]
  },
  {
   "cell_type": "code",
   "execution_count": null,
   "id": "a933e666-3d46-42a5-aff2-c1ab2eba85b5",
   "metadata": {},
   "outputs": [],
   "source": [
    "corr <- function(directory, threshold = 0){\n",
    "    d <- paste(directory, '/', sep = '')\n",
    "}"
   ]
  }
 ],
 "metadata": {
  "kernelspec": {
   "display_name": "R",
   "language": "R",
   "name": "ir"
  },
  "language_info": {
   "codemirror_mode": "r",
   "file_extension": ".r",
   "mimetype": "text/x-r-source",
   "name": "R",
   "pygments_lexer": "r",
   "version": "3.6.1"
  }
 },
 "nbformat": 4,
 "nbformat_minor": 5
}
