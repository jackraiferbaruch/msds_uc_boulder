{
 "cells": [
  {
   "cell_type": "markdown",
   "id": "3b8b685e-7595-41c1-b308-4a4bc1f01a0d",
   "metadata": {},
   "source": [
    "## R Functions ##\n",
    "\n",
    "Functions are the basic building blocks of programming. It allows us to avoid having to code the same thing over and over again, and make our code re usable and easier to manage when creating larger programs.\n",
    "\n",
    "Here is a basic function that adds two numbers together so that we can see how they are structred in R:"
   ]
  },
  {
   "cell_type": "code",
   "execution_count": 1,
   "id": "864d27b4-f42a-4776-b295-0e38fc27e9be",
   "metadata": {},
   "outputs": [],
   "source": [
    "add_num <- function(x, y) {\n",
    "        x + y\n",
    "}"
   ]
  },
  {
   "cell_type": "code",
   "execution_count": 2,
   "id": "5e6de2b8-37ac-4da4-898b-ef22ee48b0db",
   "metadata": {},
   "outputs": [
    {
     "data": {
      "text/html": [
       "11"
      ],
      "text/latex": [
       "11"
      ],
      "text/markdown": [
       "11"
      ],
      "text/plain": [
       "[1] 11"
      ]
     },
     "metadata": {},
     "output_type": "display_data"
    }
   ],
   "source": [
    "add_num(5,6)"
   ]
  },
  {
   "cell_type": "code",
   "execution_count": 3,
   "id": "1ba5787c-51f8-451b-a80b-2dca144123c8",
   "metadata": {},
   "outputs": [
    {
     "data": {
      "text/html": [
       "1073"
      ],
      "text/latex": [
       "1073"
      ],
      "text/markdown": [
       "1073"
      ],
      "text/plain": [
       "[1] 1073"
      ]
     },
     "metadata": {},
     "output_type": "display_data"
    }
   ],
   "source": [
    "add_num(251,822)"
   ]
  },
  {
   "cell_type": "markdown",
   "id": "5e039276-cd81-4f22-8b95-ac8837daad63",
   "metadata": {},
   "source": [
    "We define the name of the function, just like any variable, but the inside changes. We first tell R we are assigning a `function` and immediately we add in brackets the variables that the function takes, in this case `x` and `y` as placeholders for any number. The curly brakets is where we add what we want the function to actually do, in this case, add `x` and `y` together. We could add the `return` command before the instructions, but R will automatically return the last piece of the code from our function. Then we test it, and as we can any two numbers and our function will add them and return them.\n",
    "\n",
    "Now let's code a function that will take a vector, and return the values that are above a certain value (10 in this case)."
   ]
  },
  {
   "cell_type": "code",
   "execution_count": 4,
   "id": "2bd54436-16b7-4cbc-b6ac-3eb5d5f80bde",
   "metadata": {},
   "outputs": [],
   "source": [
    "above_10 <- function(x) {\n",
    "        use <- x > 10\n",
    "        x[use]\n",
    "}"
   ]
  },
  {
   "cell_type": "code",
   "execution_count": 10,
   "id": "cebe49ca-2c7b-42d1-a90d-8651beedfac2",
   "metadata": {},
   "outputs": [
    {
     "name": "stdout",
     "output_type": "stream",
     "text": [
      " [1] 11 12 13 14 15 16 17 18 19 20 21 22 23 24 25 26 27 28 29 30 31 32 33 34 35\n",
      "[26] 36 37 38 39 40 41 42 43 44 45 46 47 48 49 50\n"
     ]
    }
   ],
   "source": [
    "vec <- 1:50\n",
    "print(above_10(vec))"
   ]
  },
  {
   "cell_type": "markdown",
   "id": "e7632fe8-db33-4b52-b889-0bb80f39d64f",
   "metadata": {},
   "source": [
    "This only works for numbers above 10, what if we wanted to define that number:"
   ]
  },
  {
   "cell_type": "code",
   "execution_count": 11,
   "id": "c72fc997-cf65-4183-85d3-cf61e15967f9",
   "metadata": {},
   "outputs": [],
   "source": [
    "above <- function(x,n) {\n",
    "        use <- x > n\n",
    "        x[use]\n",
    "}"
   ]
  },
  {
   "cell_type": "code",
   "execution_count": 12,
   "id": "6d666a41-d5c1-4dfb-9ee2-fbb4491431c6",
   "metadata": {},
   "outputs": [
    {
     "name": "stdout",
     "output_type": "stream",
     "text": [
      " [1] 28 29 30 31 32 33 34 35 36 37 38 39 40 41 42 43 44 45 46 47 48 49 50\n"
     ]
    }
   ],
   "source": [
    "print(above(vec, 27))"
   ]
  },
  {
   "cell_type": "markdown",
   "id": "a49fed3c-4847-44d4-b7f7-3eb69b76e12f",
   "metadata": {},
   "source": [
    "In both cases, we are creating a `use` variable, which is just a True False vector of that tells us which numbers on our inputed vector satisfy the condition bigger than `n`. Then we ask it to return the subset of numbers which comply with that True False vector.\n",
    "\n",
    "As for more complex functions, let's say we have a matrix and we want to calculate the mean of each column."
   ]
  },
  {
   "cell_type": "code",
   "execution_count": 13,
   "id": "6c22cf98-e64d-4140-a022-285fc70c4a92",
   "metadata": {},
   "outputs": [],
   "source": [
    "columnmean <- function(m) {\n",
    "        nc <- ncol(m)\n",
    "        means <- numeric(nc)\n",
    "        for(i in 1:nc) {\n",
    "                means[i] <- mean(m[, i])\n",
    "        }\n",
    "        means\n",
    "}    "
   ]
  },
  {
   "cell_type": "code",
   "execution_count": 21,
   "id": "58e9e0c2-65e7-4498-9301-97c4ee9a52a1",
   "metadata": {},
   "outputs": [],
   "source": [
    "m1 <- matrix(rnorm(36)*100, nrow=6) # creating a random matrix of 36 numbers from -100 to 100 in 6 rows (hence 6 columns)"
   ]
  },
  {
   "cell_type": "code",
   "execution_count": 22,
   "id": "a2450798-5bbe-44ab-a3eb-69f1d6d891e1",
   "metadata": {},
   "outputs": [
    {
     "name": "stdout",
     "output_type": "stream",
     "text": [
      "[1] -75.730908 -21.827960  71.997776   1.108621  66.811140 -28.796938\n"
     ]
    }
   ],
   "source": [
    "print(columnmean(m1))"
   ]
  },
  {
   "cell_type": "markdown",
   "id": "cf11fd4b-238d-4e41-9383-0f1fcb79ab10",
   "metadata": {},
   "source": [
    "Here we created a function that takes in a matrix `m`. We created the means vector to store the means, then iterated over the numer of columns, and stored the mean of each column in our means vector and at the end we ask it to return the `means` variable.\n",
    "\n",
    "In general, functions belong to the class `function`, and we build them using the following structure:\n",
    "\n",
    "```\n",
    "f <- function(<arguments>) {\n",
    "        ## Do Something interesting\n",
    "}\n",
    "```\n",
    "\n",
    "Functions are `first class objects` which means they can be treated much like we do other objects in R. \n",
    "\n",
    "- Functions can be passed as arguments to other functions.\n",
    "- Functions can be nested so that you can define a function within another function. The return  value of a function is the last expression in the function to be evaluated.\n",
    "\n",
    "#### Function Arguments ####\n",
    "\n",
    "Functions have named arguments which can potentially have default values.\n",
    "\n",
    "- The formal arguments are the ones included in the function definition.\n",
    "- The `formals` function returns a list of all the formal arguments of a function."
   ]
  },
  {
   "cell_type": "code",
   "execution_count": 25,
   "id": "5923fb41-6691-4ee7-9ec4-ca4e161db5c9",
   "metadata": {},
   "outputs": [
    {
     "data": {
      "text/plain": [
       "$x\n",
       "\n",
       "\n",
       "$y\n",
       "\n"
      ]
     },
     "metadata": {},
     "output_type": "display_data"
    }
   ],
   "source": [
    "formals(add_num)"
   ]
  },
  {
   "cell_type": "markdown",
   "id": "415f1fe8-979f-4451-bdda-b01fc84836ef",
   "metadata": {},
   "source": [
    "- Not every function call in R makes use of all the formal arguments.\n",
    "- Function arguments can be missing or might have default values.\n",
    "\n",
    "#### Argument Matching ####\n",
    "\n",
    "R functions arguments can be matched positionally or by name. so the following calls to the function `sd` (standard deviation function), are all valid."
   ]
  },
  {
   "cell_type": "code",
   "execution_count": 27,
   "id": "303b451e-c02d-4301-8268-1a83743e89a8",
   "metadata": {},
   "outputs": [],
   "source": [
    "mydata <- rnorm(100) # 100 random numbers from -1 to 1"
   ]
  },
  {
   "cell_type": "code",
   "execution_count": 28,
   "id": "f81a0687-818d-492f-974b-8e9df245bf78",
   "metadata": {},
   "outputs": [
    {
     "data": {
      "text/html": [
       "0.910509708290843"
      ],
      "text/latex": [
       "0.910509708290843"
      ],
      "text/markdown": [
       "0.910509708290843"
      ],
      "text/plain": [
       "[1] 0.9105097"
      ]
     },
     "metadata": {},
     "output_type": "display_data"
    }
   ],
   "source": [
    "sd(mydata)"
   ]
  },
  {
   "cell_type": "code",
   "execution_count": 29,
   "id": "241075b4-a8c5-4d49-8cb6-bcc4526680ea",
   "metadata": {},
   "outputs": [
    {
     "data": {
      "text/html": [
       "0.910509708290843"
      ],
      "text/latex": [
       "0.910509708290843"
      ],
      "text/markdown": [
       "0.910509708290843"
      ],
      "text/plain": [
       "[1] 0.9105097"
      ]
     },
     "metadata": {},
     "output_type": "display_data"
    }
   ],
   "source": [
    "sd(x = mydata)"
   ]
  },
  {
   "cell_type": "code",
   "execution_count": 30,
   "id": "e742c3e7-5470-4529-8c67-ead1a1b4e647",
   "metadata": {},
   "outputs": [
    {
     "data": {
      "text/html": [
       "0.910509708290843"
      ],
      "text/latex": [
       "0.910509708290843"
      ],
      "text/markdown": [
       "0.910509708290843"
      ],
      "text/plain": [
       "[1] 0.9105097"
      ]
     },
     "metadata": {},
     "output_type": "display_data"
    }
   ],
   "source": [
    "sd(x = mydata, na.rm = FALSE)"
   ]
  },
  {
   "cell_type": "code",
   "execution_count": 31,
   "id": "59c6be76-1923-4818-9501-55ef46d620d3",
   "metadata": {},
   "outputs": [
    {
     "data": {
      "text/html": [
       "0.910509708290843"
      ],
      "text/latex": [
       "0.910509708290843"
      ],
      "text/markdown": [
       "0.910509708290843"
      ],
      "text/plain": [
       "[1] 0.9105097"
      ]
     },
     "metadata": {},
     "output_type": "display_data"
    }
   ],
   "source": [
    "sd(na.rm = FALSE, x = mydata)"
   ]
  },
  {
   "cell_type": "code",
   "execution_count": 32,
   "id": "f48c4754-816c-49ab-baf5-5021d055f1b4",
   "metadata": {},
   "outputs": [
    {
     "data": {
      "text/html": [
       "0.910509708290843"
      ],
      "text/latex": [
       "0.910509708290843"
      ],
      "text/markdown": [
       "0.910509708290843"
      ],
      "text/plain": [
       "[1] 0.9105097"
      ]
     },
     "metadata": {},
     "output_type": "display_data"
    }
   ],
   "source": [
    "sd(na.rm = FALSE, mydata)"
   ]
  },
  {
   "cell_type": "markdown",
   "id": "649add94-8330-4f17-9cb9-20247ccf1702",
   "metadata": {},
   "source": [
    "Even though it is legal, like in the last example, it is not recommended to play around with the order of the arguments.\n",
    "\n",
    "We can also mix positional matching and matching by name. When an argument is matched by name it is taken 'taken out' of the argument list and the remaining unnamed arguments are matched in the order that they are listed in the function definition."
   ]
  },
  {
   "cell_type": "code",
   "execution_count": 34,
   "id": "e84c84ce-a15c-410e-af3c-017a827360f5",
   "metadata": {},
   "outputs": [
    {
     "data": {
      "text/html": [
       "<pre class=language-r><code>function (formula, data, subset, weights, na.action, method = \"qr\", \n",
       "<span style=white-space:pre-wrap>    model = TRUE, x = FALSE, y = FALSE, qr = TRUE, singular.ok = TRUE, </span>\n",
       "<span style=white-space:pre-wrap>    contrasts = NULL, offset, ...) </span>\n",
       "NULL</code></pre>"
      ],
      "text/latex": [
       "\\begin{minted}{r}\n",
       "function (formula, data, subset, weights, na.action, method = \"qr\", \n",
       "    model = TRUE, x = FALSE, y = FALSE, qr = TRUE, singular.ok = TRUE, \n",
       "    contrasts = NULL, offset, ...) \n",
       "NULL\n",
       "\\end{minted}"
      ],
      "text/markdown": [
       "```r\n",
       "function (formula, data, subset, weights, na.action, method = \"qr\", \n",
       "    model = TRUE, x = FALSE, y = FALSE, qr = TRUE, singular.ok = TRUE, \n",
       "    contrasts = NULL, offset, ...) \n",
       "NULL\n",
       "```"
      ],
      "text/plain": [
       "function (formula, data, subset, weights, na.action, method = \"qr\", \n",
       "    model = TRUE, x = FALSE, y = FALSE, qr = TRUE, singular.ok = TRUE, \n",
       "    contrasts = NULL, offset, ...) \n",
       "NULL"
      ]
     },
     "metadata": {},
     "output_type": "display_data"
    }
   ],
   "source": [
    "args(lm) # Linear model function"
   ]
  },
  {
   "cell_type": "markdown",
   "id": "95c2442f-465b-4874-b53c-be77a9f4095d",
   "metadata": {},
   "source": [
    "This means that the two following funciton calls are equivalent:\n",
    "\n",
    "```\n",
    "lm(data = mydata, y - x, model = FALSE, 1:100)\n",
    "lm(y - x, mydata, 1:100, model = FALSE)\n",
    "```\n",
    "\n",
    "The second way to call the argument is the common and recommended one.\n",
    "\n",
    "Most of the time, named arguments are useful when working directly on the command line, especially when you have a long argument list and we want to use the defaults except for a few arguments at the end of the list.\n",
    "\n",
    "Named arguments also help if you can remember the name of the argument but not its position on the list.\n",
    "\n",
    "Function arguments can also be partially matched, as long as there are no similar named arguments. This is very useful for interactive work. \n",
    "\n",
    "The order of the operations when given arguments is:\n",
    "\n",
    "- Check for exact match for named argument\n",
    "- Check for partial match\n",
    "- Check for positional match\n",
    "\n"
   ]
  },
  {
   "cell_type": "code",
   "execution_count": null,
   "id": "de8253a5-af23-4006-9b13-395230dee46c",
   "metadata": {},
   "outputs": [],
   "source": []
  }
 ],
 "metadata": {
  "kernelspec": {
   "display_name": "R",
   "language": "R",
   "name": "ir"
  },
  "language_info": {
   "codemirror_mode": "r",
   "file_extension": ".r",
   "mimetype": "text/x-r-source",
   "name": "R",
   "pygments_lexer": "r",
   "version": "3.6.1"
  }
 },
 "nbformat": 4,
 "nbformat_minor": 5
}
