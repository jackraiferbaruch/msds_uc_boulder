{
 "cells": [
  {
   "cell_type": "markdown",
   "id": "d06102e5-694f-497e-a880-19e3d090fb64",
   "metadata": {},
   "source": [
    "## Coding Standards ##\n",
    "\n",
    "There are some basic coding standards for R, just like with other programning languages, that are considered good practice.\n",
    "\n",
    "* 1. Always save your work in text files (.txt).\n",
    "* 2. Indent your code.\n",
    "    - 4 spaces minimum, 8 spaces ideal.\n",
    "* 3. Limit the width of your code (80 columns).\n",
    "* 4. Limit the length of your functions (do only one thing). If need a function that does several things, build individual functions and combine them in one function."
   ]
  },
  {
   "cell_type": "markdown",
   "id": "2e457494-2272-4355-828f-bd735b75b6de",
   "metadata": {},
   "source": [
    "## Dates and Times in R ##\n",
    "\n",
    "R has a special representation for dates and times.\n",
    "\n",
    "- Dates are represented by `Date` classes.\n",
    "- Times are represented by the `POSTXct` and `POSIXlt` classes.\n",
    "- Dates are stored internally as the number of days since 1970-01-01 (UNIX time).\n",
    "- Times are stored internally as the number of seconds since 1970-01-01.\n",
    "\n",
    "Dates can be coerced from a string using the `as.Date()` function:"
   ]
  },
  {
   "cell_type": "code",
   "execution_count": 1,
   "id": "e72cddb3-d8b9-4d8c-a04b-d88c110708fd",
   "metadata": {},
   "outputs": [
    {
     "data": {
      "text/html": [
       "<time datetime=\"1970-01-01\">1970-01-01</time>"
      ],
      "text/latex": [
       "1970-01-01"
      ],
      "text/markdown": [
       "1970-01-01"
      ],
      "text/plain": [
       "[1] \"1970-01-01\""
      ]
     },
     "metadata": {},
     "output_type": "display_data"
    }
   ],
   "source": [
    "x <- as.Date('1970-01-01')\n",
    "x"
   ]
  },
  {
   "cell_type": "code",
   "execution_count": 3,
   "id": "b25cfb71-d371-449f-a188-34bd4afcb738",
   "metadata": {},
   "outputs": [
    {
     "data": {
      "text/html": [
       "'Date'"
      ],
      "text/latex": [
       "'Date'"
      ],
      "text/markdown": [
       "'Date'"
      ],
      "text/plain": [
       "[1] \"Date\""
      ]
     },
     "metadata": {},
     "output_type": "display_data"
    }
   ],
   "source": [
    "class(x)"
   ]
  },
  {
   "cell_type": "markdown",
   "id": "3c49af6f-74d0-46f4-8dd6-5b4d3a572c78",
   "metadata": {},
   "source": [
    "With `unclass()` we can check the time to (negative) or since (possitive) the UNIX date 1970-01-01."
   ]
  },
  {
   "cell_type": "code",
   "execution_count": 4,
   "id": "d23f14ca-8b9a-411e-81a2-4fe36d3e8c05",
   "metadata": {},
   "outputs": [
    {
     "data": {
      "text/html": [
       "0"
      ],
      "text/latex": [
       "0"
      ],
      "text/markdown": [
       "0"
      ],
      "text/plain": [
       "[1] 0"
      ]
     },
     "metadata": {},
     "output_type": "display_data"
    }
   ],
   "source": [
    "unclass(x)"
   ]
  },
  {
   "cell_type": "code",
   "execution_count": 5,
   "id": "fcbec565-2c36-48ab-9e61-4a990ca3a1af",
   "metadata": {},
   "outputs": [
    {
     "data": {
      "text/html": [
       "<time datetime=\"1970-01-10\">1970-01-10</time>"
      ],
      "text/latex": [
       "1970-01-10"
      ],
      "text/markdown": [
       "1970-01-10"
      ],
      "text/plain": [
       "[1] \"1970-01-10\""
      ]
     },
     "metadata": {},
     "output_type": "display_data"
    }
   ],
   "source": [
    "x <- as.Date('1970-01-10')\n",
    "x"
   ]
  },
  {
   "cell_type": "code",
   "execution_count": 6,
   "id": "e314db80-0a91-4ee7-8207-607064b10048",
   "metadata": {},
   "outputs": [
    {
     "data": {
      "text/html": [
       "9"
      ],
      "text/latex": [
       "9"
      ],
      "text/markdown": [
       "9"
      ],
      "text/plain": [
       "[1] 9"
      ]
     },
     "metadata": {},
     "output_type": "display_data"
    }
   ],
   "source": [
    "unclass(x)"
   ]
  },
  {
   "cell_type": "markdown",
   "id": "42b93b97-47e0-4f85-aa09-a6da3c83de1d",
   "metadata": {},
   "source": [
    "#### Times ####\n",
    "\n",
    "Times are represented using the POSIXct and POSIClt class.\n",
    "\n",
    "- POSIXct: A very large integer under then hood, useful for storing times in something like a data frame.\n",
    "- POSIClt: It is a list under the hood, and stores a bunch of other useful information like the day of the week, day of the year, month and day of the month.\n",
    "\n",
    "There are a number of generic functions that work on both dates and times:\n",
    "\n",
    "- `weekdays`: give the day of the week.\n",
    "- `months`: gives the name of the month.\n",
    "- `quarters`: gives the quarter number (eg. Q1, Q2).\n",
    "\n",
    "Times can be coerced from strings using the `as.POSIXct()` or as.`POSIClt()` functions:"
   ]
  },
  {
   "cell_type": "code",
   "execution_count": 7,
   "id": "09d493f0-0725-4eaa-8122-29ea72a587b9",
   "metadata": {},
   "outputs": [
    {
     "data": {
      "text/plain": [
       "[1] \"2022-12-05 11:10:00 IST\""
      ]
     },
     "metadata": {},
     "output_type": "display_data"
    }
   ],
   "source": [
    "x <- Sys.time()\n",
    "x"
   ]
  },
  {
   "cell_type": "code",
   "execution_count": 8,
   "id": "71312978-ff28-47de-942b-60c3e8406849",
   "metadata": {},
   "outputs": [
    {
     "data": {
      "text/plain": [
       "[1] \"2022-12-05 11:10:00 IST\""
      ]
     },
     "metadata": {},
     "output_type": "display_data"
    }
   ],
   "source": [
    "p <- as.POSIXlt(x)\n",
    "p"
   ]
  },
  {
   "cell_type": "code",
   "execution_count": 9,
   "id": "96be066a-1f54-4230-8172-49f1affaadc7",
   "metadata": {},
   "outputs": [
    {
     "data": {
      "text/html": [
       "1670231400.29784"
      ],
      "text/latex": [
       "1670231400.29784"
      ],
      "text/markdown": [
       "1670231400.29784"
      ],
      "text/plain": [
       "[1] 1670231400"
      ]
     },
     "metadata": {},
     "output_type": "display_data"
    }
   ],
   "source": [
    "unclass(x)"
   ]
  },
  {
   "cell_type": "code",
   "execution_count": 10,
   "id": "c848aec0-f9d5-448b-a567-bb400aa39949",
   "metadata": {},
   "outputs": [
    {
     "data": {
      "text/html": [
       "<dl>\n",
       "\t<dt>$sec</dt>\n",
       "\t\t<dd>0.29784107208252</dd>\n",
       "\t<dt>$min</dt>\n",
       "\t\t<dd>10</dd>\n",
       "\t<dt>$hour</dt>\n",
       "\t\t<dd>11</dd>\n",
       "\t<dt>$mday</dt>\n",
       "\t\t<dd>5</dd>\n",
       "\t<dt>$mon</dt>\n",
       "\t\t<dd>11</dd>\n",
       "\t<dt>$year</dt>\n",
       "\t\t<dd>122</dd>\n",
       "\t<dt>$wday</dt>\n",
       "\t\t<dd>1</dd>\n",
       "\t<dt>$yday</dt>\n",
       "\t\t<dd>338</dd>\n",
       "\t<dt>$isdst</dt>\n",
       "\t\t<dd>0</dd>\n",
       "\t<dt>$zone</dt>\n",
       "\t\t<dd>'IST'</dd>\n",
       "\t<dt>$gmtoff</dt>\n",
       "\t\t<dd>7200</dd>\n",
       "</dl>\n"
      ],
      "text/latex": [
       "\\begin{description}\n",
       "\\item[\\$sec] 0.29784107208252\n",
       "\\item[\\$min] 10\n",
       "\\item[\\$hour] 11\n",
       "\\item[\\$mday] 5\n",
       "\\item[\\$mon] 11\n",
       "\\item[\\$year] 122\n",
       "\\item[\\$wday] 1\n",
       "\\item[\\$yday] 338\n",
       "\\item[\\$isdst] 0\n",
       "\\item[\\$zone] 'IST'\n",
       "\\item[\\$gmtoff] 7200\n",
       "\\end{description}\n"
      ],
      "text/markdown": [
       "$sec\n",
       ":   0.29784107208252\n",
       "$min\n",
       ":   10\n",
       "$hour\n",
       ":   11\n",
       "$mday\n",
       ":   5\n",
       "$mon\n",
       ":   11\n",
       "$year\n",
       ":   122\n",
       "$wday\n",
       ":   1\n",
       "$yday\n",
       ":   338\n",
       "$isdst\n",
       ":   0\n",
       "$zone\n",
       ":   'IST'\n",
       "$gmtoff\n",
       ":   7200\n",
       "\n",
       "\n"
      ],
      "text/plain": [
       "$sec\n",
       "[1] 0.2978411\n",
       "\n",
       "$min\n",
       "[1] 10\n",
       "\n",
       "$hour\n",
       "[1] 11\n",
       "\n",
       "$mday\n",
       "[1] 5\n",
       "\n",
       "$mon\n",
       "[1] 11\n",
       "\n",
       "$year\n",
       "[1] 122\n",
       "\n",
       "$wday\n",
       "[1] 1\n",
       "\n",
       "$yday\n",
       "[1] 338\n",
       "\n",
       "$isdst\n",
       "[1] 0\n",
       "\n",
       "$zone\n",
       "[1] \"IST\"\n",
       "\n",
       "$gmtoff\n",
       "[1] 7200\n",
       "\n",
       "attr(,\"tzone\")\n",
       "[1] \"\"    \"IST\" \"IDT\""
      ]
     },
     "metadata": {},
     "output_type": "display_data"
    }
   ],
   "source": [
    "unclass(p)"
   ]
  },
  {
   "cell_type": "code",
   "execution_count": 11,
   "id": "099a95ca-4284-4867-99c9-21d9832e456c",
   "metadata": {},
   "outputs": [
    {
     "data": {
      "text/html": [
       "0.29784107208252"
      ],
      "text/latex": [
       "0.29784107208252"
      ],
      "text/markdown": [
       "0.29784107208252"
      ],
      "text/plain": [
       "[1] 0.2978411"
      ]
     },
     "metadata": {},
     "output_type": "display_data"
    }
   ],
   "source": [
    "p$sec"
   ]
  },
  {
   "cell_type": "code",
   "execution_count": 13,
   "id": "756af334-99a2-432b-9cad-6fe375763223",
   "metadata": {},
   "outputs": [
    {
     "data": {
      "text/html": [
       "1"
      ],
      "text/latex": [
       "1"
      ],
      "text/markdown": [
       "1"
      ],
      "text/plain": [
       "[1] 1"
      ]
     },
     "metadata": {},
     "output_type": "display_data"
    }
   ],
   "source": [
    "p$wday"
   ]
  },
  {
   "cell_type": "markdown",
   "id": "6a8e7333-c594-4c2f-b485-77cc45bcfed3",
   "metadata": {},
   "source": [
    "And with the `as.POSIXct()` format, we only get the number of secons since a particupar date:"
   ]
  },
  {
   "cell_type": "code",
   "execution_count": 15,
   "id": "a22e4ba1-a2d6-4567-88be-da752de3807d",
   "metadata": {},
   "outputs": [
    {
     "data": {
      "text/plain": [
       "[1] \"2022-12-05 11:13:27 IST\""
      ]
     },
     "metadata": {},
     "output_type": "display_data"
    }
   ],
   "source": [
    "x <- Sys.time() # default is POSIXct format\n",
    "x"
   ]
  },
  {
   "cell_type": "code",
   "execution_count": 16,
   "id": "4d4480c6-c91e-4794-bfa3-28ea46854239",
   "metadata": {},
   "outputs": [
    {
     "data": {
      "text/html": [
       "1670231607.00655"
      ],
      "text/latex": [
       "1670231607.00655"
      ],
      "text/markdown": [
       "1670231607.00655"
      ],
      "text/plain": [
       "[1] 1670231607"
      ]
     },
     "metadata": {},
     "output_type": "display_data"
    }
   ],
   "source": [
    "unclass(x)"
   ]
  },
  {
   "cell_type": "code",
   "execution_count": 17,
   "id": "0a744d77-3958-4777-a05e-764046d18bfa",
   "metadata": {},
   "outputs": [
    {
     "ename": "ERROR",
     "evalue": "Error in eval(expr, envir, enclos): object 'sec' not found\n",
     "output_type": "error",
     "traceback": [
      "Error in eval(expr, envir, enclos): object 'sec' not found\nTraceback:\n"
     ]
    }
   ],
   "source": [
    "x&sec"
   ]
  },
  {
   "cell_type": "code",
   "execution_count": 18,
   "id": "da0c2f42-757a-4cc1-8e56-85e20547f0d5",
   "metadata": {},
   "outputs": [
    {
     "data": {
      "text/plain": [
       "[1] \"1950-01-01 IST\""
      ]
     },
     "metadata": {},
     "output_type": "display_data"
    }
   ],
   "source": [
    "y = as.POSIXct('1950-01-01')\n",
    "y"
   ]
  },
  {
   "cell_type": "code",
   "execution_count": 19,
   "id": "d775d755-d9ef-4c80-a15f-3e13eacc80f4",
   "metadata": {},
   "outputs": [
    {
     "data": {
      "text/html": [
       "-631159200"
      ],
      "text/latex": [
       "-631159200"
      ],
      "text/markdown": [
       "-631159200"
      ],
      "text/plain": [
       "[1] -631159200\n",
       "attr(,\"tzone\")\n",
       "[1] \"\""
      ]
     },
     "metadata": {},
     "output_type": "display_data"
    }
   ],
   "source": [
    "unclass(y) # negative value, second from 1970-01-01 backwards."
   ]
  },
  {
   "cell_type": "markdown",
   "id": "a032f1c9-8fbd-4dce-89f2-c02a2098ae61",
   "metadata": {},
   "source": [
    "There is also the `strptime` function in case your data has dates written in a diferent format:"
   ]
  },
  {
   "cell_type": "code",
   "execution_count": 22,
   "id": "9dcd29e1-2ccc-4d8d-b921-b7f1557fc8b3",
   "metadata": {},
   "outputs": [
    {
     "data": {
      "text/html": [
       "<ol class=list-inline>\n",
       "\t<li>'January 10, 2012 10:40'</li>\n",
       "\t<li>'December 9, 2011 9:10'</li>\n",
       "</ol>\n"
      ],
      "text/latex": [
       "\\begin{enumerate*}\n",
       "\\item 'January 10, 2012 10:40'\n",
       "\\item 'December 9, 2011 9:10'\n",
       "\\end{enumerate*}\n"
      ],
      "text/markdown": [
       "1. 'January 10, 2012 10:40'\n",
       "2. 'December 9, 2011 9:10'\n",
       "\n",
       "\n"
      ],
      "text/plain": [
       "[1] \"January 10, 2012 10:40\" \"December 9, 2011 9:10\" "
      ]
     },
     "metadata": {},
     "output_type": "display_data"
    }
   ],
   "source": [
    "datestring <- c('January 10, 2012 10:40', 'December 9, 2011 9:10')\n",
    "datestring"
   ]
  },
  {
   "cell_type": "code",
   "execution_count": 27,
   "id": "ca092564-55e4-41f7-be5d-9494a36b0d1d",
   "metadata": {},
   "outputs": [
    {
     "data": {
      "text/plain": [
       "[1] \"2012-01-10 10:40:00 IST\" \"2011-12-09 09:10:00 IST\""
      ]
     },
     "metadata": {},
     "output_type": "display_data"
    }
   ],
   "source": [
    "x <- strptime(datestring, '%B %d, %Y %H:%M')\n",
    "x"
   ]
  },
  {
   "cell_type": "code",
   "execution_count": 25,
   "id": "0c164c3e-9446-400d-84b0-5a8ed76acfc0",
   "metadata": {},
   "outputs": [
    {
     "data": {
      "text/html": [
       "<ol class=list-inline>\n",
       "\t<li>'POSIXlt'</li>\n",
       "\t<li>'POSIXt'</li>\n",
       "</ol>\n"
      ],
      "text/latex": [
       "\\begin{enumerate*}\n",
       "\\item 'POSIXlt'\n",
       "\\item 'POSIXt'\n",
       "\\end{enumerate*}\n"
      ],
      "text/markdown": [
       "1. 'POSIXlt'\n",
       "2. 'POSIXt'\n",
       "\n",
       "\n"
      ],
      "text/plain": [
       "[1] \"POSIXlt\" \"POSIXt\" "
      ]
     },
     "metadata": {},
     "output_type": "display_data"
    }
   ],
   "source": [
    "class(x)"
   ]
  },
  {
   "cell_type": "markdown",
   "id": "af7318ec-1905-4943-8696-5a22a53ea37a",
   "metadata": {},
   "source": [
    "For more details on formating time strings run `?strptime`."
   ]
  },
  {
   "cell_type": "markdown",
   "id": "7a1011d7-f192-4389-93a3-228d09b3139c",
   "metadata": {},
   "source": [
    "#### Operations on Date and Time ####\n",
    "\n",
    "Once we have date and time objects, we can run operations on them which can be very useful. Like, for example, we can add or subtract dates (`+` and `-`), as well as compare them (`>', `==`, `<=`, etc)."
   ]
  },
  {
   "cell_type": "code",
   "execution_count": 28,
   "id": "c93f7df4-1748-4ab0-978e-163d9c20d9fc",
   "metadata": {},
   "outputs": [
    {
     "data": {
      "text/html": [
       "<time datetime=\"2012-01-01\">2012-01-01</time>"
      ],
      "text/latex": [
       "2012-01-01"
      ],
      "text/markdown": [
       "2012-01-01"
      ],
      "text/plain": [
       "[1] \"2012-01-01\""
      ]
     },
     "metadata": {},
     "output_type": "display_data"
    }
   ],
   "source": [
    "x <- as.Date('2012-01-01')\n",
    "x"
   ]
  },
  {
   "cell_type": "code",
   "execution_count": 29,
   "id": "d876aab9-39f0-4d00-a2b3-53c4d88a2628",
   "metadata": {},
   "outputs": [
    {
     "data": {
      "text/html": [
       "<time datetime=\"2021-06-28\">2021-06-28</time>"
      ],
      "text/latex": [
       "2021-06-28"
      ],
      "text/markdown": [
       "2021-06-28"
      ],
      "text/plain": [
       "[1] \"2021-06-28\""
      ]
     },
     "metadata": {},
     "output_type": "display_data"
    }
   ],
   "source": [
    "y <- as.Date('2021-06-28')\n",
    "y"
   ]
  },
  {
   "cell_type": "code",
   "execution_count": 30,
   "id": "0f24fa19-a8bb-45f3-a223-6c4a74251c09",
   "metadata": {},
   "outputs": [
    {
     "data": {
      "text/plain": [
       "Time difference of -3466 days"
      ]
     },
     "metadata": {},
     "output_type": "display_data"
    }
   ],
   "source": [
    "x - y"
   ]
  },
  {
   "cell_type": "code",
   "execution_count": 31,
   "id": "15baeddd-7a37-479c-a7ee-2b47f55e36bd",
   "metadata": {},
   "outputs": [
    {
     "data": {
      "text/plain": [
       "Time difference of 3466 days"
      ]
     },
     "metadata": {},
     "output_type": "display_data"
    }
   ],
   "source": [
    "y - x"
   ]
  },
  {
   "cell_type": "code",
   "execution_count": 33,
   "id": "0d335490-12db-4d74-bc6a-0e2d4ff769aa",
   "metadata": {},
   "outputs": [
    {
     "data": {
      "text/html": [
       "FALSE"
      ],
      "text/latex": [
       "FALSE"
      ],
      "text/markdown": [
       "FALSE"
      ],
      "text/plain": [
       "[1] FALSE"
      ]
     },
     "metadata": {},
     "output_type": "display_data"
    }
   ],
   "source": [
    "x == y"
   ]
  },
  {
   "cell_type": "code",
   "execution_count": 34,
   "id": "d637b94a-72cb-4e38-bd88-f308da430864",
   "metadata": {},
   "outputs": [
    {
     "data": {
      "text/html": [
       "FALSE"
      ],
      "text/latex": [
       "FALSE"
      ],
      "text/markdown": [
       "FALSE"
      ],
      "text/plain": [
       "[1] FALSE"
      ]
     },
     "metadata": {},
     "output_type": "display_data"
    }
   ],
   "source": [
    "x > y"
   ]
  },
  {
   "cell_type": "code",
   "execution_count": 35,
   "id": "8d0f1abf-b65e-4945-81a8-ed3c1629fdf7",
   "metadata": {},
   "outputs": [
    {
     "data": {
      "text/html": [
       "TRUE"
      ],
      "text/latex": [
       "TRUE"
      ],
      "text/markdown": [
       "TRUE"
      ],
      "text/plain": [
       "[1] TRUE"
      ]
     },
     "metadata": {},
     "output_type": "display_data"
    }
   ],
   "source": [
    "x < y"
   ]
  }
 ],
 "metadata": {
  "kernelspec": {
   "display_name": "R",
   "language": "R",
   "name": "ir"
  },
  "language_info": {
   "codemirror_mode": "r",
   "file_extension": ".r",
   "mimetype": "text/x-r-source",
   "name": "R",
   "pygments_lexer": "r",
   "version": "3.6.1"
  }
 },
 "nbformat": 4,
 "nbformat_minor": 5
}
