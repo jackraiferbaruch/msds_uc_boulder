{
 "cells": [
  {
   "cell_type": "markdown",
   "id": "fd874895-148f-4b8c-b12a-0dedad8fd8c9",
   "metadata": {},
   "source": [
    "## Loop Functions and Debuging ##\n",
    "\n",
    "There are a few functions that make it easy and fast to create a loop function that does not require to actually code a function (useful for one off functions). Here are the most common ways to implement this:\n",
    "\n",
    "- `lapply`: It loops over a list and evaluates a funciton on each element.\n",
    "- `sapply`: Same as `lapply` but attempts to simplify the result.\n",
    "- `apply`: Applies a function over the margings of an array.\n",
    "- `tapply`: Apply a function over the subsets of a vector.\n",
    "- `mapply`: Multivariate version of `lapply`.\n",
    "\n",
    "The most useful is `lapply` which takes 3 arguments, a list (if the object is not a list, it will try to coerce it into a list, if it cannot, we will get an error), a function or the name of a function, and a `...` argument where you can pass arguments reltaed to the function in the second argument.\n",
    "\n",
    "Here is an example of `lapply`:"
   ]
  },
  {
   "cell_type": "code",
   "execution_count": 1,
   "id": "3da888bf-576e-49d5-8d01-adb15e836b43",
   "metadata": {},
   "outputs": [
    {
     "data": {
      "text/html": [
       "<dl>\n",
       "\t<dt>$a</dt>\n",
       "\t\t<dd><ol class=list-inline>\n",
       "\t<li>1</li>\n",
       "\t<li>2</li>\n",
       "\t<li>3</li>\n",
       "\t<li>4</li>\n",
       "\t<li>5</li>\n",
       "</ol>\n",
       "</dd>\n",
       "\t<dt>$b</dt>\n",
       "\t\t<dd><ol class=list-inline>\n",
       "\t<li>0.00941936529973458</li>\n",
       "\t<li>0.382227323123327</li>\n",
       "\t<li>-0.0669984158586407</li>\n",
       "\t<li>-0.0319195582439497</li>\n",
       "\t<li>-0.698885326481998</li>\n",
       "\t<li>0.027522542141819</li>\n",
       "\t<li>-0.46699454526384</li>\n",
       "\t<li>0.115617846323034</li>\n",
       "\t<li>-0.363843974218736</li>\n",
       "\t<li>1.50110407947168</li>\n",
       "</ol>\n",
       "</dd>\n",
       "</dl>\n"
      ],
      "text/latex": [
       "\\begin{description}\n",
       "\\item[\\$a] \\begin{enumerate*}\n",
       "\\item 1\n",
       "\\item 2\n",
       "\\item 3\n",
       "\\item 4\n",
       "\\item 5\n",
       "\\end{enumerate*}\n",
       "\n",
       "\\item[\\$b] \\begin{enumerate*}\n",
       "\\item 0.00941936529973458\n",
       "\\item 0.382227323123327\n",
       "\\item -0.0669984158586407\n",
       "\\item -0.0319195582439497\n",
       "\\item -0.698885326481998\n",
       "\\item 0.027522542141819\n",
       "\\item -0.46699454526384\n",
       "\\item 0.115617846323034\n",
       "\\item -0.363843974218736\n",
       "\\item 1.50110407947168\n",
       "\\end{enumerate*}\n",
       "\n",
       "\\end{description}\n"
      ],
      "text/markdown": [
       "$a\n",
       ":   1. 1\n",
       "2. 2\n",
       "3. 3\n",
       "4. 4\n",
       "5. 5\n",
       "\n",
       "\n",
       "\n",
       "$b\n",
       ":   1. 0.00941936529973458\n",
       "2. 0.382227323123327\n",
       "3. -0.0669984158586407\n",
       "4. -0.0319195582439497\n",
       "5. -0.698885326481998\n",
       "6. 0.027522542141819\n",
       "7. -0.46699454526384\n",
       "8. 0.115617846323034\n",
       "9. -0.363843974218736\n",
       "10. 1.50110407947168\n",
       "\n",
       "\n",
       "\n",
       "\n",
       "\n"
      ],
      "text/plain": [
       "$a\n",
       "[1] 1 2 3 4 5\n",
       "\n",
       "$b\n",
       " [1]  0.009419365  0.382227323 -0.066998416 -0.031919558 -0.698885326\n",
       " [6]  0.027522542 -0.466994545  0.115617846 -0.363843974  1.501104079\n"
      ]
     },
     "metadata": {},
     "output_type": "display_data"
    }
   ],
   "source": [
    "x <- list(a = 1:5, b = rnorm(10))\n",
    "x"
   ]
  },
  {
   "cell_type": "code",
   "execution_count": 2,
   "id": "94f46044-bf66-4c75-a63f-7c1b9ea2aaf7",
   "metadata": {},
   "outputs": [
    {
     "data": {
      "text/html": [
       "<dl>\n",
       "\t<dt>$a</dt>\n",
       "\t\t<dd>3</dd>\n",
       "\t<dt>$b</dt>\n",
       "\t\t<dd>0.0407249336292428</dd>\n",
       "</dl>\n"
      ],
      "text/latex": [
       "\\begin{description}\n",
       "\\item[\\$a] 3\n",
       "\\item[\\$b] 0.0407249336292428\n",
       "\\end{description}\n"
      ],
      "text/markdown": [
       "$a\n",
       ":   3\n",
       "$b\n",
       ":   0.0407249336292428\n",
       "\n",
       "\n"
      ],
      "text/plain": [
       "$a\n",
       "[1] 3\n",
       "\n",
       "$b\n",
       "[1] 0.04072493\n"
      ]
     },
     "metadata": {},
     "output_type": "display_data"
    }
   ],
   "source": [
    "lapply(x, mean)"
   ]
  },
  {
   "cell_type": "markdown",
   "id": "1826242b-d7f4-4a3c-9ff8-ad106508c11d",
   "metadata": {},
   "source": [
    "This call passes a list of vectors, and runs the `mean` function on them, it return a list with the results for each item in the original list.\n",
    "\n",
    "The advantage of this is quickly getting the information we need, and it becomes more useful the more items we have on our list:"
   ]
  },
  {
   "cell_type": "code",
   "execution_count": 3,
   "id": "f4a4eccb-7033-451a-9c33-afed05a94ee2",
   "metadata": {},
   "outputs": [],
   "source": [
    "x <- list(a = 1:5, b = rnorm(10), c = rnorm(20, 1), d = rnorm(100, 5))"
   ]
  },
  {
   "cell_type": "code",
   "execution_count": 4,
   "id": "d4547ed9-6f92-417d-a2f6-ae8fc867a668",
   "metadata": {},
   "outputs": [
    {
     "data": {
      "text/html": [
       "<dl>\n",
       "\t<dt>$a</dt>\n",
       "\t\t<dd>3</dd>\n",
       "\t<dt>$b</dt>\n",
       "\t\t<dd>-0.288679748530534</dd>\n",
       "\t<dt>$c</dt>\n",
       "\t\t<dd>1.11278019040656</dd>\n",
       "\t<dt>$d</dt>\n",
       "\t\t<dd>5.062079172412</dd>\n",
       "</dl>\n"
      ],
      "text/latex": [
       "\\begin{description}\n",
       "\\item[\\$a] 3\n",
       "\\item[\\$b] -0.288679748530534\n",
       "\\item[\\$c] 1.11278019040656\n",
       "\\item[\\$d] 5.062079172412\n",
       "\\end{description}\n"
      ],
      "text/markdown": [
       "$a\n",
       ":   3\n",
       "$b\n",
       ":   -0.288679748530534\n",
       "$c\n",
       ":   1.11278019040656\n",
       "$d\n",
       ":   5.062079172412\n",
       "\n",
       "\n"
      ],
      "text/plain": [
       "$a\n",
       "[1] 3\n",
       "\n",
       "$b\n",
       "[1] -0.2886797\n",
       "\n",
       "$c\n",
       "[1] 1.11278\n",
       "\n",
       "$d\n",
       "[1] 5.062079\n"
      ]
     },
     "metadata": {},
     "output_type": "display_data"
    }
   ],
   "source": [
    "lapply(x, mean)"
   ]
  },
  {
   "cell_type": "code",
   "execution_count": 5,
   "id": "bc0d4f63-6689-4a99-ba9a-6ead73b88b3c",
   "metadata": {},
   "outputs": [],
   "source": [
    "x <- list(c(30, 40), c(31, 26))"
   ]
  },
  {
   "cell_type": "code",
   "execution_count": 8,
   "id": "cfa24d59-58d8-465e-bcae-5d6c89f04bcb",
   "metadata": {},
   "outputs": [
    {
     "data": {
      "text/html": [
       "<ol>\n",
       "\t<li>70</li>\n",
       "\t<li>57</li>\n",
       "</ol>\n"
      ],
      "text/latex": [
       "\\begin{enumerate}\n",
       "\\item 70\n",
       "\\item 57\n",
       "\\end{enumerate}\n"
      ],
      "text/markdown": [
       "1. 70\n",
       "2. 57\n",
       "\n",
       "\n"
      ],
      "text/plain": [
       "[[1]]\n",
       "[1] 70\n",
       "\n",
       "[[2]]\n",
       "[1] 57\n"
      ]
     },
     "metadata": {},
     "output_type": "display_data"
    }
   ],
   "source": [
    "lapply(x, sum)"
   ]
  },
  {
   "cell_type": "markdown",
   "id": "09f8786d-557c-433d-bf76-750dd86f0c72",
   "metadata": {},
   "source": [
    "`apply` is used to evaluate a function over the margins of an array:\n",
    "\n",
    "- It is most often used to apply a function to the rows and columns of a matrix.\n",
    "- It can be used with general arrays.\n",
    "- It is not faster than writing a function but can be done in one line of code."
   ]
  },
  {
   "cell_type": "code",
   "execution_count": 22,
   "id": "836275a5-062d-448e-94dd-49718558956d",
   "metadata": {},
   "outputs": [
    {
     "data": {
      "text/html": [
       "<ol class=list-inline>\n",
       "\t<li>20</li>\n",
       "\t<li>10</li>\n",
       "</ol>\n"
      ],
      "text/latex": [
       "\\begin{enumerate*}\n",
       "\\item 20\n",
       "\\item 10\n",
       "\\end{enumerate*}\n"
      ],
      "text/markdown": [
       "1. 20\n",
       "2. 10\n",
       "\n",
       "\n"
      ],
      "text/plain": [
       "[1] 20 10"
      ]
     },
     "metadata": {},
     "output_type": "display_data"
    }
   ],
   "source": [
    "x <- matrix(rnorm(200), 20, 10)\n",
    "dim(x)"
   ]
  },
  {
   "cell_type": "code",
   "execution_count": 25,
   "id": "b68c68b3-7a02-45dd-a527-5a9dbaab485d",
   "metadata": {},
   "outputs": [
    {
     "name": "stdout",
     "output_type": "stream",
     "text": [
      " [1] -0.13076900 -0.05072040  0.10875212  0.51114307 -0.66965596  0.13500251\n",
      " [7] -0.23941621  0.03875423  0.35559998 -0.61104646 -0.42909305  0.10808756\n",
      "[13] -0.17590621 -0.22021233  0.25253761  0.19663942  0.38933673 -0.17712766\n",
      "[19] -0.13406519 -0.36567550\n"
     ]
    }
   ],
   "source": [
    "print(apply(x, 1, mean))"
   ]
  },
  {
   "cell_type": "code",
   "execution_count": 26,
   "id": "912e13df-e2a2-46ca-b129-634eaa1d1a50",
   "metadata": {},
   "outputs": [
    {
     "name": "stdout",
     "output_type": "stream",
     "text": [
      " [1] -5.2344796  0.9625333 -6.3911629  4.9689156  2.3927508  3.4161918\n",
      " [7] -8.6511439 -4.8006645  0.4651167  1.7935952\n"
     ]
    }
   ],
   "source": [
    "print(apply(x, 2, sum))"
   ]
  },
  {
   "cell_type": "markdown",
   "id": "ae9d8e1f-f5ec-470d-94f6-0f76da781644",
   "metadata": {},
   "source": [
    "### Debugging Tools - Diagnosis ###\n",
    "\n",
    "Indications that someting is wrong:\n",
    "\n",
    "- **Message**: A generic notification or diagnostic message produced by the `message` function; execution of the function continues.\n",
    "- **Warning**: An indication that someting is wrong but not necessarily fatal; execution of the function continues, generated by the `warning` function.\n",
    "- **Error**: Indication that a fatal proble occurred; execution stops, produced by the `stop` function.\n",
    "* **Condition**: A generic concept for indicating that someting unexpected can occur; created by programmers.\n",
    "\n",
    "**Warning**:"
   ]
  },
  {
   "cell_type": "code",
   "execution_count": 27,
   "id": "1b2a8815-4a97-4884-9d86-ff74e76c8982",
   "metadata": {},
   "outputs": [
    {
     "name": "stderr",
     "output_type": "stream",
     "text": [
      "Warning message in log(-1):\n",
      "\"NaNs produced\""
     ]
    },
    {
     "data": {
      "text/html": [
       "NaN"
      ],
      "text/latex": [
       "NaN"
      ],
      "text/markdown": [
       "NaN"
      ],
      "text/plain": [
       "[1] NaN"
      ]
     },
     "metadata": {},
     "output_type": "display_data"
    }
   ],
   "source": [
    "log(-1)"
   ]
  },
  {
   "cell_type": "markdown",
   "id": "c9b5188a-ad7b-4911-9214-10e20e363ca5",
   "metadata": {},
   "source": [
    "One way to manage these warnings, once we know what the issue is, is with print functions:"
   ]
  },
  {
   "cell_type": "code",
   "execution_count": 33,
   "id": "7aac0bef-0edd-4d88-ad9b-4839059c2903",
   "metadata": {},
   "outputs": [],
   "source": [
    "printmessage <- function(x) {\n",
    "    \n",
    "        if(is.na(x))\n",
    "            print('x is a missing value')\n",
    "        else if(x > 0)\n",
    "            print('x is greater than zero')\n",
    "        else\n",
    "            print('x is less than or equal to zero')\n",
    "    \n",
    "        invisible(x)\n",
    "}"
   ]
  },
  {
   "cell_type": "code",
   "execution_count": 34,
   "id": "3098933c-6e42-42b9-8586-20d89595b434",
   "metadata": {},
   "outputs": [
    {
     "name": "stdout",
     "output_type": "stream",
     "text": [
      "[1] \"x is greater than zero\"\n"
     ]
    }
   ],
   "source": [
    "printmessage(1)"
   ]
  },
  {
   "cell_type": "code",
   "execution_count": 35,
   "id": "7c55eecb-766a-4248-97e9-f152eddeb2b7",
   "metadata": {},
   "outputs": [
    {
     "name": "stdout",
     "output_type": "stream",
     "text": [
      "[1] \"x is less than or equal to zero\"\n"
     ]
    }
   ],
   "source": [
    "printmessage(-10)"
   ]
  },
  {
   "cell_type": "code",
   "execution_count": 36,
   "id": "2bbbbfbf-902d-4a36-bdb4-de960abd1e7d",
   "metadata": {},
   "outputs": [
    {
     "name": "stdout",
     "output_type": "stream",
     "text": [
      "[1] \"x is a missing value\"\n"
     ]
    }
   ],
   "source": [
    "printmessage(NA)"
   ]
  },
  {
   "cell_type": "markdown",
   "id": "b76e2a9f-add0-41d9-a12e-c60f93ce0da7",
   "metadata": {},
   "source": [
    "This allows you to get a message to understand the problem. The `invisible()` return statement at the end, is asking the function to not print the result to the console, but it does get saved in the log for reference.\n",
    "\n",
    "When someting goes wrong, here are a few ways we can start figuring it out:\n",
    "\n",
    "- Was it an user error (wrong input or wrong call to a function).\n",
    "- What was expected to happen?\n",
    "- What did we get?\n",
    "- How are the expectation and reality different?\n",
    "- Were our expectations correct to begin with?\n",
    "- Can we reproduce then problem exactly the same way?"
   ]
  },
  {
   "cell_type": "markdown",
   "id": "951babdc-eb47-4460-a271-6943227ad8f3",
   "metadata": {},
   "source": [
    "### Debugging Tools - Basic Tools ###\n",
    "\n",
    "The most basic tools in R for debugging are:\n",
    "\n",
    "- `traceback`: prints out the function call stack after an error occurs; does nothing if there is no error.\n",
    "- `debug`: flags a function for debugging mode which allows us to step through the execution of the function one step at a time.\n",
    "- `browser`: suspends the execution of a function whenever it is called and puts it in debug mode.\n",
    "- `trace`: allows us to insert debugging code into a function in specific places.\n",
    "- `recover`: allows us to modify the error behavior so that we can browse the function call stack.\n",
    "\n",
    "These are interactive tools. The most blunt technique is to insert print statements within the function to find what is happening in each step so we can figure out the problem.\n",
    "\n"
   ]
  },
  {
   "cell_type": "code",
   "execution_count": 37,
   "id": "c4259810-01f1-4801-a502-2c345a2d7757",
   "metadata": {},
   "outputs": [
    {
     "data": {
      "text/html": [
       "\n",
       "<table width=\"100%\" summary=\"page for head {utils}\"><tr><td>head {utils}</td><td style=\"text-align: right;\">R Documentation</td></tr></table>\n",
       "\n",
       "<h2>\n",
       "Return the First or Last Part of an Object\n",
       "</h2>\n",
       "\n",
       "<h3>Description</h3>\n",
       "\n",
       "<p>Returns the first or last parts of a vector, matrix, table, data frame\n",
       "or function.  Since <code>head()</code> and <code>tail()</code> are generic\n",
       "functions, they may also have been extended to other classes.\n",
       "</p>\n",
       "\n",
       "\n",
       "<h3>Usage</h3>\n",
       "\n",
       "<pre>\n",
       "head(x, ...)\n",
       "## Default S3 method:\n",
       "head(x, n = 6L, ...)\n",
       "## S3 method for class 'data.frame'\n",
       "head(x, n = 6L, ...)\n",
       "## S3 method for class 'matrix'\n",
       "head(x, n = 6L, ...)\n",
       "## S3 method for class 'ftable'\n",
       "head(x, n = 6L, ...)\n",
       "## S3 method for class 'table'\n",
       "head(x, n = 6L, ...)\n",
       "## S3 method for class 'function'\n",
       "head(x, n = 6L, ...)\n",
       "\n",
       "tail(x, ...)\n",
       "## Default S3 method:\n",
       "tail(x, n = 6L, ...)\n",
       "## S3 method for class 'data.frame'\n",
       "tail(x, n = 6L, ...)\n",
       "## S3 method for class 'matrix'\n",
       "tail(x, n = 6L, addrownums = TRUE, ...)\n",
       "## S3 method for class 'ftable'\n",
       "tail(x, n = 6L, addrownums = FALSE, ...)\n",
       "## S3 method for class 'table'\n",
       "tail(x, n = 6L, addrownums = TRUE, ...)\n",
       "## S3 method for class 'function'\n",
       "tail(x, n = 6L, ...)\n",
       "</pre>\n",
       "\n",
       "\n",
       "<h3>Arguments</h3>\n",
       "\n",
       "<table summary=\"R argblock\">\n",
       "<tr valign=\"top\"><td><code>x</code></td>\n",
       "<td>\n",
       "<p>an object</p>\n",
       "</td></tr>\n",
       "<tr valign=\"top\"><td><code>n</code></td>\n",
       "<td>\n",
       "<p>a single integer.  If positive or zero, size for the resulting\n",
       "object: number of elements for a vector (including lists), rows for\n",
       "a matrix or data frame or lines for a function.  If negative, all but\n",
       "the <code>n</code> last/first number of elements of <code>x</code>.</p>\n",
       "</td></tr>\n",
       "<tr valign=\"top\"><td><code>addrownums</code></td>\n",
       "<td>\n",
       "<p>if there are no row names, create them from the row\n",
       "numbers.</p>\n",
       "</td></tr>\n",
       "<tr valign=\"top\"><td><code>...</code></td>\n",
       "<td>\n",
       "<p>arguments to be passed to or from other methods.</p>\n",
       "</td></tr>\n",
       "</table>\n",
       "\n",
       "\n",
       "<h3>Details</h3>\n",
       "\n",
       "<p>For matrices, 2-dim tables and data frames, <code>head()</code> (<code>tail()</code>) returns\n",
       "the first (last) <code>n</code> rows when <code>n &gt;= 0</code> or all but the\n",
       "last (first) <code>n</code> rows when <code>n &lt; 0</code>.  <code>head.matrix()</code> and\n",
       "<code>tail.matrix()</code> are exported.  For functions, the\n",
       "lines of the deparsed function are returned as character strings.\n",
       "</p>\n",
       "<p>If a matrix has no row names, then <code>tail()</code> will add row names of\n",
       "the form <code>\"[n,]\"</code> to the result, so that it looks similar to the\n",
       "last lines of <code>x</code> when printed.  Setting\n",
       "<code>addrownums = FALSE</code> suppresses this behaviour.\n",
       "</p>\n",
       "\n",
       "\n",
       "<h3>Value</h3>\n",
       "\n",
       "<p>An object (usually) like <code>x</code> but generally smaller.  For\n",
       "<code>ftable</code> objects <code>x</code>, a transformed <code>format(x)</code>.\n",
       "</p>\n",
       "\n",
       "\n",
       "<h3>Author(s)</h3>\n",
       "\n",
       "<p>Patrick Burns, improved and corrected by R-Core. Negative argument\n",
       "added by Vincent Goulet.\n",
       "</p>\n",
       "\n",
       "\n",
       "<h3>Examples</h3>\n",
       "\n",
       "<pre>\n",
       "head(letters)\n",
       "head(letters, n = -6L)\n",
       "\n",
       "head(freeny.x, n = 10L)\n",
       "head(freeny.y)\n",
       "\n",
       "tail(letters)\n",
       "tail(letters, n = -6L)\n",
       "\n",
       "tail(freeny.x)\n",
       "tail(freeny.y)\n",
       "\n",
       "tail(library)\n",
       "\n",
       "head(stats::ftable(Titanic))\n",
       "</pre>\n",
       "\n",
       "<hr /><div style=\"text-align: center;\">[Package <em>utils</em> version 3.6.1 ]</div>"
      ],
      "text/latex": [
       "\\inputencoding{utf8}\n",
       "\\HeaderA{head}{Return the First or Last Part of an Object}{head}\n",
       "\\methaliasA{head.data.frame}{head}{head.data.frame}\n",
       "\\methaliasA{head.default}{head}{head.default}\n",
       "\\methaliasA{head.ftable}{head}{head.ftable}\n",
       "\\methaliasA{head.function}{head}{head.function}\n",
       "\\methaliasA{head.matrix}{head}{head.matrix}\n",
       "\\methaliasA{head.table}{head}{head.table}\n",
       "\\aliasA{tail}{head}{tail}\n",
       "\\methaliasA{tail.data.frame}{head}{tail.data.frame}\n",
       "\\methaliasA{tail.default}{head}{tail.default}\n",
       "\\methaliasA{tail.ftable}{head}{tail.ftable}\n",
       "\\methaliasA{tail.function}{head}{tail.function}\n",
       "\\methaliasA{tail.matrix}{head}{tail.matrix}\n",
       "\\methaliasA{tail.table}{head}{tail.table}\n",
       "\\keyword{manip}{head}\n",
       "%\n",
       "\\begin{Description}\\relax\n",
       "Returns the first or last parts of a vector, matrix, table, data frame\n",
       "or function.  Since \\code{head()} and \\code{tail()} are generic\n",
       "functions, they may also have been extended to other classes.\n",
       "\\end{Description}\n",
       "%\n",
       "\\begin{Usage}\n",
       "\\begin{verbatim}\n",
       "head(x, ...)\n",
       "## Default S3 method:\n",
       "head(x, n = 6L, ...)\n",
       "## S3 method for class 'data.frame'\n",
       "head(x, n = 6L, ...)\n",
       "## S3 method for class 'matrix'\n",
       "head(x, n = 6L, ...)\n",
       "## S3 method for class 'ftable'\n",
       "head(x, n = 6L, ...)\n",
       "## S3 method for class 'table'\n",
       "head(x, n = 6L, ...)\n",
       "## S3 method for class 'function'\n",
       "head(x, n = 6L, ...)\n",
       "\n",
       "tail(x, ...)\n",
       "## Default S3 method:\n",
       "tail(x, n = 6L, ...)\n",
       "## S3 method for class 'data.frame'\n",
       "tail(x, n = 6L, ...)\n",
       "## S3 method for class 'matrix'\n",
       "tail(x, n = 6L, addrownums = TRUE, ...)\n",
       "## S3 method for class 'ftable'\n",
       "tail(x, n = 6L, addrownums = FALSE, ...)\n",
       "## S3 method for class 'table'\n",
       "tail(x, n = 6L, addrownums = TRUE, ...)\n",
       "## S3 method for class 'function'\n",
       "tail(x, n = 6L, ...)\n",
       "\\end{verbatim}\n",
       "\\end{Usage}\n",
       "%\n",
       "\\begin{Arguments}\n",
       "\\begin{ldescription}\n",
       "\\item[\\code{x}] an object\n",
       "\\item[\\code{n}] a single integer.  If positive or zero, size for the resulting\n",
       "object: number of elements for a vector (including lists), rows for\n",
       "a matrix or data frame or lines for a function.  If negative, all but\n",
       "the \\code{n} last/first number of elements of \\code{x}.\n",
       "\\item[\\code{addrownums}] if there are no row names, create them from the row\n",
       "numbers.\n",
       "\\item[\\code{...}] arguments to be passed to or from other methods.\n",
       "\\end{ldescription}\n",
       "\\end{Arguments}\n",
       "%\n",
       "\\begin{Details}\\relax\n",
       "For matrices, 2-dim tables and data frames, \\code{head()} (\\code{tail()}) returns\n",
       "the first (last) \\code{n} rows when \\code{n >= 0} or all but the\n",
       "last (first) \\code{n} rows when \\code{n < 0}.  \\code{head.matrix()} and\n",
       "\\code{tail.matrix()} are exported.  For functions, the\n",
       "lines of the deparsed function are returned as character strings.\n",
       "\n",
       "If a matrix has no row names, then \\code{tail()} will add row names of\n",
       "the form \\code{\"[n,]\"} to the result, so that it looks similar to the\n",
       "last lines of \\code{x} when printed.  Setting\n",
       "\\code{addrownums = FALSE} suppresses this behaviour.\n",
       "\\end{Details}\n",
       "%\n",
       "\\begin{Value}\n",
       "An object (usually) like \\code{x} but generally smaller.  For\n",
       "\\code{\\LinkA{ftable}{ftable}} objects \\code{x}, a transformed \\code{format(x)}.\n",
       "\\end{Value}\n",
       "%\n",
       "\\begin{Author}\\relax\n",
       "Patrick Burns, improved and corrected by R-Core. Negative argument\n",
       "added by Vincent Goulet.\n",
       "\\end{Author}\n",
       "%\n",
       "\\begin{Examples}\n",
       "\\begin{ExampleCode}\n",
       "head(letters)\n",
       "head(letters, n = -6L)\n",
       "\n",
       "head(freeny.x, n = 10L)\n",
       "head(freeny.y)\n",
       "\n",
       "tail(letters)\n",
       "tail(letters, n = -6L)\n",
       "\n",
       "tail(freeny.x)\n",
       "tail(freeny.y)\n",
       "\n",
       "tail(library)\n",
       "\n",
       "head(stats::ftable(Titanic))\n",
       "\\end{ExampleCode}\n",
       "\\end{Examples}"
      ],
      "text/plain": [
       "head                   package:utils                   R Documentation\n",
       "\n",
       "_\bR_\be_\bt_\bu_\br_\bn _\bt_\bh_\be _\bF_\bi_\br_\bs_\bt _\bo_\br _\bL_\ba_\bs_\bt _\bP_\ba_\br_\bt _\bo_\bf _\ba_\bn _\bO_\bb_\bj_\be_\bc_\bt\n",
       "\n",
       "_\bD_\be_\bs_\bc_\br_\bi_\bp_\bt_\bi_\bo_\bn:\n",
       "\n",
       "     Returns the first or last parts of a vector, matrix, table, data\n",
       "     frame or function.  Since 'head()' and 'tail()' are generic\n",
       "     functions, they may also have been extended to other classes.\n",
       "\n",
       "_\bU_\bs_\ba_\bg_\be:\n",
       "\n",
       "     head(x, ...)\n",
       "     ## Default S3 method:\n",
       "     head(x, n = 6L, ...)\n",
       "     ## S3 method for class 'data.frame'\n",
       "     head(x, n = 6L, ...)\n",
       "     ## S3 method for class 'matrix'\n",
       "     head(x, n = 6L, ...)\n",
       "     ## S3 method for class 'ftable'\n",
       "     head(x, n = 6L, ...)\n",
       "     ## S3 method for class 'table'\n",
       "     head(x, n = 6L, ...)\n",
       "     ## S3 method for class 'function'\n",
       "     head(x, n = 6L, ...)\n",
       "     \n",
       "     tail(x, ...)\n",
       "     ## Default S3 method:\n",
       "     tail(x, n = 6L, ...)\n",
       "     ## S3 method for class 'data.frame'\n",
       "     tail(x, n = 6L, ...)\n",
       "     ## S3 method for class 'matrix'\n",
       "     tail(x, n = 6L, addrownums = TRUE, ...)\n",
       "     ## S3 method for class 'ftable'\n",
       "     tail(x, n = 6L, addrownums = FALSE, ...)\n",
       "     ## S3 method for class 'table'\n",
       "     tail(x, n = 6L, addrownums = TRUE, ...)\n",
       "     ## S3 method for class 'function'\n",
       "     tail(x, n = 6L, ...)\n",
       "     \n",
       "_\bA_\br_\bg_\bu_\bm_\be_\bn_\bt_\bs:\n",
       "\n",
       "       x: an object\n",
       "\n",
       "       n: a single integer.  If positive or zero, size for the\n",
       "          resulting object: number of elements for a vector (including\n",
       "          lists), rows for a matrix or data frame or lines for a\n",
       "          function.  If negative, all but the 'n' last/first number of\n",
       "          elements of 'x'.\n",
       "\n",
       "addrownums: if there are no row names, create them from the row\n",
       "          numbers.\n",
       "\n",
       "     ...: arguments to be passed to or from other methods.\n",
       "\n",
       "_\bD_\be_\bt_\ba_\bi_\bl_\bs:\n",
       "\n",
       "     For matrices, 2-dim tables and data frames, 'head()' ('tail()')\n",
       "     returns the first (last) 'n' rows when 'n >= 0' or all but the\n",
       "     last (first) 'n' rows when 'n < 0'.  'head.matrix()' and\n",
       "     'tail.matrix()' are exported.  For functions, the lines of the\n",
       "     deparsed function are returned as character strings.\n",
       "\n",
       "     If a matrix has no row names, then 'tail()' will add row names of\n",
       "     the form '\"[n,]\"' to the result, so that it looks similar to the\n",
       "     last lines of 'x' when printed.  Setting 'addrownums = FALSE'\n",
       "     suppresses this behaviour.\n",
       "\n",
       "_\bV_\ba_\bl_\bu_\be:\n",
       "\n",
       "     An object (usually) like 'x' but generally smaller.  For 'ftable'\n",
       "     objects 'x', a transformed 'format(x)'.\n",
       "\n",
       "_\bA_\bu_\bt_\bh_\bo_\br(_\bs):\n",
       "\n",
       "     Patrick Burns, improved and corrected by R-Core. Negative argument\n",
       "     added by Vincent Goulet.\n",
       "\n",
       "_\bE_\bx_\ba_\bm_\bp_\bl_\be_\bs:\n",
       "\n",
       "     head(letters)\n",
       "     head(letters, n = -6L)\n",
       "     \n",
       "     head(freeny.x, n = 10L)\n",
       "     head(freeny.y)\n",
       "     \n",
       "     tail(letters)\n",
       "     tail(letters, n = -6L)\n",
       "     \n",
       "     tail(freeny.x)\n",
       "     tail(freeny.y)\n",
       "     \n",
       "     tail(library)\n",
       "     \n",
       "     head(stats::ftable(Titanic))\n",
       "     "
      ]
     },
     "metadata": {},
     "output_type": "display_data"
    }
   ],
   "source": [
    "?head()"
   ]
  },
  {
   "cell_type": "code",
   "execution_count": null,
   "id": "e9e3791c-be12-4e2d-8f48-24b8cb148e85",
   "metadata": {},
   "outputs": [],
   "source": []
  }
 ],
 "metadata": {
  "kernelspec": {
   "display_name": "R",
   "language": "R",
   "name": "ir"
  },
  "language_info": {
   "codemirror_mode": "r",
   "file_extension": ".r",
   "mimetype": "text/x-r-source",
   "name": "R",
   "pygments_lexer": "r",
   "version": "3.6.1"
  }
 },
 "nbformat": 4,
 "nbformat_minor": 5
}
