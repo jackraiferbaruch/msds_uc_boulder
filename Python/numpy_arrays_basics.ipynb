{
 "cells": [
  {
   "cell_type": "code",
   "execution_count": 2,
   "id": "d5ba471d-2db2-45dd-bb9b-d0c0422ceb61",
   "metadata": {},
   "outputs": [],
   "source": [
    "#Import numpy\n",
    "import numpy as np"
   ]
  },
  {
   "cell_type": "markdown",
   "id": "4234d9f0-9a71-442e-a5ed-3d3527e0a943",
   "metadata": {},
   "source": [
    "#### Basic Arrays ####"
   ]
  },
  {
   "cell_type": "code",
   "execution_count": 9,
   "id": "c25d3649-48a2-4277-a39f-9917e603d5e8",
   "metadata": {},
   "outputs": [
    {
     "data": {
      "text/plain": [
       "numpy.ndarray"
      ]
     },
     "execution_count": 9,
     "metadata": {},
     "output_type": "execute_result"
    }
   ],
   "source": [
    "# Create a numpy array and assign it to a variable. Check the type.\n",
    "a = np.array([0,1,2,3])\n",
    "type(a)"
   ]
  },
  {
   "cell_type": "code",
   "execution_count": 10,
   "id": "b0d6ee70-cf1d-4821-b1de-a34f59db7f2f",
   "metadata": {},
   "outputs": [
    {
     "data": {
      "text/plain": [
       "(4,)"
      ]
     },
     "execution_count": 10,
     "metadata": {},
     "output_type": "execute_result"
    }
   ],
   "source": [
    "# We can check the shape of the array using the .shape method\n",
    "\n",
    "a.shape"
   ]
  },
  {
   "cell_type": "code",
   "execution_count": 12,
   "id": "f4c7d532-0440-41ac-9c30-6d8cfc65aceb",
   "metadata": {},
   "outputs": [
    {
     "name": "stdout",
     "output_type": "stream",
     "text": [
      "0 2 3\n"
     ]
    }
   ],
   "source": [
    "# Indexing works the same as in lists.\n",
    "\n",
    "print(a[0], a[2], a[3])"
   ]
  },
  {
   "cell_type": "code",
   "execution_count": 13,
   "id": "f7b3edf1-7194-4175-8061-d9ddd57d0305",
   "metadata": {},
   "outputs": [
    {
     "ename": "IndexError",
     "evalue": "index 4 is out of bounds for axis 0 with size 4",
     "output_type": "error",
     "traceback": [
      "\u001b[1;31m---------------------------------------------------------------------------\u001b[0m",
      "\u001b[1;31mIndexError\u001b[0m                                Traceback (most recent call last)",
      "\u001b[1;32m<ipython-input-13-ed40d1f49c42>\u001b[0m in \u001b[0;36m<module>\u001b[1;34m\u001b[0m\n\u001b[1;32m----> 1\u001b[1;33m \u001b[0ma\u001b[0m\u001b[1;33m[\u001b[0m\u001b[1;36m4\u001b[0m\u001b[1;33m]\u001b[0m\u001b[1;33m\u001b[0m\u001b[1;33m\u001b[0m\u001b[0m\n\u001b[0m",
      "\u001b[1;31mIndexError\u001b[0m: index 4 is out of bounds for axis 0 with size 4"
     ]
    }
   ],
   "source": [
    "a[4]"
   ]
  },
  {
   "cell_type": "code",
   "execution_count": 14,
   "id": "71f7ea33-29a4-486b-a0ae-5bb6ef36d551",
   "metadata": {},
   "outputs": [
    {
     "data": {
      "text/plain": [
       "3"
      ]
     },
     "execution_count": 14,
     "metadata": {},
     "output_type": "execute_result"
    }
   ],
   "source": [
    "a[-1]"
   ]
  },
  {
   "cell_type": "code",
   "execution_count": 15,
   "id": "bf9e1b69-8ec6-4f5c-91d5-582fe26b53c9",
   "metadata": {},
   "outputs": [
    {
     "data": {
      "text/plain": [
       "0"
      ]
     },
     "execution_count": 15,
     "metadata": {},
     "output_type": "execute_result"
    }
   ],
   "source": [
    "a[-4]"
   ]
  },
  {
   "cell_type": "code",
   "execution_count": 16,
   "id": "49ed9c8e-7f20-4e31-b441-8b88b4ee6cf3",
   "metadata": {},
   "outputs": [
    {
     "ename": "IndexError",
     "evalue": "index -5 is out of bounds for axis 0 with size 4",
     "output_type": "error",
     "traceback": [
      "\u001b[1;31m---------------------------------------------------------------------------\u001b[0m",
      "\u001b[1;31mIndexError\u001b[0m                                Traceback (most recent call last)",
      "\u001b[1;32m<ipython-input-16-dadeaba0f55e>\u001b[0m in \u001b[0;36m<module>\u001b[1;34m\u001b[0m\n\u001b[1;32m----> 1\u001b[1;33m \u001b[0ma\u001b[0m\u001b[1;33m[\u001b[0m\u001b[1;33m-\u001b[0m\u001b[1;36m5\u001b[0m\u001b[1;33m]\u001b[0m\u001b[1;33m\u001b[0m\u001b[1;33m\u001b[0m\u001b[0m\n\u001b[0m",
      "\u001b[1;31mIndexError\u001b[0m: index -5 is out of bounds for axis 0 with size 4"
     ]
    }
   ],
   "source": [
    "a[-5]"
   ]
  },
  {
   "cell_type": "code",
   "execution_count": 17,
   "id": "ee477324-3400-4442-802a-d65f78c5deaf",
   "metadata": {},
   "outputs": [
    {
     "data": {
      "text/plain": [
       "array([0, 1, 2, 3])"
      ]
     },
     "execution_count": 17,
     "metadata": {},
     "output_type": "execute_result"
    }
   ],
   "source": [
    "# We can also slice the same way as a list\n",
    "\n",
    "a[0:]"
   ]
  },
  {
   "cell_type": "code",
   "execution_count": 18,
   "id": "b15acf6a-e066-4a9f-97e3-557dd8cabc06",
   "metadata": {},
   "outputs": [
    {
     "data": {
      "text/plain": [
       "array([1, 2])"
      ]
     },
     "execution_count": 18,
     "metadata": {},
     "output_type": "execute_result"
    }
   ],
   "source": [
    "a[1:3]"
   ]
  },
  {
   "cell_type": "code",
   "execution_count": 19,
   "id": "fba3f9b8-02a2-4294-b552-bbdc0617faa0",
   "metadata": {},
   "outputs": [
    {
     "data": {
      "text/plain": [
       "array([0, 1])"
      ]
     },
     "execution_count": 19,
     "metadata": {},
     "output_type": "execute_result"
    }
   ],
   "source": [
    "a[:2]"
   ]
  },
  {
   "cell_type": "code",
   "execution_count": 20,
   "id": "bb989428-33b5-482b-bcb9-51e3a75f86cd",
   "metadata": {},
   "outputs": [
    {
     "data": {
      "text/plain": [
       "array([0, 1, 2])"
      ]
     },
     "execution_count": 20,
     "metadata": {},
     "output_type": "execute_result"
    }
   ],
   "source": [
    "a[:-1]"
   ]
  },
  {
   "cell_type": "code",
   "execution_count": 21,
   "id": "985be873-534b-4afa-ac05-b98742a0f541",
   "metadata": {},
   "outputs": [
    {
     "data": {
      "text/plain": [
       "array([2, 3])"
      ]
     },
     "execution_count": 21,
     "metadata": {},
     "output_type": "execute_result"
    }
   ],
   "source": [
    "a[-2:]"
   ]
  },
  {
   "cell_type": "code",
   "execution_count": 22,
   "id": "4291db62-1e79-46f9-8155-e82e7e5225e2",
   "metadata": {},
   "outputs": [
    {
     "data": {
      "text/plain": [
       "array([0, 2])"
      ]
     },
     "execution_count": 22,
     "metadata": {},
     "output_type": "execute_result"
    }
   ],
   "source": [
    "a[::2]"
   ]
  },
  {
   "cell_type": "code",
   "execution_count": 23,
   "id": "33b0c7e7-e5f0-4dcc-8dd5-fda3ab436cf4",
   "metadata": {},
   "outputs": [
    {
     "data": {
      "text/plain": [
       "array([1, 3])"
      ]
     },
     "execution_count": 23,
     "metadata": {},
     "output_type": "execute_result"
    }
   ],
   "source": [
    "a[1::2]"
   ]
  },
  {
   "cell_type": "markdown",
   "id": "7fe671c9-4152-4beb-a371-589617433f9c",
   "metadata": {},
   "source": [
    "#### Array Types ####"
   ]
  },
  {
   "cell_type": "code",
   "execution_count": 3,
   "id": "747bda8d-2579-491c-948c-6ab29d87903e",
   "metadata": {},
   "outputs": [],
   "source": [
    "a = np.array([0, 1, 2, 3, 4])\n",
    "b = np.array([0.0, 0.1, 0.2, 0.3])"
   ]
  },
  {
   "cell_type": "code",
   "execution_count": 11,
   "id": "02e637d8-b529-4f6f-8e8b-c4fb09210beb",
   "metadata": {},
   "outputs": [
    {
     "data": {
      "text/plain": [
       "dtype('int32')"
      ]
     },
     "execution_count": 11,
     "metadata": {},
     "output_type": "execute_result"
    }
   ],
   "source": [
    "a.dtype"
   ]
  },
  {
   "cell_type": "code",
   "execution_count": 12,
   "id": "1f2e15f6-f17a-44f4-828c-8e6bc7d335af",
   "metadata": {},
   "outputs": [
    {
     "data": {
      "text/plain": [
       "dtype('float64')"
      ]
     },
     "execution_count": 12,
     "metadata": {},
     "output_type": "execute_result"
    }
   ],
   "source": [
    "b.dtype"
   ]
  },
  {
   "cell_type": "code",
   "execution_count": 8,
   "id": "cb0ef247-73ec-4bbd-8c20-af6d7c06a17a",
   "metadata": {},
   "outputs": [],
   "source": [
    "c = np.array([0, 1.1, 2, 3.8], dtype = float)"
   ]
  },
  {
   "cell_type": "code",
   "execution_count": 13,
   "id": "3e2a5b1e-1c62-4cb9-b386-61bb66a3f408",
   "metadata": {},
   "outputs": [
    {
     "data": {
      "text/plain": [
       "dtype('float64')"
      ]
     },
     "execution_count": 13,
     "metadata": {},
     "output_type": "execute_result"
    }
   ],
   "source": [
    "c.dtype"
   ]
  },
  {
   "cell_type": "code",
   "execution_count": 17,
   "id": "d090d24f-38f4-4ff9-ae6c-f30eebfef7dd",
   "metadata": {},
   "outputs": [],
   "source": [
    "d = np.array([0, 1.1, 2, 3.8], dtype = int)"
   ]
  },
  {
   "cell_type": "code",
   "execution_count": 18,
   "id": "093e271c-897e-4e24-aa6d-98fa1883716e",
   "metadata": {},
   "outputs": [
    {
     "data": {
      "text/plain": [
       "dtype('int32')"
      ]
     },
     "execution_count": 18,
     "metadata": {},
     "output_type": "execute_result"
    }
   ],
   "source": [
    "d.dtype"
   ]
  },
  {
   "cell_type": "markdown",
   "id": "6c1a4c60-069f-4a92-8a81-8dab64ac0925",
   "metadata": {},
   "source": [
    "#### Dimensions and Shapes ####"
   ]
  },
  {
   "cell_type": "code",
   "execution_count": 19,
   "id": "481af163-76b2-4499-aaa2-995a3ceb0eb0",
   "metadata": {},
   "outputs": [],
   "source": [
    "a = np.array([0, 1, 2, 3, 4])"
   ]
  },
  {
   "cell_type": "code",
   "execution_count": 20,
   "id": "18420783-c33e-4996-9165-2c421210da50",
   "metadata": {},
   "outputs": [
    {
     "data": {
      "text/plain": [
       "(5,)"
      ]
     },
     "execution_count": 20,
     "metadata": {},
     "output_type": "execute_result"
    }
   ],
   "source": [
    "a.shape"
   ]
  },
  {
   "cell_type": "code",
   "execution_count": 23,
   "id": "48d54bce-dcb3-4f90-9b53-427a74a7d666",
   "metadata": {},
   "outputs": [],
   "source": [
    "# Matrix Array\n",
    "A = np.array([\n",
    "    [0, 1, 2, 3],\n",
    "    [4, 5, 6, 7],\n",
    "    [8, 9, 10, 11]\n",
    "])"
   ]
  },
  {
   "cell_type": "code",
   "execution_count": 24,
   "id": "80021788-e750-4f92-b36a-f2e1ab41f296",
   "metadata": {},
   "outputs": [
    {
     "data": {
      "text/plain": [
       "(3, 4)"
      ]
     },
     "execution_count": 24,
     "metadata": {},
     "output_type": "execute_result"
    }
   ],
   "source": [
    "A.shape"
   ]
  },
  {
   "cell_type": "code",
   "execution_count": 27,
   "id": "7f92da97-b27c-43d9-a32f-2a2c8a2f3e54",
   "metadata": {},
   "outputs": [],
   "source": [
    "# 3 Dimensional Matrix\n",
    "\n",
    "B = np.array([\n",
    "    [\n",
    "        [0, 1],\n",
    "        [2, 3],\n",
    "        [4, 5]\n",
    "    ],\n",
    "    [\n",
    "        [6, 7],\n",
    "        [8, 9],\n",
    "        [10, 11]\n",
    "    ]\n",
    "])"
   ]
  },
  {
   "cell_type": "code",
   "execution_count": 28,
   "id": "448b536b-c1fa-4fb8-b992-533a3382fb09",
   "metadata": {},
   "outputs": [
    {
     "data": {
      "text/plain": [
       "(2, 3, 2)"
      ]
     },
     "execution_count": 28,
     "metadata": {},
     "output_type": "execute_result"
    }
   ],
   "source": [
    "B.shape"
   ]
  },
  {
   "cell_type": "code",
   "execution_count": 30,
   "id": "c0efa177-4d70-4ee4-b224-7e16c1cf351e",
   "metadata": {},
   "outputs": [
    {
     "data": {
      "text/plain": [
       "3"
      ]
     },
     "execution_count": 30,
     "metadata": {},
     "output_type": "execute_result"
    }
   ],
   "source": [
    "# Check number of dimensions\n",
    "B.ndim"
   ]
  },
  {
   "cell_type": "code",
   "execution_count": 31,
   "id": "475cda5a-946f-43c9-913e-8f3deb94576b",
   "metadata": {},
   "outputs": [
    {
     "data": {
      "text/plain": [
       "12"
      ]
     },
     "execution_count": 31,
     "metadata": {},
     "output_type": "execute_result"
    }
   ],
   "source": [
    "B.size"
   ]
  },
  {
   "cell_type": "markdown",
   "id": "0d8c476e-f482-47cd-a0f9-d1d080935d0f",
   "metadata": {},
   "source": [
    "### Indexing and Slicing Matrices ###"
   ]
  },
  {
   "cell_type": "code",
   "execution_count": 32,
   "id": "7ab71542-a9ca-4fc3-909b-66bec607ab4b",
   "metadata": {},
   "outputs": [],
   "source": [
    "A = np.array([\n",
    "    [0, 1, 2, 3],\n",
    "    [4, 5, 6, 7]\n",
    "])"
   ]
  },
  {
   "cell_type": "code",
   "execution_count": 33,
   "id": "32a48a7d-54cd-4ac7-8f43-a89d31bd9d40",
   "metadata": {},
   "outputs": [
    {
     "data": {
      "text/plain": [
       "(2, 4)"
      ]
     },
     "execution_count": 33,
     "metadata": {},
     "output_type": "execute_result"
    }
   ],
   "source": [
    "A.shape"
   ]
  },
  {
   "cell_type": "code",
   "execution_count": 34,
   "id": "ffac2bf6-7bd3-488f-a491-2a486e3ee907",
   "metadata": {},
   "outputs": [
    {
     "data": {
      "text/plain": [
       "array([0, 1, 2, 3])"
      ]
     },
     "execution_count": 34,
     "metadata": {},
     "output_type": "execute_result"
    }
   ],
   "source": [
    "A[0]"
   ]
  },
  {
   "cell_type": "code",
   "execution_count": 35,
   "id": "672f4622-b8e9-4ca9-95c2-847041ed5cac",
   "metadata": {},
   "outputs": [
    {
     "data": {
      "text/plain": [
       "array([4, 5, 6, 7])"
      ]
     },
     "execution_count": 35,
     "metadata": {},
     "output_type": "execute_result"
    }
   ],
   "source": [
    "A[1]"
   ]
  },
  {
   "cell_type": "code",
   "execution_count": 36,
   "id": "3bc285ec-5662-4e09-b127-6a645739a07f",
   "metadata": {},
   "outputs": [
    {
     "data": {
      "text/plain": [
       "array([], shape=(0, 4), dtype=int32)"
      ]
     },
     "execution_count": 36,
     "metadata": {},
     "output_type": "execute_result"
    }
   ],
   "source": [
    "A[:0]"
   ]
  },
  {
   "cell_type": "code",
   "execution_count": 37,
   "id": "66d00ea7-efd3-479f-bc84-30c156e9f682",
   "metadata": {},
   "outputs": [
    {
     "data": {
      "text/plain": [
       "array([[0, 1, 2, 3]])"
      ]
     },
     "execution_count": 37,
     "metadata": {},
     "output_type": "execute_result"
    }
   ],
   "source": [
    "A[:1]"
   ]
  },
  {
   "cell_type": "code",
   "execution_count": 38,
   "id": "8804de87-5ab3-4512-b27b-f409ea091030",
   "metadata": {},
   "outputs": [
    {
     "data": {
      "text/plain": [
       "array([0, 4])"
      ]
     },
     "execution_count": 38,
     "metadata": {},
     "output_type": "execute_result"
    }
   ],
   "source": [
    "# Column\n",
    "A[:,0]"
   ]
  },
  {
   "cell_type": "code",
   "execution_count": 39,
   "id": "1075b9a0-4f76-4042-9cb8-5f4cc6652907",
   "metadata": {},
   "outputs": [
    {
     "data": {
      "text/plain": [
       "array([3, 7])"
      ]
     },
     "execution_count": 39,
     "metadata": {},
     "output_type": "execute_result"
    }
   ],
   "source": [
    "# Column\n",
    "A[:,3]"
   ]
  },
  {
   "cell_type": "code",
   "execution_count": 41,
   "id": "78a58efb-710f-4f9b-b367-0a4171f1a577",
   "metadata": {},
   "outputs": [
    {
     "data": {
      "text/plain": [
       "0"
      ]
     },
     "execution_count": 41,
     "metadata": {},
     "output_type": "execute_result"
    }
   ],
   "source": [
    "# Indexing for one item\n",
    "A[0,0]"
   ]
  },
  {
   "cell_type": "code",
   "execution_count": 42,
   "id": "adc735a6-29f2-47d8-bce9-eedd4685f499",
   "metadata": {},
   "outputs": [
    {
     "data": {
      "text/plain": [
       "7"
      ]
     },
     "execution_count": 42,
     "metadata": {},
     "output_type": "execute_result"
    }
   ],
   "source": [
    "A[1,3]"
   ]
  },
  {
   "cell_type": "code",
   "execution_count": 45,
   "id": "fd468e02-5037-4adc-9fb9-29bf3375a490",
   "metadata": {},
   "outputs": [
    {
     "data": {
      "text/plain": [
       "array([[1, 2],\n",
       "       [5, 6]])"
      ]
     },
     "execution_count": 45,
     "metadata": {},
     "output_type": "execute_result"
    }
   ],
   "source": [
    "# Getting specific columns\n",
    "A[:,1:3]"
   ]
  },
  {
   "cell_type": "code",
   "execution_count": 46,
   "id": "fdc8ef48-8576-4b56-98ce-afd8ace2c434",
   "metadata": {},
   "outputs": [],
   "source": [
    "A[0] = np.array([8, 9, 10, 11])"
   ]
  },
  {
   "cell_type": "code",
   "execution_count": 47,
   "id": "410ecd5b-e2c1-43fc-ab75-c4d3a6c85056",
   "metadata": {},
   "outputs": [],
   "source": [
    "A[1] = 98"
   ]
  },
  {
   "cell_type": "code",
   "execution_count": 48,
   "id": "fc10f234-0d81-4492-94a0-c555dabe584d",
   "metadata": {},
   "outputs": [
    {
     "data": {
      "text/plain": [
       "array([[ 8,  9, 10, 11],\n",
       "       [98, 98, 98, 98]])"
      ]
     },
     "execution_count": 48,
     "metadata": {},
     "output_type": "execute_result"
    }
   ],
   "source": [
    "A"
   ]
  },
  {
   "cell_type": "markdown",
   "id": "c745742a-1a1a-44e3-b51b-5e5224a65da7",
   "metadata": {},
   "source": [
    "### Statistics ###"
   ]
  },
  {
   "cell_type": "code",
   "execution_count": 56,
   "id": "1d540422-f2ee-49f0-ab62-119abcc81ccd",
   "metadata": {},
   "outputs": [],
   "source": [
    "a = np.array([0, 1, 2, 4])"
   ]
  },
  {
   "cell_type": "code",
   "execution_count": 57,
   "id": "6b81186e-2954-46c5-b346-621bbcdf3812",
   "metadata": {},
   "outputs": [
    {
     "data": {
      "text/plain": [
       "array([0, 1, 2, 4])"
      ]
     },
     "execution_count": 57,
     "metadata": {},
     "output_type": "execute_result"
    }
   ],
   "source": [
    "a"
   ]
  },
  {
   "cell_type": "code",
   "execution_count": 58,
   "id": "1be1cfad-c03c-4fcb-845f-59ff33a96f55",
   "metadata": {},
   "outputs": [
    {
     "data": {
      "text/plain": [
       "7"
      ]
     },
     "execution_count": 58,
     "metadata": {},
     "output_type": "execute_result"
    }
   ],
   "source": [
    "a.sum()"
   ]
  },
  {
   "cell_type": "code",
   "execution_count": 59,
   "id": "83ca0dcb-c767-4ae2-960f-2fb78bcec55f",
   "metadata": {},
   "outputs": [
    {
     "data": {
      "text/plain": [
       "1.75"
      ]
     },
     "execution_count": 59,
     "metadata": {},
     "output_type": "execute_result"
    }
   ],
   "source": [
    "a.mean()"
   ]
  },
  {
   "cell_type": "code",
   "execution_count": 60,
   "id": "288ead6b-6cc5-45fe-9705-aa35f5e095c9",
   "metadata": {},
   "outputs": [
    {
     "data": {
      "text/plain": [
       "1.479019945774904"
      ]
     },
     "execution_count": 60,
     "metadata": {},
     "output_type": "execute_result"
    }
   ],
   "source": [
    "# Standard Deviation\n",
    "a.std()"
   ]
  },
  {
   "cell_type": "code",
   "execution_count": 61,
   "id": "6be909ff-13ad-489c-89c1-df4c523d8b9a",
   "metadata": {},
   "outputs": [
    {
     "data": {
      "text/plain": [
       "2.1875"
      ]
     },
     "execution_count": 61,
     "metadata": {},
     "output_type": "execute_result"
    }
   ],
   "source": [
    "# Variance\n",
    "a.var()"
   ]
  },
  {
   "cell_type": "code",
   "execution_count": 62,
   "id": "52dfae02-0f73-4402-b34a-6b05dee94147",
   "metadata": {},
   "outputs": [
    {
     "data": {
      "text/plain": [
       "4"
      ]
     },
     "execution_count": 62,
     "metadata": {},
     "output_type": "execute_result"
    }
   ],
   "source": [
    "a.max()"
   ]
  },
  {
   "cell_type": "code",
   "execution_count": 63,
   "id": "66a9ef70-85ea-4fd9-855a-27a9ee66aa2c",
   "metadata": {},
   "outputs": [
    {
     "data": {
      "text/plain": [
       "0"
      ]
     },
     "execution_count": 63,
     "metadata": {},
     "output_type": "execute_result"
    }
   ],
   "source": [
    "a.min()"
   ]
  },
  {
   "cell_type": "code",
   "execution_count": 64,
   "id": "5de9cbbb-7769-4c3c-9a23-7d982c2c8625",
   "metadata": {},
   "outputs": [],
   "source": [
    "A = np.array([\n",
    "    [0, 1, 2, 3],\n",
    "    [4, 5, 6, 7],\n",
    "    [8, 9, 10, 11]\n",
    "])"
   ]
  },
  {
   "cell_type": "code",
   "execution_count": 65,
   "id": "9f2e3526-d255-4dbf-b1ec-3d3ffe4ff442",
   "metadata": {},
   "outputs": [
    {
     "data": {
      "text/plain": [
       "66"
      ]
     },
     "execution_count": 65,
     "metadata": {},
     "output_type": "execute_result"
    }
   ],
   "source": [
    "A.sum()"
   ]
  },
  {
   "cell_type": "code",
   "execution_count": 66,
   "id": "d8eec201-3e5a-4da0-943a-dc1bba99e2fc",
   "metadata": {},
   "outputs": [
    {
     "data": {
      "text/plain": [
       "5.5"
      ]
     },
     "execution_count": 66,
     "metadata": {},
     "output_type": "execute_result"
    }
   ],
   "source": [
    "A.mean()"
   ]
  },
  {
   "cell_type": "code",
   "execution_count": 67,
   "id": "8e355150-f19c-401b-8a3c-b169d1cc20bc",
   "metadata": {},
   "outputs": [
    {
     "data": {
      "text/plain": [
       "3.452052529534663"
      ]
     },
     "execution_count": 67,
     "metadata": {},
     "output_type": "execute_result"
    }
   ],
   "source": [
    "A.std()"
   ]
  },
  {
   "cell_type": "code",
   "execution_count": 68,
   "id": "0d8b6212-a15b-45d8-817f-95498225f105",
   "metadata": {},
   "outputs": [
    {
     "data": {
      "text/plain": [
       "11.916666666666666"
      ]
     },
     "execution_count": 68,
     "metadata": {},
     "output_type": "execute_result"
    }
   ],
   "source": [
    "A.var()"
   ]
  },
  {
   "cell_type": "code",
   "execution_count": 70,
   "id": "e6ee3622-545b-4383-aa58-da1510904f55",
   "metadata": {},
   "outputs": [
    {
     "data": {
      "text/plain": [
       "11"
      ]
     },
     "execution_count": 70,
     "metadata": {},
     "output_type": "execute_result"
    }
   ],
   "source": [
    "A.max()"
   ]
  },
  {
   "cell_type": "code",
   "execution_count": 71,
   "id": "3570946c-94e9-44be-bb86-3b15c4b8ab88",
   "metadata": {},
   "outputs": [
    {
     "data": {
      "text/plain": [
       "array([12, 15, 18, 21])"
      ]
     },
     "execution_count": 71,
     "metadata": {},
     "output_type": "execute_result"
    }
   ],
   "source": [
    "# Sum by columns\n",
    "A.sum(axis = 0)"
   ]
  },
  {
   "cell_type": "code",
   "execution_count": 72,
   "id": "f8ceed58-7d73-41f7-9eaa-d62877a8c699",
   "metadata": {},
   "outputs": [
    {
     "data": {
      "text/plain": [
       "array([ 6, 22, 38])"
      ]
     },
     "execution_count": 72,
     "metadata": {},
     "output_type": "execute_result"
    }
   ],
   "source": [
    "# Sum by row\n",
    "A.sum(axis=1)"
   ]
  },
  {
   "cell_type": "code",
   "execution_count": 74,
   "id": "b9d85661-400f-4388-8558-ebf531b256ec",
   "metadata": {},
   "outputs": [
    {
     "data": {
      "text/plain": [
       "array([4., 5., 6., 7.])"
      ]
     },
     "execution_count": 74,
     "metadata": {},
     "output_type": "execute_result"
    }
   ],
   "source": [
    "A.mean(axis=0)"
   ]
  },
  {
   "cell_type": "code",
   "execution_count": 75,
   "id": "504b6f00-e007-47f9-a5c6-1fbe5493aa4b",
   "metadata": {},
   "outputs": [
    {
     "data": {
      "text/plain": [
       "array([ 3,  7, 11])"
      ]
     },
     "execution_count": 75,
     "metadata": {},
     "output_type": "execute_result"
    }
   ],
   "source": [
    "A.max(axis=1)"
   ]
  },
  {
   "cell_type": "markdown",
   "id": "f3b4449c-b455-4d01-8ab9-6a9c8fc2159d",
   "metadata": {},
   "source": [
    "### Linear Algebra ###"
   ]
  },
  {
   "cell_type": "code",
   "execution_count": 76,
   "id": "5e18c289-4280-4304-95e4-79b52c895878",
   "metadata": {},
   "outputs": [],
   "source": [
    "A = np.array([\n",
    "    [0, 1, 1],\n",
    "    [3, 4, 5]\n",
    "])\n",
    "\n",
    "B = np.array([\n",
    "    [6, 7, 8],\n",
    "    [9, 10, 11]\n",
    "])"
   ]
  },
  {
   "cell_type": "code",
   "execution_count": 77,
   "id": "d69c4e2e-e3d0-4c81-9532-0c6ddc22b7ec",
   "metadata": {},
   "outputs": [
    {
     "data": {
      "text/plain": [
       "array([[0, 1, 1],\n",
       "       [3, 4, 5]])"
      ]
     },
     "execution_count": 77,
     "metadata": {},
     "output_type": "execute_result"
    }
   ],
   "source": [
    "A"
   ]
  },
  {
   "cell_type": "code",
   "execution_count": 78,
   "id": "409debd9-11d8-461e-ae86-3bedd159e4a8",
   "metadata": {},
   "outputs": [
    {
     "data": {
      "text/plain": [
       "array([[ 6,  7,  8],\n",
       "       [ 9, 10, 11]])"
      ]
     },
     "execution_count": 78,
     "metadata": {},
     "output_type": "execute_result"
    }
   ],
   "source": [
    "B"
   ]
  },
  {
   "cell_type": "code",
   "execution_count": 79,
   "id": "7c00f056-c12f-410f-a05e-4ddb3c6bb9ff",
   "metadata": {},
   "outputs": [
    {
     "data": {
      "text/plain": [
       "array([[ 6,  8,  9],\n",
       "       [12, 14, 16]])"
      ]
     },
     "execution_count": 79,
     "metadata": {},
     "output_type": "execute_result"
    }
   ],
   "source": [
    "A + B"
   ]
  },
  {
   "cell_type": "code",
   "execution_count": 80,
   "id": "e2dbed61-2e1b-4ca1-95d1-7b030ac9631a",
   "metadata": {},
   "outputs": [
    {
     "data": {
      "text/plain": [
       "array([[-6, -6, -7],\n",
       "       [-6, -6, -6]])"
      ]
     },
     "execution_count": 80,
     "metadata": {},
     "output_type": "execute_result"
    }
   ],
   "source": [
    "A - B"
   ]
  },
  {
   "cell_type": "code",
   "execution_count": 83,
   "id": "0518d348-dbb7-42cf-8d69-898bac34c256",
   "metadata": {},
   "outputs": [
    {
     "data": {
      "text/plain": [
       "array([[ 0,  7,  8],\n",
       "       [27, 40, 55]])"
      ]
     },
     "execution_count": 83,
     "metadata": {},
     "output_type": "execute_result"
    }
   ],
   "source": [
    "# This is pairwise NOT dot product\n",
    "A * B"
   ]
  },
  {
   "cell_type": "code",
   "execution_count": 84,
   "id": "acea56da-cc61-4750-9ac4-f0ca4b0ff075",
   "metadata": {},
   "outputs": [
    {
     "data": {
      "text/plain": [
       "array([[ 6,  9],\n",
       "       [ 7, 10],\n",
       "       [ 8, 11]])"
      ]
     },
     "execution_count": 84,
     "metadata": {},
     "output_type": "execute_result"
    }
   ],
   "source": [
    "# Transpose\n",
    "B.T"
   ]
  },
  {
   "cell_type": "code",
   "execution_count": 86,
   "id": "fec42a1f-7a07-4575-8fde-a444b4b64f96",
   "metadata": {},
   "outputs": [
    {
     "data": {
      "text/plain": [
       "array([[ 15,  21],\n",
       "       [ 86, 122]])"
      ]
     },
     "execution_count": 86,
     "metadata": {},
     "output_type": "execute_result"
    }
   ],
   "source": [
    "# Dot product of A times B\n",
    "\n",
    "A @ (B.T)"
   ]
  },
  {
   "cell_type": "code",
   "execution_count": 87,
   "id": "d90c6abb-5684-494a-b04f-0979713767e8",
   "metadata": {},
   "outputs": [
    {
     "data": {
      "text/plain": [
       "array([[27, 30, 33],\n",
       "       [42, 47, 52],\n",
       "       [51, 57, 63]])"
      ]
     },
     "execution_count": 87,
     "metadata": {},
     "output_type": "execute_result"
    }
   ],
   "source": [
    "# Dot product of B times A\n",
    "\n",
    "A.T @ B"
   ]
  },
  {
   "cell_type": "markdown",
   "id": "051ca6ee-3e47-4711-9485-0ff2acffc897",
   "metadata": {},
   "source": [
    "### Numpy Functions ###"
   ]
  },
  {
   "cell_type": "code",
   "execution_count": 88,
   "id": "9da18eb3-0d0b-41ba-92d1-306c87acb007",
   "metadata": {},
   "outputs": [
    {
     "data": {
      "text/plain": [
       "array([0, 1, 2, 3, 4, 5, 6, 7, 8, 9])"
      ]
     },
     "execution_count": 88,
     "metadata": {},
     "output_type": "execute_result"
    }
   ],
   "source": [
    "# A Range\n",
    "np.arange(10)"
   ]
  },
  {
   "cell_type": "code",
   "execution_count": 89,
   "id": "777dea2d-15b7-45aa-9ea0-ca96fed38fe0",
   "metadata": {},
   "outputs": [
    {
     "data": {
      "text/plain": [
       "array([5, 6, 7, 8, 9])"
      ]
     },
     "execution_count": 89,
     "metadata": {},
     "output_type": "execute_result"
    }
   ],
   "source": [
    "np.arange(5, 10)"
   ]
  },
  {
   "cell_type": "code",
   "execution_count": 90,
   "id": "c53a43f4-dbf5-4c7c-88b6-6d79f5ab88eb",
   "metadata": {},
   "outputs": [
    {
     "data": {
      "text/plain": [
       "array([5, 7, 9])"
      ]
     },
     "execution_count": 90,
     "metadata": {},
     "output_type": "execute_result"
    }
   ],
   "source": [
    "np.arange(5, 10, 2)"
   ]
  },
  {
   "cell_type": "code",
   "execution_count": 92,
   "id": "48d1b25f-cfb9-4b16-8f28-5e2c1f32d611",
   "metadata": {},
   "outputs": [
    {
     "data": {
      "text/plain": [
       "array([5. , 5.5, 6. , 6.5, 7. , 7.5, 8. , 8.5, 9. , 9.5])"
      ]
     },
     "execution_count": 92,
     "metadata": {},
     "output_type": "execute_result"
    }
   ],
   "source": [
    "np.arange(5, 10, 0.5)"
   ]
  },
  {
   "cell_type": "code",
   "execution_count": 94,
   "id": "926a7cd5-d4dd-413b-8a3f-c5da4abd792d",
   "metadata": {},
   "outputs": [
    {
     "data": {
      "text/plain": [
       "array([[0, 1],\n",
       "       [2, 3],\n",
       "       [4, 5],\n",
       "       [6, 7],\n",
       "       [8, 9]])"
      ]
     },
     "execution_count": 94,
     "metadata": {},
     "output_type": "execute_result"
    }
   ],
   "source": [
    "# Reshape (rows, columns)\n",
    "np.arange(10).reshape(5, 2)"
   ]
  },
  {
   "cell_type": "code",
   "execution_count": 95,
   "id": "070570b7-657f-437c-8390-02c38bce0703",
   "metadata": {},
   "outputs": [
    {
     "data": {
      "text/plain": [
       "array([[ 0,  1,  2,  3],\n",
       "       [ 4,  5,  6,  7],\n",
       "       [ 8,  9, 10, 11]])"
      ]
     },
     "execution_count": 95,
     "metadata": {},
     "output_type": "execute_result"
    }
   ],
   "source": [
    "np.arange(12).reshape(3, 4)"
   ]
  },
  {
   "cell_type": "code",
   "execution_count": 99,
   "id": "9e9be708-7fb9-4ab8-a4f5-7682972ecf39",
   "metadata": {},
   "outputs": [
    {
     "data": {
      "text/plain": [
       "array([5, 8, 8, 0, 7, 7, 2, 5, 5, 8])"
      ]
     },
     "execution_count": 99,
     "metadata": {},
     "output_type": "execute_result"
    }
   ],
   "source": [
    "# Numpy includes random library, random.randint gives you numbers from parameter a to parameter b (non inclisive)\n",
    "# and and the last parameter in brackets is the number of items in the array\n",
    "np.random.randint(0, 10, (10))"
   ]
  },
  {
   "cell_type": "code",
   "execution_count": 100,
   "id": "0a8abcda-ffaa-45cc-b468-e7f97b83877f",
   "metadata": {},
   "outputs": [
    {
     "data": {
      "text/plain": [
       "array([[1, 8],\n",
       "       [7, 4],\n",
       "       [8, 5],\n",
       "       [8, 9],\n",
       "       [1, 7]])"
      ]
     },
     "execution_count": 100,
     "metadata": {},
     "output_type": "execute_result"
    }
   ],
   "source": [
    "# We can use the size parameter tupple to define the size\n",
    "np.random.randint(0, 10, (5, 2))"
   ]
  },
  {
   "cell_type": "code",
   "execution_count": 102,
   "id": "12906b21-8f30-42eb-b606-7178d1834660",
   "metadata": {},
   "outputs": [
    {
     "data": {
      "text/plain": [
       "array([[0.57907426, 0.3303214 , 0.29919517, 0.59542361],\n",
       "       [0.2709337 , 0.25689956, 0.78385519, 0.46847308]])"
      ]
     },
     "execution_count": 102,
     "metadata": {},
     "output_type": "execute_result"
    }
   ],
   "source": [
    "# We can use rand to create arrays of random floats\n",
    "np.random.rand(2, 4)"
   ]
  },
  {
   "cell_type": "code",
   "execution_count": 103,
   "id": "39d9a605-0800-40fa-9ef8-d876dc19fbe5",
   "metadata": {},
   "outputs": [
    {
     "data": {
      "text/plain": [
       "array([ 0.10482563, -0.12569196, -0.11415866,  0.03032855, -0.20248652,\n",
       "       -0.14699037, -0.16160489,  0.02344318,  0.00529328, -0.06754788])"
      ]
     },
     "execution_count": 103,
     "metadata": {},
     "output_type": "execute_result"
    }
   ],
   "source": [
    "# Normal distibutions using mean, standard deviation and size\n",
    "np.random.normal(0, 0.1, (10))"
   ]
  },
  {
   "cell_type": "code",
   "execution_count": 104,
   "id": "3706013e-6431-4c85-9f7b-8e439c1cb8a1",
   "metadata": {},
   "outputs": [
    {
     "data": {
      "text/plain": [
       "array([[ 0.13320919,  0.04452089,  0.10414176,  0.00573352,  0.11583856],\n",
       "       [ 0.03463124,  0.00365625, -0.01541498, -0.00228715, -0.07502784]])"
      ]
     },
     "execution_count": 104,
     "metadata": {},
     "output_type": "execute_result"
    }
   ],
   "source": [
    "np.random.normal(0, 0.1, (2, 5))"
   ]
  },
  {
   "cell_type": "code",
   "execution_count": 105,
   "id": "29ca1454-8e45-473c-a302-da6a83bab98e",
   "metadata": {},
   "outputs": [
    {
     "data": {
      "text/plain": [
       "array([[0.53289798, 0.72544964, 0.51828561, 0.08533493],\n",
       "       [0.70599739, 0.69021921, 0.03391969, 0.0902479 ],\n",
       "       [0.85532932, 0.8678459 , 0.67194691, 0.1245772 ]])"
      ]
     },
     "execution_count": 105,
     "metadata": {},
     "output_type": "execute_result"
    }
   ],
   "source": [
    "# Uniform distribution\n",
    "np.random.uniform(0, 1, (3, 4))"
   ]
  },
  {
   "cell_type": "code",
   "execution_count": 106,
   "id": "9fe9a6bb-9936-4792-a9dd-83c22154089c",
   "metadata": {},
   "outputs": [],
   "source": [
    "a = np.random.uniform(0, 1, (2, 5))"
   ]
  },
  {
   "cell_type": "code",
   "execution_count": 107,
   "id": "51b7683b-00ad-4a7b-9b83-2ddebb9c1ead",
   "metadata": {},
   "outputs": [
    {
     "data": {
      "text/plain": [
       "array([[0.28168597, 0.9516853 , 0.10232497, 0.67889712, 0.08302534],\n",
       "       [0.15726375, 0.50451855, 0.50306587, 0.49682044, 0.4298496 ]])"
      ]
     },
     "execution_count": 107,
     "metadata": {},
     "output_type": "execute_result"
    }
   ],
   "source": [
    "a"
   ]
  },
  {
   "cell_type": "code",
   "execution_count": 108,
   "id": "e3efd761-fbf5-44e9-8dd5-bd7aef0c04fc",
   "metadata": {},
   "outputs": [
    {
     "data": {
      "text/plain": [
       "array([[0.08302534, 0.10232497, 0.28168597, 0.67889712, 0.9516853 ],\n",
       "       [0.15726375, 0.4298496 , 0.49682044, 0.50306587, 0.50451855]])"
      ]
     },
     "execution_count": 108,
     "metadata": {},
     "output_type": "execute_result"
    }
   ],
   "source": [
    "# Sorting arrays\n",
    "np.sort(a)"
   ]
  },
  {
   "cell_type": "code",
   "execution_count": 109,
   "id": "5e033418-ce59-41f2-a737-2e3d2ab15150",
   "metadata": {},
   "outputs": [
    {
     "data": {
      "text/plain": [
       "array([0., 0., 0., 0., 0.])"
      ]
     },
     "execution_count": 109,
     "metadata": {},
     "output_type": "execute_result"
    }
   ],
   "source": [
    "np.zeros(5)"
   ]
  },
  {
   "cell_type": "code",
   "execution_count": 110,
   "id": "e063ef6f-984b-46a6-a920-a4476d8f2b24",
   "metadata": {},
   "outputs": [
    {
     "data": {
      "text/plain": [
       "array([1., 1., 1., 1., 1., 1.])"
      ]
     },
     "execution_count": 110,
     "metadata": {},
     "output_type": "execute_result"
    }
   ],
   "source": [
    "np.ones(6)"
   ]
  },
  {
   "cell_type": "code",
   "execution_count": 112,
   "id": "80127aa7-769f-4960-b9f3-6c313f1800b4",
   "metadata": {},
   "outputs": [
    {
     "data": {
      "text/plain": [
       "array([[1, 1, 1, 1, 1],\n",
       "       [1, 1, 1, 1, 1]])"
      ]
     },
     "execution_count": 112,
     "metadata": {},
     "output_type": "execute_result"
    }
   ],
   "source": [
    "np.ones((2, 5), dtype = int)"
   ]
  },
  {
   "cell_type": "code",
   "execution_count": null,
   "id": "ee1c4236-37b0-4a29-b364-210a64fe53c9",
   "metadata": {},
   "outputs": [],
   "source": []
  }
 ],
 "metadata": {
  "kernelspec": {
   "display_name": "Programming",
   "language": "python",
   "name": "programming"
  },
  "language_info": {
   "codemirror_mode": {
    "name": "ipython",
    "version": 3
   },
   "file_extension": ".py",
   "mimetype": "text/x-python",
   "name": "python",
   "nbconvert_exporter": "python",
   "pygments_lexer": "ipython3",
   "version": "3.9.5"
  }
 },
 "nbformat": 4,
 "nbformat_minor": 5
}
