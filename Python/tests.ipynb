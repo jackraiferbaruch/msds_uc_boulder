{
 "cells": [
  {
   "cell_type": "code",
   "execution_count": 1,
   "id": "338b8135-17c4-4943-a292-e373b2fdc28b",
   "metadata": {},
   "outputs": [
    {
     "name": "stdout",
     "output_type": "stream",
     "text": [
      "This is Jupyter Notebooks which I will be using for this course\n"
     ]
    }
   ],
   "source": [
    "print('This is Jupyter Notebooks which I will be using for this course')"
   ]
  },
  {
   "cell_type": "code",
   "execution_count": null,
   "id": "7f779a23-2a1b-4b82-b09b-f3c8355d2751",
   "metadata": {},
   "outputs": [],
   "source": []
  }
 ],
 "metadata": {
  "kernelspec": {
   "display_name": "Programming",
   "language": "python",
   "name": "programming"
  },
  "language_info": {
   "codemirror_mode": {
    "name": "ipython",
    "version": 3
   },
   "file_extension": ".py",
   "mimetype": "text/x-python",
   "name": "python",
   "nbconvert_exporter": "python",
   "pygments_lexer": "ipython3",
   "version": "3.9.5"
  }
 },
 "nbformat": 4,
 "nbformat_minor": 5
}
