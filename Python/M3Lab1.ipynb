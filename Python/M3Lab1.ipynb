{
 "cells": [
  {
   "cell_type": "markdown",
   "metadata": {
    "id": "cnAUJprJdh9_"
   },
   "source": [
    "# Welcome to our third Lab Practice!"
   ]
  },
  {
   "cell_type": "markdown",
   "metadata": {
    "id": "vVYcayGedmms"
   },
   "source": [
    "This lab is all about defining functions with return values. Are you ready? Let's get started!"
   ]
  },
  {
   "cell_type": "markdown",
   "metadata": {
    "id": "JP8eGBVyeSQx"
   },
   "source": [
    "You will find some small tasks in sections below. After defining functions, call them to test."
   ]
  },
  {
   "cell_type": "markdown",
   "metadata": {
    "id": "D8pWdoN7d6Dy"
   },
   "source": [
    "## Define functions with return numeric values. "
   ]
  },
  {
   "cell_type": "markdown",
   "metadata": {
    "id": "TTqVA_ew48Sn"
   },
   "source": [
    "###Task: define a function that return the absolute value of *n*, where *n* is a parameter"
   ]
  },
  {
   "cell_type": "code",
   "execution_count": 1,
   "metadata": {
    "id": "4l8oECs25O26"
   },
   "outputs": [
    {
     "name": "stdout",
     "output_type": "stream",
     "text": [
      "100\n",
      "150\n"
     ]
    }
   ],
   "source": [
    "# your code will be here\n",
    "\n",
    "def absolute(n):\n",
    "    return abs(n)\n",
    "\n",
    "print(absolute(-100))\n",
    "print(absolute(150))"
   ]
  },
  {
   "cell_type": "markdown",
   "metadata": {
    "id": "9hfJ0kha5G_A"
   },
   "source": [
    "###Task: define a function that return the product value of *n* and *m*, where *n, m* are parameters"
   ]
  },
  {
   "cell_type": "code",
   "execution_count": 2,
   "metadata": {
    "id": "qL379kld5PX0"
   },
   "outputs": [
    {
     "name": "stdout",
     "output_type": "stream",
     "text": [
      "20\n",
      "70\n"
     ]
    }
   ],
   "source": [
    "# your code will be here\n",
    "def mult(n, m):\n",
    "    return n*m\n",
    "\n",
    "print(mult(4, 5))\n",
    "print(mult(10, 7))"
   ]
  },
  {
   "cell_type": "markdown",
   "metadata": {
    "id": "OMTGtjW15P17"
   },
   "source": [
    "###Task: define a function that return the result of raise *n* to the power of *m*, where *n, m* are parameters"
   ]
  },
  {
   "cell_type": "code",
   "execution_count": 3,
   "metadata": {
    "id": "DgxIaShR5XTE"
   },
   "outputs": [
    {
     "name": "stdout",
     "output_type": "stream",
     "text": [
      "256\n",
      "25\n"
     ]
    }
   ],
   "source": [
    "# your code will be here\n",
    "def power(n, m):\n",
    "    return n**m\n",
    "\n",
    "print(power(2, 8))\n",
    "print(power(5, 2))"
   ]
  },
  {
   "cell_type": "markdown",
   "metadata": {
    "id": "tsRyQIt65f2J"
   },
   "source": [
    "###Task: define a function that return the average of three numbers, *x, y, z*, where *x, y, z* are parameters"
   ]
  },
  {
   "cell_type": "code",
   "execution_count": 6,
   "metadata": {
    "id": "_eG8Xzde5ruo"
   },
   "outputs": [
    {
     "name": "stdout",
     "output_type": "stream",
     "text": [
      "20.0\n",
      "18.333333333333332\n"
     ]
    }
   ],
   "source": [
    "# your code will be here\n",
    "def average(x, y, z):\n",
    "    return sum([x, y, z]) / 3\n",
    "\n",
    "print(average(10, 20, 30))\n",
    "print(average(12, 25, 18))"
   ]
  },
  {
   "cell_type": "markdown",
   "metadata": {
    "id": "TQZ68OBs5amt"
   },
   "source": [
    "###Task: define a function that return the minimal of three numbers, *x, y, z*, where *x, y, z* are parameters"
   ]
  },
  {
   "cell_type": "code",
   "execution_count": 7,
   "metadata": {
    "id": "47f7Q_AIRMUW"
   },
   "outputs": [
    {
     "name": "stdout",
     "output_type": "stream",
     "text": [
      "10\n",
      "12\n"
     ]
    }
   ],
   "source": [
    "# your code will be here\n",
    "def minimum(x, y, z):\n",
    "    return min([x, y, z])\n",
    "\n",
    "print(minimum(10, 20, 30))\n",
    "print(minimum(12, 25, 18))"
   ]
  },
  {
   "cell_type": "markdown",
   "metadata": {
    "id": "1y6noqXNRMpG"
   },
   "source": [
    "###Task: define a function that print sum of integers 1 to *n* (hint: you can use a for loop), where *n* is a parameter"
   ]
  },
  {
   "cell_type": "code",
   "execution_count": 8,
   "metadata": {
    "id": "J6RMucgP54b-"
   },
   "outputs": [
    {
     "name": "stdout",
     "output_type": "stream",
     "text": [
      "55\n",
      "5050\n"
     ]
    }
   ],
   "source": [
    "# your code will be here\n",
    "def range_sum(n):\n",
    "    return sum([num for num in range(1, n+1)])\n",
    "\n",
    "print(range_sum(10))\n",
    "print(range_sum(100))"
   ]
  },
  {
   "cell_type": "markdown",
   "metadata": {
    "id": "qzuHvz8d6ICV"
   },
   "source": [
    "## Define functions with return str values. "
   ]
  },
  {
   "cell_type": "markdown",
   "metadata": {
    "id": "rXgbUIBRgQoG"
   },
   "source": [
    "###Task: define a function that return \"hello, *name*\" where *name* is a parameter"
   ]
  },
  {
   "cell_type": "code",
   "execution_count": 9,
   "metadata": {
    "id": "oIKwmW2mfe3d"
   },
   "outputs": [
    {
     "data": {
      "text/plain": [
       "'Hello John'"
      ]
     },
     "execution_count": 9,
     "metadata": {},
     "output_type": "execute_result"
    }
   ],
   "source": [
    "# your code will be here\n",
    "def greet(name):\n",
    "    return f'Hello {name}'\n",
    "\n",
    "greet('John')"
   ]
  },
  {
   "cell_type": "markdown",
   "metadata": {
    "id": "h-mrQgK7RKqm"
   },
   "source": [
    "###Task: define a function that return \"hello world\" *n* times, where *n* is a parameter"
   ]
  },
  {
   "cell_type": "code",
   "execution_count": 14,
   "metadata": {
    "id": "FR7idsVORX5_"
   },
   "outputs": [
    {
     "data": {
      "text/plain": [
       "' hello world  hello world  hello world  hello world  hello world '"
      ]
     },
     "execution_count": 14,
     "metadata": {},
     "output_type": "execute_result"
    }
   ],
   "source": [
    "# your code will be here\n",
    "def hello(n):\n",
    "    return ' hello world ' * n\n",
    "\n",
    "hello(5)"
   ]
  },
  {
   "cell_type": "markdown",
   "metadata": {
    "id": "OoTXs3WERYju"
   },
   "source": [
    "###Task: define a function that concatenate message 1 and message 2 together and return it"
   ]
  },
  {
   "cell_type": "code",
   "execution_count": 16,
   "metadata": {
    "id": "2pS4qJ54RhKf"
   },
   "outputs": [
    {
     "data": {
      "text/plain": [
       "'Hello World'"
      ]
     },
     "execution_count": 16,
     "metadata": {},
     "output_type": "execute_result"
    }
   ],
   "source": [
    "# your code will be here\n",
    "def concat(message1, message2):\n",
    "    return message1 + ' ' + message2\n",
    "\n",
    "concat('Hello', 'World')"
   ]
  },
  {
   "cell_type": "markdown",
   "metadata": {
    "id": "IczuyqDQ6bQG"
   },
   "source": [
    "## Define functions with return boolean values. "
   ]
  },
  {
   "cell_type": "markdown",
   "metadata": {
    "id": "yU8y7mCoRmRH"
   },
   "source": [
    "###Task: define a function that return the boolean value for given *n* is even or not, *n* is a parameter"
   ]
  },
  {
   "cell_type": "code",
   "execution_count": 19,
   "metadata": {
    "id": "g67KsRe3R2KG"
   },
   "outputs": [
    {
     "name": "stdout",
     "output_type": "stream",
     "text": [
      "True\n",
      "False\n"
     ]
    }
   ],
   "source": [
    "# your code will be here\n",
    "def even(n):\n",
    "    return n % 2 == 0\n",
    "\n",
    "print(even(8))\n",
    "print(even(7))"
   ]
  },
  {
   "cell_type": "markdown",
   "metadata": {
    "id": "QPoCScdkheK3"
   },
   "source": [
    "###Task: define a function that return the boolean value for given *n* is odd or not, *n* is a parameter"
   ]
  },
  {
   "cell_type": "code",
   "execution_count": 21,
   "metadata": {
    "id": "tsFowDAKhJCB"
   },
   "outputs": [
    {
     "name": "stdout",
     "output_type": "stream",
     "text": [
      "False\n",
      "True\n"
     ]
    }
   ],
   "source": [
    "# your code will be here\n",
    "def odd(n):\n",
    "    return n % 2 != 0\n",
    "\n",
    "print(odd(8))\n",
    "print(odd(7))"
   ]
  },
  {
   "cell_type": "markdown",
   "metadata": {
    "id": "OhfIcNFH6oV2"
   },
   "source": [
    "###Task: define a function that return the boolean value for given *n* is prime number or not, *n* is a parameter"
   ]
  },
  {
   "cell_type": "code",
   "execution_count": 22,
   "metadata": {
    "id": "dUOiwszHhsEN"
   },
   "outputs": [
    {
     "name": "stdout",
     "output_type": "stream",
     "text": [
      "True\n",
      "False\n",
      "True\n"
     ]
    }
   ],
   "source": [
    "# your code will be here\n",
    "def is_prime(n):\n",
    "    primes = []\n",
    "    for i in range(2, n+1):\n",
    "        if all(i%p for p in primes):\n",
    "            primes.append(i)\n",
    "    return n in primes\n",
    "\n",
    "print(is_prime(17))\n",
    "print(is_prime(18))\n",
    "print(is_prime(23))"
   ]
  },
  {
   "cell_type": "markdown",
   "metadata": {
    "id": "KgwXzV3x6quL"
   },
   "source": [
    "###Task: define a function that return the boolean value for given *n* is positive (>0) or not, *n* is a parameter"
   ]
  },
  {
   "cell_type": "code",
   "execution_count": 24,
   "metadata": {
    "id": "-lVtxeAmhv9t"
   },
   "outputs": [
    {
     "name": "stdout",
     "output_type": "stream",
     "text": [
      "True\n",
      "False\n",
      "False\n"
     ]
    }
   ],
   "source": [
    "# your code will be here\n",
    "def positive(n):\n",
    "    return n > 0\n",
    "\n",
    "print(positive(10))\n",
    "print(positive(0))\n",
    "print(positive(-10))"
   ]
  },
  {
   "cell_type": "markdown",
   "metadata": {
    "id": "TE6Df1WYhu10"
   },
   "source": [
    "###Task: define a function that return the boolean value for whether or not given *n* is divisible by 6, *n* is a parameter"
   ]
  },
  {
   "cell_type": "code",
   "execution_count": 25,
   "metadata": {
    "id": "MSjQbhNXhJVV"
   },
   "outputs": [
    {
     "name": "stdout",
     "output_type": "stream",
     "text": [
      "True\n",
      "False\n"
     ]
    }
   ],
   "source": [
    "# your code will be here\n",
    "def div_six(n):\n",
    "    return n % 6 == 0\n",
    "\n",
    "print(div_six(36))\n",
    "print(div_six(37))"
   ]
  },
  {
   "cell_type": "markdown",
   "metadata": {
    "id": "AIZ2bTqjfjxf"
   },
   "source": [
    "## Define functions return multiple values. "
   ]
  },
  {
   "cell_type": "markdown",
   "metadata": {
    "id": "MBpHkOhIfmrY"
   },
   "source": [
    "###Task: define a function that return the min, max, avg, and total of given 3 numbers *x, y, z*, where *x, y, z* are parameters"
   ]
  },
  {
   "cell_type": "code",
   "execution_count": 26,
   "metadata": {
    "id": "Orw6NIIef0Wp"
   },
   "outputs": [
    {
     "name": "stdout",
     "output_type": "stream",
     "text": [
      "(10, 30, 20.0)\n"
     ]
    }
   ],
   "source": [
    "# your code will be here\n",
    "def min_max_avg(x, y, z):\n",
    "    arr = [x, y, z]\n",
    "    return min(arr), max(arr), sum(arr) / 3\n",
    "\n",
    "print(min_max_avg(10, 20, 30))"
   ]
  },
  {
   "cell_type": "code",
   "execution_count": null,
   "metadata": {},
   "outputs": [],
   "source": []
  }
 ],
 "metadata": {
  "colab": {
   "authorship_tag": "ABX9TyOiKbIQX3F7fh/BxI6IVoNB",
   "collapsed_sections": [],
   "name": "M3Lab1.ipynb",
   "provenance": [],
   "toc_visible": true
  },
  "kernelspec": {
   "display_name": "Python 3",
   "language": "python",
   "name": "python3"
  },
  "language_info": {
   "codemirror_mode": {
    "name": "ipython",
    "version": 3
   },
   "file_extension": ".py",
   "mimetype": "text/x-python",
   "name": "python",
   "nbconvert_exporter": "python",
   "pygments_lexer": "ipython3",
   "version": "3.8.8"
  }
 },
 "nbformat": 4,
 "nbformat_minor": 4
}
