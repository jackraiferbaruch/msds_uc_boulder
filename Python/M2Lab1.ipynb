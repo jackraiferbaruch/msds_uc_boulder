{
 "cells": [
  {
   "cell_type": "markdown",
   "metadata": {
    "id": "cnAUJprJdh9_"
   },
   "source": [
    "# Welcome to our Lab Practice!"
   ]
  },
  {
   "cell_type": "markdown",
   "metadata": {
    "id": "vVYcayGedmms"
   },
   "source": [
    "This lab is all about defining functions with ONE parameter. Are you ready? Let's go!"
   ]
  },
  {
   "cell_type": "markdown",
   "metadata": {
    "id": "JP8eGBVyeSQx"
   },
   "source": [
    "You will find some small tasks in sections below. After defining functions, call them to test."
   ]
  },
  {
   "cell_type": "markdown",
   "metadata": {
    "id": "rXgbUIBRgQoG"
   },
   "source": [
    "###Task: define a function that print \"hello, *name*\" where *name* is a parameter"
   ]
  },
  {
   "cell_type": "code",
   "execution_count": 1,
   "metadata": {
    "id": "oIKwmW2mfe3d"
   },
   "outputs": [
    {
     "name": "stdout",
     "output_type": "stream",
     "text": [
      "Hello John\n"
     ]
    }
   ],
   "source": [
    "# your code will be here\n",
    "def hello_name(name):\n",
    "    print('Hello ' + name)\n",
    "    \n",
    "hello_name('John')"
   ]
  },
  {
   "cell_type": "markdown",
   "metadata": {
    "id": "h-mrQgK7RKqm"
   },
   "source": [
    "###Task: define a function that print \"hello world\" *n* times, where *n* is a parameter"
   ]
  },
  {
   "cell_type": "code",
   "execution_count": 2,
   "metadata": {
    "id": "47f7Q_AIRMUW"
   },
   "outputs": [
    {
     "name": "stdout",
     "output_type": "stream",
     "text": [
      "hello world\n",
      "hello world\n",
      "hello world\n",
      "hello world\n",
      "hello world\n"
     ]
    }
   ],
   "source": [
    "# your code will be here\n",
    "def hw_times(n):\n",
    "    for i in range(n):\n",
    "        print('hello world')\n",
    "        \n",
    "hw_times(5)"
   ]
  },
  {
   "cell_type": "markdown",
   "metadata": {
    "id": "1y6noqXNRMpG"
   },
   "source": [
    "###Task: define a function that print integers 1 to *n* (hint: you can use a for loop), where *n* is a parameter"
   ]
  },
  {
   "cell_type": "code",
   "execution_count": 5,
   "metadata": {
    "id": "FR7idsVORX5_"
   },
   "outputs": [
    {
     "name": "stdout",
     "output_type": "stream",
     "text": [
      "1\n",
      "2\n",
      "3\n",
      "4\n",
      "5\n",
      "6\n",
      "7\n",
      "8\n",
      "9\n",
      "10\n"
     ]
    }
   ],
   "source": [
    "# your code will be here\n",
    "def integers(n):\n",
    "    for i in range(1, n+1):\n",
    "        print(i)\n",
    "        \n",
    "integers(10)"
   ]
  },
  {
   "cell_type": "markdown",
   "metadata": {
    "id": "OoTXs3WERYju"
   },
   "source": [
    "###Task: define a function that print prime integers in *n* (hint: you can use loops), where *n* is a parameter"
   ]
  },
  {
   "cell_type": "code",
   "execution_count": 10,
   "metadata": {
    "id": "2pS4qJ54RhKf"
   },
   "outputs": [
    {
     "name": "stdout",
     "output_type": "stream",
     "text": [
      "2\n",
      "3\n",
      "5\n",
      "7\n",
      "11\n",
      "13\n",
      "17\n",
      "19\n",
      "23\n"
     ]
    }
   ],
   "source": [
    "# your code will be here\n",
    "def prime_n(n):\n",
    "    primes = []\n",
    "    for i in range(2, n):\n",
    "        if all(i%p for p in primes):\n",
    "            print(i)\n",
    "            primes.append(i)\n",
    "            \n",
    "prime_n(25)"
   ]
  },
  {
   "cell_type": "markdown",
   "metadata": {
    "id": "yU8y7mCoRmRH"
   },
   "source": [
    "###Task: define a function that print whether or not given *n* is even, *n* is a parameter"
   ]
  },
  {
   "cell_type": "code",
   "execution_count": 13,
   "metadata": {
    "id": "g67KsRe3R2KG"
   },
   "outputs": [
    {
     "name": "stdout",
     "output_type": "stream",
     "text": [
      "True\n",
      "False\n"
     ]
    }
   ],
   "source": [
    "# your code will be here\n",
    "def is_even(n):\n",
    "    if n % 2 == 0:\n",
    "        print(True)\n",
    "    else:\n",
    "        print(False)\n",
    "\n",
    "is_even(10)\n",
    "is_even(11)"
   ]
  },
  {
   "cell_type": "markdown",
   "metadata": {
    "id": "QPoCScdkheK3"
   },
   "source": [
    "###Task: define a function that print whether or not given *n* is odd, *n* is a parameter"
   ]
  },
  {
   "cell_type": "code",
   "execution_count": 14,
   "metadata": {
    "id": "tsFowDAKhJCB"
   },
   "outputs": [
    {
     "name": "stdout",
     "output_type": "stream",
     "text": [
      "False\n",
      "True\n"
     ]
    }
   ],
   "source": [
    "# your code will be here\n",
    "def is_odd(n):\n",
    "    if n % 2 != 0:\n",
    "        print(True)\n",
    "    else:\n",
    "        print(False)\n",
    "\n",
    "is_odd(10)\n",
    "is_odd(11)"
   ]
  },
  {
   "cell_type": "markdown",
   "metadata": {
    "id": "Jbw-h9GMhnQl"
   },
   "source": [
    "###Task: define a function that print the absolute value of *n*, *n* is a parameter"
   ]
  },
  {
   "cell_type": "code",
   "execution_count": 15,
   "metadata": {
    "id": "dUOiwszHhsEN"
   },
   "outputs": [
    {
     "name": "stdout",
     "output_type": "stream",
     "text": [
      "5\n",
      "5\n"
     ]
    }
   ],
   "source": [
    "# your code will be here\n",
    "def abs_n(n):\n",
    "    print(abs(n))\n",
    "    \n",
    "abs_n(5)\n",
    "abs_n(-5)"
   ]
  },
  {
   "cell_type": "markdown",
   "metadata": {
    "id": "AyaEIEqOhsV8"
   },
   "source": [
    "###Task: define a function that print the square value of *n*, *n* is a parameter"
   ]
  },
  {
   "cell_type": "code",
   "execution_count": 16,
   "metadata": {
    "id": "-lVtxeAmhv9t"
   },
   "outputs": [
    {
     "name": "stdout",
     "output_type": "stream",
     "text": [
      "25\n",
      "64\n"
     ]
    }
   ],
   "source": [
    "# your code will be here\n",
    "def square(n):\n",
    "    print(n**2)\n",
    "    \n",
    "square(5)\n",
    "square(8)"
   ]
  },
  {
   "cell_type": "markdown",
   "metadata": {
    "id": "TE6Df1WYhu10"
   },
   "source": [
    "###Task: define a function that print whether or not given *n* is divisible by 6, *n* is a parameter"
   ]
  },
  {
   "cell_type": "code",
   "execution_count": 17,
   "metadata": {
    "id": "MSjQbhNXhJVV"
   },
   "outputs": [
    {
     "name": "stdout",
     "output_type": "stream",
     "text": [
      "True\n",
      "False\n"
     ]
    }
   ],
   "source": [
    "# your code will be here\n",
    "def num_by_six(n):\n",
    "    if n % 6 == 0:\n",
    "        print(True)\n",
    "    else:\n",
    "        print(False)\n",
    "        \n",
    "num_by_six(36)\n",
    "num_by_six(35)"
   ]
  },
  {
   "cell_type": "markdown",
   "metadata": {
    "id": "4iCITSR6h7Yv"
   },
   "source": [
    "###Task: define a function that print whether or not given *n* is prime, *n* is a parameter"
   ]
  },
  {
   "cell_type": "code",
   "execution_count": 20,
   "metadata": {
    "id": "EKsuK9O6jW7D"
   },
   "outputs": [
    {
     "name": "stdout",
     "output_type": "stream",
     "text": [
      "True\n",
      "False\n",
      "True\n"
     ]
    }
   ],
   "source": [
    "# your code will be here\n",
    "def is_prime(n):\n",
    "    primes = []\n",
    "    for i in range(2, n+1):\n",
    "        if all(i%p for p in primes):\n",
    "            primes.append(i)\n",
    "    if n in primes:\n",
    "        print(True)\n",
    "    else:\n",
    "        print(False)\n",
    "        \n",
    "is_prime(17)\n",
    "is_prime(18)\n",
    "is_prime(23)"
   ]
  },
  {
   "cell_type": "code",
   "execution_count": null,
   "metadata": {},
   "outputs": [],
   "source": []
  }
 ],
 "metadata": {
  "colab": {
   "authorship_tag": "ABX9TyPRgVGy0DfidxpkpbB9Oa42",
   "collapsed_sections": [],
   "name": "M2Lab1.ipynb",
   "provenance": [],
   "toc_visible": true
  },
  "kernelspec": {
   "display_name": "Python 3",
   "language": "python",
   "name": "python3"
  },
  "language_info": {
   "codemirror_mode": {
    "name": "ipython",
    "version": 3
   },
   "file_extension": ".py",
   "mimetype": "text/x-python",
   "name": "python",
   "nbconvert_exporter": "python",
   "pygments_lexer": "ipython3",
   "version": "3.8.8"
  }
 },
 "nbformat": 4,
 "nbformat_minor": 4
}
