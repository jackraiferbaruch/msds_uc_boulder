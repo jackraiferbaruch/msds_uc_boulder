{
 "cells": [
  {
   "cell_type": "markdown",
   "id": "4f8190ba-e31e-4fa0-a49d-e9b313fea0f3",
   "metadata": {},
   "source": [
    "### Recursive Factorial ###\n",
    "\n",
    "A factorial function using recursion."
   ]
  },
  {
   "cell_type": "code",
   "execution_count": 1,
   "id": "ca64c61c-834e-4768-9abf-7a70c4d1ef26",
   "metadata": {},
   "outputs": [],
   "source": [
    "# f(n) = n * (n-1) * (n-2) * ... 3 * 2 * 1\n",
    "# f(0) = 1\n",
    "# f(n) = n * f(n) - 1\n",
    "\n",
    "def f(n):\n",
    "    if n == 0:\n",
    "        return 1\n",
    "    else:\n",
    "        return n * (f(n-1))"
   ]
  },
  {
   "cell_type": "code",
   "execution_count": 10,
   "id": "09ef12bc-6bbd-45b2-b2e5-34dcbad8c31c",
   "metadata": {},
   "outputs": [
    {
     "name": "stdout",
     "output_type": "stream",
     "text": [
      "1\n",
      "1\n",
      "2\n",
      "6\n",
      "120\n"
     ]
    }
   ],
   "source": [
    "print(f(0)) #1\n",
    "print(f(1)) #1\n",
    "print(f(2)) #2\n",
    "print(f(3)) #6\n",
    "print(f(5)) #120"
   ]
  },
  {
   "cell_type": "markdown",
   "id": "782232a2-215e-4a4b-95d5-eda87e6b0973",
   "metadata": {},
   "source": [
    "### Iterative Factorial ###\n",
    "\n",
    "A factorial function using iteration."
   ]
  },
  {
   "cell_type": "code",
   "execution_count": 15,
   "id": "997b2ac3-5d70-4c78-a85c-c0489bc4f7ee",
   "metadata": {},
   "outputs": [],
   "source": [
    "def fi(n):\n",
    "    if n == 0:\n",
    "        return 1\n",
    "    ans = n\n",
    "    for i in range(n-1, 1, -1):\n",
    "        ans = ans * i\n",
    "    return ans"
   ]
  },
  {
   "cell_type": "code",
   "execution_count": 16,
   "id": "bc92b4d1-78aa-4513-8a74-a12def7b5ef4",
   "metadata": {},
   "outputs": [
    {
     "name": "stdout",
     "output_type": "stream",
     "text": [
      "1\n",
      "1\n",
      "2\n",
      "6\n",
      "120\n"
     ]
    }
   ],
   "source": [
    "print(fi(0)) #1\n",
    "print(fi(1)) #1\n",
    "print(fi(2)) #2\n",
    "print(fi(3)) #6\n",
    "print(fi(5)) #120"
   ]
  },
  {
   "cell_type": "code",
   "execution_count": 17,
   "id": "e22946a5-0196-4e6e-a4a9-95afb8b1e799",
   "metadata": {},
   "outputs": [
    {
     "name": "stdout",
     "output_type": "stream",
     "text": [
      "3.27 µs ± 818 ns per loop (mean ± std. dev. of 7 runs, 100000 loops each)\n"
     ]
    }
   ],
   "source": [
    "%timeit f(10)"
   ]
  },
  {
   "cell_type": "code",
   "execution_count": 18,
   "id": "124355bb-2d44-4de2-bdcb-5f449523fb40",
   "metadata": {},
   "outputs": [
    {
     "name": "stdout",
     "output_type": "stream",
     "text": [
      "1.35 µs ± 92 ns per loop (mean ± std. dev. of 7 runs, 1000000 loops each)\n"
     ]
    }
   ],
   "source": [
    "%timeit fi(10)"
   ]
  },
  {
   "cell_type": "markdown",
   "id": "1e401898-7fdf-4dd5-b6ba-07a3b6bfe0b8",
   "metadata": {},
   "source": [
    "Here we can see the recursive function is much slower than the iterative one."
   ]
  },
  {
   "cell_type": "code",
   "execution_count": null,
   "id": "619b9e25-e2ed-42b4-a9d4-c97c446ac44b",
   "metadata": {},
   "outputs": [],
   "source": []
  }
 ],
 "metadata": {
  "kernelspec": {
   "display_name": "Programming",
   "language": "python",
   "name": "programming"
  },
  "language_info": {
   "codemirror_mode": {
    "name": "ipython",
    "version": 3
   },
   "file_extension": ".py",
   "mimetype": "text/x-python",
   "name": "python",
   "nbconvert_exporter": "python",
   "pygments_lexer": "ipython3",
   "version": "3.9.5"
  }
 },
 "nbformat": 4,
 "nbformat_minor": 5
}
