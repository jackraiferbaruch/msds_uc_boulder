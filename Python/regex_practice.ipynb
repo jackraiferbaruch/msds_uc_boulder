{
 "cells": [
  {
   "cell_type": "code",
   "execution_count": 1,
   "id": "cb873d7f-a350-440f-8ff3-ef887a289fd0",
   "metadata": {},
   "outputs": [],
   "source": [
    "import re"
   ]
  },
  {
   "cell_type": "code",
   "execution_count": 11,
   "id": "b3dd54aa-f606-4c2f-ad0c-e2b61abf7e2f",
   "metadata": {},
   "outputs": [],
   "source": [
    "with open('sample.txt') as f:\n",
    "    lines = f.readlines()"
   ]
  },
  {
   "cell_type": "code",
   "execution_count": 18,
   "id": "0556c237-ab78-49c1-98bd-f75be3216e45",
   "metadata": {},
   "outputs": [],
   "source": [
    "numbers = []\n",
    "\n",
    "for line in lines:\n",
    "    f = re.findall('[0-9]+',line)\n",
    "    if len(f) > 0:\n",
    "        for n in f:\n",
    "            numbers.append(n)"
   ]
  },
  {
   "cell_type": "code",
   "execution_count": 22,
   "id": "34699a1f-4f51-49f5-a1dc-050652a1b3cb",
   "metadata": {},
   "outputs": [],
   "source": [
    "nums = [int(x) for x in numbers]"
   ]
  },
  {
   "cell_type": "code",
   "execution_count": 29,
   "id": "d4f7e0df-975f-442d-a037-7db4200a621c",
   "metadata": {},
   "outputs": [],
   "source": [
    "s = 0\n",
    "for n in numbers:\n",
    "    s += int(n)"
   ]
  },
  {
   "cell_type": "code",
   "execution_count": 30,
   "id": "ad9b5d39-f55a-480e-b921-6bbe7f19bfaa",
   "metadata": {},
   "outputs": [
    {
     "data": {
      "text/plain": [
       "358434"
      ]
     },
     "execution_count": 30,
     "metadata": {},
     "output_type": "execute_result"
    }
   ],
   "source": [
    "s"
   ]
  },
  {
   "cell_type": "code",
   "execution_count": null,
   "id": "715e205a-503d-4b6d-ace3-c8b444a779a0",
   "metadata": {},
   "outputs": [],
   "source": []
  }
 ],
 "metadata": {
  "kernelspec": {
   "display_name": "Programming",
   "language": "python",
   "name": "programming"
  },
  "language_info": {
   "codemirror_mode": {
    "name": "ipython",
    "version": 3
   },
   "file_extension": ".py",
   "mimetype": "text/x-python",
   "name": "python",
   "nbconvert_exporter": "python",
   "pygments_lexer": "ipython3",
   "version": "3.9.5"
  }
 },
 "nbformat": 4,
 "nbformat_minor": 5
}
