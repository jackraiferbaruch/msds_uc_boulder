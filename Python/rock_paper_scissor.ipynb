{
 "cells": [
  {
   "cell_type": "markdown",
   "id": "9bb105fc-190f-4dec-bf04-ff38a34fc110",
   "metadata": {},
   "source": [
    "### Rock Paper Scissor ###\n",
    "\n",
    "Basic implementation of an automatic rock paper scissor game."
   ]
  },
  {
   "cell_type": "code",
   "execution_count": 1,
   "id": "abe544ff-b632-4dfd-8b07-7d88808f2ea7",
   "metadata": {},
   "outputs": [],
   "source": [
    "import random"
   ]
  },
  {
   "cell_type": "code",
   "execution_count": 2,
   "id": "930a22d9-84c2-4bab-bcc1-a83195106e6b",
   "metadata": {},
   "outputs": [],
   "source": [
    "def result():\n",
    "    return random.randint(0, 2)"
   ]
  },
  {
   "cell_type": "code",
   "execution_count": 3,
   "id": "a8f2b654-c444-4132-8967-c4142fc3ebb6",
   "metadata": {},
   "outputs": [],
   "source": [
    "def game():\n",
    "    a = result()\n",
    "    b = result()\n",
    "    \n",
    "    if a == b:\n",
    "        print('Tie')\n",
    "    elif a == 0 and b == 2:\n",
    "        print('A is Rock and B is Scissor, A Won')\n",
    "    elif a == 2 and b == 0:\n",
    "        print('A is Scissor and B is Rock, B Won')\n",
    "    elif a == 0 and b == 1:\n",
    "        print('A is Rock and B is Paper, B Won')\n",
    "    elif a == 1 and b == 0:\n",
    "        print('A is Paper and B is Rock, A Won')\n",
    "    elif a == 1 and b == 2:\n",
    "        print('A is Paper and B is Scissor, B Won')\n",
    "    else:\n",
    "        print('A is Scissor and B is Paper, A Won')"
   ]
  },
  {
   "cell_type": "markdown",
   "id": "b25cb05b-cb66-462d-bb7c-b31214cbde45",
   "metadata": {},
   "source": [
    "Function to count who wins a game."
   ]
  },
  {
   "cell_type": "code",
   "execution_count": 12,
   "id": "bc0632cb-b605-41fa-a74d-a56d52dbfbfd",
   "metadata": {},
   "outputs": [],
   "source": [
    "def game_count():\n",
    "    a = result()\n",
    "    b = result()\n",
    "    # 0 represents Rock, 1 Paper and 2 Scissor\n",
    "    if a == 0 and b == 2:\n",
    "        return 'A'\n",
    "    elif a == 2 and b == 0:\n",
    "        return 'B'\n",
    "    elif a == 0 and b == 1:\n",
    "        return 'B'\n",
    "    elif a == 1 and b == 0:\n",
    "        return 'A'\n",
    "    elif a == 1 and b == 2:\n",
    "        return 'B'\n",
    "    elif a == 2 and b == 1:\n",
    "        return 'A'\n",
    "    else:\n",
    "        return 'T'"
   ]
  },
  {
   "cell_type": "markdown",
   "id": "ba1e1543-4815-4e9c-9e4b-c0cbd3045a33",
   "metadata": {},
   "source": [
    "Function to play several games."
   ]
  },
  {
   "cell_type": "code",
   "execution_count": 13,
   "id": "f426bdfd-9b3d-40bb-9561-77b6ba7c07aa",
   "metadata": {},
   "outputs": [],
   "source": [
    "def multi_game(n):\n",
    "    a_win = 0\n",
    "    b_win = 0\n",
    "    for i in range(n):\n",
    "        result = game_count()\n",
    "        if result == 'A':\n",
    "            a_win += 1\n",
    "        elif result == 'B':\n",
    "            b_win += 1\n",
    "    if a_win > b_win:\n",
    "        print(f'Final: A won {a_win} games and B won {b_win} games. A Wins')\n",
    "    elif b_win > a_win:\n",
    "        print(f'Final: A won {a_win} games and B won {b_win} games. B Wins')\n",
    "    else:\n",
    "        print(f'Final: A won {a_win} games and B won {b_win} games. It\\'s a Tie!!!')"
   ]
  },
  {
   "cell_type": "code",
   "execution_count": 17,
   "id": "665c783c-0774-4e4d-83d9-b4dc40352002",
   "metadata": {},
   "outputs": [
    {
     "name": "stdout",
     "output_type": "stream",
     "text": [
      "Final: A won 2 games and B won 2 games. It's a Tie!!!\n"
     ]
    }
   ],
   "source": [
    "multi_game(9)"
   ]
  },
  {
   "cell_type": "code",
   "execution_count": null,
   "id": "e12db81d-56a5-4cad-a39a-47b7badf911b",
   "metadata": {},
   "outputs": [],
   "source": []
  }
 ],
 "metadata": {
  "kernelspec": {
   "display_name": "Programming",
   "language": "python",
   "name": "programming"
  },
  "language_info": {
   "codemirror_mode": {
    "name": "ipython",
    "version": 3
   },
   "file_extension": ".py",
   "mimetype": "text/x-python",
   "name": "python",
   "nbconvert_exporter": "python",
   "pygments_lexer": "ipython3",
   "version": "3.9.5"
  }
 },
 "nbformat": 4,
 "nbformat_minor": 5
}
