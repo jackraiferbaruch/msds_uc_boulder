{
 "cells": [
  {
   "cell_type": "markdown",
   "metadata": {
    "id": "cnAUJprJdh9_"
   },
   "source": [
    "# Welcome to our Lab Practice!"
   ]
  },
  {
   "cell_type": "markdown",
   "metadata": {
    "id": "vVYcayGedmms"
   },
   "source": [
    "This lab is all about defining nested functions. Are you ready? Let's get started!"
   ]
  },
  {
   "cell_type": "markdown",
   "metadata": {
    "id": "JP8eGBVyeSQx"
   },
   "source": [
    "You will find some small tasks in sections below. After defining functions, call them to test."
   ]
  },
  {
   "cell_type": "markdown",
   "metadata": {
    "id": "D8pWdoN7d6Dy"
   },
   "source": [
    "## Define nestted functions. "
   ]
  },
  {
   "cell_type": "markdown",
   "metadata": {
    "id": "TTqVA_ew48Sn"
   },
   "source": [
    "###Task: Calculator\n",
    "\n",
    "1.   Define a function that ask the user to input a number\n",
    "2.   Define a function that computes the sum of two numbers\n",
    "3.   Define a function that computes the substraction of two numbers\n",
    "4.   Define a function that computes the product of two numbers\n",
    "5.   Define a function that computes the division of two numbers\n",
    "6.   Define a function that print the arithmetic operation result of two numbers by calling functions defined above\n",
    "\n",
    "\n"
   ]
  },
  {
   "cell_type": "code",
   "execution_count": 26,
   "metadata": {
    "id": "4l8oECs25O26"
   },
   "outputs": [],
   "source": [
    "# your code will be here\n",
    "def command():\n",
    "    return int(input('Please Enter a Number'))\n",
    "\n",
    "def sum_two(n, m):\n",
    "    return n + m\n",
    "\n",
    "def sub_two(n, m):\n",
    "    return n - m\n",
    "\n",
    "def mult_two(n, m):\n",
    "    return n * m\n",
    "\n",
    "def div_two(n, m):\n",
    "    return n / m\n",
    "\n",
    "def calc(func):\n",
    "    n = command()\n",
    "    m = command()\n",
    "    return func(n, m)"
   ]
  },
  {
   "cell_type": "code",
   "execution_count": 27,
   "metadata": {},
   "outputs": [
    {
     "name": "stdin",
     "output_type": "stream",
     "text": [
      "Please Enter a Number 5\n",
      "Please Enter a Number 6\n"
     ]
    },
    {
     "data": {
      "text/plain": [
       "30"
      ]
     },
     "execution_count": 27,
     "metadata": {},
     "output_type": "execute_result"
    }
   ],
   "source": [
    "calc(mult_two)"
   ]
  },
  {
   "cell_type": "markdown",
   "metadata": {
    "id": "9hfJ0kha5G_A"
   },
   "source": [
    "###Task: Statistics\n",
    "\n",
    "1.   Define a function that ask the user to input a number\n",
    "2.   Define a function that computes the min of three numbers\n",
    "3.   Define a function that computes the max of three numbers\n",
    "4.   Define a function that computes the total of three numbers\n",
    "5.   Define a function that computes the average of three numbers\n",
    "6.   Define a function that print the statistics of the three numbers by calling functions defineda bove"
   ]
  },
  {
   "cell_type": "code",
   "execution_count": 24,
   "metadata": {
    "id": "qL379kld5PX0"
   },
   "outputs": [],
   "source": [
    "# your code will be here\n",
    "def number():\n",
    "    return int(input('Please enter a number: '))\n",
    "\n",
    "def min_(x, y, z):\n",
    "    return min([x, y, z])\n",
    "\n",
    "def max_(x, y, z):\n",
    "    return max([x, y, z])\n",
    "\n",
    "def sum_(x, y, z):\n",
    "    return sum([x, y, z])\n",
    "\n",
    "def avg_(x, y, z):\n",
    "    return sum([x, y, z]) / 3\n",
    "\n",
    "def stats():\n",
    "    x = number()\n",
    "    y = number()\n",
    "    z = number()\n",
    "    return f'Min = {min_(x, y, z)} Max = {max_(x, y, z)} Sum = {sum_(x, y, z)} Average = {avg_(x, y, z)}'"
   ]
  },
  {
   "cell_type": "code",
   "execution_count": 25,
   "metadata": {},
   "outputs": [
    {
     "name": "stdin",
     "output_type": "stream",
     "text": [
      "Please enter a number:  5\n",
      "Please enter a number:  9\n",
      "Please enter a number:  12\n"
     ]
    },
    {
     "data": {
      "text/plain": [
       "'Min = 5 Max = 12 Sum = 26 Average = 8.666666666666666'"
      ]
     },
     "execution_count": 25,
     "metadata": {},
     "output_type": "execute_result"
    }
   ],
   "source": [
    "stats()"
   ]
  },
  {
   "cell_type": "markdown",
   "metadata": {
    "id": "rXgbUIBRgQoG"
   },
   "source": [
    "###Task: Simple Calculator\n",
    "\n",
    "\n",
    "1.   Define a function that increment an integer x by 1, x is a parameter\n",
    "2.   Define a function that decrement an integer x by 1, x is a parameter\n",
    "3.   Define a function that computes *x* $+$ *y* by using functions defined above, where x and y are parameters and you cannot directly use x $+$ y in your definition.\n",
    "4.   Define a function that computes *x* $-$ *y* by using functions defined above, where x and y are parameters and you cannot directly use x $-$ y in your definition.\n",
    "5.   Define a function that computes *x* $\\times$ *y* by using functions defined above, where x and y are parameters and you cannot directly use x * y in your definition.\n",
    "6.   Define a function that computes *x* $**$ *y* by using functios defined above, where x and y are parameters and you cannot directly use *x* $**$ *y* in your definition\n",
    "7.   Define a function that takes two arguments, x and y, and print the addition (x $+$ y), substraction(x $-$ y), product(x $\\times$ y), and exponent(x**y) of these two arguments"
   ]
  },
  {
   "cell_type": "code",
   "execution_count": 28,
   "metadata": {
    "id": "oIKwmW2mfe3d"
   },
   "outputs": [],
   "source": [
    "# your code will be here\n",
    "def increase(x):\n",
    "    return x + 1\n",
    "\n",
    "def decrease(x):\n",
    "    return x - 1\n"
   ]
  },
  {
   "cell_type": "code",
   "execution_count": null,
   "metadata": {},
   "outputs": [],
   "source": []
  }
 ],
 "metadata": {
  "colab": {
   "authorship_tag": "ABX9TyMrgQxnO6jrk9WXy1GcSyBn",
   "collapsed_sections": [],
   "name": "M4Lab1.ipynb",
   "provenance": [],
   "toc_visible": true
  },
  "kernelspec": {
   "display_name": "Python 3",
   "language": "python",
   "name": "python3"
  },
  "language_info": {
   "codemirror_mode": {
    "name": "ipython",
    "version": 3
   },
   "file_extension": ".py",
   "mimetype": "text/x-python",
   "name": "python",
   "nbconvert_exporter": "python",
   "pygments_lexer": "ipython3",
   "version": "3.8.8"
  }
 },
 "nbformat": 4,
 "nbformat_minor": 4
}
