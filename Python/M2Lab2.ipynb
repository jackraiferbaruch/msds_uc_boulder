{
 "cells": [
  {
   "cell_type": "markdown",
   "metadata": {
    "id": "cnAUJprJdh9_"
   },
   "source": [
    "# Welcome to our Lab Practice!"
   ]
  },
  {
   "cell_type": "markdown",
   "metadata": {
    "id": "vVYcayGedmms"
   },
   "source": [
    "This lab is all about defining functions with multiple parameters. Are you ready? Let's go!"
   ]
  },
  {
   "cell_type": "markdown",
   "metadata": {
    "id": "JP8eGBVyeSQx"
   },
   "source": [
    "You will find some small tasks in sections below. After defining functions, call them to test."
   ]
  },
  {
   "cell_type": "markdown",
   "metadata": {
    "id": "MBpHkOhIfmrY"
   },
   "source": [
    "###Task: define a function that print \"*message*\" *n* times, where *message* and *n* are parameters"
   ]
  },
  {
   "cell_type": "code",
   "execution_count": 3,
   "metadata": {
    "id": "Orw6NIIef0Wp"
   },
   "outputs": [
    {
     "name": "stdout",
     "output_type": "stream",
     "text": [
      "Hello\n",
      "Hello\n",
      "Hello\n",
      "Hello\n",
      "Hello\n",
      "Hello\n",
      "Hello\n"
     ]
    }
   ],
   "source": [
    "# your code will be here\n",
    "def message_n(message, times):\n",
    "    for i in range(times):\n",
    "        print(message)\n",
    "        \n",
    "message_n('Hello', 7)"
   ]
  },
  {
   "cell_type": "markdown",
   "metadata": {
    "id": "DVjL6nU0f2Z_"
   },
   "source": [
    "###Task: define a function that print integers *n*  to *m* (hint: you can use a for loop), where *n* and *m* are parameters, and *n < m*.\n",
    "\n",
    "Challenge: Can you write a program that doesn't require *n < m*? "
   ]
  },
  {
   "cell_type": "code",
   "execution_count": 5,
   "metadata": {
    "id": "2iYaPzVSghML"
   },
   "outputs": [
    {
     "name": "stdout",
     "output_type": "stream",
     "text": [
      "[5, 6, 7, 8, 9, 10, 11, 12, 13, 14, 15]\n",
      "[5, 6, 7, 8, 9, 10, 11, 12, 13, 14, 15]\n"
     ]
    }
   ],
   "source": [
    "# your code will be here\n",
    "def integer_range(n, m):\n",
    "    if n < m:\n",
    "        return [x for x in range(n, m+1)]\n",
    "    else:\n",
    "        return [x for x in range(m, n+1)]\n",
    "    \n",
    "print(integer_range(5, 15))\n",
    "print(integer_range(15, 5))"
   ]
  },
  {
   "cell_type": "markdown",
   "metadata": {
    "id": "YhJrQh4eghzb"
   },
   "source": [
    "###Task: define a function that print the sum of *n*  to *m*, where *n, m* are parameters, and *n* < *m*."
   ]
  },
  {
   "cell_type": "code",
   "execution_count": 6,
   "metadata": {
    "id": "n2Mm6RVYgwOq"
   },
   "outputs": [
    {
     "name": "stdout",
     "output_type": "stream",
     "text": [
      "20\n",
      "0\n"
     ]
    }
   ],
   "source": [
    "# your code will be here\n",
    "def sum_num(n, m):\n",
    "    return n + m if n < m else 0\n",
    "\n",
    "print(sum_num(5, 15))\n",
    "print(sum_num(15, 5))"
   ]
  },
  {
   "cell_type": "markdown",
   "metadata": {
    "id": "LzU4n3lDgzMR"
   },
   "source": [
    "###Task: define a function that print the AND logical operation of *condition1* and *condition 2*, where *condition1, condition2* are parameters."
   ]
  },
  {
   "cell_type": "code",
   "execution_count": 7,
   "metadata": {
    "id": "aoARtrf-hEJR"
   },
   "outputs": [
    {
     "name": "stdout",
     "output_type": "stream",
     "text": [
      "False\n",
      "True\n"
     ]
    }
   ],
   "source": [
    "# your code will be here\n",
    "def condition(condition1, condition2):\n",
    "    return condition1 and condition2\n",
    "\n",
    "print(condition(True, False))\n",
    "print(condition(1+1 == 2, 2 + 2 == 4))"
   ]
  },
  {
   "cell_type": "markdown",
   "metadata": {
    "id": "WLCfkBtOhEfa"
   },
   "source": [
    "###Task: define a function that print if *n* is dividible by *m*, where *n, m* are parameters."
   ]
  },
  {
   "cell_type": "code",
   "execution_count": 8,
   "metadata": {
    "id": "h_aYoPmWhPRL"
   },
   "outputs": [
    {
     "name": "stdout",
     "output_type": "stream",
     "text": [
      "True\n",
      "False\n"
     ]
    }
   ],
   "source": [
    "# your code will be here\n",
    "def divisor(n, m):\n",
    "    return n % m == 0\n",
    "\n",
    "print(divisor(25, 5))\n",
    "print(divisor(26, 5))\n"
   ]
  },
  {
   "cell_type": "markdown",
   "metadata": {
    "id": "RNil8H04hUDq"
   },
   "source": [
    "###Task: define a function that print the minimal number from *x, y, z*, where *x, y, z* are parameters"
   ]
  },
  {
   "cell_type": "code",
   "execution_count": 9,
   "metadata": {
    "id": "HaZfxaajhhn8"
   },
   "outputs": [
    {
     "name": "stdout",
     "output_type": "stream",
     "text": [
      "6\n",
      "-40\n"
     ]
    }
   ],
   "source": [
    "# your code will be here\n",
    "def minimum(x, y, z):\n",
    "    return min([x, y, z])\n",
    "\n",
    "print(minimum(6, 8, 9))\n",
    "print(minimum(-1, -40, 2014))"
   ]
  },
  {
   "cell_type": "code",
   "execution_count": null,
   "metadata": {},
   "outputs": [],
   "source": []
  }
 ],
 "metadata": {
  "colab": {
   "authorship_tag": "ABX9TyOkauti1DOQK2y+ygbW/LCH",
   "collapsed_sections": [],
   "name": "M2Lab2.ipynb",
   "provenance": [],
   "toc_visible": true
  },
  "kernelspec": {
   "display_name": "Python 3",
   "language": "python",
   "name": "python3"
  },
  "language_info": {
   "codemirror_mode": {
    "name": "ipython",
    "version": 3
   },
   "file_extension": ".py",
   "mimetype": "text/x-python",
   "name": "python",
   "nbconvert_exporter": "python",
   "pygments_lexer": "ipython3",
   "version": "3.8.8"
  }
 },
 "nbformat": 4,
 "nbformat_minor": 4
}
