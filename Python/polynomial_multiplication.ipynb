{
 "cells": [
  {
   "cell_type": "markdown",
   "id": "c259e486-5437-4640-acf8-a71fac0dafae",
   "metadata": {},
   "source": [
    "### Polynomial Multiplication ###\n",
    "\n",
    "Algorithms to multiply polynomials together.\n",
    "\n",
    "##### Naive Algorithm: #####"
   ]
  },
  {
   "cell_type": "code",
   "execution_count": 5,
   "id": "d9b0b429-d07e-4b32-993e-9cc30e77cfbc",
   "metadata": {},
   "outputs": [],
   "source": [
    "def mult_poly(a, b, n):\n",
    "    product = [0 for x in range((2*n)-1)]\n",
    "    for i in range(0, n):\n",
    "        for j in range(0, n):\n",
    "            product[i+j] = product[i+j] + a[i] * b[j]\n",
    "    \n",
    "    return product"
   ]
  },
  {
   "cell_type": "markdown",
   "id": "d9f16159-379f-4b12-bada-cfa3f1c4ce6e",
   "metadata": {},
   "source": [
    "Testing the Naive Algorithm for the following Polynomial:\n",
    "\n",
    "$$\n",
    "A = 3x^2 + 2x + 5\n",
    "$$\n",
    "$$\n",
    "B = 5x^2 + x +2\n",
    "$$\n",
    "\n",
    "The result should be:\n",
    "\n",
    "$$\n",
    "A \\times B = 15x^4 + 13x^3 + 33x^2 + 9x +10\n",
    "$$"
   ]
  },
  {
   "cell_type": "code",
   "execution_count": 6,
   "id": "0fe30057-c6ec-4140-919f-183864a26cf3",
   "metadata": {},
   "outputs": [
    {
     "data": {
      "text/plain": [
       "[15, 13, 33, 9, 10]"
      ]
     },
     "execution_count": 6,
     "metadata": {},
     "output_type": "execute_result"
    }
   ],
   "source": [
    "mult_poly([3, 2, 5], [5, 1, 2], 3)"
   ]
  },
  {
   "cell_type": "markdown",
   "id": "da28cc96-6309-426c-a264-7b8151808861",
   "metadata": {},
   "source": [
    "##### Naive Devide and Conquer: #####\n",
    "\n",
    "Now we will use a Naive aproach to devide and conquer using the following polynomials:\n",
    "\n",
    "$$\n",
    "A(x) = 4x^3 + 3x^2 + 2x^2 + 1\n",
    "$$\n",
    "$$\n",
    "B(x) = x^3 + 2x^2 + 3x + 4\n",
    "$$"
   ]
  },
  {
   "cell_type": "markdown",
   "id": "e5baed13-8087-4fb6-b158-9ab68da5af78",
   "metadata": {},
   "source": [
    "Here we will divide the upper terms from the lower terms as follows:\n",
    "\n",
    "$$ D_1(x) = 4x + 3 $$\n",
    "$$ D_0(x) = 2x +1 $$\n",
    "\n",
    "We are dividing $A(x)$ into too smaller polynomials. We will do the same for $B(x)$:\n",
    "\n",
    "$$ E_1(x) = x + 2$$\n",
    "$$ E_0(x) = 3x + 4$$\n",
    "\n"
   ]
  },
  {
   "cell_type": "markdown",
   "id": "589a0349-6304-4f88-8641-9a0a154a9e04",
   "metadata": {},
   "source": [
    "Now we multiply them together in segments:\n",
    "\n",
    "$$D_1E_1 = 4x^2 + 11x + 6$$\n",
    "$$D_1E_0 = 12x^2 + 25x + 12$$\n",
    "$$D_0E_1 = 2x^2 + 5x + 2$$\n",
    "$$D_0E_0 = 6x^2 + 11x + 4$$"
   ]
  },
  {
   "cell_type": "markdown",
   "id": "6d29bcbe-f37c-41da-beb1-f1538f9ad07d",
   "metadata": {},
   "source": [
    "So now, the result of $AB$ would be $D_1E_1 \\times x^4$ plus the sum of $D_1E_0 + D_0E_1 \\times x^2$ plus $D_0E_0$. This would look like this:\n",
    "\n",
    "$$\n",
    "AB = (4x^2 + 11x + 6)x^4 + (12x^2 + 25x + 12 + 2x^2 + 5x + 2)x^2 + 6x^2 + 11x + 4\n",
    "$$\n",
    "\n",
    "Which all together gives us:\n",
    "\n",
    "$$\n",
    "AB = 4x^6 + 11x^5 + 20x^4 + 30x^3 + 20x^2 + 11x + 4\n",
    "$$"
   ]
  },
  {
   "cell_type": "markdown",
   "id": "525defc6-c821-4283-bb6d-e803b8a8a3b5",
   "metadata": {},
   "source": [
    "Lets put it all together into a function:"
   ]
  },
  {
   "cell_type": "code",
   "execution_count": 38,
   "id": "b7615562-ede3-41e5-8dff-fb1f04563619",
   "metadata": {},
   "outputs": [],
   "source": [
    "def multiply_binomials(a, b, n):\n",
    "    if n == 1:\n",
    "        return [a[0] * b[0]]\n",
    "    else:\n",
    "        h = n // 2\n",
    "        a_low = [a[i] for i in range(h)]\n",
    "        a_high = [a[i] for i in range(h, n)]\n",
    "        b_low = [b[i] for i in range(h)]\n",
    "        b_high = [b[i] for i in range(h, n)]\n",
    "        product_low = multiply_binomials(a_low, b_low, h)\n",
    "        product_high = multiply_binomials(a_high, b_high, n - h)\n",
    "        product_mid = [0] * (2 * n - 1)\n",
    "        for i in range(h):\n",
    "            for j in range(h):\n",
    "                product_mid[i + j] += (a_low[i] + a_high[i]) * (b_low[j] + b_high[j])\n",
    "        result = [0 for i in range(2 * n - 1)]\n",
    "        for i in range(2 * h - 1):\n",
    "            result[i] += product_low[i]\n",
    "            result[i + h] += product_mid[i] - product_low[i] - product_high[i]\n",
    "            result[i + 2 * h] += product_high[i]\n",
    "        return result"
   ]
  },
  {
   "cell_type": "code",
   "execution_count": 39,
   "id": "268cccc1-20c6-4b79-8c24-429d093c53a4",
   "metadata": {},
   "outputs": [
    {
     "data": {
      "text/plain": [
       "[4, 11, 20, 30, 20, 11, 4]"
      ]
     },
     "execution_count": 39,
     "metadata": {},
     "output_type": "execute_result"
    }
   ],
   "source": [
    "multiply_binomials([4, 3, 2, 1], [1, 2, 3, 4], 4)"
   ]
  },
  {
   "cell_type": "code",
   "execution_count": null,
   "id": "5ca8bf74-0219-4fce-b499-4301ee5acd60",
   "metadata": {},
   "outputs": [],
   "source": []
  }
 ],
 "metadata": {
  "kernelspec": {
   "display_name": "Programming",
   "language": "python",
   "name": "programming"
  },
  "language_info": {
   "codemirror_mode": {
    "name": "ipython",
    "version": 3
   },
   "file_extension": ".py",
   "mimetype": "text/x-python",
   "name": "python",
   "nbconvert_exporter": "python",
   "pygments_lexer": "ipython3",
   "version": "3.9.5"
  }
 },
 "nbformat": 4,
 "nbformat_minor": 5
}
