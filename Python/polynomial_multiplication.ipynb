{
 "cells": [
  {
   "cell_type": "markdown",
   "id": "c259e486-5437-4640-acf8-a71fac0dafae",
   "metadata": {},
   "source": [
    "### Polynomial Multiplication ###\n",
    "\n",
    "Algorithms to multiply polynomials together.\n",
    "\n",
    "Naive Algorithm:"
   ]
  },
  {
   "cell_type": "code",
   "execution_count": 5,
   "id": "d9b0b429-d07e-4b32-993e-9cc30e77cfbc",
   "metadata": {},
   "outputs": [],
   "source": [
    "def mult_poly(a, b, n):\n",
    "    product = [0 for x in range((2*n)-1)]\n",
    "    for i in range(0, n):\n",
    "        for j in range(0, n):\n",
    "            product[i+j] = product[i+j] + a[i] * b[j]\n",
    "    \n",
    "    return product"
   ]
  },
  {
   "cell_type": "markdown",
   "id": "d9f16159-379f-4b12-bada-cfa3f1c4ce6e",
   "metadata": {},
   "source": [
    "Testing the Naive Algorithm for the following Polynomial:\n",
    "\n",
    "$$\n",
    "A = 3x^2 + 2x + 5\n",
    "$$\n",
    "$$\n",
    "B = 5x^2 + x +2\n",
    "$$\n",
    "\n",
    "The result should be:\n",
    "\n",
    "$$\n",
    "A \\times B = 15x^4 + 13x^3 + 33x^2 + 9x +10\n",
    "$$"
   ]
  },
  {
   "cell_type": "code",
   "execution_count": 6,
   "id": "0fe30057-c6ec-4140-919f-183864a26cf3",
   "metadata": {},
   "outputs": [
    {
     "data": {
      "text/plain": [
       "[15, 13, 33, 9, 10]"
      ]
     },
     "execution_count": 6,
     "metadata": {},
     "output_type": "execute_result"
    }
   ],
   "source": [
    "mult_poly([3, 2, 5], [5, 1, 2], 3)"
   ]
  },
  {
   "cell_type": "code",
   "execution_count": null,
   "id": "cf660944-e012-4440-8f19-960397837a18",
   "metadata": {},
   "outputs": [],
   "source": []
  }
 ],
 "metadata": {
  "kernelspec": {
   "display_name": "Programming",
   "language": "python",
   "name": "programming"
  },
  "language_info": {
   "codemirror_mode": {
    "name": "ipython",
    "version": 3
   },
   "file_extension": ".py",
   "mimetype": "text/x-python",
   "name": "python",
   "nbconvert_exporter": "python",
   "pygments_lexer": "ipython3",
   "version": "3.9.5"
  }
 },
 "nbformat": 4,
 "nbformat_minor": 5
}
