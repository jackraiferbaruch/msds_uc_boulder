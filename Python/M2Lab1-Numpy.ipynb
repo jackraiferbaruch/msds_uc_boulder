{
 "cells": [
  {
   "cell_type": "markdown",
   "metadata": {
    "id": "fe7l2Vy92BWu"
   },
   "source": [
    "#Welcome to our Lab practice!\n",
    "\n",
    "This lab is all about the package, Numpy. Are you ready? Let's go!\n",
    "\n",
    "You will find some small tasks in sections below. \n",
    "\n",
    "> Try to figure out by yourself, or search for references. Being able to search and find information needed is an important skill that benefits you and your career for a long time.\n",
    "\n",
    "\n",
    "\n"
   ]
  },
  {
   "cell_type": "markdown",
   "metadata": {
    "id": "BG7wrui4BGri"
   },
   "source": [
    "## Import the package and rename it as np"
   ]
  },
  {
   "cell_type": "code",
   "execution_count": 2,
   "metadata": {
    "id": "qPVT30J3BKv6"
   },
   "outputs": [],
   "source": [
    "# your code is here\n",
    "import numpy as np"
   ]
  },
  {
   "cell_type": "markdown",
   "metadata": {
    "id": "TTElGHtF2N7g"
   },
   "source": [
    "## Array Creation"
   ]
  },
  {
   "cell_type": "markdown",
   "metadata": {
    "id": "0CtQu71C3PP8"
   },
   "source": [
    "### Task: Create a numpy array from a list of integers"
   ]
  },
  {
   "cell_type": "code",
   "execution_count": 3,
   "metadata": {
    "id": "n7qiruks8HZ5"
   },
   "outputs": [
    {
     "data": {
      "text/plain": [
       "array([0, 1, 2, 3, 4, 5])"
      ]
     },
     "execution_count": 3,
     "metadata": {},
     "output_type": "execute_result"
    }
   ],
   "source": [
    "# your code is here\n",
    "np.array([0, 1, 2, 3, 4, 5])"
   ]
  },
  {
   "cell_type": "markdown",
   "metadata": {
    "id": "3FK5QxBO3dqS"
   },
   "source": [
    "### Task: Create a numpy array of size 6, filled with zeros"
   ]
  },
  {
   "cell_type": "code",
   "execution_count": 5,
   "metadata": {
    "id": "w-XimSI88J1J"
   },
   "outputs": [
    {
     "data": {
      "text/plain": [
       "array([0., 0., 0., 0., 0., 0.])"
      ]
     },
     "execution_count": 5,
     "metadata": {},
     "output_type": "execute_result"
    }
   ],
   "source": [
    "# your code is here\n",
    "np.zeros(6)"
   ]
  },
  {
   "cell_type": "markdown",
   "metadata": {
    "id": "Db9Fwz4KI2al"
   },
   "source": [
    "###Task: Create a numpy array of size 6, filled with ones"
   ]
  },
  {
   "cell_type": "code",
   "execution_count": 6,
   "metadata": {
    "id": "W-PCGPuPUSTv"
   },
   "outputs": [
    {
     "data": {
      "text/plain": [
       "array([1., 1., 1., 1., 1., 1.])"
      ]
     },
     "execution_count": 6,
     "metadata": {},
     "output_type": "execute_result"
    }
   ],
   "source": [
    "# your code is here\n",
    "np.ones(6)"
   ]
  },
  {
   "cell_type": "markdown",
   "metadata": {
    "id": "42rLKWbe3l8m"
   },
   "source": [
    "###Task: Create a numpy array with values from 0 to 10"
   ]
  },
  {
   "cell_type": "code",
   "execution_count": 7,
   "metadata": {
    "id": "ExbcAYLk8LYI"
   },
   "outputs": [
    {
     "data": {
      "text/plain": [
       "array([ 0,  1,  2,  3,  4,  5,  6,  7,  8,  9, 10])"
      ]
     },
     "execution_count": 7,
     "metadata": {},
     "output_type": "execute_result"
    }
   ],
   "source": [
    "# your code is here\n",
    "np.arange(11)"
   ]
  },
  {
   "cell_type": "markdown",
   "metadata": {
    "id": "c5314DLtJVyv"
   },
   "source": [
    "###Task: Create a numpy matrix of 2*3 integers, filled with zeros"
   ]
  },
  {
   "cell_type": "code",
   "execution_count": 8,
   "metadata": {
    "id": "JRNBES4MUTV2"
   },
   "outputs": [
    {
     "data": {
      "text/plain": [
       "array([[0., 0., 0.],\n",
       "       [0., 0., 0.]])"
      ]
     },
     "execution_count": 8,
     "metadata": {},
     "output_type": "execute_result"
    }
   ],
   "source": [
    "# your code is here\n",
    "np.zeros((2, 3))"
   ]
  },
  {
   "cell_type": "markdown",
   "metadata": {
    "id": "tyPLq8JwJcQR"
   },
   "source": [
    "###Task: Create a numpy matrix of 3*2 integers, filled with ones"
   ]
  },
  {
   "cell_type": "code",
   "execution_count": 9,
   "metadata": {
    "id": "BbZBfz_qUUgf"
   },
   "outputs": [
    {
     "data": {
      "text/plain": [
       "array([[1., 1.],\n",
       "       [1., 1.],\n",
       "       [1., 1.]])"
      ]
     },
     "execution_count": 9,
     "metadata": {},
     "output_type": "execute_result"
    }
   ],
   "source": [
    "# your code is here\n",
    "np.ones((3, 2))"
   ]
  },
  {
   "cell_type": "markdown",
   "metadata": {
    "id": "oIYfk1CJJs4R"
   },
   "source": [
    "###Task: Create a numpy matrix of 3*2 integers, filled with random integers in [0, 10]"
   ]
  },
  {
   "cell_type": "code",
   "execution_count": 11,
   "metadata": {
    "id": "f3rSXHN1UVJt"
   },
   "outputs": [
    {
     "data": {
      "text/plain": [
       "array([[1, 0],\n",
       "       [6, 7],\n",
       "       [6, 1]])"
      ]
     },
     "execution_count": 11,
     "metadata": {},
     "output_type": "execute_result"
    }
   ],
   "source": [
    "# your code is here\n",
    "np.random.randint(0, 11, (3, 2))"
   ]
  },
  {
   "cell_type": "markdown",
   "metadata": {
    "id": "-61o4-pCJ7y8"
   },
   "source": [
    "###Task: Create a numpy matrix of 100 * 2, filled with random float value in [0, 1]"
   ]
  },
  {
   "cell_type": "code",
   "execution_count": 12,
   "metadata": {
    "id": "NpxV1fsOUVtd"
   },
   "outputs": [
    {
     "data": {
      "text/plain": [
       "array([[0.36061417, 0.22813467],\n",
       "       [0.90858271, 0.06632447],\n",
       "       [0.17538382, 0.49078585],\n",
       "       [0.86421808, 0.31081037],\n",
       "       [0.49499906, 0.93020243],\n",
       "       [0.57569841, 0.55963419],\n",
       "       [0.44938363, 0.41855375],\n",
       "       [0.16894612, 0.840603  ],\n",
       "       [0.36224653, 0.01594224],\n",
       "       [0.17176141, 0.62660537],\n",
       "       [0.38089541, 0.23688689],\n",
       "       [0.18066243, 0.15954909],\n",
       "       [0.28627271, 0.57608839],\n",
       "       [0.7385182 , 0.83031395],\n",
       "       [0.70726099, 0.86681804],\n",
       "       [0.98746667, 0.70781307],\n",
       "       [0.54568984, 0.45179902],\n",
       "       [0.80257985, 0.92630997],\n",
       "       [0.41970888, 0.44901697],\n",
       "       [0.66668145, 0.75503874],\n",
       "       [0.80188253, 0.16925749],\n",
       "       [0.85265048, 0.4277868 ],\n",
       "       [0.32766787, 0.37003288],\n",
       "       [0.05703688, 0.51176182],\n",
       "       [0.08459137, 0.59760241],\n",
       "       [0.34439264, 0.54063487],\n",
       "       [0.77231046, 0.59656847],\n",
       "       [0.04882562, 0.74956658],\n",
       "       [0.02268274, 0.26121662],\n",
       "       [0.10787445, 0.79296257],\n",
       "       [0.39006989, 0.35257641],\n",
       "       [0.28440972, 0.49076481],\n",
       "       [0.03507928, 0.18819478],\n",
       "       [0.70949643, 0.75775755],\n",
       "       [0.24290798, 0.50470941],\n",
       "       [0.91308233, 0.19959856],\n",
       "       [0.66750753, 0.44814308],\n",
       "       [0.3397112 , 0.01733487],\n",
       "       [0.58170364, 0.29188081],\n",
       "       [0.34454795, 0.28462607],\n",
       "       [0.39257437, 0.7078098 ],\n",
       "       [0.59388836, 0.25942637],\n",
       "       [0.58940502, 0.70206991],\n",
       "       [0.7696943 , 0.12827738],\n",
       "       [0.34864278, 0.72138642],\n",
       "       [0.01175856, 0.08170492],\n",
       "       [0.15540152, 0.08125636],\n",
       "       [0.60524799, 0.17526858],\n",
       "       [0.01392431, 0.801577  ],\n",
       "       [0.46397389, 0.42872311],\n",
       "       [0.15309654, 0.42212842],\n",
       "       [0.45112898, 0.30738001],\n",
       "       [0.92805788, 0.79421508],\n",
       "       [0.68656153, 0.89469473],\n",
       "       [0.34296044, 0.80665446],\n",
       "       [0.65121798, 0.24243376],\n",
       "       [0.47247919, 0.90762072],\n",
       "       [0.30305851, 0.02515882],\n",
       "       [0.11959643, 0.20544828],\n",
       "       [0.56290173, 0.62323128],\n",
       "       [0.19589584, 0.88874561],\n",
       "       [0.78503233, 0.90202433],\n",
       "       [0.41849964, 0.36879862],\n",
       "       [0.72477545, 0.80040988],\n",
       "       [0.70234054, 0.13070652],\n",
       "       [0.93659935, 0.55429901],\n",
       "       [0.18732932, 0.94436706],\n",
       "       [0.40019413, 0.06638009],\n",
       "       [0.01438765, 0.66725008],\n",
       "       [0.92704327, 0.44118845],\n",
       "       [0.08384312, 0.73309222],\n",
       "       [0.01948465, 0.07053979],\n",
       "       [0.90874041, 0.01607677],\n",
       "       [0.87226864, 0.35689686],\n",
       "       [0.51783616, 0.27972173],\n",
       "       [0.27128772, 0.10118808],\n",
       "       [0.43125625, 0.01543873],\n",
       "       [0.46951391, 0.71856201],\n",
       "       [0.74887278, 0.07007843],\n",
       "       [0.639928  , 0.43076952],\n",
       "       [0.83018596, 0.43597561],\n",
       "       [0.76425496, 0.44394443],\n",
       "       [0.02694049, 0.76811949],\n",
       "       [0.85880064, 0.71643711],\n",
       "       [0.08020028, 0.91806907],\n",
       "       [0.40630717, 0.46814737],\n",
       "       [0.97450468, 0.94564186],\n",
       "       [0.53978937, 0.23950782],\n",
       "       [0.37275607, 0.24012353],\n",
       "       [0.82829537, 0.74792206],\n",
       "       [0.87104271, 0.85181347],\n",
       "       [0.1288201 , 0.83193269],\n",
       "       [0.31763808, 0.97626644],\n",
       "       [0.22499611, 0.9752477 ],\n",
       "       [0.94555192, 0.28827064],\n",
       "       [0.69862499, 0.83523185],\n",
       "       [0.73702594, 0.38520031],\n",
       "       [0.6443182 , 0.45344945],\n",
       "       [0.5473253 , 0.32585291],\n",
       "       [0.75857768, 0.98348942]])"
      ]
     },
     "execution_count": 12,
     "metadata": {},
     "output_type": "execute_result"
    }
   ],
   "source": [
    "# your code is here\n",
    "np.random.rand(100, 2)"
   ]
  },
  {
   "cell_type": "markdown",
   "metadata": {
    "id": "jZ4l3axBJ5tJ"
   },
   "source": [
    "###Task: Create a numpy matrix of 2 * 3 * 4, filled with integers from 1 to 24."
   ]
  },
  {
   "cell_type": "code",
   "execution_count": 14,
   "metadata": {
    "id": "G3AKUvkMUWu2"
   },
   "outputs": [
    {
     "data": {
      "text/plain": [
       "array([[[ 1,  2,  3,  4],\n",
       "        [ 5,  6,  7,  8],\n",
       "        [ 9, 10, 11, 12]],\n",
       "\n",
       "       [[13, 14, 15, 16],\n",
       "        [17, 18, 19, 20],\n",
       "        [21, 22, 23, 24]]])"
      ]
     },
     "execution_count": 14,
     "metadata": {},
     "output_type": "execute_result"
    }
   ],
   "source": [
    "# your code is here\n",
    "np.arange(1, 25).reshape(2, 3, 4)"
   ]
  },
  {
   "cell_type": "markdown",
   "metadata": {
    "id": "1ut5x4Zl2RVu"
   },
   "source": [
    "## Array Indexing"
   ]
  },
  {
   "cell_type": "markdown",
   "metadata": {
    "id": "3iWGsCO4KpaD"
   },
   "source": [
    "### Task: Let X be a numpy array, and X = np.array([1, 2, 3, 4, 5])"
   ]
  },
  {
   "cell_type": "code",
   "execution_count": 15,
   "metadata": {
    "id": "_OfiD8vBBhCM"
   },
   "outputs": [],
   "source": [
    "# your code is here\n",
    "X = np.array([1, 2, 3, 4, 5])"
   ]
  },
  {
   "cell_type": "markdown",
   "metadata": {
    "id": "dGUiTYKM4XTF"
   },
   "source": [
    "### Task: Show the first element of X"
   ]
  },
  {
   "cell_type": "code",
   "execution_count": 16,
   "metadata": {
    "id": "MQ9sEgvL8Mph"
   },
   "outputs": [
    {
     "data": {
      "text/plain": [
       "1"
      ]
     },
     "execution_count": 16,
     "metadata": {},
     "output_type": "execute_result"
    }
   ],
   "source": [
    "# your code is here\n",
    "X[0]"
   ]
  },
  {
   "cell_type": "markdown",
   "metadata": {
    "id": "VYkj8Sni5SLY"
   },
   "source": [
    "### Task: Show the last element of X"
   ]
  },
  {
   "cell_type": "code",
   "execution_count": 17,
   "metadata": {
    "id": "ezJbefBc8NSc"
   },
   "outputs": [
    {
     "data": {
      "text/plain": [
       "5"
      ]
     },
     "execution_count": 17,
     "metadata": {},
     "output_type": "execute_result"
    }
   ],
   "source": [
    "# your code is here\n",
    "X[-1]"
   ]
  },
  {
   "cell_type": "markdown",
   "metadata": {
    "id": "-BEsJESu4hx0"
   },
   "source": [
    "### Task: Show the first 3 elements of X"
   ]
  },
  {
   "cell_type": "code",
   "execution_count": 18,
   "metadata": {
    "id": "GqsoQylO8Nz4"
   },
   "outputs": [
    {
     "data": {
      "text/plain": [
       "array([1, 2, 3])"
      ]
     },
     "execution_count": 18,
     "metadata": {},
     "output_type": "execute_result"
    }
   ],
   "source": [
    "# your code is here\n",
    "X[:3]"
   ]
  },
  {
   "cell_type": "markdown",
   "metadata": {
    "id": "NOLUtTzDLD-l"
   },
   "source": [
    "###Task: Show the last 3 elements of X"
   ]
  },
  {
   "cell_type": "code",
   "execution_count": 19,
   "metadata": {
    "id": "p_YG72N2UYjG"
   },
   "outputs": [
    {
     "data": {
      "text/plain": [
       "array([3, 4, 5])"
      ]
     },
     "execution_count": 19,
     "metadata": {},
     "output_type": "execute_result"
    }
   ],
   "source": [
    "# your code is here\n",
    "X[-3:]"
   ]
  },
  {
   "cell_type": "markdown",
   "metadata": {
    "id": "_dzBCEzWLG3v"
   },
   "source": [
    "###Task: Show the elements of X whose index is odd (1, 3, 5, ...)"
   ]
  },
  {
   "cell_type": "code",
   "execution_count": 22,
   "metadata": {
    "id": "e-G7QckRUZIs"
   },
   "outputs": [
    {
     "data": {
      "text/plain": [
       "array([2, 4])"
      ]
     },
     "execution_count": 22,
     "metadata": {},
     "output_type": "execute_result"
    }
   ],
   "source": [
    "# your code is here\n",
    "X[1::2]"
   ]
  },
  {
   "cell_type": "markdown",
   "metadata": {
    "id": "tsukfJQ1LabJ"
   },
   "source": [
    "###Task: Show the elements of X except the last one"
   ]
  },
  {
   "cell_type": "code",
   "execution_count": 23,
   "metadata": {
    "id": "PlPO_MgPUZqG"
   },
   "outputs": [
    {
     "data": {
      "text/plain": [
       "array([1, 2, 3, 4])"
      ]
     },
     "execution_count": 23,
     "metadata": {},
     "output_type": "execute_result"
    }
   ],
   "source": [
    "# your code is here\n",
    "X[:-1]"
   ]
  },
  {
   "cell_type": "markdown",
   "metadata": {
    "id": "8EhDJvC2Lm77"
   },
   "source": [
    "### Task: Let X be a numpy matrix with dimension 3 * 4, and filled from 0 to 11."
   ]
  },
  {
   "cell_type": "code",
   "execution_count": 26,
   "metadata": {
    "id": "fwvu0ToqBiXA"
   },
   "outputs": [
    {
     "data": {
      "text/plain": [
       "array([[ 0,  1,  2,  3],\n",
       "       [ 4,  5,  6,  7],\n",
       "       [ 8,  9, 10, 11]])"
      ]
     },
     "execution_count": 26,
     "metadata": {},
     "output_type": "execute_result"
    }
   ],
   "source": [
    "# your code is here\n",
    "X = np.arange(12).reshape(3,4)\n",
    "X"
   ]
  },
  {
   "cell_type": "markdown",
   "metadata": {
    "id": "hi4_PetZ4oJk"
   },
   "source": [
    "###Task: Show the first row of X"
   ]
  },
  {
   "cell_type": "code",
   "execution_count": 27,
   "metadata": {
    "id": "Iwz0Ljxs8OqA"
   },
   "outputs": [
    {
     "data": {
      "text/plain": [
       "array([0, 1, 2, 3])"
      ]
     },
     "execution_count": 27,
     "metadata": {},
     "output_type": "execute_result"
    }
   ],
   "source": [
    "# your code is here\n",
    "X[0]"
   ]
  },
  {
   "cell_type": "markdown",
   "metadata": {
    "id": "4juNISwiP3jt"
   },
   "source": [
    "###Task: Show the first column of X"
   ]
  },
  {
   "cell_type": "code",
   "execution_count": 28,
   "metadata": {
    "id": "dPDgvTVeUakl"
   },
   "outputs": [
    {
     "data": {
      "text/plain": [
       "array([0, 4, 8])"
      ]
     },
     "execution_count": 28,
     "metadata": {},
     "output_type": "execute_result"
    }
   ],
   "source": [
    "# your code is here\n",
    "X[:,0]"
   ]
  },
  {
   "cell_type": "markdown",
   "metadata": {
    "id": "FOhsq6KcP6BX"
   },
   "source": [
    "###Task: Show the first element of the first row of X"
   ]
  },
  {
   "cell_type": "code",
   "execution_count": 30,
   "metadata": {
    "id": "HpawggljUbOk"
   },
   "outputs": [
    {
     "data": {
      "text/plain": [
       "0"
      ]
     },
     "execution_count": 30,
     "metadata": {},
     "output_type": "execute_result"
    }
   ],
   "source": [
    "# your code is here\n",
    "X[0, 0]"
   ]
  },
  {
   "cell_type": "markdown",
   "metadata": {
    "id": "1fCRCWyxP_rX"
   },
   "source": [
    "###Task: Show the last row of X"
   ]
  },
  {
   "cell_type": "code",
   "execution_count": 31,
   "metadata": {
    "id": "hVPhcd5cUby8"
   },
   "outputs": [
    {
     "data": {
      "text/plain": [
       "array([ 8,  9, 10, 11])"
      ]
     },
     "execution_count": 31,
     "metadata": {},
     "output_type": "execute_result"
    }
   ],
   "source": [
    "# your code is here\n",
    "X[-1]"
   ]
  },
  {
   "cell_type": "markdown",
   "metadata": {
    "id": "VfwEaj7-QB68"
   },
   "source": [
    "###Task: Show the last column of X"
   ]
  },
  {
   "cell_type": "code",
   "execution_count": 32,
   "metadata": {
    "id": "R9LK1G9wUcat"
   },
   "outputs": [
    {
     "data": {
      "text/plain": [
       "array([ 3,  7, 11])"
      ]
     },
     "execution_count": 32,
     "metadata": {},
     "output_type": "execute_result"
    }
   ],
   "source": [
    "# your code is here\n",
    "X[:,-1]"
   ]
  },
  {
   "cell_type": "markdown",
   "metadata": {
    "id": "gfnCcIJmQEFZ"
   },
   "source": [
    "###Task: Show the last element of the last row of X"
   ]
  },
  {
   "cell_type": "code",
   "execution_count": 33,
   "metadata": {
    "id": "8cKHG30wUc4-"
   },
   "outputs": [
    {
     "data": {
      "text/plain": [
       "11"
      ]
     },
     "execution_count": 33,
     "metadata": {},
     "output_type": "execute_result"
    }
   ],
   "source": [
    "# your code is here\n",
    "X[-1, -1]"
   ]
  },
  {
   "cell_type": "markdown",
   "metadata": {
    "id": "mavuLFztQGkA"
   },
   "source": [
    "###Task: Show all the rows except the last row of X"
   ]
  },
  {
   "cell_type": "code",
   "execution_count": 35,
   "metadata": {
    "id": "yqg06Mk9Udeb"
   },
   "outputs": [
    {
     "data": {
      "text/plain": [
       "array([[0, 1, 2, 3],\n",
       "       [4, 5, 6, 7]])"
      ]
     },
     "execution_count": 35,
     "metadata": {},
     "output_type": "execute_result"
    }
   ],
   "source": [
    "# your code is here\n",
    "X[:-1,:]"
   ]
  },
  {
   "cell_type": "markdown",
   "metadata": {
    "id": "gsugFt6CQSv8"
   },
   "source": [
    "###Task: Show all the columns except the last column of X"
   ]
  },
  {
   "cell_type": "code",
   "execution_count": 36,
   "metadata": {
    "id": "aSmfSj0rUd0d"
   },
   "outputs": [
    {
     "data": {
      "text/plain": [
       "array([[ 0,  1,  2],\n",
       "       [ 4,  5,  6],\n",
       "       [ 8,  9, 10]])"
      ]
     },
     "execution_count": 36,
     "metadata": {},
     "output_type": "execute_result"
    }
   ],
   "source": [
    "# your code is here\n",
    "X[:,:-1]"
   ]
  },
  {
   "cell_type": "markdown",
   "metadata": {
    "id": "q39M28ow6Oqj"
   },
   "source": [
    "### Task: Show the first two elements of the first two rows"
   ]
  },
  {
   "cell_type": "code",
   "execution_count": 37,
   "metadata": {
    "id": "i5tQ-9118PPg"
   },
   "outputs": [
    {
     "data": {
      "text/plain": [
       "array([[0, 1],\n",
       "       [4, 5]])"
      ]
     },
     "execution_count": 37,
     "metadata": {},
     "output_type": "execute_result"
    }
   ],
   "source": [
    "# your code is here\n",
    "X[:2,:2]"
   ]
  },
  {
   "cell_type": "markdown",
   "metadata": {
    "id": "BwMQX2n4Ttkk"
   },
   "source": [
    "## Array Statistics"
   ]
  },
  {
   "cell_type": "markdown",
   "metadata": {
    "id": "ZC1IirZtSi13"
   },
   "source": [
    "###Task: Create a numpy array X, print the sum, mean, std, var, max, min of it"
   ]
  },
  {
   "cell_type": "code",
   "execution_count": 41,
   "metadata": {
    "id": "VDEv57JAUer6"
   },
   "outputs": [
    {
     "name": "stdout",
     "output_type": "stream",
     "text": [
      "[0 1 2 3 4 5 6 7 8 9]\n",
      "45\n",
      "4.5\n",
      "2.8722813232690143\n",
      "8.25\n",
      "9\n",
      "0\n"
     ]
    }
   ],
   "source": [
    "# your code is here\n",
    "X = np.arange(10)\n",
    "print(X)\n",
    "print(X.sum())\n",
    "print(X.mean())\n",
    "print(X.std())\n",
    "print(X.var())\n",
    "print(X.max())\n",
    "print(X.min())"
   ]
  },
  {
   "cell_type": "markdown",
   "metadata": {
    "id": "0Db2EBujS1x2"
   },
   "source": [
    "###Task: Create a numpy matrix X as n * m, print the sum, mean, std, var, max, min of the 1st row of it."
   ]
  },
  {
   "cell_type": "code",
   "execution_count": 42,
   "metadata": {
    "id": "i_PJh-WyUe-h"
   },
   "outputs": [
    {
     "name": "stdout",
     "output_type": "stream",
     "text": [
      "[[ 0  1  2  3]\n",
      " [ 4  5  6  7]\n",
      " [ 8  9 10 11]]\n",
      "6\n",
      "1.5\n",
      "1.118033988749895\n",
      "1.25\n",
      "3\n",
      "0\n"
     ]
    }
   ],
   "source": [
    "# your code is here\n",
    "X = np.arange(12).reshape(3,4)\n",
    "print(X[0])\n",
    "print(X[0].sum())\n",
    "print(X[0].mean())\n",
    "print(X[0].std())\n",
    "print(X[0].var())\n",
    "print(X[0].max())\n",
    "print(X[0].min())"
   ]
  },
  {
   "cell_type": "markdown",
   "metadata": {
    "id": "MUPGzrQIS8SJ"
   },
   "source": [
    "###Task: Create a numpy matrix X as n * m, print the sum, mean, std, var, max, min of the 1st column of it."
   ]
  },
  {
   "cell_type": "code",
   "execution_count": 45,
   "metadata": {
    "id": "d9ufG5uWUfd0"
   },
   "outputs": [
    {
     "name": "stdout",
     "output_type": "stream",
     "text": [
      "[0 4 8]\n",
      "12\n",
      "4.0\n",
      "3.265986323710904\n",
      "10.666666666666666\n",
      "8\n",
      "0\n"
     ]
    }
   ],
   "source": [
    "# your code is here\n",
    "print(X[:,0])\n",
    "print(X[:,0].sum())\n",
    "print(X[:,0].mean())\n",
    "print(X[:,0].std())\n",
    "print(X[:,0].var())\n",
    "print(X[:,0].max())\n",
    "print(X[:,0].min())"
   ]
  }
 ],
 "metadata": {
  "colab": {
   "authorship_tag": "ABX9TyPOArmpLN0idHX0WDYsVXp6",
   "collapsed_sections": [],
   "name": "M2Lab1-Numpy.ipynb",
   "provenance": [],
   "toc_visible": true
  },
  "kernelspec": {
   "display_name": "Python 3",
   "language": "python",
   "name": "python3"
  },
  "language_info": {
   "codemirror_mode": {
    "name": "ipython",
    "version": 3
   },
   "file_extension": ".py",
   "mimetype": "text/x-python",
   "name": "python",
   "nbconvert_exporter": "python",
   "pygments_lexer": "ipython3",
   "version": "3.8.8"
  }
 },
 "nbformat": 4,
 "nbformat_minor": 4
}
