{
 "cells": [
  {
   "cell_type": "markdown",
   "metadata": {
    "id": "cnAUJprJdh9_"
   },
   "source": [
    "# Welcome to our last Lab Practice!"
   ]
  },
  {
   "cell_type": "markdown",
   "metadata": {
    "id": "vVYcayGedmms"
   },
   "source": [
    "This lab is all about defining nested functions. Are you ready? Let's get started!"
   ]
  },
  {
   "cell_type": "markdown",
   "metadata": {
    "id": "JP8eGBVyeSQx"
   },
   "source": [
    "You will find some small tasks in sections below. After defining functions, call them to test."
   ]
  },
  {
   "cell_type": "markdown",
   "metadata": {
    "id": "qzuHvz8d6ICV"
   },
   "source": [
    "## Define recursive functions"
   ]
  },
  {
   "cell_type": "markdown",
   "metadata": {
    "id": "h-mrQgK7RKqm"
   },
   "source": [
    "###Task: define a recursive function to compute fibonacci series: $fib(0) = 0$, $fib(1) = 1$, $fib(n) = fib(n-1) + fib(n-2)$"
   ]
  },
  {
   "cell_type": "code",
   "execution_count": 26,
   "metadata": {
    "id": "FR7idsVORX5_"
   },
   "outputs": [],
   "source": [
    "# your code will be here\n",
    "def fib(n):\n",
    "    if n == 0:\n",
    "        return 0\n",
    "    elif n <= 1:\n",
    "        return 1\n",
    "    else:\n",
    "        return fib(n-1) + fib(n-2)"
   ]
  },
  {
   "cell_type": "code",
   "execution_count": 32,
   "metadata": {},
   "outputs": [
    {
     "name": "stdout",
     "output_type": "stream",
     "text": [
      "1\n",
      "1\n",
      "2\n",
      "3\n",
      "5\n",
      "8\n",
      "13\n"
     ]
    }
   ],
   "source": [
    "print(fib(1)) # 1\n",
    "print(fib(2)) # 1\n",
    "print(fib(3)) # 2\n",
    "print(fib(4)) # 3\n",
    "print(fib(5)) # 5\n",
    "print(fib(6)) # 8\n",
    "print(fib(7)) # 13"
   ]
  },
  {
   "cell_type": "markdown",
   "metadata": {
    "id": "DgJSW0_BBy1i"
   },
   "source": [
    "###Task: define a recursive function to compute the number of digits of a positive integer."
   ]
  },
  {
   "cell_type": "code",
   "execution_count": 37,
   "metadata": {
    "id": "Pw6KMzh9CGQb"
   },
   "outputs": [],
   "source": [
    "# your code will be here\n",
    "def pos_dig(n):\n",
    "    if n < 10:\n",
    "        return 1\n",
    "    else:\n",
    "        return 1 + pos_dig(n//10)"
   ]
  },
  {
   "cell_type": "code",
   "execution_count": 39,
   "metadata": {},
   "outputs": [
    {
     "name": "stdout",
     "output_type": "stream",
     "text": [
      "1\n",
      "2\n",
      "3\n",
      "4\n"
     ]
    }
   ],
   "source": [
    "print(pos_dig(8)) # 1\n",
    "print(pos_dig(11)) # 2\n",
    "print(pos_dig(114)) # 3\n",
    "print(pos_dig(3145)) # 4"
   ]
  },
  {
   "cell_type": "markdown",
   "metadata": {
    "id": "0V2xXl_WuE_C"
   },
   "source": [
    "### Task: define a function to check whether or not a string without special characters is palindrome.\n",
    "\n",
    "Definition: Palindrome is a word, phrase, or sequence that reads the same backward as forward. \n",
    "\n",
    "For example: \n",
    "*   '', 'a', 'ada', 'adda' are palindrome;\n",
    "*   'ab', 'abs' are not palindrome.\n",
    "\n",
    "We can assume the input string contains only A to Z and a to z, no other special characters, it might be empty, and an empty string is palindrome.\n",
    "\n",
    "Hint: The first character of the string *s* can be accessed by *s[0]* and the last character of the string *s* can be accessed by *s[-1]*.\n",
    "The substring without the first and last character of a string *s* can be obtained by *s[1:-1]*"
   ]
  },
  {
   "cell_type": "code",
   "execution_count": 41,
   "metadata": {
    "id": "IWog-rcNwl47"
   },
   "outputs": [],
   "source": [
    "# your code will be here\n",
    "def palindrome(string):\n",
    "    return string == string[::-1]"
   ]
  },
  {
   "cell_type": "code",
   "execution_count": 42,
   "metadata": {},
   "outputs": [
    {
     "name": "stdout",
     "output_type": "stream",
     "text": [
      "True\n",
      "True\n",
      "False\n"
     ]
    }
   ],
   "source": [
    "print(palindrome('ada')) # True\n",
    "print(palindrome('baddab')) # True\n",
    "print(palindrome('adds')) # False"
   ]
  },
  {
   "cell_type": "code",
   "execution_count": null,
   "metadata": {},
   "outputs": [],
   "source": []
  }
 ],
 "metadata": {
  "colab": {
   "authorship_tag": "ABX9TyMlZbdz3thS95HzQmbsvAxT",
   "collapsed_sections": [],
   "name": "M4Lab2.ipynb",
   "provenance": [],
   "toc_visible": true
  },
  "kernelspec": {
   "display_name": "Python 3",
   "language": "python",
   "name": "python3"
  },
  "language_info": {
   "codemirror_mode": {
    "name": "ipython",
    "version": 3
   },
   "file_extension": ".py",
   "mimetype": "text/x-python",
   "name": "python",
   "nbconvert_exporter": "python",
   "pygments_lexer": "ipython3",
   "version": "3.8.8"
  }
 },
 "nbformat": 4,
 "nbformat_minor": 4
}
