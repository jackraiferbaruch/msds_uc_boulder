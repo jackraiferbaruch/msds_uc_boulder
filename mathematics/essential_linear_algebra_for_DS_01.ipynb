{
 "cells": [
  {
   "cell_type": "markdown",
   "id": "bebb3c2a-14d6-4b54-ace2-b20a567ab485",
   "metadata": {},
   "source": [
    "## Essential Linear Algebra for Data Science ##\n",
    "\n",
    "### Linear System ###\n",
    "\n",
    "We will use the following conventions to define a linear system:\n",
    "\n",
    "- $a_i$ as a constant.\n",
    "- $b$ as a constant.\n",
    "- $x_i$ as variables ($x_1$, $x_2$, $x_3$...$x_n$)"
   ]
  },
  {
   "cell_type": "markdown",
   "id": "cdb58c1b-dd50-4b0b-8921-f3b257e48ca7",
   "metadata": {},
   "source": [
    "In that sense a linear sistem is defined by:\n",
    "\n",
    "$$a_1x_1 + a_2x_2 + a_3x_3 ... a_nx_n = b$$"
   ]
  },
  {
   "cell_type": "markdown",
   "id": "4b891bea-d272-4ef1-8e21-0af43756345f",
   "metadata": {},
   "source": [
    "In other words the sum of all all constants $a$ times variables $x$ equals some constant $b$.\n",
    "\n",
    "If you can write a linear system this way, it is a linear system, if not, it is simply not a linear system."
   ]
  },
  {
   "cell_type": "markdown",
   "id": "4102791e-d1ed-4c65-ac0f-9377b7a0fb76",
   "metadata": {},
   "source": [
    "So for example the following formula:\n",
    "\n",
    "$$2x_1 + \\sqrt{3} x_2 = 4$$"
   ]
  },
  {
   "cell_type": "markdown",
   "id": "70bdf23d-39fc-4b8e-a15d-a1f03cd3834e",
   "metadata": {},
   "source": [
    "This is a perfect example of a linear formula.\n",
    "\n",
    "Here are a couple of examples of what are not linear sytem formulas:\n",
    "\n",
    "$$ x_1x_2 + 3x_3 = 5$$"
   ]
  },
  {
   "cell_type": "markdown",
   "id": "465fba1f-584b-4863-a8c2-fb60b6ef0752",
   "metadata": {},
   "source": [
    "This is not a linear system, and the problem lies in the multiplication of $x_1x_2$, because this is not a linear term.\n",
    "\n",
    "Another example of what we cannot do is:"
   ]
  },
  {
   "cell_type": "markdown",
   "id": "1c82ff00-18b7-4d70-a850-6a94b2f3c75a",
   "metadata": {},
   "source": [
    "$$4\\sqrt{x_1} + x_2 = \\sqrt{5}$$"
   ]
  },
  {
   "cell_type": "markdown",
   "id": "848d817b-274f-476f-a2fb-9c2c95c04174",
   "metadata": {},
   "source": [
    "The sqare root of 5 is perfectly fine, the problem is we cannot have the square root of variable $x_1$ because it is not linear, and all of the variables in a linear system must be linear for it to work."
   ]
  },
  {
   "cell_type": "markdown",
   "id": "4cdb4c31-ecaf-4df9-89a0-27e156836ecb",
   "metadata": {},
   "source": [
    "#### Solution Options ####\n",
    "\n",
    "Let's say we have the following equations:\n",
    "\n",
    "$$ 2x_1 + x_2 = 3$$\n",
    "\n",
    "$$ -x_1 - x_2 = -\\sqrt{4}$$"
   ]
  },
  {
   "cell_type": "markdown",
   "id": "b93866f0-0ce8-4919-9fe8-33821c2cd5b1",
   "metadata": {},
   "source": [
    "What we want to find out is what are the $x_1$ and $x_2$ values that make both equations true.\n",
    "\n",
    "If we had 2 lines ploted on a graph like this."
   ]
  },
  {
   "cell_type": "code",
   "execution_count": 1,
   "id": "e1108155-ebb8-41c8-9463-f9a31d046708",
   "metadata": {},
   "outputs": [],
   "source": [
    "import matplotlib.pyplot as plt\n",
    "%matplotlib inline"
   ]
  },
  {
   "cell_type": "code",
   "execution_count": 2,
   "id": "1245fc7d-dfab-4451-a768-2e56d2b2a1d5",
   "metadata": {},
   "outputs": [],
   "source": [
    "x = [x for x in range(-10,11)]\n",
    "y1 = [n*2 for n in x] \n",
    "y2 = [n+2 for n in x]"
   ]
  },
  {
   "cell_type": "code",
   "execution_count": 3,
   "id": "eb4293bc-ce58-4630-87a8-a8823ca9703a",
   "metadata": {},
   "outputs": [
    {
     "data": {
      "image/png": "[encoded data removed]",
      "text/plain": [
       "<Figure size 432x288 with 1 Axes>"
      ]
     },
     "metadata": {
      "needs_background": "light"
     },
     "output_type": "display_data"
    }
   ],
   "source": [
    "plt.plot(x,y1)\n",
    "plt.plot(x,y2)\n",
    "plt.show()"
   ]
  },
  {
   "cell_type": "markdown",
   "id": "595b4061-e0e5-4db8-b575-41ecc72eeef6",
   "metadata": {},
   "source": [
    "In this example, there would only be one solution, since the lines only cross each other once."
   ]
  },
  {
   "cell_type": "markdown",
   "id": "9df549d5-d4ac-49d7-9d88-c6835eefc0e7",
   "metadata": {},
   "source": [
    "If we had two other lines like this ones:"
   ]
  },
  {
   "cell_type": "code",
   "execution_count": 11,
   "id": "9a60eefa-a86e-439a-bf4a-f758adf9157b",
   "metadata": {},
   "outputs": [],
   "source": [
    "y1 = [n+2 for n in x] \n",
    "y2 = [n+8 for n in x]"
   ]
  },
  {
   "cell_type": "code",
   "execution_count": 12,
   "id": "f9dce28a-8d5d-43b7-bb0a-7c9127822b1c",
   "metadata": {},
   "outputs": [
    {
     "data": {
      "image/png": "[encoded data removed]",
      "text/plain": [
       "<Figure size 432x288 with 1 Axes>"
      ]
     },
     "metadata": {
      "needs_background": "light"
     },
     "output_type": "display_data"
    }
   ],
   "source": [
    "plt.plot(x,y1)\n",
    "plt.plot(x,y2)\n",
    "plt.show()"
   ]
  },
  {
   "cell_type": "markdown",
   "id": "45b64bf2-1f8b-46c7-887b-f2cd4fb37e49",
   "metadata": {},
   "source": [
    "These two parallel lines will never intersect, so there will never be a time where you can solve the equations for these two lines with the same result. In this case we would say we have no solution set for these equations."
   ]
  },
  {
   "cell_type": "markdown",
   "id": "790b0db4-df4d-4393-a9e7-92c6111a6837",
   "metadata": {},
   "source": [
    "One final option is when we have two equations that come up with the exact same line. In this case our solution set is said to contain infinite solutions.\n",
    "\n",
    "These are the only three solutions to a linear system, either there is one solution, no solution or infinite solutions. In other words, we cannot have a linear system with 2 or more solutions, unless it is infinite solutions."
   ]
  },
  {
   "cell_type": "markdown",
   "id": "1f1d977d-4386-4d73-a960-c05f54e5baa7",
   "metadata": {},
   "source": [
    "### Matrix Coefficient and Augmented ###\n",
    "\n",
    "Lets say we have the following linear system (not worried if it has a solution or not):\n",
    "\n",
    "$$2x_1 + x_2 = 2$$\n",
    "\n",
    "$$-1x_1 = -1$$\n",
    "\n",
    "$$-4x_1 + \\sqrt{2}x_2 = \\sqrt{3}$$\n",
    "\n",
    "To simplyfy our work we can build a coefficients matrix, which is simply a matrix composed of the coefficients in the terms of our equations:"
   ]
  },
  {
   "cell_type": "markdown",
   "id": "387a7b76-e61d-4bb7-9b36-bcfe5308388d",
   "metadata": {},
   "source": [
    "$$\n",
    "\\begin{bmatrix}\n",
    "2 & 1 \\\\\n",
    "-1 & 0 \\\\\n",
    "-4 & \\sqrt{2}\n",
    "\\end{bmatrix}\n",
    "$$"
   ]
  },
  {
   "cell_type": "markdown",
   "id": "e168615b-0055-49f1-ad93-cdad9b49729e",
   "metadata": {},
   "source": [
    "The above matrix has a size of $m = 3$ and $n = 2$ which means it has 3 rows and 2 columns.\n",
    "\n",
    "We cannot solve our linear system with a coefficient matrix, so to do it we need to move it into an augmented matrix, which includes our eventual $b$ terms from the formulas above:"
   ]
  },
  {
   "cell_type": "markdown",
   "id": "9ce87119-32e2-46cd-b8f4-aedc65fb838f",
   "metadata": {},
   "source": [
    "$$\n",
    "\\begin{bmatrix}\n",
    "2 & 1 &\\bigm| & 1\\\\\n",
    "-1 & 0 &\\bigm| & -1\\\\\n",
    "-4 & \\sqrt{2} &\\bigm| & \\sqrt{3}\n",
    "\\end{bmatrix}\n",
    "$$"
   ]
  },
  {
   "cell_type": "markdown",
   "id": "c4659f69-fe50-40d4-8aba-ae4a2de099e9",
   "metadata": {},
   "source": [
    "The coefficient matrix will be important for Data Science, the augmented matrix will be important for solving systems."
   ]
  },
  {
   "cell_type": "markdown",
   "id": "b886940a-0c4a-4598-ab1c-856eabbb0ed6",
   "metadata": {},
   "source": [
    "### Rules of G.E.(Gaussian Elimination) and Solving Linear Systems ###\n",
    "\n",
    "Lets solve the follwing linear equation while we figure out the rules to solve them:"
   ]
  },
  {
   "cell_type": "markdown",
   "id": "a0bd1bcc-a0d0-4329-8079-886903395b8c",
   "metadata": {},
   "source": [
    "$$X_1 + X_2 - X_3 = -1$$\n",
    "$$X_1 + X_2 + X_3 = 1$$"
   ]
  },
  {
   "cell_type": "markdown",
   "id": "b3b71313-13eb-44a6-8edc-69376fd2b10e",
   "metadata": {},
   "source": [
    "Let's first move it onto an augmented matrix:\n",
    "\n",
    "$$\n",
    "\\begin{bmatrix}\n",
    "1 & 1 & -1 &\\bigm| & -1\\\\\n",
    "1 & 1 & 1 &\\bigm| & 1\n",
    "\\end{bmatrix}\n",
    "$$\n"
   ]
  },
  {
   "cell_type": "markdown",
   "id": "a6c136b7-bb9b-4d93-80e2-f4fc22d0ddb5",
   "metadata": {},
   "source": [
    "The rules we can use to solve this equation are the following:\n",
    "\n",
    "- 1. We can interchange 2 rows (we can do more but we only do one at a time).\n",
    "- 2. We can multiply a row by a non-zero constant.\n",
    "- 3. We can add a multiple of one row to another row."
   ]
  },
  {
   "cell_type": "markdown",
   "id": "24d20d8c-b301-4f4e-a09e-5a200929042c",
   "metadata": {},
   "source": [
    "Using the above rules, lets solve our matrix.\n",
    "\n",
    "First we will multiply the first row by -1 (rule #2):\n",
    "\n",
    "$$\n",
    "\\begin{bmatrix}\n",
    "-1 & -1 & 1 &\\bigm| & 1\\\\\n",
    "1 & 1 & 1 &\\bigm| & 1\n",
    "\\end{bmatrix}\n",
    "$$"
   ]
  },
  {
   "cell_type": "markdown",
   "id": "0cbd1f28-d0d4-43a7-87fb-de21a3aad69e",
   "metadata": {},
   "source": [
    "For the second step lets add row 2 to row one (rule #3 with a multiple of 1):\n",
    "\n",
    "$$\n",
    "\\begin{bmatrix}\n",
    "0 & 0 & 2 &\\bigm| & 2\\\\\n",
    "1 & 1 & 1 &\\bigm| & 1\n",
    "\\end{bmatrix}\n",
    "$$"
   ]
  },
  {
   "cell_type": "markdown",
   "id": "8c9d6c2a-a037-4157-bada-29f2e5f82c71",
   "metadata": {},
   "source": [
    "Now lets use rule #2 again and multiply row 1 by $\\frac{1}{2}$:\n",
    "\n",
    "$$\n",
    "\\begin{bmatrix}\n",
    "0 & 0 & 1 &\\bigm| & 1\\\\\n",
    "1 & 1 & 1 &\\bigm| & 1\n",
    "\\end{bmatrix}\n",
    "$$"
   ]
  },
  {
   "cell_type": "markdown",
   "id": "a2afb9a5-2fea-4c6e-a19d-cea4ecc0c7ff",
   "metadata": {},
   "source": [
    "Witn this we can clearly see that $X_3 = 1$, so we can suppose that $X_1 = 0$ and $X_2 = 0$. "
   ]
  },
  {
   "cell_type": "markdown",
   "id": "7953a413-42ee-4f7a-a0a7-864569ed489e",
   "metadata": {},
   "source": [
    "Lets use another example to make it easier to understand. Here is our linear system formula and the matrix we need to solve:\n",
    "\n",
    "$$X_1 - 2X_2 + X_3 = 0$$\n",
    "$$2X_2 - 8X_3 = 8$$\n",
    "$$5X_1 - 5X_3 = 10$$\n",
    "\n",
    "$$\n",
    "\\begin{bmatrix}\n",
    "1 & -2 & 1 &\\bigm| & 0\\\\\n",
    "0 & 2 & -8 &\\bigm| & 8\\\\\n",
    "5 & 0 & -5 &\\bigm| & 10\n",
    "\\end{bmatrix}\n",
    "$$"
   ]
  },
  {
   "cell_type": "markdown",
   "id": "b7ad271c-e00d-44e1-b313-e1383e34acda",
   "metadata": {},
   "source": [
    "We want to find what are our $X_1$, $X_2$ and $X_3$ values that solve these equations."
   ]
  },
  {
   "cell_type": "markdown",
   "id": "9f592943-30e1-4c29-b709-c3290bf8e830",
   "metadata": {},
   "source": [
    "The general strategy is to try and zero out all values except for the center diagonal (left to right) which will give us the values for all our variables.\n",
    "\n",
    "We want to start at the bottom triangle, so lets get rid of the first 5 in row 3 by adding -5 times row 1 to get a new row 3:\n",
    "\n",
    "$$\n",
    "\\begin{bmatrix}\n",
    "1 & -2 & 1 &\\bigm| & 0\\\\\n",
    "0 & 2 & -8 &\\bigm| & 8\\\\\n",
    "0 & 10 & -10 &\\bigm| & 10\n",
    "\\end{bmatrix}\n",
    "$$"
   ]
  },
  {
   "cell_type": "markdown",
   "id": "a5b0b531-055d-4647-b6d7-de512e48cc4a",
   "metadata": {},
   "source": [
    "We can use the rules any way we want, which means we can solve the matrix in many different ways. Now we want to male the 10 in row 3 into a zero, so lets use row to so we can keep the first 0 in row 3 as well.\n",
    "\n",
    "So we can add row 2 times -5 to row 3:\n",
    "\n",
    "$$\n",
    "\\begin{bmatrix}\n",
    "1 & -2 & 1 &\\bigm| & 0\\\\\n",
    "0 & 2 & -8 &\\bigm| & 8\\\\\n",
    "0 & 0 & 30 &\\bigm| & -30\n",
    "\\end{bmatrix}\n",
    "$$"
   ]
  },
  {
   "cell_type": "markdown",
   "id": "1976648c-4dfd-4632-a180-941551d4f226",
   "metadata": {},
   "source": [
    "Now lets do 2 operations at once for speed sake, we are going to multiply row 2 by $\\frac{1}{2}$ and row 3 by $\\frac{1}{30}$, and we get:\n",
    "\n",
    "$$\n",
    "\\begin{bmatrix}\n",
    "1 & -2 & 1 &\\bigm| & 0\\\\\n",
    "0 & 1 & -4 &\\bigm| & 4\\\\\n",
    "0 & 0 & 1 &\\bigm| & -1\n",
    "\\end{bmatrix}\n",
    "$$\n",
    "\n",
    "So far, we where able to get zeros into the botom left triangle, now lets move on to doing the same for the top right triangle."
   ]
  },
  {
   "cell_type": "markdown",
   "id": "12f5d941-6db6-470d-baa7-4b636f466f0e",
   "metadata": {},
   "source": [
    "Lets now add 4 times row 3 into row 2, that will allow us to change the -4 in row 2 in\n",
    "\n",
    "$$\n",
    "\\begin{bmatrix}\n",
    "1 & -2 & 1 &\\bigm| & 0\\\\\n",
    "0 & 1 & 0 &\\bigm| & 0\\\\\n",
    "0 & 0 & 1 &\\bigm| & -1\n",
    "\\end{bmatrix}\n",
    "$$"
   ]
  },
  {
   "cell_type": "markdown",
   "id": "236ead45-dfac-4ed0-8de8-df0642070482",
   "metadata": {},
   "source": [
    "Now we can make the -2 in row 1 into a zero by adding 2 times row 2 to row 1:\n",
    "\n",
    "$$\n",
    "\\begin{bmatrix}\n",
    "1 & 0 & 1 &\\bigm| & 0\\\\\n",
    "0 & 1 & 0 &\\bigm| & 0\\\\\n",
    "0 & 0 & 1 &\\bigm| & -1\n",
    "\\end{bmatrix}\n",
    "$$"
   ]
  },
  {
   "cell_type": "markdown",
   "id": "95fb84ee-a4e2-477d-82c4-f2d8ee72e5af",
   "metadata": {},
   "source": [
    "And finally, we can add row 3 times -1 to row 1, to make the 1 in the 3rd position of row 1 into a zero:\n",
    "\n",
    "$$\n",
    "\\begin{bmatrix}\n",
    "1 & 0 & 0 &\\bigm| & 1\\\\\n",
    "0 & 1 & 0 &\\bigm| & 0\\\\\n",
    "0 & 0 & 1 &\\bigm| & -1\n",
    "\\end{bmatrix}\n",
    "$$\n"
   ]
  },
  {
   "cell_type": "markdown",
   "id": "32ffff3e-4eb5-4178-aba8-69e892066ab6",
   "metadata": {},
   "source": [
    "Now we have the values of our variables:\n",
    "\n",
    "$$X_1 = 1$$\n",
    "$$X_2 = 0$$\n",
    "$$X_3 = -1$$"
   ]
  },
  {
   "cell_type": "markdown",
   "id": "581d35cb-1145-4d27-9488-5e371aa2d851",
   "metadata": {},
   "source": [
    "Lets plug in our values to the original formulas to see if we are correct:\n",
    "\n",
    "$$X_1 - 2X_2 + X_3 = 0$$\n",
    "$$2X_2 - 8X_3 = 8$$\n",
    "$$5X_1 - 5X_3 = 10$$\n",
    "\n",
    "\n",
    "$$1 - 2(0) + -1 = 0$$\n",
    "$$2(0) - 8(-1) = 8$$\n",
    "$$5(1) - 5(-1) = 10$$\n",
    "\n",
    "As we can see, the math works."
   ]
  },
  {
   "cell_type": "markdown",
   "id": "403ca00d-d765-4e52-aec3-a3c677215943",
   "metadata": {},
   "source": [
    "Lets remember that a linear system can have either one solution, no solutions or infinite solutions. We already know how to solve for one solution. What happens when we have infinite solutions. Lets go back to this formulas:\n",
    "\n",
    "$$X_1+X_2-X_3 = -1$$\n",
    "$$X_1+X_2+X_3 = 1$$\n",
    "\n",
    "On the top formula, since $X_3$ is the only negative in the formula, and the result is -1, we intuitively know that $X_3 = 1$ (and we did the math before as well). So lets plug in $X_3$ value:\n",
    "\n",
    "$$X_1+X_2-1 = -1$$\n",
    "$$X_1+X_2+1 = 1$$\n",
    "\n",
    "This means that:\n",
    "\n",
    "$$X_1+X_2 = 0$$\n",
    "$$X_1+X_2 = 0$$"
   ]
  },
  {
   "cell_type": "markdown",
   "id": "e2ce6271-520c-49fa-9595-904768ae195d",
   "metadata": {},
   "source": [
    "If the system accepts the sum of any two numbers as long as the result is zero, we run into the reality that:\n",
    "\n",
    "$$X_1 = -X_2$$ \n",
    "\n",
    "In other words any number added to the negative of the same number will be equal to zero, hence this system has an infinite number of solutions, since we can set $X_1$ to any real number and $X_2$ will be the negative of that number."
   ]
  },
  {
   "cell_type": "markdown",
   "id": "84f4377d-d6d1-404a-b755-459eb7abd7bd",
   "metadata": {},
   "source": [
    "Lets move on to an example that has no solutions:\n",
    "\n",
    "$$\n",
    "\\begin{bmatrix}\n",
    "2 & -3 & 2 &\\bigm| & 1\\\\\n",
    "0 & 1 & -4 &\\bigm| & 8\\\\\n",
    "4 & -8 & 12 &\\bigm| & 1\n",
    "\\end{bmatrix}\n",
    "$$"
   ]
  },
  {
   "cell_type": "markdown",
   "id": "00eca4ea-c326-41a8-a4c7-aa274ff4c712",
   "metadata": {},
   "source": [
    "We can start by adding row 1 times -2 to row 3 so we can zero the 4 on the first column of row 3:\n",
    "\n",
    "$$\n",
    "\\begin{bmatrix}\n",
    "2 & -3 & 2 &\\bigm| & 1\\\\\n",
    "0 & 1 & -4 &\\bigm| & 8\\\\\n",
    "0 & -2 & 8 &\\bigm| & -1\n",
    "\\end{bmatrix}\n",
    "$$"
   ]
  },
  {
   "cell_type": "markdown",
   "id": "7917cb8c-5d2d-469a-92a9-efb667d611bf",
   "metadata": {},
   "source": [
    "Now we can multiply row 3 by row 2 times 2 to zero out the -2 in the second column of row 3:\n",
    "\n",
    "$$\n",
    "\\begin{bmatrix}\n",
    "2 & -3 & 2 &\\bigm| & 1\\\\\n",
    "0 & 1 & -4 &\\bigm| & 8\\\\\n",
    "0 & 0 & 0 &\\bigm| & 15\n",
    "\\end{bmatrix}\n",
    "$$"
   ]
  },
  {
   "cell_type": "markdown",
   "id": "039b627c-f5af-489d-ad22-764bbebadd1d",
   "metadata": {},
   "source": [
    "And here we run into a big problem, row 3 is telling us that our 3rd linear expression equals 15 when all three variables, which equal zero, are added together. In other words, it says that $0+0+0=15$, and that is an impossibility.\n",
    "\n",
    "When we find a contradiction like this, we knoe that this particular system has no solutions."
   ]
  },
  {
   "cell_type": "markdown",
   "id": "64060e40-9972-410a-95fc-86087e656407",
   "metadata": {},
   "source": [
    "One more system to solve, with steps."
   ]
  },
  {
   "cell_type": "markdown",
   "id": "a84508cb-6503-41bf-b1d5-e209d66d9af5",
   "metadata": {},
   "source": [
    "$$\n",
    "\\begin{bmatrix}\n",
    "1 & -1 & 1 &\\bigm| & 1\\\\\n",
    "0 & 3 & -2 &\\bigm| & -5\\\\\n",
    "2 & -2 & 0 &\\bigm| & -6\n",
    "\\end{bmatrix}\n",
    "$$"
   ]
  },
  {
   "cell_type": "markdown",
   "id": "8b078960-6e3e-4802-ae1c-90e6d75f2f11",
   "metadata": {},
   "source": [
    "Divide Row 3 by 2\n",
    "\n",
    "$$\n",
    "\\begin{bmatrix}\n",
    "1 & -1 & 1 &\\bigm| & 1\\\\\n",
    "0 & 3 & -2 &\\bigm| & -5\\\\\n",
    "1 & -1 & 0 &\\bigm| & -3\n",
    "\\end{bmatrix}\n",
    "$$"
   ]
  },
  {
   "cell_type": "markdown",
   "id": "98d00573-cdf9-4c38-89cb-99852072cc0c",
   "metadata": {},
   "source": [
    "Add R1 times 1 to R2\n",
    "\n",
    "$$\n",
    "\\begin{bmatrix}\n",
    "1 & -1 & 1 &\\bigm| & 1\\\\\n",
    "1 & 2 & -1 &\\bigm| & -4\\\\\n",
    "1 & -1 & 0 &\\bigm| & -3\n",
    "\\end{bmatrix}\n",
    "$$"
   ]
  },
  {
   "cell_type": "markdown",
   "id": "192ab267-8ad4-4538-8e11-1c797d95af97",
   "metadata": {},
   "source": [
    "Add R1 times -1 to R3\n",
    "\n",
    "$$\n",
    "\\begin{bmatrix}\n",
    "1 & -1 & 1 &\\bigm| & 1\\\\\n",
    "1 & 2 & -1 &\\bigm| & -4\\\\\n",
    "0 & 0 & -1 &\\bigm| & -4\n",
    "\\end{bmatrix}\n",
    "$$"
   ]
  },
  {
   "cell_type": "markdown",
   "id": "3a8f9ce2-90d0-4522-8733-a259301b6349",
   "metadata": {},
   "source": [
    "Add R1 times -1 to R2\n",
    "\n",
    "$$\n",
    "\\begin{bmatrix}\n",
    "1 & -1 & 1 &\\bigm| & 1\\\\\n",
    "0 & 3 & -2 &\\bigm| & -5\\\\\n",
    "0 & 0 & -1 &\\bigm| & -4\n",
    "\\end{bmatrix}\n",
    "$$"
   ]
  },
  {
   "cell_type": "markdown",
   "id": "ded88f0a-4577-4e2d-9827-5a8164f00abc",
   "metadata": {},
   "source": [
    "Add R3 times -2 to R2\n",
    "\n",
    "$$\n",
    "\\begin{bmatrix}\n",
    "1 & -1 & 1 &\\bigm| & 1\\\\\n",
    "0 & 3 & 0 &\\bigm| & 3\\\\\n",
    "0 & 0 & -1 &\\bigm| & -4\n",
    "\\end{bmatrix}\n",
    "$$"
   ]
  },
  {
   "cell_type": "markdown",
   "id": "32184e11-8a40-4ba2-b916-b52e5f829a18",
   "metadata": {},
   "source": [
    "Divide R2 by 3\n",
    "Add R1 times 1 to R3\n",
    "\n",
    "$$\n",
    "\\begin{bmatrix}\n",
    "1 & -1 & 0 &\\bigm| & -3\\\\\n",
    "0 & 1 & 0 &\\bigm| & 1\\\\\n",
    "0 & 0 & -1 &\\bigm| & -4\n",
    "\\end{bmatrix}\n",
    "$$"
   ]
  },
  {
   "cell_type": "markdown",
   "id": "f11e6b34-f603-4d76-904c-04586311f7fc",
   "metadata": {},
   "source": [
    "Add R2 times 1 to R1\n",
    "Multiply R3 by -1\n",
    "\n",
    "$$\n",
    "\\begin{bmatrix}\n",
    "1 & 0 & 0 &\\bigm| & -2\\\\\n",
    "0 & 1 & 0 &\\bigm| & 1\\\\\n",
    "0 & 0 & 1 &\\bigm| & 4\n",
    "\\end{bmatrix}\n",
    "$$\n",
    "\n",
    "And that is the solution to this system."
   ]
  },
  {
   "cell_type": "code",
   "execution_count": null,
   "id": "9be761ff-5d0f-4070-a4e3-f2d2dc6f7e6b",
   "metadata": {},
   "outputs": [],
   "source": []
  }
 ],
 "metadata": {
  "kernelspec": {
   "display_name": "Programming",
   "language": "python",
   "name": "programming"
  },
  "language_info": {
   "codemirror_mode": {
    "name": "ipython",
    "version": 3
   },
   "file_extension": ".py",
   "mimetype": "text/x-python",
   "name": "python",
   "nbconvert_exporter": "python",
   "pygments_lexer": "ipython3",
   "version": "3.9.5"
  }
 },
 "nbformat": 4,
 "nbformat_minor": 5
}
