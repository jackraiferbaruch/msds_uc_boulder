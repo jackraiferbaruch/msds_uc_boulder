{
 "cells": [
  {
   "cell_type": "markdown",
   "id": "0b8a06b7-cb59-44aa-951f-5a6825b63295",
   "metadata": {},
   "source": [
    "## Algebra and Differential Calculus for Data Science 4 ##\n",
    "\n",
    "### Product Rule ###\n",
    "\n",
    "What happens when we need to multiply two functions together, lets say we have the following:\n",
    "\n",
    "$$f(x) = x^2 - 2$$\n",
    "$$g(x) = x^2 + x$$\n",
    "\n",
    "And then we have another function that uses the above ones:\n",
    "\n",
    "$$h(x) = f(x) \\times g(x)$$\n",
    "\n",
    "This means that function `h` is a binomial multiplication:\n",
    "\n",
    "$$h(x) = f(x) \\times g(x) = (x^2 - 2)(x^2 + x)$$\n",
    "\n",
    "We could solve by binomial multiplication:\n",
    "\n",
    "$$h(x) = x^4 + x^3 - 2x^2 - 2x$$\n",
    "\n",
    "And then we take the derivative:\n",
    "\n",
    "$$h`(x) = 4x^3 + 3x^2 - 4 - 2$$\n",
    "\n",
    "A simpler way to do this is with this formula:\n",
    "\n",
    "$$(f\\times g)` = f \\times g` + f` \\times g $$\n",
    "\n",
    "So if the derivative of $f(x)$ is $ f`(x) = 2x $ and the derivative of $g(x)$ is $g`(x) = 2x+1$ then we can solve like this:\n",
    "\n",
    "$$h`(x) = (x^2-2)(2x+1) + 2x(x^2+x)$$\n",
    "$$h`(x) = 2x^3+x^2-4x-2+2x^3+2x^2$$\n",
    "\n",
    "$$h`(x) = 4x^3 + 3x^2 -4x -2$$\n",
    "\n",
    "And that is the way to calculate the derivative of a product.\n",
    "\n",
    "If I have a derivative and a constant, then the result of the multiplication is just the constant times the derivative:\n",
    "\n",
    "$$(cf)` = cf`$$\n",
    "\n",
    "We can prove this by using our previous formula, which would be:\n",
    "\n",
    "$$cf` + c`f$$\n",
    "\n",
    "But since a constant has no derivative, the second part of our formula is just zero, so the result would be just the constant times the derivative:\n",
    "\n",
    "$$cf`$$\n",
    "\n",
    "For example:\n",
    "\n",
    "$$ (3e^x)` = 3e^x$$ \n",
    "\n",
    "$$ (4x^2)` = 4 \\times 2x = 8x$$\n",
    "\n",
    "This is how we do a constant times a function."
   ]
  },
  {
   "cell_type": "markdown",
   "id": "17cdc3c7-0479-40b2-b491-feaf80377703",
   "metadata": {},
   "source": [
    "### Quotient Rule ###\n",
    "\n",
    "Lets say we have the following function:\n",
    "\n",
    "$$ \\frac{x^2-3x}{x^2+4}$$\n",
    "\n",
    "The quotient rules tells us that:\n",
    "\n",
    "$$(\\frac{N}{D})` = \\frac{DN`-ND`}{D^2}$$"
   ]
  },
  {
   "cell_type": "markdown",
   "id": "0666e485-7817-4de8-ae6f-b45f908e6256",
   "metadata": {},
   "source": [
    "So if we apply it to the above function we get:\n",
    "\n",
    "$$(\\frac{x^2-3x}{x^2+4})` = \\frac{(x^2+4)(x^2-3x)` - (x^2-3x)(x^2+4)`}{(x^2+4)^2}$$"
   ]
  },
  {
   "cell_type": "markdown",
   "id": "f315210c-6b31-4ec9-8faa-cf1e27ef3288",
   "metadata": {},
   "source": [
    "$$(\\frac{x^2-3x}{x^2+4})` = \\frac{(x^2+4)(2x-3) - (x^2-3x)(2x)}{(x^2+4)^2}$$"
   ]
  },
  {
   "cell_type": "markdown",
   "id": "2b61ac95-9633-4e0b-b3a3-b3e13230a46a",
   "metadata": {},
   "source": [
    "$$(\\frac{x^2-3x}{x^2+4})` = \\frac{(2x^3-3x^2+8x-12) - (2x^3+6x^2)}{(x^2+4)^2}$$"
   ]
  },
  {
   "cell_type": "markdown",
   "id": "9aa5ba2b-1849-4603-8fad-320d4b681c45",
   "metadata": {},
   "source": [
    "$$(\\frac{x^2-3x}{x^2+4})` = \\frac{3x^2+8x+12}{(x^2+4)^2}$$"
   ]
  },
  {
   "cell_type": "markdown",
   "id": "b032fe7b-285a-48a8-bc43-348b9ab9f041",
   "metadata": {},
   "source": [
    "### Chain Rule ###\n",
    "\n",
    "What happens if we have a function that is raised to a power bigget than 2, like this:\n",
    "\n",
    "$$(3x^2+4x-1)^5$$"
   ]
  },
  {
   "cell_type": "markdown",
   "id": "f9f00273-8822-4776-9683-7bface1da557",
   "metadata": {},
   "source": [
    "The chain rules says that:\n",
    "\n",
    "$$(u^n)` = nu^{n-1} \\times u`$$"
   ]
  },
  {
   "cell_type": "markdown",
   "id": "c951cad3-71fb-408b-ac06-359850d820c9",
   "metadata": {},
   "source": [
    "So for our function above, we would get:\n",
    "\n",
    "$$ 5(3x^2+4x-1)^4(6x+4)$$"
   ]
  },
  {
   "cell_type": "markdown",
   "id": "d52591e4-e87a-4795-bb6a-f45d6c898d31",
   "metadata": {},
   "source": [
    "For each power we move, we multiply the function by its derivative.\n",
    "\n",
    "We use these rules because it is important to us to find the derivatives so we can find where a function is positive, negative, maximums and minimums."
   ]
  },
  {
   "cell_type": "code",
   "execution_count": null,
   "id": "98dbf174-5a16-46c8-880b-22c83b4ca40c",
   "metadata": {},
   "outputs": [],
   "source": []
  }
 ],
 "metadata": {
  "kernelspec": {
   "display_name": "Programming",
   "language": "python",
   "name": "programming"
  },
  "language_info": {
   "codemirror_mode": {
    "name": "ipython",
    "version": 3
   },
   "file_extension": ".py",
   "mimetype": "text/x-python",
   "name": "python",
   "nbconvert_exporter": "python",
   "pygments_lexer": "ipython3",
   "version": "3.9.5"
  }
 },
 "nbformat": 4,
 "nbformat_minor": 5
}
