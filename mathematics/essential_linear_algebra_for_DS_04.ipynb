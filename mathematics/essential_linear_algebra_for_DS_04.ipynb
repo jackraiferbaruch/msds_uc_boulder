{
 "cells": [
  {
   "cell_type": "markdown",
   "id": "b18ebe0d-1a21-4f2f-bcb7-3e89b6b6ecc0",
   "metadata": {},
   "source": [
    "### Span in Linear Combinations ###\n",
    "\n",
    "When we are talking about $C_1V_1 + C_2V_2 + \\ldots + C_nV_n$ for a set of vectors $[V_1, V_2, \\ldots, V_n]$, the span of any set of vectors, are the possible vectors we can get from any combination of $C$ values.\n",
    "\n",
    "So for example, if we had the following example:\n",
    "\n",
    "$$\n",
    "C_1\n",
    "\\begin{bmatrix}\n",
    "1 \\\\\n",
    "0 \\\\\n",
    "0\n",
    "\\end{bmatrix}\n",
    "+\n",
    "C_2\n",
    "\\begin{bmatrix}\n",
    "0 \\\\\n",
    "1 \\\\\n",
    "0\n",
    "\\end{bmatrix}\n",
    "$$"
   ]
  },
  {
   "cell_type": "markdown",
   "id": "151195df-a14e-4328-8801-ce2fe35149fd",
   "metadata": {},
   "source": [
    "And we want to know what the span of linear combinations for these vectors is.\n",
    "\n",
    "Since $C_1$ and $C_2$ can be any number, if we follow the above matrix sum, we can see that the result of any $C_1$ on the first row will be $C_1$ and for any $C_2$ on the second row will always be $C_2$. However, no matter what numbers $C_1$ and $C_2$ are, the result of the third row will always be zero.\n",
    "\n",
    "Hence, the following is not possible:\n",
    "\n",
    "$$\n",
    "C_1\n",
    "\\begin{bmatrix}\n",
    "1 \\\\\n",
    "0 \\\\\n",
    "0\n",
    "\\end{bmatrix}\n",
    "+\n",
    "C_2\n",
    "\\begin{bmatrix}\n",
    "0 \\\\\n",
    "1 \\\\\n",
    "0\n",
    "\\end{bmatrix}\n",
    "=\n",
    "\\begin{bmatrix}\n",
    "1 \\\\\n",
    "1 \\\\\n",
    "1\n",
    "\\end{bmatrix}\n",
    "$$"
   ]
  },
  {
   "cell_type": "markdown",
   "id": "0d0d4aa2-8562-4222-9eab-daa8cb98618a",
   "metadata": {},
   "source": [
    "This is because no matter what number we plug into $C_1$ or $C_2$, the resulting third row for the sum of these two vectors will always be zero. So to the question is\n",
    "\n",
    "$$\n",
    "\\begin{bmatrix}\n",
    "1 \\\\\n",
    "1 \\\\\n",
    "1\n",
    "\\end{bmatrix}\n",
    "$$"
   ]
  },
  {
   "cell_type": "markdown",
   "id": "235b9030-d052-475a-a33b-519caf1fc7ce",
   "metadata": {},
   "source": [
    "In the span of\n",
    "\n",
    "$$\n",
    "\\begin{bmatrix}\n",
    "1 \\\\\n",
    "0 \\\\\n",
    "0\n",
    "\\end{bmatrix}\n",
    ",\n",
    "\\begin{bmatrix}\n",
    "0 \\\\\n",
    "1 \\\\\n",
    "0\n",
    "\\end{bmatrix}\n",
    "$$"
   ]
  },
  {
   "cell_type": "markdown",
   "id": "780156e6-eb60-4541-a9ee-1b2165fb0392",
   "metadata": {},
   "source": [
    "The answer is no, never. This is not one of the possible vectors of linear combinations for these two vectors."
   ]
  },
  {
   "cell_type": "markdown",
   "id": "f65d8835-e6da-4726-b656-7d3cb8cc05c1",
   "metadata": {},
   "source": [
    "Let's do a slightly more complex example. We have the following vectors:\n",
    "\n",
    "$$\n",
    "a_1\n",
    "=\n",
    "\\begin{bmatrix}\n",
    "1 \\\\\n",
    "-2 \\\\\n",
    "3\n",
    "\\end{bmatrix}\n",
    "a_2\n",
    "=\n",
    "\\begin{bmatrix}\n",
    "5 \\\\\n",
    "-13 \\\\\n",
    "-3\n",
    "\\end{bmatrix}\n",
    "$$"
   ]
  },
  {
   "cell_type": "markdown",
   "id": "162d2204-cf0a-4e3c-a810-e292ca648af9",
   "metadata": {},
   "source": [
    "And we want to find out if the following vector $b$ is in the span of $a_1$, $a_2$:\n",
    "\n",
    "$$\n",
    "b\n",
    "=\n",
    "\\begin{bmatrix}\n",
    "-3 \\\\\n",
    "8 \\\\\n",
    "1\n",
    "\\end{bmatrix}\n",
    "$$"
   ]
  },
  {
   "cell_type": "markdown",
   "id": "aa67c3dc-2d4f-42cf-b807-9e1cc956db2d",
   "metadata": {},
   "source": [
    "In other words, we want to figure out if for any combination of $C_1$ and $C_2$, we can:\n",
    "\n",
    "$$\n",
    "C_1\n",
    "\\begin{bmatrix}\n",
    "1 \\\\\n",
    "-2 \\\\\n",
    "3\n",
    "\\end{bmatrix}\n",
    "+\n",
    "C_2\n",
    "\\begin{bmatrix}\n",
    "5 \\\\\n",
    "-13 \\\\\n",
    "-3\n",
    "\\end{bmatrix}\n",
    "=\n",
    "\\begin{bmatrix}\n",
    "-3 \\\\\n",
    "8 \\\\\n",
    "1\n",
    "\\end{bmatrix}\n",
    "$$"
   ]
  },
  {
   "cell_type": "markdown",
   "id": "24cd1790-f607-45f3-a92f-e3a915a0b8dd",
   "metadata": {},
   "source": [
    "We can figure this out if we transform this into an augmented matrix and solve it using Gaussian Eliminations, so we want to solve:\n",
    "\n",
    "$$\n",
    "\\begin{bmatrix}\n",
    "1 & 5 & \\bigm| & -3\\\\\n",
    "-2 & -13 & \\bigm| & 8 \\\\\n",
    "3 & -3 & \\bigm| & 1\n",
    "\\end{bmatrix}\n",
    "$$"
   ]
  },
  {
   "cell_type": "markdown",
   "id": "f452ce03-af81-4b59-bf3c-d5e43211e066",
   "metadata": {},
   "source": [
    "After a few transformations we arrive at the following:\n",
    "\n",
    "$$\n",
    "\\begin{bmatrix}\n",
    "1 & 5 & \\bigm| & -3\\\\\n",
    "0 & -3 & \\bigm| & 2 \\\\\n",
    "0 & 0 & \\bigm| & -2\n",
    "\\end{bmatrix}\n",
    "$$"
   ]
  },
  {
   "cell_type": "markdown",
   "id": "7c579a7b-9ede-4ed3-9958-573d050b6518",
   "metadata": {},
   "source": [
    "Since $0+0$ cannot equal $-2$, we know that our vector $b$ is NOT in the span of $a_1$ and $a_2$. In other words $b$ is not a linear combination of $a_1$ and $1_2$."
   ]
  },
  {
   "cell_type": "markdown",
   "id": "8f630364-aeaf-42cc-99c8-7fa5bc75e941",
   "metadata": {},
   "source": [
    "### $A_x = b$ ###\n",
    "\n",
    "Let's say we have a matrix $A$ and a set of variables $x$, and we want to know if that equals some other vector $b$, or in other words:\n",
    "\n",
    "$$A_x = b$$"
   ]
  },
  {
   "cell_type": "markdown",
   "id": "5df435bf-7b51-4b4b-bbab-f9767f9ce58b",
   "metadata": {},
   "source": [
    "The way we look at this, so we can solve it, is:\n",
    "\n",
    "$$\n",
    "A\n",
    "=\n",
    "\\begin{bmatrix}\n",
    "1 & 3 & 4 &\\bigm| & b_1\\\\\n",
    "-4 & 2 & -6 &\\bigm| & b_2 \\\\\n",
    "-3 & -2 & -7 &\\bigm| & b_3\n",
    "\\end{bmatrix}\n",
    "$$\n"
   ]
  },
  {
   "cell_type": "markdown",
   "id": "411bd019-bae8-4976-8877-29ae3347c473",
   "metadata": {},
   "source": [
    "Here we do the same thing of using Gaussian Elimination to solve our matrix, and we end up with:\n",
    "\n",
    "$$\n",
    "A\n",
    "=\n",
    "\\begin{bmatrix}\n",
    "1 & 3 & 4 &\\bigm| & b_1\\\\\n",
    "0 & 0 & 0 &\\bigm| & 4b_1 + b_2 - 2b_3 \\\\\n",
    "0 & 7 & 5 &\\bigm| & 3b_1 + b_3\n",
    "\\end{bmatrix}\n",
    "$$"
   ]
  },
  {
   "cell_type": "markdown",
   "id": "ac4e2198-c2fe-435f-9b29-6b55388819bc",
   "metadata": {},
   "source": [
    "This would mean that we would need $4b_1 + b_2 - 2b_3 = 0$ for this to make sense in this case, although there are plenty of combinations of $b_1$, $b_2$ and $b_3$ that would make it not zero."
   ]
  },
  {
   "cell_type": "code",
   "execution_count": null,
   "id": "7674e54d-996a-45ae-80b2-e0b4e78b18bc",
   "metadata": {},
   "outputs": [],
   "source": []
  }
 ],
 "metadata": {
  "kernelspec": {
   "display_name": "Programming",
   "language": "python",
   "name": "programming"
  },
  "language_info": {
   "codemirror_mode": {
    "name": "ipython",
    "version": 3
   },
   "file_extension": ".py",
   "mimetype": "text/x-python",
   "name": "python",
   "nbconvert_exporter": "python",
   "pygments_lexer": "ipython3",
   "version": "3.9.5"
  }
 },
 "nbformat": 4,
 "nbformat_minor": 5
}
