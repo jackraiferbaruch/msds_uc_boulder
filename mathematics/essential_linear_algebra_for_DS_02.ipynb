{
 "cells": [
  {
   "cell_type": "markdown",
   "id": "60798cc5-2024-4695-832d-0457b640b336",
   "metadata": {},
   "source": [
    "## Essential Linear Algebra for Data Science ##\n",
    "\n",
    "### Matrix Algebra ###\n",
    "\n",
    "When working with matrices, there are a few things we can do with them:\n",
    "\n",
    "- We can multiply matrices.\n",
    "- We can add matrices together.\n",
    "- We can scale matrices.\n",
    "\n",
    "These are the most important operations we need to understand to work with matrices.\n",
    "\n",
    "Also, there is the concept of the Identity Matrix, which is vital for working with Matrices and Data Science. The Identity Matrix is just like multiplying by $1$, meaning our the result of a $Matrix \\times Matrix_{ID} = Matrix$.\n",
    "\n",
    "#### Adding Matrices ####\n",
    "\n",
    "Nontheless, there are some rules we need to follor, for example, if we want to add two matrices together:\n",
    "\n",
    "$$ Matrix_A + Matrix_B$$"
   ]
  },
  {
   "cell_type": "markdown",
   "id": "06340180-c0ed-4c25-9276-32626ae7dc5b",
   "metadata": {},
   "source": [
    "We need to make sure that they both have the same dimensions. So for example if $A_{3\\times2}$ (3 rows 2 columns) we can only add them together if $B_{3\\times2}$.\n",
    "\n",
    "This is how we add two matrices together:"
   ]
  },
  {
   "cell_type": "markdown",
   "id": "cdfdf47e-092e-40b8-a0da-28d65b963e20",
   "metadata": {},
   "source": [
    "$$\n",
    "\\begin{bmatrix}\n",
    "1 & 2 \\\\\n",
    "-1 & 0 \\\\\n",
    "1 & 7\n",
    "\\end{bmatrix}\n",
    "+\n",
    "\\begin{bmatrix}\n",
    "7 & -2 \\\\\n",
    "6 & -6 \\\\\n",
    "5 & -2\n",
    "\\end{bmatrix}\n",
    "=\n",
    "\\begin{bmatrix}\n",
    "8 & 0 \\\\\n",
    "5 & -6 \\\\\n",
    "6 & 5\n",
    "\\end{bmatrix}\n",
    "$$"
   ]
  },
  {
   "cell_type": "markdown",
   "id": "4c0ced2d-e36a-45b6-8362-e043dfeae68d",
   "metadata": {},
   "source": [
    "We simply add the numbers in order by row and column position. This is the the reason they need to be the same dimensions. So if our resulting colum is $C$, it will also have the same dimensions $C_{3\\times2}$."
   ]
  },
  {
   "cell_type": "markdown",
   "id": "842a02b6-2ef9-4602-a4ec-b8cfa448cc9f",
   "metadata": {},
   "source": [
    "#### Scaling Matrices ####\n",
    "\n",
    "Scaling a matrix means we take $Matrix_1$ and scale it to $X$ number, for example $2$. This means we multiply every number in $Matrix_1$ by $2$."
   ]
  },
  {
   "cell_type": "markdown",
   "id": "362fab03-d25e-47b9-98cb-7d2ba98ea39d",
   "metadata": {},
   "source": [
    "So if:\n",
    "\n",
    "$$\n",
    "A = \n",
    "\\begin{bmatrix}\n",
    "-1 & 1 \\\\\n",
    "7 & \\sqrt{3}\n",
    "\\end{bmatrix}\n",
    "$$\n",
    "\n",
    "And we want to multiply by 2, we would get:\n",
    "\n",
    "$$\n",
    "2 \\times A =\n",
    "\\begin{bmatrix}\n",
    "-2 & 2 \\\\\n",
    "14 & 2\\sqrt{3}\n",
    "\\end{bmatrix}\n",
    "$$"
   ]
  },
  {
   "cell_type": "markdown",
   "id": "af43ae45-0fe2-46bc-b93b-90da83d5324e",
   "metadata": {},
   "source": [
    "As usual with matrices, if the original matrix had a dimension of 2 X 2, the resulting matrix must have dimensions 2 X 2.\n",
    "\n",
    "If $A_{2\\times2}$ then $(A\\times2)_{2\\times2}$.\n"
   ]
  },
  {
   "cell_type": "markdown",
   "id": "b3067e1d-4ede-4e2e-beec-44fd24d8e25c",
   "metadata": {},
   "source": [
    "#### Matrix Multiplication ####\n",
    "\n",
    "To multiply matrices together we need to follow a few rules.\n",
    "\n",
    "First of all, if we had two matrices $M_A$ and $M_B$, the fact that we can multiply $M_A \\times M_B$, does not mean we can multiply $M_B \\times M_A$. The order of the matrices is **VERY** important.\n",
    "\n",
    "The easiest way to figure out is the following:\n",
    "\n",
    "If we had two matrices:\n",
    "\n",
    "$$ A_{4\\times1}$$\n",
    "$$ B_{3\\times2}$$"
   ]
  },
  {
   "cell_type": "markdown",
   "id": "9540130d-253f-4700-a8ab-7f05de6b38f0",
   "metadata": {},
   "source": [
    "We need to check and see if the outer dimension of matrix $A$ (which is 1) and the inner dimension of matrix $B$ (which is 4), are the same. If they are not, we **cannot** multiply these matrices together."
   ]
  },
  {
   "cell_type": "markdown",
   "id": "80f372e7-6788-42ed-a9de-22c966b37b81",
   "metadata": {},
   "source": [
    "Now let's say we have these other two matrices:\n",
    "\n",
    "$$C_{4\\times2}$$\n",
    "$$D_{2\\times3}$$"
   ]
  },
  {
   "cell_type": "markdown",
   "id": "5bd35c59-99f8-406b-a7e5-f8768b8331f9",
   "metadata": {},
   "source": [
    "We check again the outer dimension of the first one $C$, which is 2 and the inner dimension of the second one $D$ which is 2. Since they are the same, we can multiply them.\n",
    "\n",
    "Having said this, we know we can multiply $C\\times{D}$, but can we multiply $D\\times{C}$?\n",
    "\n",
    "We check now the outer dimension of $D$, which is 3 and the inner dimension of $C$ which is 4, since they are not the same, this means we **cannot** multiply $D\\times{C}$."
   ]
  },
  {
   "cell_type": "markdown",
   "id": "6fcb9fdc-29e2-4673-98f3-4ee62344fda3",
   "metadata": {},
   "source": [
    "Now let's multiply two matrices together, in this case $A_{2\\times2}$ and $B_{2\\times2}$ (and in this case we couls also multiply $B\\times{A}$):"
   ]
  },
  {
   "cell_type": "markdown",
   "id": "07a299bb-c2e4-4b19-a2f0-7ea223a3de9a",
   "metadata": {},
   "source": [
    "$$\n",
    "\\begin{bmatrix}\n",
    "1 & 2 \\\\\n",
    "-1 & -1\n",
    "\\end{bmatrix}\n",
    "X\n",
    "\\begin{bmatrix}\n",
    "3 & -1 \\\\\n",
    "1 & 4\n",
    "\\end{bmatrix}\n",
    "=\n",
    "\\begin{bmatrix}\n",
    "3+2 & -1+8 \\\\\n",
    "-3+-1 & 1+-4\n",
    "\\end{bmatrix}\n",
    "=\n",
    "\\begin{bmatrix}\n",
    "5 & 7 \\\\\n",
    "-4 & -3\n",
    "\\end{bmatrix}\n",
    "$$\n"
   ]
  },
  {
   "cell_type": "markdown",
   "id": "48939e6c-a152-4609-a5b8-b42489bfbcee",
   "metadata": {},
   "source": [
    "For each part of the result column, we multiply each element of a column in the first matrix, by each element of a row in the second matrix and add them together.\n",
    "\n",
    "In a $2\\times2$ matrix, the result of each part of the matrix can be seen like this:\n",
    "\n",
    "$$\n",
    "\\begin{bmatrix}\n",
    "R1C1 & R1C2 \\\\\n",
    "R2C1 & R2C2\n",
    "\\end{bmatrix}\n",
    "$$"
   ]
  },
  {
   "cell_type": "markdown",
   "id": "01508774-dae0-471d-af54-8ed10fc93513",
   "metadata": {},
   "source": [
    "For examples for $R1C1$ we take the first element of row one in or the first matrix (1), and multiply it by the first number on the first column of the second matrix (3), then we take the second number on the row of the first matrix (2) and multiply it by the second number of the first column in the second matrix (-1), and add the two results together. "
   ]
  },
  {
   "cell_type": "markdown",
   "id": "0ab142f6-1d14-4338-bc40-5b3082455570",
   "metadata": {},
   "source": [
    "So we can see that a square matrix times a square matrix gives us a square matrix of the sames size.\n",
    "\n",
    "But what happens if we multiply matrices that are not sqare. Let's remember the rule we discussed before, for two matrices $A_{mn}$ and $B_{qp}$, we can only multiply them together if dimension $n$ is equal to domension $q$.\n",
    "\n",
    "The resulting matrix, on the other hand, will have dimensions $m\\times{p}$.\n",
    "\n",
    "Let's look at this graphically:\n",
    "\n",
    "$$\n",
    "A_{mn} \\times B_{qp} = C_{mp}\n",
    "$$\n",
    "\n",
    "But only if\n",
    "\n",
    "$$ n = q$$"
   ]
  },
  {
   "cell_type": "markdown",
   "id": "278455a7-7b58-4aea-844a-12fe1a3b21a4",
   "metadata": {},
   "source": [
    "So if we have to matrices we want to multiply, $A_{3\\times{2}}$ and $B_{2\\times{8}}$, since $n = q$ (both are $2$), we can multiply them, and we would get a new matrix that is $C_{3\\times{8}}$."
   ]
  },
  {
   "cell_type": "markdown",
   "id": "1cd75497-3828-43db-8de8-06a71bc3302f",
   "metadata": {},
   "source": [
    "Let's multiply two non square matrices $A_{3\\times{2}}$ and $B_{2\\times{2}}$:\n",
    "\n",
    "$$\n",
    "\\begin{bmatrix}\n",
    "1 & 2 \\\\\n",
    "-1 & 3 \\\\\n",
    "4 & 1\n",
    "\\end{bmatrix}\n",
    "\\times\n",
    "\\begin{bmatrix}\n",
    "1 & -1 \\\\\n",
    "2 & 3\n",
    "\\end{bmatrix}\n",
    "$$"
   ]
  },
  {
   "cell_type": "markdown",
   "id": "99ea8462-1c21-4557-9409-cb94e40afee3",
   "metadata": {},
   "source": [
    "We can do this since $n$ = $q$ (both are 2). And we would end up with a matrix that is $3\\times{2}$. The way we would do this, like above, is going by row and column."
   ]
  },
  {
   "cell_type": "markdown",
   "id": "9767667d-576f-44ee-8467-35d7124165d5",
   "metadata": {},
   "source": [
    "$$\n",
    "\\begin{bmatrix}\n",
    "R1C1 & R1C2 \\\\\n",
    "R2C1 & R2C2 \\\\\n",
    "R3C1 & R3C2\n",
    "\\end{bmatrix}\n",
    "$$"
   ]
  },
  {
   "cell_type": "markdown",
   "id": "af518b64-68bd-47b8-a814-a81a3eaae695",
   "metadata": {},
   "source": [
    "And the result would be:\n",
    "\n",
    "$$\n",
    "\\begin{bmatrix}\n",
    "1 & 2 \\\\\n",
    "-1 & 3 \\\\\n",
    "4 & 1\n",
    "\\end{bmatrix}\n",
    "\\times\n",
    "\\begin{bmatrix}\n",
    "1 & -1 \\\\\n",
    "2 & 3\n",
    "\\end{bmatrix}\n",
    "=\n",
    "\\begin{bmatrix}\n",
    "1+4 & -1+6 \\\\\n",
    "-1+6 & 1+9 \\\\\n",
    "4+2 & -4+3\n",
    "\\end{bmatrix}\n",
    "=\n",
    "\\begin{bmatrix}\n",
    "5 & 5 \\\\\n",
    "5 & 10 \\\\\n",
    "6 & -1\n",
    "\\end{bmatrix}\n",
    "$$"
   ]
  },
  {
   "cell_type": "markdown",
   "id": "8a7c18de-ab66-4b52-bb9b-88e2ab8cd443",
   "metadata": {},
   "source": [
    "#### Identity Matrix ####\n",
    "\n",
    "The identity matrix, or $I_n$, is a matrix that if you multiply it by its respective matrix, on either side, the result is the same and it is equal to the original matrix. In other words:\n",
    "\n",
    "$$I_n \\times A = A \\times I_m = A$$"
   ]
  },
  {
   "cell_type": "markdown",
   "id": "e30a67e6-6ba4-4edf-b08b-c6fc1e8b5bff",
   "metadata": {},
   "source": [
    "For this to make sense, the identity matrix is such that it is all zeros except for the diagoal which is all ones. Let's say we have the following matrix:\n",
    "\n",
    "$$\n",
    "\\begin{bmatrix}\n",
    "1 & 2 & 3 \\\\\n",
    "4 & 5 & 6\n",
    "\\end{bmatrix}\n",
    "$$"
   ]
  },
  {
   "cell_type": "markdown",
   "id": "7e7ed6dc-193c-4c45-9fab-c0933eb28998",
   "metadata": {},
   "source": [
    "In this case, the identity matrix would be:\n",
    "\n",
    "$$\n",
    "\\begin{bmatrix}\n",
    "1 & 0 & 0 \\\\\n",
    "0 & 1 & 0 \\\\\n",
    "0 & 0 & 1\n",
    "\\end{bmatrix}\n",
    "$$"
   ]
  },
  {
   "cell_type": "markdown",
   "id": "ae47de54-a255-4d96-8b7b-16ade2a05b3f",
   "metadata": {},
   "source": [
    "And if we multiply them together we get:\n",
    "\n",
    "$$\n",
    "\\begin{bmatrix}\n",
    "1 & 2 & 3 \\\\\n",
    "4 & 5 & 6\n",
    "\\end{bmatrix}\n",
    "\\times\n",
    "\\begin{bmatrix}\n",
    "1 & 0 & 0 \\\\\n",
    "0 & 1 & 0 \\\\\n",
    "0 & 0 & 1\n",
    "\\end{bmatrix}\n",
    "=\n",
    "\\begin{bmatrix}\n",
    "1 & 2 & 3 \\\\\n",
    "4 & 5 & 6\n",
    "\\end{bmatrix}\n",
    "$$"
   ]
  },
  {
   "cell_type": "markdown",
   "id": "152d0116-1052-44c7-b135-5359bd36f14d",
   "metadata": {},
   "source": [
    "If we wanted to switch the positions of the matrices, then the Identity matrix would have to have diferent dimensions, in this case be a $2X2$ matrix like this:\n",
    "\n",
    "$$\n",
    "\\begin{bmatrix}\n",
    "1 & 0 \\\\\n",
    "0 & 1\n",
    "\\end{bmatrix}\n",
    "$$"
   ]
  },
  {
   "cell_type": "markdown",
   "id": "fd3d3f1e-f9db-402f-b01c-79a4fab1f860",
   "metadata": {},
   "source": [
    "And if we now multiply them, Identity matrix first, we get:\n",
    "\n",
    "\n",
    "$$\n",
    "\\begin{bmatrix}\n",
    "1 & 0 \\\\\n",
    "0 & 1\n",
    "\\end{bmatrix}\n",
    "\\times\n",
    "\\begin{bmatrix}\n",
    "1 & 2 & 3 \\\\\n",
    "4 & 5 & 6\n",
    "\\end{bmatrix}\n",
    "=\n",
    "\\begin{bmatrix}\n",
    "1 & 2 & 3 \\\\\n",
    "4 & 5 & 6\n",
    "\\end{bmatrix}\n",
    "$$"
   ]
  },
  {
   "cell_type": "code",
   "execution_count": null,
   "id": "91ed417f-9f1b-45b5-8581-7587ac741cbc",
   "metadata": {},
   "outputs": [],
   "source": []
  }
 ],
 "metadata": {
  "kernelspec": {
   "display_name": "Programming",
   "language": "python",
   "name": "programming"
  },
  "language_info": {
   "codemirror_mode": {
    "name": "ipython",
    "version": 3
   },
   "file_extension": ".py",
   "mimetype": "text/x-python",
   "name": "python",
   "nbconvert_exporter": "python",
   "pygments_lexer": "ipython3",
   "version": "3.9.5"
  }
 },
 "nbformat": 4,
 "nbformat_minor": 5
}
