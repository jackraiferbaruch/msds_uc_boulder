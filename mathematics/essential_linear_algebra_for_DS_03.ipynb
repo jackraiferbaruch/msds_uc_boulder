{
 "cells": [
  {
   "cell_type": "markdown",
   "id": "7e234244-5518-4977-a707-48f34d56ada6",
   "metadata": {},
   "source": [
    "## Vectors and Coordinates ##\n",
    "\n",
    "#### Vectors ####\n",
    "\n",
    "In this case, when we talk about vectors we will be referring to column vectors, there are also row vectors, but we will talk specifically about row vectors when referring to them.\n",
    "\n",
    "A column vector is simply a matrix with one column from $X_1$ to $X_n$:\n",
    "\n",
    "$$\\begin{bmatrix}\n",
    "X_{1} \\\\ \n",
    "X_{2} \\\\\n",
    "\\vdots \\\\\n",
    "X_{n}\n",
    "\\end{bmatrix}\n",
    "$$"
   ]
  },
  {
   "cell_type": "markdown",
   "id": "9a166200-797f-4458-b126-8a8e4c7600d4",
   "metadata": {},
   "source": [
    "Like any other matrix, it follows the same matrix algebra rules.\n",
    "\n",
    "So if we add the following two matrices:\n",
    "\n",
    "$$\n",
    "\\begin{bmatrix}\n",
    "X_{1} \\\\ \n",
    "X_{2} \\\\\n",
    "\\vdots \\\\\n",
    "X_{n}\n",
    "\\end{bmatrix}\n",
    "+\n",
    "\\begin{bmatrix}\n",
    "Y_{1} \\\\ \n",
    "Y_{2} \\\\\n",
    "\\vdots \\\\\n",
    "Y_{n}\n",
    "\\end{bmatrix}\n",
    "=\n",
    "\\begin{bmatrix}\n",
    "X_1 + Y_1 \\\\ \n",
    "X_2 + Y_2 \\\\\n",
    "\\vdots \\\\\n",
    "X_n + Y_n\n",
    "\\end{bmatrix}\n",
    "$$"
   ]
  },
  {
   "cell_type": "markdown",
   "id": "3dfe9dfb-8b8a-4750-8bd8-7130921eb813",
   "metadata": {},
   "source": [
    "A vector in a coordinate system is simply a line, or sets of lines, in an xy plot. So if we had the following vectors:\n",
    "\n",
    "$$\n",
    "A\n",
    "=\n",
    "\\begin{bmatrix}\n",
    "-2 \\\\\n",
    "1\n",
    "\\end{bmatrix}\n",
    ",\n",
    "B\n",
    "=\n",
    "\\begin{bmatrix}\n",
    "4 \\\\\n",
    "3\n",
    "\\end{bmatrix}\n",
    "$$\n",
    "\n",
    "We would plot them like this:"
   ]
  },
  {
   "cell_type": "code",
   "execution_count": 2,
   "id": "00a79852-fd53-4f40-96b1-d08ac68806f6",
   "metadata": {},
   "outputs": [],
   "source": [
    "import matplotlib.pyplot as plt\n",
    "%matplotlib inline"
   ]
  },
  {
   "cell_type": "code",
   "execution_count": 46,
   "id": "17b52dbf-4a1e-4d02-ac3f-449021f7497c",
   "metadata": {},
   "outputs": [
    {
     "data": {
      "text/plain": [
       "[<matplotlib.lines.Line2D at 0x1727eabad60>]"
      ]
     },
     "execution_count": 46,
     "metadata": {},
     "output_type": "execute_result"
    },
    {
     "data": {
      "image/png": "[encoded data removed]",
      "text/plain": [
       "<Figure size 432x288 with 1 Axes>"
      ]
     },
     "metadata": {
      "needs_background": "light"
     },
     "output_type": "display_data"
    }
   ],
   "source": [
    "plt.axis([-5,5,-5,5])\n",
    "plt.grid()\n",
    "plt.axhline(0, color='black')\n",
    "plt.axvline(0, color='black')\n",
    "plt.plot([0,-2], [0, 1])\n",
    "plt.plot([0, 4], [0, 3])"
   ]
  },
  {
   "cell_type": "markdown",
   "id": "c3300cbf-a246-46af-a8f9-bdf146a04d5c",
   "metadata": {},
   "source": [
    "If we add them together, we would get a new vector:\n",
    "\n",
    "$$\n",
    "\\begin{bmatrix}\n",
    "-2 \\\\\n",
    "1\n",
    "\\end{bmatrix}\n",
    "+\n",
    "\\begin{bmatrix}\n",
    "4 \\\\\n",
    "3\n",
    "\\end{bmatrix}\n",
    "=\n",
    "\\begin{bmatrix}\n",
    "2 \\\\\n",
    "4\n",
    "\\end{bmatrix}\n",
    "$$\n",
    "\n",
    "We would simply get point `[2,4]`, which we can plot like this:"
   ]
  },
  {
   "cell_type": "code",
   "execution_count": 45,
   "id": "d09874dc-0d69-498a-b7e7-f20ffab7721d",
   "metadata": {},
   "outputs": [
    {
     "data": {
      "text/plain": [
       "[<matplotlib.lines.Line2D at 0x1727ea5f730>]"
      ]
     },
     "execution_count": 45,
     "metadata": {},
     "output_type": "execute_result"
    },
    {
     "data": {
      "image/png": "[encoded data removed]",
      "text/plain": [
       "<Figure size 432x288 with 1 Axes>"
      ]
     },
     "metadata": {
      "needs_background": "light"
     },
     "output_type": "display_data"
    }
   ],
   "source": [
    "plt.axis([-5,5,-5,5])\n",
    "plt.grid()\n",
    "plt.axhline(0, color='black')\n",
    "plt.axvline(0, color='black')\n",
    "plt.plot([0,-2], [0, 1])\n",
    "plt.plot([0, 4], [0, 3])\n",
    "plt.plot([2, 2], [4, 4], marker=\"o\", markeredgecolor=\"red\", markerfacecolor=\"red\")"
   ]
  },
  {
   "cell_type": "markdown",
   "id": "540e7d0c-942d-45cd-9f56-b965f03acd0c",
   "metadata": {},
   "source": [
    "We can also figure this out by using the parallelogram rule, which states that all we need to do is move either one of our vectors, to the end point of the other vector (dotted lines)."
   ]
  },
  {
   "cell_type": "code",
   "execution_count": 44,
   "id": "b1496161-842f-4f3d-928a-0962a1ebb390",
   "metadata": {},
   "outputs": [
    {
     "data": {
      "text/plain": [
       "[<matplotlib.lines.Line2D at 0x1727da27d60>]"
      ]
     },
     "execution_count": 44,
     "metadata": {},
     "output_type": "execute_result"
    },
    {
     "data": {
      "image/png": "[encoded data removed]",
      "text/plain": [
       "<Figure size 432x288 with 1 Axes>"
      ]
     },
     "metadata": {
      "needs_background": "light"
     },
     "output_type": "display_data"
    }
   ],
   "source": [
    "plt.axis([-5,5,-5,5])\n",
    "plt.grid()\n",
    "plt.axhline(0, color='black')\n",
    "plt.axvline(0, color='black')\n",
    "plt.plot([0,-2], [0, 1])\n",
    "plt.plot([0, 4], [0, 3])\n",
    "plt.plot([2, 2], [4, 4], marker=\"o\", markeredgecolor=\"red\", markerfacecolor=\"red\")\n",
    "plt.plot([2,4], [4,3], linestyle='dotted')\n",
    "plt.plot([-2,2], [1,4], linestyle='dotted')"
   ]
  },
  {
   "cell_type": "markdown",
   "id": "0359f3e0-f23c-4360-be29-20ece401eb12",
   "metadata": {},
   "source": [
    "It does not matter which of the original vectors me move, we can use them to find our matrix addition, which gives us the point `[2,4]`."
   ]
  },
  {
   "cell_type": "markdown",
   "id": "7f9b267a-79c1-4ec7-9a98-319c68f4c536",
   "metadata": {},
   "source": [
    "#### Linear Combinations ####\n",
    "\n",
    "Let's say we have a set of column vectors $V_1, V_2, V_3, \\ldots, V_n$, then the linear combination for said vectors would be:\n",
    "\n",
    "$$ y = C_1V_1 + C_2V_2 + \\ldots + C_nV_n$$"
   ]
  },
  {
   "cell_type": "markdown",
   "id": "41da86c5-5d89-487d-a400-3afd010de41a",
   "metadata": {},
   "source": [
    "Where each iteration of $C$ is any scalar.\n",
    "\n",
    "So for example, if we had the following two vectors:\n",
    "\n",
    "$$\n",
    "V_1\n",
    "=\n",
    "\\begin{bmatrix}\n",
    "0 \\\\\n",
    "1\n",
    "\\end{bmatrix}\n",
    "V_2\n",
    "=\n",
    "\\begin{bmatrix}\n",
    "-1 \\\\\n",
    "3\n",
    "\\end{bmatrix}\n",
    "$$"
   ]
  },
  {
   "cell_type": "markdown",
   "id": "47c0ca96-b025-4112-8ff3-f2ff2c571b45",
   "metadata": {},
   "source": [
    "Then one linear combination might be:\n",
    "\n",
    "$$\n",
    "y\n",
    "=\n",
    "\\sqrt{3}\n",
    "\\begin{bmatrix}\n",
    "0 \\\\\n",
    "1\n",
    "\\end{bmatrix}\n",
    "+\n",
    "14\n",
    "\\begin{bmatrix}\n",
    "-1 \\\\\n",
    "3\n",
    "\\end{bmatrix}\n",
    "$$"
   ]
  },
  {
   "cell_type": "markdown",
   "id": "bc325094-0e04-46f5-8aae-3fad06fe5335",
   "metadata": {},
   "source": [
    "In summary, a linear combinatio is simply some number times a vector, plus some number plust some other vector, etc, all the way to $n$ Vectors."
   ]
  },
  {
   "cell_type": "markdown",
   "id": "b4075e48-c9ba-42e2-b646-ceb5c47584bd",
   "metadata": {},
   "source": [
    "Let's do a specific example. We have the following two vectors:\n",
    "\n",
    "$$\n",
    "a_1\n",
    "=\n",
    "\\begin{bmatrix}\n",
    "1 \\\\\n",
    "-2 \\\\\n",
    "-5\n",
    "\\end{bmatrix}\n",
    "a_2\n",
    "=\n",
    "\\begin{bmatrix}\n",
    "2 \\\\\n",
    "5 \\\\\n",
    "6\n",
    "\\end{bmatrix}\n",
    "$$"
   ]
  },
  {
   "cell_type": "markdown",
   "id": "f9f7631c-72d8-44e8-8470-1a1e9cfa9544",
   "metadata": {},
   "source": [
    "So the base formula for the linear combinations between these two vectors would be:\n",
    "\n",
    "$$\n",
    "y\n",
    "=\n",
    "C_1\n",
    "\\begin{bmatrix}\n",
    "1 \\\\\n",
    "-2 \\\\\n",
    "-5\n",
    "\\end{bmatrix}\n",
    "+\n",
    "C_2\n",
    "\\begin{bmatrix}\n",
    "2 \\\\\n",
    "5 \\\\\n",
    "6\n",
    "\\end{bmatrix}\n",
    "$$"
   ]
  },
  {
   "cell_type": "markdown",
   "id": "01bd4565-677e-4ecb-b5f3-91eb449f5647",
   "metadata": {},
   "source": [
    "The reason we use linear combinations is to figure out, if we had a the other following vector:\n",
    "\n",
    "$$\n",
    "b\n",
    "=\n",
    "\\begin{bmatrix}\n",
    "7 \\\\\n",
    "4 \\\\\n",
    "-3\n",
    "\\end{bmatrix}\n",
    "$$"
   ]
  },
  {
   "cell_type": "markdown",
   "id": "81299113-0f9b-4462-8924-7fb4709a26dd",
   "metadata": {},
   "source": [
    "can find some linear combination of $C_1$ and $C_2$ such that we end up with the new vector $b$."
   ]
  },
  {
   "cell_type": "markdown",
   "id": "f3b97660-d12c-4d08-8a71-c6b28357e5ce",
   "metadata": {},
   "source": [
    "We would write it like this:\n",
    "\n",
    "Is there $C_1$, $C_2$ such that\n",
    "\n",
    "$$\n",
    "C_1\n",
    "\\begin{bmatrix}\n",
    "1 \\\\\n",
    "-2 \\\\\n",
    "3\n",
    "\\end{bmatrix}\n",
    "+\n",
    "C_2\n",
    "\\begin{bmatrix}\n",
    "2 \\\\\n",
    "5 \\\\\n",
    "6\n",
    "\\end{bmatrix}\n",
    "=\n",
    "\\begin{bmatrix}\n",
    "7 \\\\\n",
    "4 \\\\\n",
    "-3\n",
    "\\end{bmatrix}\n",
    "$$"
   ]
  },
  {
   "cell_type": "markdown",
   "id": "f60f0e2e-0019-4b17-8b9f-7d527b6d1ba8",
   "metadata": {},
   "source": [
    "This is a foundational concept in linear algebra, which will become more apparent later. For now, how do we solve the bove question.\n",
    "\n",
    "First, let's set this up as a linear system:\n",
    "\n",
    "$$ C_1 + 2C_2 = 7 $$\n",
    "$$ -2C_1 + 5C_2 = 4 $$\n",
    "$$ 3C_1 + 6C_2 = -3 $$"
   ]
  },
  {
   "cell_type": "markdown",
   "id": "3c93c1b1-5d97-4b41-ad0d-bf58bd754d56",
   "metadata": {},
   "source": [
    "And if we move this to an augmented matrix, we get:\n",
    "\n",
    "$$\n",
    "\\begin{bmatrix}\n",
    "C_1 & 2C_2 & \\bigm| & 7\\\\\n",
    "-2C_1 & 5C_2 & \\bigm| & 4 \\\\\n",
    "3C_1 & 6C_2 & \\bigm| & -3\n",
    "\\end{bmatrix}\n",
    "=\n",
    "\\begin{bmatrix}\n",
    "1 & 2 & \\bigm| & 7\\\\\n",
    "-2 & 5 & \\bigm| & 4 \\\\\n",
    "3 & 6 & \\bigm| & -3\n",
    "\\end{bmatrix}\n",
    "$$"
   ]
  },
  {
   "cell_type": "markdown",
   "id": "b75c3c18-5b4d-4eac-bdbf-ebdf388eb588",
   "metadata": {},
   "source": [
    "Now we can use our Gaussian Elimination rules to solve it, and we end up with:\n",
    "\n",
    "$$\n",
    "\\begin{bmatrix}\n",
    "1 & 0 & \\bigm| & 3\\\\\n",
    "0 & 1 & \\bigm| & 2 \\\\\n",
    "0 & 0 & \\bigm| & 0\n",
    "\\end{bmatrix}\n",
    "$$"
   ]
  },
  {
   "cell_type": "markdown",
   "id": "41f342bb-bed3-477e-b2a7-e961bd0ec380",
   "metadata": {},
   "source": [
    "This means that $C_1 = 3$ and $C_2 = 2$.\n",
    "\n",
    "This is how we figure out if linear combinations between vectors exist and what the values of those combinations are."
   ]
  },
  {
   "cell_type": "code",
   "execution_count": null,
   "id": "6f1fadc4-744d-434b-acee-3fcc4163fd68",
   "metadata": {},
   "outputs": [],
   "source": []
  }
 ],
 "metadata": {
  "kernelspec": {
   "display_name": "Programming",
   "language": "python",
   "name": "programming"
  },
  "language_info": {
   "codemirror_mode": {
    "name": "ipython",
    "version": 3
   },
   "file_extension": ".py",
   "mimetype": "text/x-python",
   "name": "python",
   "nbconvert_exporter": "python",
   "pygments_lexer": "ipython3",
   "version": "3.9.5"
  }
 },
 "nbformat": 4,
 "nbformat_minor": 5
}
